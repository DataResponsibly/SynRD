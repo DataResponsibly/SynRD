{
 "cells": [
  {
   "cell_type": "markdown",
   "id": "243e5889-e79b-41b9-98bb-125376c8120b",
   "metadata": {},
   "source": [
    "# import numpy as np\n",
    "import pandas as pd"
   ]
  },
  {
   "cell_type": "code",
   "execution_count": 1,
   "id": "4a7040c5-ddd4-4b11-a65a-04bac6a8eb15",
   "metadata": {},
   "outputs": [
    {
     "ename": "NameError",
     "evalue": "name 'pd' is not defined",
     "output_type": "error",
     "traceback": [
      "\u001b[0;31m---------------------------------------------------------------------------\u001b[0m",
      "\u001b[0;31mNameError\u001b[0m                                 Traceback (most recent call last)",
      "Input \u001b[0;32mIn [1]\u001b[0m, in \u001b[0;36m<cell line: 2>\u001b[0;34m()\u001b[0m\n\u001b[1;32m      1\u001b[0m kwargs \u001b[38;5;241m=\u001b[39m {\u001b[38;5;124m\"\u001b[39m\u001b[38;5;124msep\u001b[39m\u001b[38;5;124m\"\u001b[39m: \u001b[38;5;124m\"\u001b[39m\u001b[38;5;130;01m\\t\u001b[39;00m\u001b[38;5;124m\"\u001b[39m, \u001b[38;5;124m\"\u001b[39m\u001b[38;5;124mlow_memory\u001b[39m\u001b[38;5;124m\"\u001b[39m: \u001b[38;5;28;01mFalse\u001b[39;00m}\n\u001b[0;32m----> 2\u001b[0m ds1 \u001b[38;5;241m=\u001b[39m pd\u001b[38;5;241m.\u001b[39mread_csv(\u001b[38;5;124m\"\u001b[39m\u001b[38;5;124m../adzrago22smoking/data/21600-0001-Data.tsv\u001b[39m\u001b[38;5;124m\"\u001b[39m, \u001b[38;5;241m*\u001b[39m\u001b[38;5;241m*\u001b[39mkwargs)\n\u001b[1;32m      3\u001b[0m ds5 \u001b[38;5;241m=\u001b[39m pd\u001b[38;5;241m.\u001b[39mread_csv(\u001b[38;5;124m\"\u001b[39m\u001b[38;5;124m../adzrago22smoking/data/21600-0005-Data.tsv\u001b[39m\u001b[38;5;124m\"\u001b[39m, \u001b[38;5;241m*\u001b[39m\u001b[38;5;241m*\u001b[39mkwargs)\n\u001b[1;32m      4\u001b[0m ds8 \u001b[38;5;241m=\u001b[39m pd\u001b[38;5;241m.\u001b[39mread_csv(\u001b[38;5;124m\"\u001b[39m\u001b[38;5;124m../adzrago22smoking/data/21600-0008-Data.tsv\u001b[39m\u001b[38;5;124m\"\u001b[39m, \u001b[38;5;241m*\u001b[39m\u001b[38;5;241m*\u001b[39mkwargs)\n",
      "\u001b[0;31mNameError\u001b[0m: name 'pd' is not defined"
     ]
    }
   ],
   "source": [
    "kwargs = {\"sep\": \"\\t\", \"low_memory\": False}\n",
    "ds1 = pd.read_csv(\"../adzrago22smoking/data/21600-0001-Data.tsv\", **kwargs)\n",
    "ds5 = pd.read_csv(\"../adzrago22smoking/data/21600-0005-Data.tsv\", **kwargs)\n",
    "ds8 = pd.read_csv(\"../adzrago22smoking/data/21600-0008-Data.tsv\", **kwargs)\n",
    "ds22 = pd.read_csv(\"../adzrago22smoking/data/21600-0022-Data.tsv\", **kwargs)"
   ]
  },
  {
   "cell_type": "code",
   "execution_count": null,
   "id": "56fedb40-88fc-4d3f-92f0-3677b43ceb70",
   "metadata": {},
   "outputs": [],
   "source": [
    "ds1.shape"
   ]
  },
  {
   "cell_type": "code",
   "execution_count": null,
   "id": "1a8fba23-e19d-4588-a31c-2f1659298307",
   "metadata": {},
   "outputs": [],
   "source": [
    "ds22.shape"
   ]
  },
  {
   "cell_type": "code",
   "execution_count": null,
   "id": "d20febae-c950-457f-b094-0cee8a9e3684",
   "metadata": {},
   "outputs": [],
   "source": [
    "df_map = {\"ds1\": ds1, \"ds5\": ds5, \"ds8\": ds8, \"ds22\": ds22}\n",
    "\n",
    "time_map = {\"ds1\": 0, \"ds5\": 1, \"ds8\": 6, \"ds22\": 13}\n",
    "\n",
    "column_map = {\n",
    "    \"ds1\": {\n",
    "        \"H1TO32\": \"marijuana_1\",\n",
    "        \"H1TO15\": \"alcohol_1\",\n",
    "        \"H1TO40\": \"drugs_1\",\n",
    "        \"H1DS2\": \"behavior_1\",\n",
    "        \"H1GI18\": \"attendance_1\",\n",
    "        \"H1TO7\": \"smoking_1\",\n",
    "        \"S1\": \"age_1\",\n",
    "        \"BIO_SEX\": \"sex_1\",\n",
    "        \"S6C\": \"asian_1\",\n",
    "        \"S6B\": \"black_1\",\n",
    "        \"S6A\": \"white_1\",\n",
    "        \"S6D\": \"nativeamerican_1\",\n",
    "        \"S6E\": \"other_1\"\n",
    "        #'S4': 'hispanic_1'\n",
    "    },\n",
    "    \"ds5\": {\n",
    "        \"H2TO46\": \"marijuana_2\",\n",
    "        \"H2TO19\": \"alcohol_2\",\n",
    "        \"H2TO58\": \"drugs_2\",\n",
    "        \"H2DS2\": \"behavior_2\",\n",
    "        \"H2GI6\": \"attendance_2\",\n",
    "        \"H2TO7\": \"smoking_2\",\n",
    "        \"CALCAGE2\": \"age_2\",\n",
    "        \"BIO_SEX2\": \"sex_2\",\n",
    "    },\n",
    "    \"ds8\": {\n",
    "        \"H3TO110\": \"marijuana_3\",\n",
    "        \"H3TO38\": \"alcohol_3\",\n",
    "        \"H3TO117\": \"drugs_3\",\n",
    "        \"H3DS1\": \"behavior_3\",\n",
    "        \"H3ED23\": \"attendance_3\",\n",
    "        \"H3TO10\": \"smoking_3\",\n",
    "        \"FRIEND\": \"age_3\",  # not actual column\n",
    "        \"BIO_SEX3\": \"sex_3\",\n",
    "        \"H3OD2\": \"hispanic_3\",\n",
    "    },\n",
    "    \"ds22\": {\n",
    "        \"H4TO71\": \"marijuana_4\",\n",
    "        \"H4TO35\": \"alcohol_4\",\n",
    "        \"H4TO65E\": \"drugs_4\",\n",
    "        \"H4DS1\": \"behavior_4\",\n",
    "        \"H4ED6\": \"attendance_4\",\n",
    "        \"H4TO6\": \"smoking_4\",\n",
    "        \"PRISON4\": \"age_4\",  # not actual column\n",
    "        \"BIO_SEX4\": \"sex_4\",\n",
    "    },\n",
    "}"
   ]
  },
  {
   "cell_type": "code",
   "execution_count": null,
   "id": "d4c6b9a1-c599-4104-9d46-7f7f4848817a",
   "metadata": {},
   "outputs": [],
   "source": [
    "dfs = []\n",
    "new_df_map = {}\n",
    "for i, (wave, cols) in enumerate(column_map.items()):\n",
    "    df = df_map[wave]\n",
    "    df = df[[\"AID\"] + list(cols.keys())]\n",
    "    df = df.rename(cols, axis=1)\n",
    "    df = df.set_index(\"AID\")\n",
    "    df[\"time_\" + str(i + 1)] = time_map[wave]\n",
    "    dfs.append(df)\n",
    "    new_df_map[wave] = df\n",
    "\n",
    "full_df = pd.concat(dfs, axis=1, join=\"inner\").reset_index()"
   ]
  },
  {
   "cell_type": "code",
   "execution_count": null,
   "id": "5082c9e3-d245-48d8-a72d-1ea144179e44",
   "metadata": {},
   "outputs": [],
   "source": [
    "# Paper says n=6504, first wave table\n",
    "new_df_map[\"ds1\"].describe()"
   ]
  },
  {
   "cell_type": "code",
   "execution_count": null,
   "id": "f590d071-0ed4-4ca6-9056-e0d8949758ab",
   "metadata": {},
   "outputs": [],
   "source": [
    "full_df.shape"
   ]
  },
  {
   "cell_type": "code",
   "execution_count": null,
   "id": "9efb2365-2e07-44b4-8426-101b3c2b94e8",
   "metadata": {},
   "outputs": [],
   "source": [
    "[df.shape for df in new_df_map.values()]"
   ]
  },
  {
   "cell_type": "code",
   "execution_count": null,
   "id": "5030aee8-cf90-439c-a1a9-83b72b91139a",
   "metadata": {},
   "outputs": [],
   "source": []
  }
 ],
 "metadata": {
  "kernelspec": {
   "display_name": "Python 3 (ipykernel)",
   "language": "python",
   "name": "python3"
  },
  "language_info": {
   "codemirror_mode": {
    "name": "ipython",
    "version": 3
   },
   "file_extension": ".py",
   "mimetype": "text/x-python",
   "name": "python",
   "nbconvert_exporter": "python",
   "pygments_lexer": "ipython3",
   "version": "3.10.5"
  }
 },
 "nbformat": 4,
 "nbformat_minor": 5
}
