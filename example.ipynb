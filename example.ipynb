{
 "cells": [
  {
   "cell_type": "code",
   "execution_count": 1,
   "metadata": {},
   "outputs": [
    {
     "name": "stderr",
     "output_type": "stream",
     "text": [
      "/Users/lucasrosenblatt/opt/miniconda3/envs/synrd_package/lib/python3.10/site-packages/tqdm/auto.py:22: TqdmWarning: IProgress not found. Please update jupyter and ipywidgets. See https://ipywidgets.readthedocs.io/en/stable/user_install.html\n",
      "  from .autonotebook import tqdm as notebook_tqdm\n",
      "/Users/lucasrosenblatt/opt/miniconda3/envs/synrd_package/lib/python3.10/site-packages/mbi/__init__.py:15: UserWarning: MixtureInference disabled, please install jax and jaxlib\n",
      "  warnings.warn('MixtureInference disabled, please install jax and jaxlib')\n"
     ]
    }
   ],
   "source": [
    "from SynRD.papers import Saw2018Cross\n",
    "from SynRD.benchmark import Benchmark\n",
    "from SynRD.synthesizers import MSTSynthesizer, PATECTGAN, PrivBayes, PacSynth\n",
    "from SynRD.publication import Publication\n"
   ]
  },
  {
   "cell_type": "code",
   "execution_count": 2,
   "metadata": {},
   "outputs": [
    {
     "data": {
      "text/plain": [
       "'5'"
      ]
     },
     "execution_count": 2,
     "metadata": {},
     "output_type": "execute_result"
    }
   ],
   "source": [
    "import pandas as pd\n",
    "import numpy as np\n",
    "from sklearn import datasets\n",
    "iris = datasets.load_iris(as_frame=True)['data']\n",
    "iris = iris.astype(int)\n",
    "\n",
    "synths = [MSTSynthesizer, PATECTGAN, PrivBayes, PacSynth]\n",
    "synth = PacSynth(epsilon=1.0, slide_range=False)\n",
    "synth.fit(iris)\n",
    "df = synth.sample(1000)\n",
    "\n",
    "df = df.replace(r'^\\s*$', np.nan, regex=True)\n",
    "df = df.fillna(method='ffill')\n",
    "df = df.fillna(method='bfill')\n",
    "df = df.fillna(0)\n",
    "df.iloc[0]['sepal length (cm)']"
   ]
  },
  {
   "cell_type": "code",
   "execution_count": 4,
   "metadata": {},
   "outputs": [
    {
     "name": "stdout",
     "output_type": "stream",
     "text": [
      "{\n",
      "    \"authors\": [\n",
      "        \"Guan Saw\",\n",
      "        \"Chi-Ning Chang\",\n",
      "        \"Hsun-Yu Chan\"\n",
      "    ],\n",
      "    \"base_dataframe_pickle\": \"saw2018cross_dataframe.pickle\",\n",
      "    \"current_citations\": 67,\n",
      "    \"id\": \"saw2018cross\",\n",
      "    \"journal\": \"Educational Researcher\",\n",
      "    \"length_pages\": 8,\n",
      "    \"year\": 2018\n",
      "}\n",
      "Soft findings 1.0\n"
     ]
    }
   ],
   "source": [
    "import warnings\n",
    "warnings.simplefilter(\"ignore\")\n",
    "benchmark = Benchmark()\n",
    "synth = MSTSynthesizer(epsilon=1.0, slide_range=False)\n",
    "saw = Saw2018Cross()\n",
    "for paper in [saw]:\n",
    "    print(str(paper))\n",
    "    synth.fit(paper.real_dataframe)\n",
    "    # dataset = new_synth.sample(len(paper))\n",
    "    dataset = synth.sample(len(paper.real_dataframe))\n",
    "    # Probably we could use property\n",
    "    paper.set_synthetic_dataframe(dataset)\n",
    "    benchmark.eval(paper)"
   ]
  },
  {
   "cell_type": "code",
   "execution_count": 5,
   "metadata": {},
   "outputs": [
    {
     "data": {
      "text/plain": [
       "{'saw2018cross': {'Soft findings': 1.0}}"
      ]
     },
     "execution_count": 5,
     "metadata": {},
     "output_type": "execute_result"
    }
   ],
   "source": [
    "benchmark.results"
   ]
  },
  {
   "cell_type": "code",
   "execution_count": null,
   "metadata": {},
   "outputs": [],
   "source": []
  }
 ],
 "metadata": {
  "kernelspec": {
   "display_name": "synrd_package",
   "language": "python",
   "name": "python3"
  },
  "language_info": {
   "codemirror_mode": {
    "name": "ipython",
    "version": 3
   },
   "file_extension": ".py",
   "mimetype": "text/x-python",
   "name": "python",
   "nbconvert_exporter": "python",
   "pygments_lexer": "ipython3",
   "version": "3.10.8"
  },
  "orig_nbformat": 4,
  "vscode": {
   "interpreter": {
    "hash": "798221664ff36f173e2a5975cf09919480e05a2b519c611096ee28d4eb0636ee"
   }
  }
 },
 "nbformat": 4,
 "nbformat_minor": 2
}
