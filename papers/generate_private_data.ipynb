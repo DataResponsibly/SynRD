{
 "cells": [
  {
   "cell_type": "markdown",
   "metadata": {},
   "source": [
    "TODO: I will add a requirements file for this stuff"
   ]
  },
  {
   "cell_type": "code",
   "execution_count": null,
   "metadata": {},
   "outputs": [],
   "source": [
    "! pip install smartnoise-synth"
   ]
  },
  {
   "cell_type": "code",
   "execution_count": null,
   "metadata": {},
   "outputs": [],
   "source": [
    "! pip install git+https://github.com/ryan112358/private-pgm.git\n"
   ]
  },
  {
   "cell_type": "code",
   "execution_count": null,
   "metadata": {},
   "outputs": [],
   "source": [
    "! pip install diffprivlib"
   ]
  },
  {
   "cell_type": "code",
   "execution_count": 8,
   "metadata": {},
   "outputs": [],
   "source": [
    "import pandas as pd\n",
    "import numpy as np\n",
    "import os"
   ]
  },
  {
   "cell_type": "markdown",
   "metadata": {},
   "source": [
    "### Generating Private DataFrames"
   ]
  },
  {
   "cell_type": "markdown",
   "metadata": {},
   "source": [
    "#### Epsilon Regiment"
   ]
  },
  {
   "cell_type": "code",
   "execution_count": 2,
   "metadata": {},
   "outputs": [],
   "source": [
    "epsilons = [(np.e ** -1, 'e^-1'), \n",
    "            (np.e ** 0, 'e^0'), \n",
    "            (np.e ** 1, 'e^1'),\n",
    "            (np.e ** 2, 'e^2')]\n",
    "\n",
    "iterations = 5"
   ]
  },
  {
   "cell_type": "markdown",
   "metadata": {},
   "source": [
    "#### Load Paper DFs"
   ]
  },
  {
   "cell_type": "code",
   "execution_count": 3,
   "metadata": {},
   "outputs": [
    {
     "name": "stdout",
     "output_type": "stream",
     "text": [
      "Index(['sex', 'race', 'SES', 'HigherSES', 'X1STU30OCC_STEM1',\n",
      "       'X2STU30OCC_STEM1', 'ninth_grade_aspirations',\n",
      "       'eleventh_grade_aspirations', 'stem_career_aspirations'],\n",
      "      dtype='object')\n"
     ]
    }
   ],
   "source": [
    "from saw2018cross.saw2018cross import Saw2018Cross\n",
    "publication = Saw2018Cross()\n",
    "df_saw2018cross = publication.dataframe"
   ]
  },
  {
   "cell_type": "markdown",
   "metadata": {},
   "source": [
    "#### Iterative generate"
   ]
  },
  {
   "cell_type": "code",
   "execution_count": 4,
   "metadata": {},
   "outputs": [],
   "source": [
    "# Add a json domain file for each paper here, MST requirement.\n",
    "domains = {\n",
    "    \"saw2018cross\": \"domains/saw2018cross-domain.json\"\n",
    "}"
   ]
  },
  {
   "cell_type": "code",
   "execution_count": 5,
   "metadata": {},
   "outputs": [
    {
     "name": "stderr",
     "output_type": "stream",
     "text": [
      "/Users/lucasrosenblatt/opt/miniconda3/envs/heuristic_fairness/lib/python3.8/site-packages/mbi/__init__.py:15: UserWarning: MixtureInference disabled, please install jax and jaxlib\n",
      "  warnings.warn('MixtureInference disabled, please install jax and jaxlib')\n"
     ]
    }
   ],
   "source": [
    "from snsynth.mst import MSTSynthesizer\n",
    "from snsynth.preprocessors import GeneralTransformer, BaseTransformer\n",
    "from snsynth.pytorch import PytorchDPSynthesizer\n",
    "from snsynth.pytorch.nn import PATECTGAN"
   ]
  },
  {
   "cell_type": "code",
   "execution_count": 6,
   "metadata": {},
   "outputs": [],
   "source": [
    "df_map = {\n",
    "    \"saw2018cross\": df_saw2018cross\n",
    "}"
   ]
  },
  {
   "cell_type": "code",
   "execution_count": 10,
   "metadata": {},
   "outputs": [
    {
     "name": "stdout",
     "output_type": "stream",
     "text": [
      "Generating: saw2018cross\n"
     ]
    }
   ],
   "source": [
    "for pub_name, df in df_map.items():\n",
    "    print('Generating: ' + pub_name)\n",
    "    if not os.path.exists('private_data/' + str(pub_name)):\n",
    "        os.mkdir('private_data/' + str(pub_name))\n",
    "    for (eps, str_eps) in epsilons:\n",
    "        if not os.path.exists('private_data/' + str(pub_name) + '/' + str_eps):\n",
    "            os.mkdir('private_data/' + str(pub_name) + '/' + str_eps)\n",
    "        for it in range(iterations):\n",
    "            # Folder for deposit\n",
    "            folder_name = 'private_data/' + str(pub_name) + '/' + str_eps + '/'\n",
    "            \n",
    "            if not os.path.isfile(folder_name + 'mst_' + str(it) + '.pickle'):\n",
    "                # The MST Synthesis\n",
    "                mst = MSTSynthesizer(domain=pub_name, domains_dict=domains)\n",
    "                mst.fit(df)\n",
    "                sample_size = len(df)\n",
    "                mst_synth_data = mst.sample(sample_size)\n",
    "                mst_synth_data.to_pickle(folder_name + 'mst_' + str(it) + '.pickle')\n",
    "\n",
    "            if not os.path.isfile(folder_name + 'patectgan_' + str(it) + '.pickle'):\n",
    "                # The PATECTGAN Synthesis\n",
    "                preprocess_factor = 0.1\n",
    "                patectgan = PytorchDPSynthesizer(eps, \n",
    "                                                PATECTGAN(preprocessor_eps=(preprocess_factor * eps)), \n",
    "                                                preprocessor=None)\n",
    "                patectgan.fit(\n",
    "                    df,\n",
    "                    categorical_columns=list(df.columns),\n",
    "                    transformer=BaseTransformer,\n",
    "                )\n",
    "                sample_size = len(df)\n",
    "                patectgan_synth_data = patectgan.sample(sample_size)\n",
    "                patectgan_synth_data.to_pickle(folder_name + 'patectgan_' + str(it) + '.pickle') \n",
    "\n",
    "            \n",
    "\n"
   ]
  },
  {
   "cell_type": "code",
   "execution_count": null,
   "metadata": {},
   "outputs": [],
   "source": []
  }
 ],
 "metadata": {
  "kernelspec": {
   "display_name": "Python 3.8.12 ('heuristic_fairness')",
   "language": "python",
   "name": "python3"
  },
  "language_info": {
   "codemirror_mode": {
    "name": "ipython",
    "version": 3
   },
   "file_extension": ".py",
   "mimetype": "text/x-python",
   "name": "python",
   "nbconvert_exporter": "python",
   "pygments_lexer": "ipython3",
   "version": "3.8.12"
  },
  "orig_nbformat": 4,
  "vscode": {
   "interpreter": {
    "hash": "6597d1ed23b894caf154b6750f098a8514a19e03807460ffd2d8425103778dc0"
   }
  }
 },
 "nbformat": 4,
 "nbformat_minor": 2
}
