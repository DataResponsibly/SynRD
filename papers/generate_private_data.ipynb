{
 "cells": [
  {
   "cell_type": "markdown",
   "metadata": {},
   "source": [
    "TODO: I will add a requirements file for this stuff"
   ]
  },
  {
   "cell_type": "code",
   "execution_count": null,
   "metadata": {},
   "outputs": [],
   "source": [
    "! pip install smartnoise-synth"
   ]
  },
  {
   "cell_type": "code",
   "execution_count": null,
   "metadata": {},
   "outputs": [],
   "source": [
    "! pip install git+https://github.com/ryan112358/private-pgm.git\n"
   ]
  },
  {
   "cell_type": "code",
   "execution_count": null,
   "metadata": {},
   "outputs": [],
   "source": [
    "! pip install diffprivlib"
   ]
  },
  {
   "cell_type": "code",
   "execution_count": null,
   "metadata": {},
   "outputs": [],
   "source": [
    "! pip install DataSynthesizer"
   ]
  },
  {
   "cell_type": "markdown",
   "metadata": {},
   "source": [
    "## Use PrivateDataGenerator to generate datasets for each publication"
   ]
  },
  {
   "cell_type": "code",
   "execution_count": 3,
   "metadata": {},
   "outputs": [
    {
     "name": "stdout",
     "output_type": "stream",
     "text": [
      "math          [99.1403, 72.4904, 75.4243, 60.028999999999996...\n",
      "teacher       [2.2, 2.6, 1.6, 3.0, 2.4, 2.0, 1.4, 1.8, 2.8, ...\n",
      "ability       [3.5, 3.25, 3.0, 4.0, 3.75, 2.25, 2.75, 2.5, 2...\n",
      "parents       [0.6, 0.0, 0.8, 0.9, 0.5, 0.7, 0.2, 0.1, 0.4, ...\n",
      "sex                                              [Male, Female]\n",
      "race                     [White, Black, Hispanic, Asian, Other]\n",
      "SES           [1.6907, -0.3923, 1.1271, -0.4774, 0.1081, 1.0...\n",
      "base_math     [50.4919, 35.8045, 56.0477, 38.4063, 55.5463, ...\n",
      "base_level    [6.0, 2.0, 5.0, 3.0, 4.0, 8.0, 1.0, 0.0, 7.0, ...\n",
      "W1PARENT      [470.25014100000004, 224.455466, 185.301339000...\n",
      "dtype: object\n",
      "math          14364\n",
      "teacher          16\n",
      "ability          13\n",
      "parents          11\n",
      "sex               2\n",
      "race              5\n",
      "SES            9060\n",
      "base_math     14301\n",
      "base_level       10\n",
      "W1PARENT       4154\n",
      "dtype: int64\n",
      "Generating: lee2021ability\n",
      "EPSILON: e^-1...\n",
      "ITERATION: 0...\n"
     ]
    },
    {
     "ename": "KeyError",
     "evalue": "'lee2021ability'",
     "output_type": "error",
     "traceback": [
      "\u001b[0;31m---------------------------------------------------------------------------\u001b[0m",
      "\u001b[0;31mKeyError\u001b[0m                                  Traceback (most recent call last)",
      "\u001b[0;32m/var/folders/qj/gh_j11514m37mqtfrlr885k40000gn/T/ipykernel_56268/119096673.py\u001b[0m in \u001b[0;36m<module>\u001b[0;34m\u001b[0m\n\u001b[1;32m      4\u001b[0m \u001b[0mpublication\u001b[0m \u001b[0;34m=\u001b[0m \u001b[0mLee2021Ability\u001b[0m\u001b[0;34m(\u001b[0m\u001b[0mfilename\u001b[0m\u001b[0;34m=\u001b[0m\u001b[0;34m'lee2021ability_dataframe.pickle'\u001b[0m\u001b[0;34m)\u001b[0m\u001b[0;34m\u001b[0m\u001b[0;34m\u001b[0m\u001b[0m\n\u001b[1;32m      5\u001b[0m \u001b[0mprivate_data_generator\u001b[0m \u001b[0;34m=\u001b[0m \u001b[0mPrivateDataGenerator\u001b[0m\u001b[0;34m(\u001b[0m\u001b[0mpublication\u001b[0m\u001b[0;34m)\u001b[0m\u001b[0;34m\u001b[0m\u001b[0;34m\u001b[0m\u001b[0m\n\u001b[0;32m----> 6\u001b[0;31m \u001b[0mprivate_data_generator\u001b[0m\u001b[0;34m.\u001b[0m\u001b[0mgenerate\u001b[0m\u001b[0;34m(\u001b[0m\u001b[0;34m)\u001b[0m\u001b[0;34m\u001b[0m\u001b[0;34m\u001b[0m\u001b[0m\n\u001b[0m",
      "\u001b[0;32m~/Documents/SynRD/clone2/SynRD/papers/private_data_generator.py\u001b[0m in \u001b[0;36mgenerate\u001b[0;34m(self)\u001b[0m\n\u001b[1;32m     71\u001b[0m                     \u001b[0;32mif\u001b[0m \u001b[0;32mnot\u001b[0m \u001b[0mos\u001b[0m\u001b[0;34m.\u001b[0m\u001b[0mpath\u001b[0m\u001b[0;34m.\u001b[0m\u001b[0misfile\u001b[0m\u001b[0;34m(\u001b[0m\u001b[0mfolder_name\u001b[0m \u001b[0;34m+\u001b[0m \u001b[0;34m'mst_'\u001b[0m \u001b[0;34m+\u001b[0m \u001b[0mstr\u001b[0m\u001b[0;34m(\u001b[0m\u001b[0mit\u001b[0m\u001b[0;34m)\u001b[0m \u001b[0;34m+\u001b[0m \u001b[0;34m'.pickle'\u001b[0m\u001b[0;34m)\u001b[0m\u001b[0;34m:\u001b[0m\u001b[0;34m\u001b[0m\u001b[0;34m\u001b[0m\u001b[0m\n\u001b[1;32m     72\u001b[0m                         \u001b[0;31m# The MST Synthesis\u001b[0m\u001b[0;34m\u001b[0m\u001b[0;34m\u001b[0m\u001b[0;34m\u001b[0m\u001b[0m\n\u001b[0;32m---> 73\u001b[0;31m                         mst = MSTSynthesizer(epsilon=eps,\n\u001b[0m\u001b[1;32m     74\u001b[0m                                              \u001b[0mdomain\u001b[0m\u001b[0;34m=\u001b[0m\u001b[0mpub_name\u001b[0m\u001b[0;34m,\u001b[0m\u001b[0;34m\u001b[0m\u001b[0;34m\u001b[0m\u001b[0m\n\u001b[1;32m     75\u001b[0m                                              domains_dict=self.DOMAINS)\n",
      "\u001b[0;32m~/opt/miniconda3/envs/heuristic_fairness/lib/python3.8/site-packages/snsynth/mst/mst.py\u001b[0m in \u001b[0;36m__init__\u001b[0;34m(self, domain, epsilon, delta, num_marginals, domain_path, domains_dict)\u001b[0m\n\u001b[1;32m     48\u001b[0m \u001b[0;34m\u001b[0m\u001b[0m\n\u001b[1;32m     49\u001b[0m         \u001b[0;32mif\u001b[0m \u001b[0mdomain_path\u001b[0m \u001b[0;32mis\u001b[0m \u001b[0;32mNone\u001b[0m\u001b[0;34m:\u001b[0m\u001b[0;34m\u001b[0m\u001b[0;34m\u001b[0m\u001b[0m\n\u001b[0;32m---> 50\u001b[0;31m             \u001b[0mdomain_name\u001b[0m \u001b[0;34m=\u001b[0m \u001b[0mself\u001b[0m\u001b[0;34m.\u001b[0m\u001b[0mDomains\u001b[0m\u001b[0;34m[\u001b[0m\u001b[0mdomain\u001b[0m\u001b[0;34m]\u001b[0m\u001b[0;34m\u001b[0m\u001b[0;34m\u001b[0m\u001b[0m\n\u001b[0m\u001b[1;32m     51\u001b[0m             \u001b[0;32mwith\u001b[0m \u001b[0mopen\u001b[0m\u001b[0;34m(\u001b[0m\u001b[0mdomain_name\u001b[0m\u001b[0;34m)\u001b[0m \u001b[0;32mas\u001b[0m \u001b[0mjson_file\u001b[0m\u001b[0;34m:\u001b[0m\u001b[0;34m\u001b[0m\u001b[0;34m\u001b[0m\u001b[0m\n\u001b[1;32m     52\u001b[0m                 \u001b[0mdict_domain\u001b[0m \u001b[0;34m=\u001b[0m \u001b[0mjson\u001b[0m\u001b[0;34m.\u001b[0m\u001b[0mload\u001b[0m\u001b[0;34m(\u001b[0m\u001b[0mjson_file\u001b[0m\u001b[0;34m)\u001b[0m\u001b[0;34m\u001b[0m\u001b[0;34m\u001b[0m\u001b[0m\n",
      "\u001b[0;31mKeyError\u001b[0m: 'lee2021ability'"
     ]
    }
   ],
   "source": [
    "from private_data_generator import PrivateDataGenerator\n",
    "from lee2021ability.lee2021ability import Lee2021Ability\n",
    "\n",
    "def dataframe_modifier_lee2021ability(df):\n",
    "    df = df.replace({\"Male\": 0,\n",
    "                     \"Female\": 1})\n",
    "    df = df.replace({\"White\": 0,\n",
    "                     \"Black\": 1,\n",
    "                     \"Hispanic\": 2,\n",
    "                     \"Asian\": 3,\n",
    "                     \"Other\": 4,\n",
    "                     \"Other\": 4})\n",
    "    df = df\n",
    "\n",
    "publication = Lee2021Ability(filename='lee2021ability_dataframe.pickle')\n",
    "private_data_generator = PrivateDataGenerator(publication, dataframe_modifier)\n",
    "private_data_generator.generate()"
   ]
  },
  {
   "cell_type": "code",
   "execution_count": 5,
   "metadata": {},
   "outputs": [
    {
     "data": {
      "text/html": [
       "<div>\n",
       "<style scoped>\n",
       "    .dataframe tbody tr th:only-of-type {\n",
       "        vertical-align: middle;\n",
       "    }\n",
       "\n",
       "    .dataframe tbody tr th {\n",
       "        vertical-align: top;\n",
       "    }\n",
       "\n",
       "    .dataframe thead th {\n",
       "        text-align: right;\n",
       "    }\n",
       "</style>\n",
       "<table border=\"1\" class=\"dataframe\">\n",
       "  <thead>\n",
       "    <tr style=\"text-align: right;\">\n",
       "      <th></th>\n",
       "      <th>math</th>\n",
       "      <th>teacher</th>\n",
       "      <th>ability</th>\n",
       "      <th>parents</th>\n",
       "      <th>SES</th>\n",
       "      <th>base_math</th>\n",
       "      <th>base_level</th>\n",
       "      <th>W1PARENT</th>\n",
       "    </tr>\n",
       "  </thead>\n",
       "  <tbody>\n",
       "    <tr>\n",
       "      <th>count</th>\n",
       "      <td>14575.000000</td>\n",
       "      <td>14575.000000</td>\n",
       "      <td>14575.000000</td>\n",
       "      <td>14575.000000</td>\n",
       "      <td>14575.000000</td>\n",
       "      <td>14575.000000</td>\n",
       "      <td>14575.00000</td>\n",
       "      <td>14575.000000</td>\n",
       "    </tr>\n",
       "    <tr>\n",
       "      <th>mean</th>\n",
       "      <td>69.946709</td>\n",
       "      <td>2.233729</td>\n",
       "      <td>2.975077</td>\n",
       "      <td>0.613914</td>\n",
       "      <td>0.148680</td>\n",
       "      <td>42.115971</td>\n",
       "      <td>4.36789</td>\n",
       "      <td>198.277560</td>\n",
       "    </tr>\n",
       "    <tr>\n",
       "      <th>std</th>\n",
       "      <td>18.729319</td>\n",
       "      <td>0.525176</td>\n",
       "      <td>0.643115</td>\n",
       "      <td>0.236105</td>\n",
       "      <td>0.789495</td>\n",
       "      <td>11.610209</td>\n",
       "      <td>1.45867</td>\n",
       "      <td>296.955235</td>\n",
       "    </tr>\n",
       "    <tr>\n",
       "      <th>min</th>\n",
       "      <td>25.005700</td>\n",
       "      <td>1.000000</td>\n",
       "      <td>1.000000</td>\n",
       "      <td>0.000000</td>\n",
       "      <td>-1.906800</td>\n",
       "      <td>15.864100</td>\n",
       "      <td>0.00000</td>\n",
       "      <td>0.000000</td>\n",
       "    </tr>\n",
       "    <tr>\n",
       "      <th>25%</th>\n",
       "      <td>58.915250</td>\n",
       "      <td>1.800000</td>\n",
       "      <td>2.750000</td>\n",
       "      <td>0.500000</td>\n",
       "      <td>-0.427050</td>\n",
       "      <td>34.508650</td>\n",
       "      <td>4.00000</td>\n",
       "      <td>28.870128</td>\n",
       "    </tr>\n",
       "    <tr>\n",
       "      <th>50%</th>\n",
       "      <td>69.429700</td>\n",
       "      <td>2.200000</td>\n",
       "      <td>3.000000</td>\n",
       "      <td>0.600000</td>\n",
       "      <td>0.092500</td>\n",
       "      <td>42.208800</td>\n",
       "      <td>4.00000</td>\n",
       "      <td>122.696317</td>\n",
       "    </tr>\n",
       "    <tr>\n",
       "      <th>75%</th>\n",
       "      <td>85.156150</td>\n",
       "      <td>2.600000</td>\n",
       "      <td>3.500000</td>\n",
       "      <td>0.800000</td>\n",
       "      <td>0.676300</td>\n",
       "      <td>50.709000</td>\n",
       "      <td>5.00000</td>\n",
       "      <td>276.507522</td>\n",
       "    </tr>\n",
       "    <tr>\n",
       "      <th>max</th>\n",
       "      <td>115.100000</td>\n",
       "      <td>4.000000</td>\n",
       "      <td>4.000000</td>\n",
       "      <td>1.000000</td>\n",
       "      <td>2.978300</td>\n",
       "      <td>69.931700</td>\n",
       "      <td>11.00000</td>\n",
       "      <td>7603.292220</td>\n",
       "    </tr>\n",
       "  </tbody>\n",
       "</table>\n",
       "</div>"
      ],
      "text/plain": [
       "               math       teacher       ability       parents           SES  \\\n",
       "count  14575.000000  14575.000000  14575.000000  14575.000000  14575.000000   \n",
       "mean      69.946709      2.233729      2.975077      0.613914      0.148680   \n",
       "std       18.729319      0.525176      0.643115      0.236105      0.789495   \n",
       "min       25.005700      1.000000      1.000000      0.000000     -1.906800   \n",
       "25%       58.915250      1.800000      2.750000      0.500000     -0.427050   \n",
       "50%       69.429700      2.200000      3.000000      0.600000      0.092500   \n",
       "75%       85.156150      2.600000      3.500000      0.800000      0.676300   \n",
       "max      115.100000      4.000000      4.000000      1.000000      2.978300   \n",
       "\n",
       "          base_math   base_level      W1PARENT  \n",
       "count  14575.000000  14575.00000  14575.000000  \n",
       "mean      42.115971      4.36789    198.277560  \n",
       "std       11.610209      1.45867    296.955235  \n",
       "min       15.864100      0.00000      0.000000  \n",
       "25%       34.508650      4.00000     28.870128  \n",
       "50%       42.208800      4.00000    122.696317  \n",
       "75%       50.709000      5.00000    276.507522  \n",
       "max       69.931700     11.00000   7603.292220  "
      ]
     },
     "execution_count": 5,
     "metadata": {},
     "output_type": "execute_result"
    }
   ],
   "source": [
    "publication.dataframe.describe()"
   ]
  },
  {
   "cell_type": "code",
   "execution_count": null,
   "metadata": {},
   "outputs": [],
   "source": []
  }
 ],
 "metadata": {
  "kernelspec": {
   "display_name": "Python 3.8.12",
   "language": "python",
   "name": "python3"
  },
  "language_info": {
   "codemirror_mode": {
    "name": "ipython",
    "version": 3
   },
   "file_extension": ".py",
   "mimetype": "text/x-python",
   "name": "python",
   "nbconvert_exporter": "python",
   "pygments_lexer": "ipython3",
   "version": "3.8.12"
  },
  "orig_nbformat": 4,
  "vscode": {
   "interpreter": {
    "hash": "6597d1ed23b894caf154b6750f098a8514a19e03807460ffd2d8425103778dc0"
   }
  }
 },
 "nbformat": 4,
 "nbformat_minor": 2
}
