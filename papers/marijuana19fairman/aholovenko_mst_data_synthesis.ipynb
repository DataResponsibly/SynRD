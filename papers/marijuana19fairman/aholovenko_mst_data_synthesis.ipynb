{
 "cells": [
  {
   "cell_type": "code",
   "execution_count": 1,
   "id": "9b186cea",
   "metadata": {},
   "outputs": [],
   "source": [
    "import numpy as np\n",
    "import pandas as pd\n",
    "import matplotlib.pyplot as plt\n",
    "import glob\n",
    "import json\n",
    "import os\n",
    "import warnings\n",
    "%matplotlib inline\n",
    "warnings.filterwarnings('ignore')\n",
    "pd.set_option('display.max_rows', None)\n",
    "pd.set_option('display.max_columns', None)"
   ]
  },
  {
   "cell_type": "markdown",
   "id": "cfcbf471",
   "metadata": {},
   "source": [
    "# Merge historical data"
   ]
  },
  {
   "cell_type": "markdown",
   "id": "9acec523",
   "metadata": {},
   "source": [
    "data can be found on [ICPSR website](https://www.icpsr.umich.edu/web/ICPSR/series/64/studies)"
   ]
  },
  {
   "cell_type": "code",
   "execution_count": 156,
   "id": "db0c96c0",
   "metadata": {},
   "outputs": [
    {
     "name": "stdout",
     "output_type": "stream",
     "text": [
      "field CIGTRY  not in ../../data/32722-0001-Data.tsv\n",
      "field CIGTRY  not in ../../data/23782-0001-Data.tsv\n",
      "field MTHAAGE not in ../../data/04596-0001-Data.tsv\n",
      "field CIGTRY  not in ../../data/04596-0001-Data.tsv\n",
      "field CIGTRY  not in ../../data/26701-0001-Data.tsv\n",
      "field CIGTRY  not in ../../data/29621-0001-Data.tsv\n",
      "field CIGTRY  not in ../../data/36361-0001-Data.tsv\n",
      "field CIGTRY  not in ../../data/35509-0001-Data.tsv\n",
      "field MTHAAGE not in ../../data/04373-0001-Data.tsv\n",
      "field CIGTRY  not in ../../data/04373-0001-Data.tsv\n",
      "field BLNTAGE not in ../../data/04373-0001-Data.tsv\n",
      "field MTHAAGE not in ../../data/21240-0001-Data.tsv\n",
      "field CIGTRY  not in ../../data/21240-0001-Data.tsv\n",
      "field CIGTRY  not in ../../data/34481-0001-Data.tsv\n",
      "field CIGTRY  not in ../../data/34933-0001-Data.tsv\n",
      "CPU times: user 18 s, sys: 598 ms, total: 18.6 s\n",
      "Wall time: 18.6 s\n"
     ]
    }
   ],
   "source": [
    "%%time\n",
    "\n",
    "dfs = []\n",
    "files = glob.glob('../../data/*.tsv')\n",
    "fields = ['NEWRACE', 'AGE', 'IRSEX', 'HERAGE', 'LSDAGE', 'PCPAGE',\n",
    "          'CRKAGE', 'ECSAGE', 'COCAGE', 'METHAGE', 'CIGAGE', 'SNUFTRY',\n",
    "          'CHEWTRY', 'MTHAAGE', 'OXYCAGE', 'CIGTRY ', 'SEDAGE', 'STIMAGE',\n",
    "          'TRANAGE', 'CIGARTRY', 'INHAGE', 'MJAGE', 'ANALAGE', 'BLNTAGE', 'ALCTRY'] #+ \\\n",
    "    #['MRJMDAYS',  'MRJYDAYS', 'DEPNDALC', 'DEPNDMRJ', 'NDSSDNSP']\n",
    "\n",
    "for file in files:\n",
    "    df_n1 = pd.read_csv(file, sep='\\t', skipinitialspace=True, nrows=1)\n",
    "    current_columns = []\n",
    "    for field in fields:\n",
    "        if field in df_n1.columns:\n",
    "            current_columns.append(field)\n",
    "        elif f'{field}2' in df_n1.columns:\n",
    "            current_columns.append(f'{field}2')\n",
    "        else:\n",
    "            print(f'field {field} not in {file}')\n",
    "    df = pd.read_csv(file, sep='\\t', skipinitialspace=True, usecols=current_columns)\n",
    "    df['file_name'] = os.path.basename(file)\n",
    "    dfs.append(df)"
   ]
  },
  {
   "cell_type": "code",
   "execution_count": 157,
   "id": "e66030c7",
   "metadata": {},
   "outputs": [
    {
     "data": {
      "text/plain": [
       "(613974, 25)"
      ]
     },
     "execution_count": 157,
     "metadata": {},
     "output_type": "execute_result"
    }
   ],
   "source": [
    "main_df = pd.concat(dfs)\n",
    "main_df_backlog = main_df.copy()\n",
    "main_df.shape  # data diff 613774 (real) - 615701 (paper) = -1927 difference"
   ]
  },
  {
   "cell_type": "code",
   "execution_count": 158,
   "id": "7c8f218d",
   "metadata": {},
   "outputs": [
    {
     "data": {
      "text/html": [
       "<div>\n",
       "<style scoped>\n",
       "    .dataframe tbody tr th:only-of-type {\n",
       "        vertical-align: middle;\n",
       "    }\n",
       "\n",
       "    .dataframe tbody tr th {\n",
       "        vertical-align: top;\n",
       "    }\n",
       "\n",
       "    .dataframe thead th {\n",
       "        text-align: right;\n",
       "    }\n",
       "</style>\n",
       "<table border=\"1\" class=\"dataframe\">\n",
       "  <thead>\n",
       "    <tr style=\"text-align: right;\">\n",
       "      <th></th>\n",
       "      <th>CIGAGE</th>\n",
       "      <th>SNUFTRY</th>\n",
       "      <th>CHEWTRY</th>\n",
       "      <th>CIGARTRY</th>\n",
       "      <th>ALCTRY</th>\n",
       "      <th>MJAGE</th>\n",
       "      <th>COCAGE</th>\n",
       "      <th>CRKAGE</th>\n",
       "      <th>HERAGE</th>\n",
       "      <th>LSDAGE</th>\n",
       "      <th>PCPAGE</th>\n",
       "      <th>ECSAGE</th>\n",
       "      <th>INHAGE</th>\n",
       "      <th>ANALAGE</th>\n",
       "      <th>OXYCAGE</th>\n",
       "      <th>TRANAGE</th>\n",
       "      <th>STIMAGE</th>\n",
       "      <th>METHAGE</th>\n",
       "      <th>SEDAGE</th>\n",
       "      <th>MTHAAGE</th>\n",
       "      <th>BLNTAGE</th>\n",
       "      <th>AGE2</th>\n",
       "      <th>IRSEX</th>\n",
       "      <th>NEWRACE2</th>\n",
       "      <th>file_name</th>\n",
       "    </tr>\n",
       "  </thead>\n",
       "  <tbody>\n",
       "    <tr>\n",
       "      <th>0</th>\n",
       "      <td>999</td>\n",
       "      <td>991</td>\n",
       "      <td>991</td>\n",
       "      <td>991</td>\n",
       "      <td>16</td>\n",
       "      <td>16</td>\n",
       "      <td>991</td>\n",
       "      <td>991</td>\n",
       "      <td>991</td>\n",
       "      <td>991</td>\n",
       "      <td>991</td>\n",
       "      <td>991</td>\n",
       "      <td>991</td>\n",
       "      <td>991</td>\n",
       "      <td>991</td>\n",
       "      <td>991</td>\n",
       "      <td>991</td>\n",
       "      <td>991</td>\n",
       "      <td>991</td>\n",
       "      <td>991.0</td>\n",
       "      <td>991.0</td>\n",
       "      <td>9</td>\n",
       "      <td>1</td>\n",
       "      <td>2</td>\n",
       "      <td>32722-0001-Data.tsv</td>\n",
       "    </tr>\n",
       "    <tr>\n",
       "      <th>1</th>\n",
       "      <td>15</td>\n",
       "      <td>991</td>\n",
       "      <td>991</td>\n",
       "      <td>991</td>\n",
       "      <td>13</td>\n",
       "      <td>14</td>\n",
       "      <td>991</td>\n",
       "      <td>991</td>\n",
       "      <td>991</td>\n",
       "      <td>991</td>\n",
       "      <td>991</td>\n",
       "      <td>991</td>\n",
       "      <td>991</td>\n",
       "      <td>991</td>\n",
       "      <td>991</td>\n",
       "      <td>991</td>\n",
       "      <td>991</td>\n",
       "      <td>991</td>\n",
       "      <td>991</td>\n",
       "      <td>991.0</td>\n",
       "      <td>17.0</td>\n",
       "      <td>12</td>\n",
       "      <td>2</td>\n",
       "      <td>1</td>\n",
       "      <td>32722-0001-Data.tsv</td>\n",
       "    </tr>\n",
       "  </tbody>\n",
       "</table>\n",
       "</div>"
      ],
      "text/plain": [
       "   CIGAGE  SNUFTRY  CHEWTRY  CIGARTRY  ALCTRY  MJAGE  COCAGE  CRKAGE  HERAGE  \\\n",
       "0     999      991      991       991      16     16     991     991     991   \n",
       "1      15      991      991       991      13     14     991     991     991   \n",
       "\n",
       "   LSDAGE  PCPAGE  ECSAGE  INHAGE  ANALAGE  OXYCAGE  TRANAGE  STIMAGE  \\\n",
       "0     991     991     991     991      991      991      991      991   \n",
       "1     991     991     991     991      991      991      991      991   \n",
       "\n",
       "   METHAGE  SEDAGE  MTHAAGE  BLNTAGE  AGE2  IRSEX  NEWRACE2  \\\n",
       "0      991     991    991.0    991.0     9      1         2   \n",
       "1      991     991    991.0     17.0    12      2         1   \n",
       "\n",
       "             file_name  \n",
       "0  32722-0001-Data.tsv  \n",
       "1  32722-0001-Data.tsv  "
      ]
     },
     "execution_count": 158,
     "metadata": {},
     "output_type": "execute_result"
    }
   ],
   "source": [
    "main_df.head(2)"
   ]
  },
  {
   "cell_type": "markdown",
   "id": "ec43a455",
   "metadata": {},
   "source": [
    "# Preprocessing"
   ]
  },
  {
   "cell_type": "code",
   "execution_count": 174,
   "id": "705ba7c7",
   "metadata": {},
   "outputs": [],
   "source": [
    "file_to_year_mapping = {f:2004+i for i, f in enumerate(sorted([os.path.basename(f) for f in files]))}\n",
    "class_mapping = {\n",
    "    'MJAGE': 'MARIJUANA',\n",
    "    'ALCTRY': 'ALCOHOL',\n",
    "    'CIGAGE': 'CIGARETTES',\n",
    "    'NOUSAGE': 'NO_DRUG_USE',\n",
    "    'CIGARTRY': 'OTHER_TABACCO',\n",
    "    'SNUFTRY': 'OTHER_TABACCO',\n",
    "    'CHEWTRY': 'OTHER_TABACCO',\n",
    "    'HERAGE': 'OTHER_DRUGS',\n",
    "    'LSDAGE': 'OTHER_DRUGS',\n",
    "    'PCPAGE': 'OTHER_DRUGS',\n",
    "    'CRKAGE': 'OTHER_DRUGS',\n",
    "    'ECSAGE': 'OTHER_DRUGS',\n",
    "    'COCAGE': 'OTHER_DRUGS',\n",
    "    'METHAGE': 'OTHER_DRUGS',\n",
    "    'MTHAAGE': 'OTHER_DRUGS',\n",
    "    'OXYCAGE': 'OTHER_DRUGS',\n",
    "    'SEDAGE': 'OTHER_DRUGS',\n",
    "    'STIMAGE': 'OTHER_DRUGS',\n",
    "    'TRANAGE': 'OTHER_DRUGS',\n",
    "    'INHAGE': 'OTHER_DRUGS',\n",
    "    'ANALAGE': 'OTHER_DRUGS',\n",
    "    'BLNTAGE': 'OTHER_DRUGS'\n",
    "}\n",
    "age_to_group_mapping = {\n",
    "    12: '12-13',\n",
    "    13: '12-13',\n",
    "    14: '14-15',\n",
    "    15: '14-15',\n",
    "    16: '16-17',\n",
    "    17: '16-17',\n",
    "    18: '18-19',\n",
    "    19: '18-19',\n",
    "    20: '20-21',\n",
    "    21: '20-21'\n",
    "}\n",
    "classes = ['MJAGE', 'CIGAGE', 'ALCTRY', 'CIGARTRY', 'SNUFTRY',\n",
    "           'CHEWTRY', 'HERAGE', 'LSDAGE', 'PCPAGE', 'CRKAGE',\n",
    "           'ECSAGE', 'COCAGE', 'METHAGE', 'MTHAAGE', 'OXYCAGE',\n",
    "           'SEDAGE', 'STIMAGE', 'TRANAGE', 'INHAGE', 'ANALAGE',\n",
    "           'BLNTAGE']\n",
    "classes_new = classes + ['NOUSAGE']\n",
    "\n",
    "def prepare_data(df):\n",
    "    df['YEAR'] = df['file_name'].map(file_to_year_mapping) # infer year\n",
    "    df[['MTHAAGE', 'BLNTAGE']] = df[['MTHAAGE', 'BLNTAGE']].fillna(10e5)  # fill in nan\n",
    "    # data diff 296467 (real) - 297632 (paper) = -1165 \n",
    "    df = df[(df['AGE2'] < 11)]  # filter people < 22 yo\n",
    "    df['ARGMINAGE'] = df[classes].values.argmin(axis=1)  # index of substance that was used first\n",
    "    df['MINAGE'] = df[classes].values.min(axis=1)  # substance that was used first\n",
    "    df['ARGMINAGE'] = np.where(df['MINAGE'] > 900, 21, df['ARGMINAGE'])  # values > 900 - no drug usage\n",
    "    # mapping to good-looking values\n",
    "    df['SEX'] = df['IRSEX'].map({1: 'Male', 2: 'Female'})\n",
    "    df['AGE'] = df['AGE2'].map({i:i+11 for i in range(1, 11)})\n",
    "    df['RACE'] = df['NEWRACE2'].map({1: 'White', 2: 'Black', 3: 'AI/AN', 4: 'NHOPI', 5: 'Asian', 6: 'Multi-racial', 7: 'Hispanic'})\n",
    "    df['CLASS_NARROW'] = df['ARGMINAGE'].map(lambda x: classes_new[x])\n",
    "    df['CLASS'] = df['CLASS_NARROW'].map(class_mapping)\n",
    "    df['AGE_GROUP'] = df['AGE'].map(age_to_group_mapping)\n",
    "    df.reset_index(inplace=True, drop=True)\n",
    "    df = df[['YEAR', 'CLASS', 'SEX', 'RACE', 'AGE_GROUP', 'AGE']]\n",
    "    # make values categorical\n",
    "    df['SEX'] = df['SEX'].astype('category')\n",
    "    df['RACE'] = df['RACE'].astype('category')\n",
    "    df['AGE_GROUP'] = df['AGE_GROUP'].astype('category')\n",
    "    df['CLASS'] = df['CLASS'].astype('category')\n",
    "    df['YEAR'] = df['YEAR'].astype('category')\n",
    "    return df"
   ]
  },
  {
   "cell_type": "code",
   "execution_count": 175,
   "id": "fa0b8860",
   "metadata": {},
   "outputs": [
    {
     "data": {
      "text/plain": [
       "(296467, 6)"
      ]
     },
     "execution_count": 175,
     "metadata": {},
     "output_type": "execute_result"
    }
   ],
   "source": [
    "df = prepare_data(main_df)\n",
    "# df.to_csv('../../data/sduh_processed_data.csv')\n",
    "df.shape"
   ]
  },
  {
   "cell_type": "code",
   "execution_count": 176,
   "id": "03f5205e",
   "metadata": {},
   "outputs": [
    {
     "data": {
      "text/html": [
       "<div>\n",
       "<style scoped>\n",
       "    .dataframe tbody tr th:only-of-type {\n",
       "        vertical-align: middle;\n",
       "    }\n",
       "\n",
       "    .dataframe tbody tr th {\n",
       "        vertical-align: top;\n",
       "    }\n",
       "\n",
       "    .dataframe thead th {\n",
       "        text-align: right;\n",
       "    }\n",
       "</style>\n",
       "<table border=\"1\" class=\"dataframe\">\n",
       "  <thead>\n",
       "    <tr style=\"text-align: right;\">\n",
       "      <th></th>\n",
       "      <th>YEAR</th>\n",
       "      <th>CLASS</th>\n",
       "      <th>SEX</th>\n",
       "      <th>RACE</th>\n",
       "      <th>AGE_GROUP</th>\n",
       "      <th>AGE</th>\n",
       "    </tr>\n",
       "  </thead>\n",
       "  <tbody>\n",
       "    <tr>\n",
       "      <th>0</th>\n",
       "      <td>2010</td>\n",
       "      <td>MARIJUANA</td>\n",
       "      <td>Male</td>\n",
       "      <td>Black</td>\n",
       "      <td>20-21</td>\n",
       "      <td>20</td>\n",
       "    </tr>\n",
       "    <tr>\n",
       "      <th>1</th>\n",
       "      <td>2010</td>\n",
       "      <td>MARIJUANA</td>\n",
       "      <td>Female</td>\n",
       "      <td>Hispanic</td>\n",
       "      <td>14-15</td>\n",
       "      <td>15</td>\n",
       "    </tr>\n",
       "    <tr>\n",
       "      <th>2</th>\n",
       "      <td>2010</td>\n",
       "      <td>ALCOHOL</td>\n",
       "      <td>Female</td>\n",
       "      <td>White</td>\n",
       "      <td>18-19</td>\n",
       "      <td>18</td>\n",
       "    </tr>\n",
       "    <tr>\n",
       "      <th>3</th>\n",
       "      <td>2010</td>\n",
       "      <td>NO_DRUG_USE</td>\n",
       "      <td>Male</td>\n",
       "      <td>Hispanic</td>\n",
       "      <td>12-13</td>\n",
       "      <td>13</td>\n",
       "    </tr>\n",
       "    <tr>\n",
       "      <th>4</th>\n",
       "      <td>2010</td>\n",
       "      <td>OTHER_TABACCO</td>\n",
       "      <td>Male</td>\n",
       "      <td>Hispanic</td>\n",
       "      <td>20-21</td>\n",
       "      <td>20</td>\n",
       "    </tr>\n",
       "  </tbody>\n",
       "</table>\n",
       "</div>"
      ],
      "text/plain": [
       "   YEAR          CLASS     SEX      RACE AGE_GROUP  AGE\n",
       "0  2010      MARIJUANA    Male     Black     20-21   20\n",
       "1  2010      MARIJUANA  Female  Hispanic     14-15   15\n",
       "2  2010        ALCOHOL  Female     White     18-19   18\n",
       "3  2010    NO_DRUG_USE    Male  Hispanic     12-13   13\n",
       "4  2010  OTHER_TABACCO    Male  Hispanic     20-21   20"
      ]
     },
     "execution_count": 176,
     "metadata": {},
     "output_type": "execute_result"
    }
   ],
   "source": [
    "df.head()"
   ]
  },
  {
   "cell_type": "code",
   "execution_count": 177,
   "id": "410d7eff",
   "metadata": {},
   "outputs": [
    {
     "data": {
      "text/html": [
       "<div>\n",
       "<style scoped>\n",
       "    .dataframe tbody tr th:only-of-type {\n",
       "        vertical-align: middle;\n",
       "    }\n",
       "\n",
       "    .dataframe tbody tr th {\n",
       "        vertical-align: top;\n",
       "    }\n",
       "\n",
       "    .dataframe thead th {\n",
       "        text-align: right;\n",
       "    }\n",
       "</style>\n",
       "<table border=\"1\" class=\"dataframe\">\n",
       "  <thead>\n",
       "    <tr style=\"text-align: right;\">\n",
       "      <th></th>\n",
       "      <th>YEAR</th>\n",
       "      <th>CLASS</th>\n",
       "      <th>SEX</th>\n",
       "      <th>RACE</th>\n",
       "      <th>AGE_GROUP</th>\n",
       "    </tr>\n",
       "  </thead>\n",
       "  <tbody>\n",
       "    <tr>\n",
       "      <th>0</th>\n",
       "      <td>6</td>\n",
       "      <td>2</td>\n",
       "      <td>1</td>\n",
       "      <td>2</td>\n",
       "      <td>4</td>\n",
       "    </tr>\n",
       "    <tr>\n",
       "      <th>1</th>\n",
       "      <td>6</td>\n",
       "      <td>2</td>\n",
       "      <td>0</td>\n",
       "      <td>3</td>\n",
       "      <td>1</td>\n",
       "    </tr>\n",
       "    <tr>\n",
       "      <th>2</th>\n",
       "      <td>6</td>\n",
       "      <td>0</td>\n",
       "      <td>0</td>\n",
       "      <td>6</td>\n",
       "      <td>3</td>\n",
       "    </tr>\n",
       "    <tr>\n",
       "      <th>3</th>\n",
       "      <td>6</td>\n",
       "      <td>3</td>\n",
       "      <td>1</td>\n",
       "      <td>3</td>\n",
       "      <td>0</td>\n",
       "    </tr>\n",
       "    <tr>\n",
       "      <th>4</th>\n",
       "      <td>6</td>\n",
       "      <td>5</td>\n",
       "      <td>1</td>\n",
       "      <td>3</td>\n",
       "      <td>4</td>\n",
       "    </tr>\n",
       "  </tbody>\n",
       "</table>\n",
       "</div>"
      ],
      "text/plain": [
       "   YEAR  CLASS  SEX  RACE  AGE_GROUP\n",
       "0     6      2    1     2          4\n",
       "1     6      2    0     3          1\n",
       "2     6      0    0     6          3\n",
       "3     6      3    1     3          0\n",
       "4     6      5    1     3          4"
      ]
     },
     "execution_count": 177,
     "metadata": {},
     "output_type": "execute_result"
    }
   ],
   "source": [
    "def get_encoded_df(df):\n",
    "    categorical = df.select_dtypes(['category']).columns\n",
    "    df_cat = df[categorical].apply(lambda x: x.cat.codes)\n",
    "    return df_cat\n",
    "\n",
    "def get_unencoded_df(df, df_cat):\n",
    "    df_noncat = pd.DataFrame(columns=df.columns)\n",
    "    categorical = df.select_dtypes(['category']).columns\n",
    "    for cat in categorical:\n",
    "        mapping = dict(enumerate(df[cat].cat.categories))\n",
    "        df_noncat[cat] = df_cat[cat].map(mapping)\n",
    "    return df_noncat\n",
    "\n",
    "df_enc = get_encoded_df(df)\n",
    "df_enc.head()"
   ]
  },
  {
   "cell_type": "code",
   "execution_count": 178,
   "id": "9f586cc0",
   "metadata": {},
   "outputs": [
    {
     "data": {
      "text/plain": [
       "YEAR         int8\n",
       "CLASS        int8\n",
       "SEX          int8\n",
       "RACE         int8\n",
       "AGE_GROUP    int8\n",
       "dtype: object"
      ]
     },
     "execution_count": 178,
     "metadata": {},
     "output_type": "execute_result"
    }
   ],
   "source": [
    "df_enc.dtypes"
   ]
  },
  {
   "cell_type": "markdown",
   "id": "6382cad3",
   "metadata": {},
   "source": [
    "# Plot Figure 1"
   ]
  },
  {
   "cell_type": "code",
   "execution_count": 179,
   "id": "73a2ebcb",
   "metadata": {},
   "outputs": [
    {
     "data": {
      "image/png": "[encoded data removed]",
      "text/plain": [
       "<Figure size 1080x432 with 4 Axes>"
      ]
     },
     "metadata": {
      "needs_background": "light"
     },
     "output_type": "display_data"
    }
   ],
   "source": [
    "def plot_figure(df_):\n",
    "    cols = ['MARIJUANA', 'CIGARETTES', 'ALCOHOL', 'OTHER_TABACCO', 'OTHER_DRUGS', 'NO_DRUG_USE']\n",
    "    prop_sex = pd.crosstab(index=df_['SEX'], columns=df_['CLASS'], normalize=\"index\") * 100\n",
    "    prop_race = pd.crosstab(index=df_['RACE'], columns=df_['CLASS'], normalize=\"index\") * 100\n",
    "    prop_age = pd.crosstab(index=df_['AGE_GROUP'], columns=df_['CLASS'], normalize=\"index\") * 100\n",
    "    prop_year = pd.crosstab(index=df_['YEAR'], columns=df_['CLASS'], normalize=\"index\") * 100\n",
    "    figure, axis = plt.subplots(1, 4, gridspec_kw={'width_ratios': [1, 2, 3, 4]})\n",
    "    figure.set_size_inches(15, 6, forward=True)\n",
    "    figure.tight_layout() \n",
    "    prop_sex[cols].plot(kind='bar', stacked=True, colormap='tab20', ax=axis[0], legend=None, xlabel='Sex')\n",
    "    prop_age[cols].plot(kind='bar', stacked=True, colormap='tab20', ax=axis[1], legend=None, xlabel='Age Group')\n",
    "    prop_race[cols].plot(kind='bar', stacked=True, colormap='tab20', ax=axis[2], legend=None, xlabel='Race/Ethnicity')\n",
    "    prop_year[cols].plot(kind='bar', stacked=True, colormap='tab20', ax=axis[3], legend=None, xlabel='Survey Year')\n",
    "    axis[0].yaxis.set_major_formatter('{x:1.0f}%')\n",
    "    axis[1].set_yticks([])\n",
    "    axis[2].set_yticks([])\n",
    "    axis[3].set_yticks([])\n",
    "    axis[0].xaxis.set_label_coords(.5, -.2)\n",
    "    axis[1].xaxis.set_label_coords(.5, -.2)\n",
    "    axis[2].xaxis.set_label_coords(.5, -.2)\n",
    "    axis[3].xaxis.set_label_coords(.5, -.2)\n",
    "    plt.subplots_adjust(wspace=0.05)\n",
    "    plt.legend(loc='upper center', bbox_to_anchor=(-0.25, 1.1),  ncol = 6)\n",
    "    # plt.savefig('figure_1.png', facecolor='white', transparent=False, bbox_inches='tight', pad_inches=.5)\n",
    "    plt.show()\n",
    "    \n",
    "plot_figure(df)\n",
    "# plot_figure(get_unencoded_df(df, df_enc))"
   ]
  },
  {
   "cell_type": "markdown",
   "id": "5bea7bba",
   "metadata": {},
   "source": [
    "# Plot Table 1"
   ]
  },
  {
   "cell_type": "code",
   "execution_count": 393,
   "id": "6924cd8b",
   "metadata": {},
   "outputs": [],
   "source": [
    "from scipy.stats.contingency import relative_risk\n",
    "from scipy.stats import norm\n",
    "from zepid import RiskRatio\n",
    "from statsmodels.discrete.discrete_model import MNLogit\n",
    "import statsmodels.api as st"
   ]
  },
  {
   "cell_type": "code",
   "execution_count": 395,
   "id": "85de3e04",
   "metadata": {},
   "outputs": [
    {
     "data": {
      "text/plain": [
       "((296467, 11), (296467, 1))"
      ]
     },
     "execution_count": 395,
     "metadata": {},
     "output_type": "execute_result"
    }
   ],
   "source": [
    "df_slice = df.copy() # df[df.CLASS.isin(['MARIJUANA', 'NO_DRUG_USE'])]\n",
    "df_slice['CLASS'] = df_slice.CLASS.astype('category')\n",
    "df_slice['AGE'] = df_slice.AGE.astype(np.int32)\n",
    "df_slice['YEAR'] = df_slice.YEAR.astype(np.int32)\n",
    "X = pd.get_dummies(df_slice[['YEAR', 'RACE', 'AGE', 'SEX']])\n",
    "y = df_slice[['CLASS']]\n",
    "X.shape, y.shape"
   ]
  },
  {
   "cell_type": "code",
   "execution_count": 396,
   "id": "6445d634",
   "metadata": {},
   "outputs": [
    {
     "data": {
      "text/html": [
       "<div>\n",
       "<style scoped>\n",
       "    .dataframe tbody tr th:only-of-type {\n",
       "        vertical-align: middle;\n",
       "    }\n",
       "\n",
       "    .dataframe tbody tr th {\n",
       "        vertical-align: top;\n",
       "    }\n",
       "\n",
       "    .dataframe thead th {\n",
       "        text-align: right;\n",
       "    }\n",
       "</style>\n",
       "<table border=\"1\" class=\"dataframe\">\n",
       "  <thead>\n",
       "    <tr style=\"text-align: right;\">\n",
       "      <th></th>\n",
       "      <th>YEAR</th>\n",
       "      <th>AGE</th>\n",
       "      <th>RACE_AI/AN</th>\n",
       "      <th>RACE_Asian</th>\n",
       "      <th>RACE_Black</th>\n",
       "      <th>RACE_Hispanic</th>\n",
       "      <th>RACE_Multi-racial</th>\n",
       "      <th>RACE_NHOPI</th>\n",
       "      <th>RACE_White</th>\n",
       "      <th>SEX_Female</th>\n",
       "      <th>SEX_Male</th>\n",
       "    </tr>\n",
       "  </thead>\n",
       "  <tbody>\n",
       "    <tr>\n",
       "      <th>0</th>\n",
       "      <td>2010</td>\n",
       "      <td>20</td>\n",
       "      <td>0</td>\n",
       "      <td>0</td>\n",
       "      <td>1</td>\n",
       "      <td>0</td>\n",
       "      <td>0</td>\n",
       "      <td>0</td>\n",
       "      <td>0</td>\n",
       "      <td>0</td>\n",
       "      <td>1</td>\n",
       "    </tr>\n",
       "    <tr>\n",
       "      <th>1</th>\n",
       "      <td>2010</td>\n",
       "      <td>15</td>\n",
       "      <td>0</td>\n",
       "      <td>0</td>\n",
       "      <td>0</td>\n",
       "      <td>1</td>\n",
       "      <td>0</td>\n",
       "      <td>0</td>\n",
       "      <td>0</td>\n",
       "      <td>1</td>\n",
       "      <td>0</td>\n",
       "    </tr>\n",
       "    <tr>\n",
       "      <th>2</th>\n",
       "      <td>2010</td>\n",
       "      <td>18</td>\n",
       "      <td>0</td>\n",
       "      <td>0</td>\n",
       "      <td>0</td>\n",
       "      <td>0</td>\n",
       "      <td>0</td>\n",
       "      <td>0</td>\n",
       "      <td>1</td>\n",
       "      <td>1</td>\n",
       "      <td>0</td>\n",
       "    </tr>\n",
       "    <tr>\n",
       "      <th>3</th>\n",
       "      <td>2010</td>\n",
       "      <td>13</td>\n",
       "      <td>0</td>\n",
       "      <td>0</td>\n",
       "      <td>0</td>\n",
       "      <td>1</td>\n",
       "      <td>0</td>\n",
       "      <td>0</td>\n",
       "      <td>0</td>\n",
       "      <td>0</td>\n",
       "      <td>1</td>\n",
       "    </tr>\n",
       "    <tr>\n",
       "      <th>4</th>\n",
       "      <td>2010</td>\n",
       "      <td>20</td>\n",
       "      <td>0</td>\n",
       "      <td>0</td>\n",
       "      <td>0</td>\n",
       "      <td>1</td>\n",
       "      <td>0</td>\n",
       "      <td>0</td>\n",
       "      <td>0</td>\n",
       "      <td>0</td>\n",
       "      <td>1</td>\n",
       "    </tr>\n",
       "  </tbody>\n",
       "</table>\n",
       "</div>"
      ],
      "text/plain": [
       "   YEAR  AGE  RACE_AI/AN  RACE_Asian  RACE_Black  RACE_Hispanic  \\\n",
       "0  2010   20           0           0           1              0   \n",
       "1  2010   15           0           0           0              1   \n",
       "2  2010   18           0           0           0              0   \n",
       "3  2010   13           0           0           0              1   \n",
       "4  2010   20           0           0           0              1   \n",
       "\n",
       "   RACE_Multi-racial  RACE_NHOPI  RACE_White  SEX_Female  SEX_Male  \n",
       "0                  0           0           0           0         1  \n",
       "1                  0           0           0           1         0  \n",
       "2                  0           0           1           1         0  \n",
       "3                  0           0           0           0         1  \n",
       "4                  0           0           0           0         1  "
      ]
     },
     "execution_count": 396,
     "metadata": {},
     "output_type": "execute_result"
    }
   ],
   "source": [
    "X.head()"
   ]
  },
  {
   "cell_type": "code",
   "execution_count": 397,
   "id": "955f073a",
   "metadata": {},
   "outputs": [
    {
     "data": {
      "text/html": [
       "<div>\n",
       "<style scoped>\n",
       "    .dataframe tbody tr th:only-of-type {\n",
       "        vertical-align: middle;\n",
       "    }\n",
       "\n",
       "    .dataframe tbody tr th {\n",
       "        vertical-align: top;\n",
       "    }\n",
       "\n",
       "    .dataframe thead th {\n",
       "        text-align: right;\n",
       "    }\n",
       "</style>\n",
       "<table border=\"1\" class=\"dataframe\">\n",
       "  <thead>\n",
       "    <tr style=\"text-align: right;\">\n",
       "      <th></th>\n",
       "      <th>CLASS</th>\n",
       "    </tr>\n",
       "  </thead>\n",
       "  <tbody>\n",
       "    <tr>\n",
       "      <th>0</th>\n",
       "      <td>MARIJUANA</td>\n",
       "    </tr>\n",
       "    <tr>\n",
       "      <th>1</th>\n",
       "      <td>MARIJUANA</td>\n",
       "    </tr>\n",
       "    <tr>\n",
       "      <th>2</th>\n",
       "      <td>ALCOHOL</td>\n",
       "    </tr>\n",
       "    <tr>\n",
       "      <th>3</th>\n",
       "      <td>NO_DRUG_USE</td>\n",
       "    </tr>\n",
       "    <tr>\n",
       "      <th>4</th>\n",
       "      <td>OTHER_TABACCO</td>\n",
       "    </tr>\n",
       "  </tbody>\n",
       "</table>\n",
       "</div>"
      ],
      "text/plain": [
       "           CLASS\n",
       "0      MARIJUANA\n",
       "1      MARIJUANA\n",
       "2        ALCOHOL\n",
       "3    NO_DRUG_USE\n",
       "4  OTHER_TABACCO"
      ]
     },
     "execution_count": 397,
     "metadata": {},
     "output_type": "execute_result"
    }
   ],
   "source": [
    "y.head()"
   ]
  },
  {
   "cell_type": "code",
   "execution_count": 495,
   "id": "3af00743",
   "metadata": {},
   "outputs": [
    {
     "name": "stdout",
     "output_type": "stream",
     "text": [
      "Optimization terminated successfully.\n",
      "         Current function value: 1.213960\n",
      "         Iterations 8\n"
     ]
    }
   ],
   "source": [
    "X_c = st.add_constant(X, prepend = True)\n",
    "model = sm.MNLogit(y, X_c)\n",
    "result = model.fit(method='newton', maxiter=100, full_output=True)"
   ]
  },
  {
   "cell_type": "code",
   "execution_count": 496,
   "id": "c3a9cf9d",
   "metadata": {},
   "outputs": [
    {
     "name": "stdout",
     "output_type": "stream",
     "text": [
      "                          MNLogit Regression Results                          \n",
      "==============================================================================\n",
      "Dep. Variable:                  CLASS   No. Observations:               296467\n",
      "Model:                        MNLogit   Df Residuals:                   296412\n",
      "Method:                           MLE   Df Model:                           50\n",
      "Date:                Tue, 19 Jul 2022   Pseudo R-squ.:                  0.1278\n",
      "Time:                        15:57:48   Log-Likelihood:            -3.5990e+05\n",
      "converged:                       True   LL-Null:                   -4.1263e+05\n",
      "Covariance Type:            nonrobust   LLR p-value:                     0.000\n",
      "=======================================================================================\n",
      "   CLASS=CIGARETTES       coef    std err          z      P>|z|      [0.025      0.975]\n",
      "---------------------------------------------------------------------------------------\n",
      "const                  64.8319        nan        nan        nan         nan         nan\n",
      "YEAR                   -0.0562      0.004    -13.177      0.000      -0.065      -0.048\n",
      "AGE                     0.2075      0.006     35.654      0.000       0.196       0.219\n",
      "RACE_AI/AN             10.0541        nan        nan        nan         nan         nan\n",
      "RACE_Asian              8.6780        nan        nan        nan         nan         nan\n",
      "RACE_Black              8.8406        nan        nan        nan         nan         nan\n",
      "RACE_Hispanic           8.6973        nan        nan        nan         nan         nan\n",
      "RACE_Multi-racial       9.5574        nan        nan        nan         nan         nan\n",
      "RACE_NHOPI              9.5688        nan        nan        nan         nan         nan\n",
      "RACE_White              9.4345        nan        nan        nan         nan         nan\n",
      "SEX_Female             32.4656   2.69e+05      0.000      1.000   -5.27e+05    5.27e+05\n",
      "SEX_Male               32.3648   2.34e+05      0.000      1.000   -4.58e+05    4.58e+05\n",
      "---------------------------------------------------------------------------------------\n",
      "  CLASS=MARIJUANA       coef    std err          z      P>|z|      [0.025      0.975]\n",
      "-------------------------------------------------------------------------------------\n",
      "const               -44.8514   1.92e+05     -0.000      1.000   -3.77e+05    3.77e+05\n",
      "YEAR                  0.0357      0.002     18.194      0.000       0.032       0.040\n",
      "AGE                   0.0708      0.002     28.637      0.000       0.066       0.076\n",
      "RACE_AI/AN           -5.6445        nan        nan        nan         nan         nan\n",
      "RACE_Asian           -7.2360        nan        nan        nan         nan         nan\n",
      "RACE_Black           -6.2456        nan        nan        nan         nan         nan\n",
      "RACE_Hispanic        -6.5812   8.77e+04   -7.5e-05      1.000   -1.72e+05    1.72e+05\n",
      "RACE_Multi-racial    -6.2502   1.34e+05  -4.67e-05      1.000   -2.62e+05    2.62e+05\n",
      "RACE_NHOPI           -6.1747        nan        nan        nan         nan         nan\n",
      "RACE_White           -6.7194        nan        nan        nan         nan         nan\n",
      "SEX_Female          -22.5702        nan        nan        nan         nan         nan\n",
      "SEX_Male            -22.2818        nan        nan        nan         nan         nan\n",
      "-------------------------------------------------------------------------------------\n",
      "CLASS=NO_DRUG_USE       coef    std err          z      P>|z|      [0.025      0.975]\n",
      "-------------------------------------------------------------------------------------\n",
      "const               -72.0282        nan        nan        nan         nan         nan\n",
      "YEAR                  0.0629      0.002     39.484      0.000       0.060       0.066\n",
      "AGE                  -0.4732      0.002   -225.202      0.000      -0.477      -0.469\n",
      "RACE_AI/AN          -10.3689   9.57e+04     -0.000      1.000   -1.88e+05    1.88e+05\n",
      "RACE_Asian           -9.8340   4.94e+04     -0.000      1.000   -9.68e+04    9.68e+04\n",
      "RACE_Black          -10.0588        nan        nan        nan         nan         nan\n",
      "RACE_Hispanic       -10.4131    1.4e+05  -7.43e-05      1.000   -2.75e+05    2.75e+05\n",
      "RACE_Multi-racial   -10.5390   1.36e+05  -7.77e-05      1.000   -2.66e+05    2.66e+05\n",
      "RACE_NHOPI          -10.2903        nan        nan        nan         nan         nan\n",
      "RACE_White          -10.5248    6.8e+04     -0.000      1.000   -1.33e+05    1.33e+05\n",
      "SEX_Female          -36.0503        nan        nan        nan         nan         nan\n",
      "SEX_Male            -35.9783        nan        nan        nan         nan         nan\n",
      "-------------------------------------------------------------------------------------\n",
      "CLASS=OTHER_DRUGS       coef    std err          z      P>|z|      [0.025      0.975]\n",
      "-------------------------------------------------------------------------------------\n",
      "const                -9.9883      2e+05     -5e-05      1.000   -3.92e+05    3.92e+05\n",
      "YEAR                  0.0094      0.003      3.414      0.001       0.004       0.015\n",
      "AGE                  -0.2356      0.003    -69.980      0.000      -0.242      -0.229\n",
      "RACE_AI/AN           -1.1774   1.35e+05  -8.73e-06      1.000   -2.64e+05    2.64e+05\n",
      "RACE_Asian           -1.4710    2.3e+05  -6.41e-06      1.000    -4.5e+05     4.5e+05\n",
      "RACE_Black           -1.0639        nan        nan        nan         nan         nan\n",
      "RACE_Hispanic        -1.6033   1.34e+05   -1.2e-05      1.000   -2.63e+05    2.63e+05\n",
      "RACE_Multi-racial    -1.5137        nan        nan        nan         nan         nan\n",
      "RACE_NHOPI           -1.2380        nan        nan        nan         nan         nan\n",
      "RACE_White           -1.9219        nan        nan        nan         nan         nan\n",
      "SEX_Female           -5.0217   3.49e+05  -1.44e-05      1.000   -6.84e+05    6.84e+05\n",
      "SEX_Male             -4.9673    3.2e+05  -1.55e-05      1.000   -6.27e+05    6.27e+05\n",
      "-------------------------------------------------------------------------------------\n",
      "CLASS=OTHER_TABACCO       coef    std err          z      P>|z|      [0.025      0.975]\n",
      "---------------------------------------------------------------------------------------\n",
      "const                  -1.4456        nan        nan        nan         nan         nan\n",
      "YEAR                    0.0002      0.003      0.074      0.941      -0.006       0.006\n",
      "AGE                    -0.0099      0.004     -2.742      0.006      -0.017      -0.003\n",
      "RACE_AI/AN              1.0798        nan        nan        nan         nan         nan\n",
      "RACE_Asian             -1.2074        nan        nan        nan         nan         nan\n",
      "RACE_Black             -0.4594        nan        nan        nan         nan         nan\n",
      "RACE_Hispanic          -0.5849        nan        nan        nan         nan         nan\n",
      "RACE_Multi-racial      -0.1729        nan        nan        nan         nan         nan\n",
      "RACE_NHOPI             -0.1030        nan        nan        nan         nan         nan\n",
      "RACE_White              0.0012        nan        nan        nan         nan         nan\n",
      "SEX_Female             -1.3858   2.09e+05  -6.63e-06      1.000   -4.09e+05    4.09e+05\n",
      "SEX_Male               -0.0606   2.09e+05   -2.9e-07      1.000   -4.09e+05    4.09e+05\n",
      "=======================================================================================\n"
     ]
    }
   ],
   "source": [
    "print(result.summary())"
   ]
  },
  {
   "cell_type": "code",
   "execution_count": 497,
   "id": "c4163f01",
   "metadata": {},
   "outputs": [
    {
     "name": "stdout",
     "output_type": "stream",
     "text": [
      "                                Results: MNLogit\n",
      "================================================================================\n",
      "Model:                    MNLogit              Pseudo R-squared:     0.128      \n",
      "Dependent Variable:       CLASS                AIC:                  719907.8895\n",
      "Date:                     2022-07-19 15:58     BIC:                  720490.8725\n",
      "No. Observations:         296467               Log-Likelihood:       -3.5990e+05\n",
      "Df Model:                 50                   LL-Null:              -4.1263e+05\n",
      "Df Residuals:             296412               LLR p-value:          0.0000     \n",
      "Converged:                1.0000               Scale:                1.0000     \n",
      "No. Iterations:           8.0000                                                \n",
      "--------------------------------------------------------------------------------\n",
      "     CLASS = 0       Coef.    Std.Err.     t     P>|t|     [0.025       0.975]  \n",
      "--------------------------------------------------------------------------------\n",
      "            const   64.8319         nan      nan    nan          nan         nan\n",
      "             YEAR   -0.0562      0.0043 -13.1774 0.0000      -0.0646     -0.0479\n",
      "              AGE    0.2075      0.0058  35.6542 0.0000       0.1961      0.2189\n",
      "       RACE_AI/AN   10.0541         nan      nan    nan          nan         nan\n",
      "       RACE_Asian    8.6780         nan      nan    nan          nan         nan\n",
      "       RACE_Black    8.8406         nan      nan    nan          nan         nan\n",
      "    RACE_Hispanic    8.6973         nan      nan    nan          nan         nan\n",
      "RACE_Multi-racial    9.5574         nan      nan    nan          nan         nan\n",
      "       RACE_NHOPI    9.5688         nan      nan    nan          nan         nan\n",
      "       RACE_White    9.4345         nan      nan    nan          nan         nan\n",
      "       SEX_Female   32.4656 268653.6109   0.0001 0.9999 -526518.9362 526583.8673\n",
      "         SEX_Male   32.3648 233669.0305   0.0001 0.9999 -457950.5192 458015.2487\n",
      "--------------------------------------------------------------------------------\n",
      "     CLASS = 1       Coef.     Std.Err.     t    P>|t|     [0.025       0.975]  \n",
      "--------------------------------------------------------------------------------\n",
      "            const   -44.8514 192250.6758 -0.0002 0.9998 -376849.2520 376759.5491\n",
      "             YEAR     0.0357      0.0020 18.1943 0.0000       0.0319      0.0396\n",
      "              AGE     0.0708      0.0025 28.6372 0.0000       0.0660      0.0757\n",
      "       RACE_AI/AN    -5.6445         nan     nan    nan          nan         nan\n",
      "       RACE_Asian    -7.2360         nan     nan    nan          nan         nan\n",
      "       RACE_Black    -6.2456         nan     nan    nan          nan         nan\n",
      "    RACE_Hispanic    -6.5812  87742.1300 -0.0001 0.9999 -171977.9960 171964.8336\n",
      "RACE_Multi-racial    -6.2502 133791.7029 -0.0000 1.0000 -262233.1694 262220.6689\n",
      "       RACE_NHOPI    -6.1747         nan     nan    nan          nan         nan\n",
      "       RACE_White    -6.7194         nan     nan    nan          nan         nan\n",
      "       SEX_Female   -22.5702         nan     nan    nan          nan         nan\n",
      "         SEX_Male   -22.2818         nan     nan    nan          nan         nan\n",
      "--------------------------------------------------------------------------------\n",
      "    CLASS = 2      Coef.     Std.Err.      t     P>|t|     [0.025       0.975]  \n",
      "--------------------------------------------------------------------------------\n",
      "            const -72.0282         nan       nan    nan          nan         nan\n",
      "             YEAR   0.0629      0.0016   39.4836 0.0000       0.0598      0.0660\n",
      "              AGE  -0.4732      0.0021 -225.2021 0.0000      -0.4773     -0.4691\n",
      "       RACE_AI/AN -10.3689  95734.5439   -0.0001 0.9999 -187646.6270 187625.8893\n",
      "       RACE_Asian  -9.8340  49408.5582   -0.0002 0.9998  -96848.8286  96829.1605\n",
      "       RACE_Black -10.0588         nan       nan    nan          nan         nan\n",
      "    RACE_Hispanic -10.4131 140190.3131   -0.0001 0.9999 -274778.3778 274757.5515\n",
      "RACE_Multi-racial -10.5390 135617.5825   -0.0001 0.9999 -265816.1164 265795.0384\n",
      "       RACE_NHOPI -10.2903         nan       nan    nan          nan         nan\n",
      "       RACE_White -10.5248  68038.9871   -0.0002 0.9999 -133364.4891 133343.4395\n",
      "       SEX_Female -36.0503         nan       nan    nan          nan         nan\n",
      "         SEX_Male -35.9783         nan       nan    nan          nan         nan\n",
      "--------------------------------------------------------------------------------\n",
      "     CLASS = 3       Coef.    Std.Err.     t     P>|t|     [0.025       0.975]  \n",
      "--------------------------------------------------------------------------------\n",
      "            const   -9.9883 199889.1489  -0.0000 1.0000 -391785.5210 391765.5444\n",
      "             YEAR    0.0094      0.0028   3.4137 0.0006       0.0040      0.0148\n",
      "              AGE   -0.2356      0.0034 -69.9802 0.0000      -0.2422     -0.2290\n",
      "       RACE_AI/AN   -1.1774 134921.8132  -0.0000 1.0000 -264443.0720 264440.7173\n",
      "       RACE_Asian   -1.4710 229559.2814  -0.0000 1.0000 -449929.3948 449926.4528\n",
      "       RACE_Black   -1.0639         nan      nan    nan          nan         nan\n",
      "    RACE_Hispanic   -1.6033 134017.0234  -0.0000 1.0000 -262670.1424 262666.9359\n",
      "RACE_Multi-racial   -1.5137         nan      nan    nan          nan         nan\n",
      "       RACE_NHOPI   -1.2380         nan      nan    nan          nan         nan\n",
      "       RACE_White   -1.9219         nan      nan    nan          nan         nan\n",
      "       SEX_Female   -5.0217 348928.8438  -0.0000 1.0000 -683892.9888 683882.9454\n",
      "         SEX_Male   -4.9673 319651.9327  -0.0000 1.0000 -626511.2429 626501.3084\n",
      "--------------------------------------------------------------------------------\n",
      "     CLASS = 4        Coef.    Std.Err.     t    P>|t|     [0.025       0.975]  \n",
      "--------------------------------------------------------------------------------\n",
      "            const    -1.4456         nan     nan    nan          nan         nan\n",
      "             YEAR     0.0002      0.0030  0.0738 0.9412      -0.0056      0.0060\n",
      "              AGE    -0.0099      0.0036 -2.7417 0.0061      -0.0170     -0.0028\n",
      "       RACE_AI/AN     1.0798         nan     nan    nan          nan         nan\n",
      "       RACE_Asian    -1.2074         nan     nan    nan          nan         nan\n",
      "       RACE_Black    -0.4594         nan     nan    nan          nan         nan\n",
      "    RACE_Hispanic    -0.5849         nan     nan    nan          nan         nan\n",
      "RACE_Multi-racial    -0.1729         nan     nan    nan          nan         nan\n",
      "       RACE_NHOPI    -0.1030         nan     nan    nan          nan         nan\n",
      "       RACE_White     0.0012         nan     nan    nan          nan         nan\n",
      "       SEX_Female    -1.3858 208878.5939 -0.0000 1.0000 -409395.9069 409393.1354\n",
      "         SEX_Male    -0.0606 208878.5939 -0.0000 1.0000 -409394.5818 409394.4606\n",
      "================================================================================\n",
      "\n"
     ]
    }
   ],
   "source": [
    "print(result.summary2())"
   ]
  },
  {
   "cell_type": "code",
   "execution_count": 498,
   "id": "afd6c9af",
   "metadata": {},
   "outputs": [
    {
     "data": {
      "text/html": [
       "<div>\n",
       "<style scoped>\n",
       "    .dataframe tbody tr th:only-of-type {\n",
       "        vertical-align: middle;\n",
       "    }\n",
       "\n",
       "    .dataframe tbody tr th {\n",
       "        vertical-align: top;\n",
       "    }\n",
       "\n",
       "    .dataframe thead th {\n",
       "        text-align: right;\n",
       "    }\n",
       "</style>\n",
       "<table border=\"1\" class=\"dataframe\">\n",
       "  <thead>\n",
       "    <tr style=\"text-align: right;\">\n",
       "      <th></th>\n",
       "      <th>0</th>\n",
       "      <th>1</th>\n",
       "      <th>2</th>\n",
       "      <th>3</th>\n",
       "      <th>4</th>\n",
       "    </tr>\n",
       "  </thead>\n",
       "  <tbody>\n",
       "    <tr>\n",
       "      <th>const</th>\n",
       "      <td>NaN</td>\n",
       "      <td>9.998139e-01</td>\n",
       "      <td>NaN</td>\n",
       "      <td>0.999960</td>\n",
       "      <td>NaN</td>\n",
       "    </tr>\n",
       "    <tr>\n",
       "      <th>YEAR</th>\n",
       "      <td>1.184645e-39</td>\n",
       "      <td>5.722161e-74</td>\n",
       "      <td>0.000000</td>\n",
       "      <td>0.000641</td>\n",
       "      <td>0.941179</td>\n",
       "    </tr>\n",
       "    <tr>\n",
       "      <th>AGE</th>\n",
       "      <td>2.029024e-278</td>\n",
       "      <td>2.312612e-180</td>\n",
       "      <td>0.000000</td>\n",
       "      <td>0.000000</td>\n",
       "      <td>0.006113</td>\n",
       "    </tr>\n",
       "    <tr>\n",
       "      <th>RACE_AI/AN</th>\n",
       "      <td>NaN</td>\n",
       "      <td>NaN</td>\n",
       "      <td>0.999914</td>\n",
       "      <td>0.999993</td>\n",
       "      <td>NaN</td>\n",
       "    </tr>\n",
       "    <tr>\n",
       "      <th>RACE_Asian</th>\n",
       "      <td>NaN</td>\n",
       "      <td>NaN</td>\n",
       "      <td>0.999841</td>\n",
       "      <td>0.999995</td>\n",
       "      <td>NaN</td>\n",
       "    </tr>\n",
       "    <tr>\n",
       "      <th>RACE_Black</th>\n",
       "      <td>NaN</td>\n",
       "      <td>NaN</td>\n",
       "      <td>NaN</td>\n",
       "      <td>NaN</td>\n",
       "      <td>NaN</td>\n",
       "    </tr>\n",
       "    <tr>\n",
       "      <th>RACE_Hispanic</th>\n",
       "      <td>NaN</td>\n",
       "      <td>9.999402e-01</td>\n",
       "      <td>0.999941</td>\n",
       "      <td>0.999990</td>\n",
       "      <td>NaN</td>\n",
       "    </tr>\n",
       "    <tr>\n",
       "      <th>RACE_Multi-racial</th>\n",
       "      <td>NaN</td>\n",
       "      <td>9.999627e-01</td>\n",
       "      <td>0.999938</td>\n",
       "      <td>NaN</td>\n",
       "      <td>NaN</td>\n",
       "    </tr>\n",
       "    <tr>\n",
       "      <th>RACE_NHOPI</th>\n",
       "      <td>NaN</td>\n",
       "      <td>NaN</td>\n",
       "      <td>NaN</td>\n",
       "      <td>NaN</td>\n",
       "      <td>NaN</td>\n",
       "    </tr>\n",
       "    <tr>\n",
       "      <th>RACE_White</th>\n",
       "      <td>NaN</td>\n",
       "      <td>NaN</td>\n",
       "      <td>0.999877</td>\n",
       "      <td>NaN</td>\n",
       "      <td>NaN</td>\n",
       "    </tr>\n",
       "    <tr>\n",
       "      <th>SEX_Female</th>\n",
       "      <td>9.999036e-01</td>\n",
       "      <td>NaN</td>\n",
       "      <td>NaN</td>\n",
       "      <td>0.999989</td>\n",
       "      <td>0.999995</td>\n",
       "    </tr>\n",
       "    <tr>\n",
       "      <th>SEX_Male</th>\n",
       "      <td>9.998895e-01</td>\n",
       "      <td>NaN</td>\n",
       "      <td>NaN</td>\n",
       "      <td>0.999988</td>\n",
       "      <td>1.000000</td>\n",
       "    </tr>\n",
       "  </tbody>\n",
       "</table>\n",
       "</div>"
      ],
      "text/plain": [
       "                               0              1         2         3         4\n",
       "const                        NaN   9.998139e-01       NaN  0.999960       NaN\n",
       "YEAR                1.184645e-39   5.722161e-74  0.000000  0.000641  0.941179\n",
       "AGE                2.029024e-278  2.312612e-180  0.000000  0.000000  0.006113\n",
       "RACE_AI/AN                   NaN            NaN  0.999914  0.999993       NaN\n",
       "RACE_Asian                   NaN            NaN  0.999841  0.999995       NaN\n",
       "RACE_Black                   NaN            NaN       NaN       NaN       NaN\n",
       "RACE_Hispanic                NaN   9.999402e-01  0.999941  0.999990       NaN\n",
       "RACE_Multi-racial            NaN   9.999627e-01  0.999938       NaN       NaN\n",
       "RACE_NHOPI                   NaN            NaN       NaN       NaN       NaN\n",
       "RACE_White                   NaN            NaN  0.999877       NaN       NaN\n",
       "SEX_Female          9.999036e-01            NaN       NaN  0.999989  0.999995\n",
       "SEX_Male            9.998895e-01            NaN       NaN  0.999988  1.000000"
      ]
     },
     "execution_count": 498,
     "metadata": {},
     "output_type": "execute_result"
    }
   ],
   "source": [
    "result.pvalues"
   ]
  },
  {
   "cell_type": "markdown",
   "id": "1dc5e5ef",
   "metadata": {},
   "source": [
    "## sklearn logistic regression"
   ]
  },
  {
   "cell_type": "code",
   "execution_count": 433,
   "id": "00d1627e",
   "metadata": {},
   "outputs": [],
   "source": [
    "from sklearn.linear_model import LogisticRegression\n",
    "from sklearn.feature_selection import chi2"
   ]
  },
  {
   "cell_type": "code",
   "execution_count": 407,
   "id": "106abd35",
   "metadata": {},
   "outputs": [
    {
     "data": {
      "text/plain": [
       "LogisticRegression(multi_class='multinomial', random_state=42)"
      ]
     },
     "execution_count": 407,
     "metadata": {},
     "output_type": "execute_result"
    }
   ],
   "source": [
    "model = LogisticRegression(random_state=42, multi_class='multinomial')\n",
    "model.fit(X, y)"
   ]
  },
  {
   "cell_type": "code",
   "execution_count": 434,
   "id": "8de13811",
   "metadata": {},
   "outputs": [],
   "source": [
    "scores, pvalues = chi2(X, y)"
   ]
  },
  {
   "cell_type": "code",
   "execution_count": 438,
   "id": "ab64a034",
   "metadata": {},
   "outputs": [
    {
     "data": {
      "text/plain": [
       "11"
      ]
     },
     "execution_count": 438,
     "metadata": {},
     "output_type": "execute_result"
    }
   ],
   "source": [
    "len(pvalues)"
   ]
  },
  {
   "cell_type": "code",
   "execution_count": 416,
   "id": "8b774fb3",
   "metadata": {},
   "outputs": [
    {
     "data": {
      "text/html": [
       "<div>\n",
       "<style scoped>\n",
       "    .dataframe tbody tr th:only-of-type {\n",
       "        vertical-align: middle;\n",
       "    }\n",
       "\n",
       "    .dataframe tbody tr th {\n",
       "        vertical-align: top;\n",
       "    }\n",
       "\n",
       "    .dataframe thead th {\n",
       "        text-align: right;\n",
       "    }\n",
       "</style>\n",
       "<table border=\"1\" class=\"dataframe\">\n",
       "  <thead>\n",
       "    <tr style=\"text-align: right;\">\n",
       "      <th></th>\n",
       "      <th>YEAR</th>\n",
       "      <th>AGE</th>\n",
       "      <th>RACE_AI/AN</th>\n",
       "      <th>RACE_Asian</th>\n",
       "      <th>RACE_Black</th>\n",
       "      <th>RACE_Hispanic</th>\n",
       "      <th>RACE_Multi-racial</th>\n",
       "      <th>RACE_NHOPI</th>\n",
       "      <th>RACE_White</th>\n",
       "      <th>SEX_Female</th>\n",
       "      <th>SEX_Male</th>\n",
       "    </tr>\n",
       "  </thead>\n",
       "  <tbody>\n",
       "    <tr>\n",
       "      <th>ALCOHOL</th>\n",
       "      <td>0.999914</td>\n",
       "      <td>1.086917</td>\n",
       "      <td>0.988932</td>\n",
       "      <td>0.994902</td>\n",
       "      <td>0.949645</td>\n",
       "      <td>1.009498</td>\n",
       "      <td>0.995980</td>\n",
       "      <td>0.998325</td>\n",
       "      <td>1.066537</td>\n",
       "      <td>1.071277</td>\n",
       "      <td>0.933707</td>\n",
       "    </tr>\n",
       "    <tr>\n",
       "      <th>CIGARETTES</th>\n",
       "      <td>0.997210</td>\n",
       "      <td>1.271435</td>\n",
       "      <td>1.001110</td>\n",
       "      <td>0.997677</td>\n",
       "      <td>0.990181</td>\n",
       "      <td>0.988037</td>\n",
       "      <td>1.000755</td>\n",
       "      <td>1.000144</td>\n",
       "      <td>1.022526</td>\n",
       "      <td>1.011563</td>\n",
       "      <td>0.988624</td>\n",
       "    </tr>\n",
       "    <tr>\n",
       "      <th>MARIJUANA</th>\n",
       "      <td>0.998793</td>\n",
       "      <td>1.179815</td>\n",
       "      <td>1.010959</td>\n",
       "      <td>0.983506</td>\n",
       "      <td>1.022929</td>\n",
       "      <td>1.008125</td>\n",
       "      <td>1.012488</td>\n",
       "      <td>1.001496</td>\n",
       "      <td>0.961742</td>\n",
       "      <td>0.971857</td>\n",
       "      <td>1.028883</td>\n",
       "    </tr>\n",
       "    <tr>\n",
       "      <th>NO_DRUG_USE</th>\n",
       "      <td>1.003770</td>\n",
       "      <td>0.684860</td>\n",
       "      <td>0.991070</td>\n",
       "      <td>1.032548</td>\n",
       "      <td>1.033152</td>\n",
       "      <td>1.008635</td>\n",
       "      <td>0.989167</td>\n",
       "      <td>0.999607</td>\n",
       "      <td>0.948085</td>\n",
       "      <td>1.029771</td>\n",
       "      <td>0.970774</td>\n",
       "    </tr>\n",
       "    <tr>\n",
       "      <th>OTHER_DRUGS</th>\n",
       "      <td>1.001549</td>\n",
       "      <td>0.804863</td>\n",
       "      <td>1.001315</td>\n",
       "      <td>1.000047</td>\n",
       "      <td>1.026224</td>\n",
       "      <td>1.006846</td>\n",
       "      <td>1.003124</td>\n",
       "      <td>1.000600</td>\n",
       "      <td>0.962954</td>\n",
       "      <td>1.007636</td>\n",
       "      <td>0.992462</td>\n",
       "    </tr>\n",
       "    <tr>\n",
       "      <th>OTHER_TABACCO</th>\n",
       "      <td>0.998777</td>\n",
       "      <td>1.112684</td>\n",
       "      <td>1.006799</td>\n",
       "      <td>0.992024</td>\n",
       "      <td>0.980555</td>\n",
       "      <td>0.979287</td>\n",
       "      <td>0.998636</td>\n",
       "      <td>0.999831</td>\n",
       "      <td>1.044331</td>\n",
       "      <td>0.915079</td>\n",
       "      <td>1.092850</td>\n",
       "    </tr>\n",
       "  </tbody>\n",
       "</table>\n",
       "</div>"
      ],
      "text/plain": [
       "                   YEAR       AGE  RACE_AI/AN  RACE_Asian  RACE_Black  \\\n",
       "ALCOHOL        0.999914  1.086917    0.988932    0.994902    0.949645   \n",
       "CIGARETTES     0.997210  1.271435    1.001110    0.997677    0.990181   \n",
       "MARIJUANA      0.998793  1.179815    1.010959    0.983506    1.022929   \n",
       "NO_DRUG_USE    1.003770  0.684860    0.991070    1.032548    1.033152   \n",
       "OTHER_DRUGS    1.001549  0.804863    1.001315    1.000047    1.026224   \n",
       "OTHER_TABACCO  0.998777  1.112684    1.006799    0.992024    0.980555   \n",
       "\n",
       "               RACE_Hispanic  RACE_Multi-racial  RACE_NHOPI  RACE_White  \\\n",
       "ALCOHOL             1.009498           0.995980    0.998325    1.066537   \n",
       "CIGARETTES          0.988037           1.000755    1.000144    1.022526   \n",
       "MARIJUANA           1.008125           1.012488    1.001496    0.961742   \n",
       "NO_DRUG_USE         1.008635           0.989167    0.999607    0.948085   \n",
       "OTHER_DRUGS         1.006846           1.003124    1.000600    0.962954   \n",
       "OTHER_TABACCO       0.979287           0.998636    0.999831    1.044331   \n",
       "\n",
       "               SEX_Female  SEX_Male  \n",
       "ALCOHOL          1.071277  0.933707  \n",
       "CIGARETTES       1.011563  0.988624  \n",
       "MARIJUANA        0.971857  1.028883  \n",
       "NO_DRUG_USE      1.029771  0.970774  \n",
       "OTHER_DRUGS      1.007636  0.992462  \n",
       "OTHER_TABACCO    0.915079  1.092850  "
      ]
     },
     "execution_count": 416,
     "metadata": {},
     "output_type": "execute_result"
    }
   ],
   "source": [
    "coefficients = pd.DataFrame(np.exp(model.coef_), index=model.classes_, columns=X.columns)\n",
    "coefficients"
   ]
  },
  {
   "cell_type": "code",
   "execution_count": 425,
   "id": "7740e58c",
   "metadata": {},
   "outputs": [
    {
     "data": {
      "text/html": [
       "<div>\n",
       "<style scoped>\n",
       "    .dataframe tbody tr th:only-of-type {\n",
       "        vertical-align: middle;\n",
       "    }\n",
       "\n",
       "    .dataframe tbody tr th {\n",
       "        vertical-align: top;\n",
       "    }\n",
       "\n",
       "    .dataframe thead th {\n",
       "        text-align: right;\n",
       "    }\n",
       "</style>\n",
       "<table border=\"1\" class=\"dataframe\">\n",
       "  <thead>\n",
       "    <tr style=\"text-align: right;\">\n",
       "      <th></th>\n",
       "      <th>SEX_Female</th>\n",
       "      <th>SEX_Male</th>\n",
       "    </tr>\n",
       "  </thead>\n",
       "  <tbody>\n",
       "    <tr>\n",
       "      <th>MARIJUANA</th>\n",
       "      <td>0.971857</td>\n",
       "      <td>1.028883</td>\n",
       "    </tr>\n",
       "    <tr>\n",
       "      <th>NO_DRUG_USE</th>\n",
       "      <td>1.029771</td>\n",
       "      <td>0.970774</td>\n",
       "    </tr>\n",
       "  </tbody>\n",
       "</table>\n",
       "</div>"
      ],
      "text/plain": [
       "             SEX_Female  SEX_Male\n",
       "MARIJUANA      0.971857  1.028883\n",
       "NO_DRUG_USE    1.029771  0.970774"
      ]
     },
     "execution_count": 425,
     "metadata": {},
     "output_type": "execute_result"
    }
   ],
   "source": [
    "calc_df = coefficients[['SEX_Female', 'SEX_Male']][2:4]\n",
    "calc_df"
   ]
  },
  {
   "cell_type": "code",
   "execution_count": 431,
   "id": "44f6c347",
   "metadata": {},
   "outputs": [
    {
     "data": {
      "text/plain": [
       "SEX_Female    0.943760\n",
       "SEX_Male      1.059858\n",
       "dtype: float64"
      ]
     },
     "execution_count": 431,
     "metadata": {},
     "output_type": "execute_result"
    }
   ],
   "source": [
    "calc_df.iloc[0]/calc_df.iloc[1]"
   ]
  },
  {
   "cell_type": "code",
   "execution_count": 432,
   "id": "5e2c10cd",
   "metadata": {},
   "outputs": [
    {
     "data": {
      "text/plain": [
       "1.1230164448588624"
      ]
     },
     "execution_count": 432,
     "metadata": {},
     "output_type": "execute_result"
    }
   ],
   "source": [
    "1.059858/0.943760"
   ]
  },
  {
   "cell_type": "markdown",
   "id": "51594048",
   "metadata": {},
   "source": [
    "### pvalues"
   ]
  },
  {
   "cell_type": "code",
   "execution_count": 487,
   "id": "ceaa0ef0",
   "metadata": {},
   "outputs": [
    {
     "name": "stdout",
     "output_type": "stream",
     "text": [
      "[1.         0.         0.2595267  0.99999997 0.99999973 0.99999995\n",
      " 0.99999998 0.99999999 0.99999966 0.99999963 0.99999945 1.        ]\n"
     ]
    }
   ],
   "source": [
    "# src: https://pythonguides.com/scikit-learn-logistic-regression/\n",
    "\n",
    "def logit_pvalue(model, X):\n",
    "    p1 = model.predict_proba(X)\n",
    "    n1 = len(p1)\n",
    "    m1 = len(model.coef_[0]) + 1\n",
    "    coefs = np.concatenate((model.coef_[0], np.array([model.intercept_[0]])))\n",
    "    x_full = np.matrix(np.insert(np.array(X), 0, 1, axis = 1))\n",
    "    answ = np.zeros((m1, m1))\n",
    "    for i in range(n1):\n",
    "        answ = answ + np.dot(np.transpose(x_full[i, :]), x_full[i, :]) * p1[i,1] * p1[i, 0]\n",
    "    vcov = np.linalg.inv(np.matrix(answ))\n",
    "    se = np.sqrt(np.diag(vcov))\n",
    "    t1 =  coefs/se  \n",
    "    p1 = (1 - norm.cdf(abs(t1))) * 2\n",
    "    return p1\n",
    "\n",
    "print(logit_pvalue(model, X))"
   ]
  },
  {
   "cell_type": "code",
   "execution_count": null,
   "id": "f109b6bd",
   "metadata": {},
   "outputs": [],
   "source": []
  },
  {
   "cell_type": "markdown",
   "id": "00f50c01",
   "metadata": {},
   "source": [
    "## risk ration (legacy)"
   ]
  },
  {
   "cell_type": "code",
   "execution_count": 66,
   "id": "c49c2923",
   "metadata": {},
   "outputs": [
    {
     "name": "stdout",
     "output_type": "stream",
     "text": [
      "RR:  [1.10703802596475]\n",
      "P-value: [2.71128224e-31]\n"
     ]
    }
   ],
   "source": [
    "rr = RiskRatio(reference=0)\n",
    "rr.fit(df_temp, exposure='SEX', outcome='CLASS')\n",
    "\n",
    "# Calculating P-values\n",
    "est = rr.results['RiskRatio'][1:]\n",
    "std = rr.results['SD(RR)'][1:]\n",
    "z_score = np.log(est)/std\n",
    "p_value = norm.sf(abs(z_score))*2\n",
    "# Displaying results\n",
    "print(\"RR: \", list(est))\n",
    "print(\"P-value:\", p_value)"
   ]
  },
  {
   "cell_type": "code",
   "execution_count": 67,
   "id": "a66eb4bb",
   "metadata": {},
   "outputs": [
    {
     "data": {
      "image/png": "[encoded data removed]",
      "text/plain": [
       "<Figure size 432x288 with 1 Axes>"
      ]
     },
     "metadata": {
      "needs_background": "light"
     },
     "output_type": "display_data"
    }
   ],
   "source": [
    "rr.plot()\n",
    "plt.show()"
   ]
  },
  {
   "cell_type": "code",
   "execution_count": 18,
   "id": "9489b24e",
   "metadata": {},
   "outputs": [
    {
     "data": {
      "text/html": [
       "<div>\n",
       "<style scoped>\n",
       "    .dataframe tbody tr th:only-of-type {\n",
       "        vertical-align: middle;\n",
       "    }\n",
       "\n",
       "    .dataframe tbody tr th {\n",
       "        vertical-align: top;\n",
       "    }\n",
       "\n",
       "    .dataframe thead th {\n",
       "        text-align: right;\n",
       "    }\n",
       "</style>\n",
       "<table border=\"1\" class=\"dataframe\">\n",
       "  <thead>\n",
       "    <tr style=\"text-align: right;\">\n",
       "      <th></th>\n",
       "      <th>Risk</th>\n",
       "      <th>SD(Risk)</th>\n",
       "      <th>Risk_LCL</th>\n",
       "      <th>Risk_UCL</th>\n",
       "      <th>RiskRatio</th>\n",
       "      <th>SD(RR)</th>\n",
       "      <th>RR_LCL</th>\n",
       "      <th>RR_UCL</th>\n",
       "      <th>CLR</th>\n",
       "    </tr>\n",
       "  </thead>\n",
       "  <tbody>\n",
       "    <tr>\n",
       "      <th>Ref:0</th>\n",
       "      <td>0.229384</td>\n",
       "      <td>0.001472</td>\n",
       "      <td>0.226498</td>\n",
       "      <td>0.232269</td>\n",
       "      <td>1.000000</td>\n",
       "      <td>NaN</td>\n",
       "      <td>NaN</td>\n",
       "      <td>NaN</td>\n",
       "      <td>NaN</td>\n",
       "    </tr>\n",
       "    <tr>\n",
       "      <th>1</th>\n",
       "      <td>0.253936</td>\n",
       "      <td>0.001506</td>\n",
       "      <td>0.250984</td>\n",
       "      <td>0.256888</td>\n",
       "      <td>1.107038</td>\n",
       "      <td>0.008739</td>\n",
       "      <td>1.088237</td>\n",
       "      <td>1.126163</td>\n",
       "      <td>1.034851</td>\n",
       "    </tr>\n",
       "  </tbody>\n",
       "</table>\n",
       "</div>"
      ],
      "text/plain": [
       "           Risk  SD(Risk)  Risk_LCL  Risk_UCL  RiskRatio    SD(RR)    RR_LCL  \\\n",
       "Ref:0  0.229384  0.001472  0.226498  0.232269   1.000000       NaN       NaN   \n",
       "1      0.253936  0.001506  0.250984  0.256888   1.107038  0.008739  1.088237   \n",
       "\n",
       "         RR_UCL       CLR  \n",
       "Ref:0       NaN       NaN  \n",
       "1      1.126163  1.034851  "
      ]
     },
     "execution_count": 18,
     "metadata": {},
     "output_type": "execute_result"
    }
   ],
   "source": [
    "rr.results"
   ]
  },
  {
   "cell_type": "code",
   "execution_count": null,
   "id": "887753a4",
   "metadata": {},
   "outputs": [],
   "source": []
  },
  {
   "cell_type": "markdown",
   "id": "1af58ab6",
   "metadata": {},
   "source": [
    "# Plot Table 2"
   ]
  },
  {
   "cell_type": "markdown",
   "id": "117f2a3c",
   "metadata": {},
   "source": [
    "Table columns\n",
    "- Heavy Marijuana Use Among Users (n=71,699)\n",
    "- Cannabis Use Disorder Among Users (n=71,699)\n",
    "- Alcohol Use Disorder Among Drinkers (n=136,399)\n",
    "- Nicotine Dependence Among Smokers (n=89,202)\n",
    "- Other Drug Use *c,d* (n=142,630)\n",
    "    * *c* Other drugs included non-medical use of cocaine, hallucinogens, heroin, inhalants, analgesics, sedatives, stimulants, and tranquillizers.\n",
    "    * *d* Those having used only one drug or all five types of drugs dropped from analyses (n=67,148) after controlling for number of drugs used due to no variance in the outcome.\n",
    "\n",
    "Methodology\n",
    "- **Heavy marijuana use** was defined as reporting marijuana use on either ≥20 or more days in the past month, or ≥300 days in the past year. **MRJMDAYS**, **MRJYDAYS**\n",
    "- Participants were classified as having a **cannabis use disorder (CUD)** or **alcohol use disorder (AUD)** if, within the last 12 months, they had met one or more features of abuse or 3 or more features of dependence based on criteria in the Diagnostic and Statistical Manual of Mental Disorders, 4th Edition (American Psychiatric Association, 1994).  -> **DEPNDALC**, **DEPNDMRJ**\n",
    "- Those whose total score on the Nicotine Dependence Syndrome Scale was ≥2.75 were classified as **having nicotine dependence (ND)** (Shiffman, Waters, & Hickcox, 2004). -> **NDSSDNSP**\n",
    "- Any lifetime use of other drugs was based on responses to items about having ever used inhalants, cocaine, heroin, and non-medical prescription drugs"
   ]
  },
  {
   "cell_type": "code",
   "execution_count": 150,
   "id": "8a337adf",
   "metadata": {},
   "outputs": [
    {
     "data": {
      "text/html": [
       "<div>\n",
       "<style scoped>\n",
       "    .dataframe tbody tr th:only-of-type {\n",
       "        vertical-align: middle;\n",
       "    }\n",
       "\n",
       "    .dataframe tbody tr th {\n",
       "        vertical-align: top;\n",
       "    }\n",
       "\n",
       "    .dataframe thead th {\n",
       "        text-align: right;\n",
       "    }\n",
       "</style>\n",
       "<table border=\"1\" class=\"dataframe\">\n",
       "  <thead>\n",
       "    <tr style=\"text-align: right;\">\n",
       "      <th></th>\n",
       "      <th>YEAR</th>\n",
       "      <th>CLASS</th>\n",
       "      <th>SEX</th>\n",
       "      <th>RACE</th>\n",
       "      <th>AGE_GROUP</th>\n",
       "      <th>MRJMDAYS</th>\n",
       "      <th>MRJYDAYS</th>\n",
       "      <th>DEPNDALC</th>\n",
       "      <th>DEPNDMRJ</th>\n",
       "      <th>NDSSDNSP</th>\n",
       "    </tr>\n",
       "  </thead>\n",
       "  <tbody>\n",
       "    <tr>\n",
       "      <th>0</th>\n",
       "      <td>2010</td>\n",
       "      <td>MARIJUANA</td>\n",
       "      <td>Male</td>\n",
       "      <td>Black</td>\n",
       "      <td>20-21</td>\n",
       "      <td>5</td>\n",
       "      <td>6</td>\n",
       "      <td>0</td>\n",
       "      <td>0</td>\n",
       "      <td>0</td>\n",
       "    </tr>\n",
       "    <tr>\n",
       "      <th>1</th>\n",
       "      <td>2010</td>\n",
       "      <td>MARIJUANA</td>\n",
       "      <td>Female</td>\n",
       "      <td>Hispanic</td>\n",
       "      <td>14-15</td>\n",
       "      <td>5</td>\n",
       "      <td>1</td>\n",
       "      <td>1</td>\n",
       "      <td>0</td>\n",
       "      <td>0</td>\n",
       "    </tr>\n",
       "    <tr>\n",
       "      <th>2</th>\n",
       "      <td>2010</td>\n",
       "      <td>ALCOHOL</td>\n",
       "      <td>Female</td>\n",
       "      <td>White</td>\n",
       "      <td>18-19</td>\n",
       "      <td>5</td>\n",
       "      <td>6</td>\n",
       "      <td>0</td>\n",
       "      <td>0</td>\n",
       "      <td>0</td>\n",
       "    </tr>\n",
       "    <tr>\n",
       "      <th>3</th>\n",
       "      <td>2010</td>\n",
       "      <td>NO_DRUG_USE</td>\n",
       "      <td>Male</td>\n",
       "      <td>Hispanic</td>\n",
       "      <td>12-13</td>\n",
       "      <td>5</td>\n",
       "      <td>6</td>\n",
       "      <td>0</td>\n",
       "      <td>0</td>\n",
       "      <td>0</td>\n",
       "    </tr>\n",
       "    <tr>\n",
       "      <th>4</th>\n",
       "      <td>2010</td>\n",
       "      <td>OTHER_TABACCO</td>\n",
       "      <td>Male</td>\n",
       "      <td>Hispanic</td>\n",
       "      <td>20-21</td>\n",
       "      <td>3</td>\n",
       "      <td>4</td>\n",
       "      <td>1</td>\n",
       "      <td>0</td>\n",
       "      <td>0</td>\n",
       "    </tr>\n",
       "  </tbody>\n",
       "</table>\n",
       "</div>"
      ],
      "text/plain": [
       "   YEAR          CLASS     SEX      RACE AGE_GROUP  MRJMDAYS  MRJYDAYS  \\\n",
       "0  2010      MARIJUANA    Male     Black     20-21         5         6   \n",
       "1  2010      MARIJUANA  Female  Hispanic     14-15         5         1   \n",
       "2  2010        ALCOHOL  Female     White     18-19         5         6   \n",
       "3  2010    NO_DRUG_USE    Male  Hispanic     12-13         5         6   \n",
       "4  2010  OTHER_TABACCO    Male  Hispanic     20-21         3         4   \n",
       "\n",
       "   DEPNDALC  DEPNDMRJ  NDSSDNSP  \n",
       "0         0         0         0  \n",
       "1         1         0         0  \n",
       "2         0         0         0  \n",
       "3         0         0         0  \n",
       "4         1         0         0  "
      ]
     },
     "execution_count": 150,
     "metadata": {},
     "output_type": "execute_result"
    }
   ],
   "source": [
    "df.head()"
   ]
  },
  {
   "cell_type": "code",
   "execution_count": 152,
   "id": "98e2c38d",
   "metadata": {},
   "outputs": [
    {
     "data": {
      "text/plain": [
       "(171315, 10)"
      ]
     },
     "execution_count": 152,
     "metadata": {},
     "output_type": "execute_result"
    }
   ],
   "source": [
    "df[(df.CLASS!='NO_DRUG_USE')].shape"
   ]
  },
  {
   "cell_type": "code",
   "execution_count": 135,
   "id": "7e81dc34",
   "metadata": {},
   "outputs": [
    {
     "data": {
      "text/plain": [
       "(55268, 30)"
      ]
     },
     "execution_count": 135,
     "metadata": {},
     "output_type": "execute_result"
    }
   ],
   "source": [
    "df.shape"
   ]
  },
  {
   "cell_type": "markdown",
   "id": "47e4a6bb",
   "metadata": {},
   "source": [
    "# MST"
   ]
  },
  {
   "cell_type": "code",
   "execution_count": 22,
   "id": "25eb07de",
   "metadata": {},
   "outputs": [],
   "source": [
    "import sys\n",
    "sys.path.append(\"/home/stacy/GitHub/private-pgm/\")\n",
    "# sys.path.insert(1, \"/home/stacy/GitHub/private-pgm/src\")\n",
    "from host_mst_wrapper.mst.mst import MSTSynthesizer\n",
    "from host_mst_wrapper.mst.pmse import pmse_ratio"
   ]
  },
  {
   "cell_type": "code",
   "execution_count": 24,
   "id": "cd1d1101",
   "metadata": {},
   "outputs": [
    {
     "data": {
      "text/html": [
       "<div>\n",
       "<style scoped>\n",
       "    .dataframe tbody tr th:only-of-type {\n",
       "        vertical-align: middle;\n",
       "    }\n",
       "\n",
       "    .dataframe tbody tr th {\n",
       "        vertical-align: top;\n",
       "    }\n",
       "\n",
       "    .dataframe thead th {\n",
       "        text-align: right;\n",
       "    }\n",
       "</style>\n",
       "<table border=\"1\" class=\"dataframe\">\n",
       "  <thead>\n",
       "    <tr style=\"text-align: right;\">\n",
       "      <th></th>\n",
       "      <th>YEAR</th>\n",
       "      <th>CLASS</th>\n",
       "      <th>SEX</th>\n",
       "      <th>RACE</th>\n",
       "      <th>AGE_GROUP</th>\n",
       "    </tr>\n",
       "  </thead>\n",
       "  <tbody>\n",
       "    <tr>\n",
       "      <th>0</th>\n",
       "      <td>6</td>\n",
       "      <td>2</td>\n",
       "      <td>1</td>\n",
       "      <td>2</td>\n",
       "      <td>4</td>\n",
       "    </tr>\n",
       "    <tr>\n",
       "      <th>1</th>\n",
       "      <td>6</td>\n",
       "      <td>2</td>\n",
       "      <td>0</td>\n",
       "      <td>3</td>\n",
       "      <td>1</td>\n",
       "    </tr>\n",
       "    <tr>\n",
       "      <th>2</th>\n",
       "      <td>6</td>\n",
       "      <td>0</td>\n",
       "      <td>0</td>\n",
       "      <td>6</td>\n",
       "      <td>3</td>\n",
       "    </tr>\n",
       "    <tr>\n",
       "      <th>3</th>\n",
       "      <td>6</td>\n",
       "      <td>3</td>\n",
       "      <td>1</td>\n",
       "      <td>3</td>\n",
       "      <td>0</td>\n",
       "    </tr>\n",
       "    <tr>\n",
       "      <th>4</th>\n",
       "      <td>6</td>\n",
       "      <td>5</td>\n",
       "      <td>1</td>\n",
       "      <td>3</td>\n",
       "      <td>4</td>\n",
       "    </tr>\n",
       "  </tbody>\n",
       "</table>\n",
       "</div>"
      ],
      "text/plain": [
       "   YEAR  CLASS  SEX  RACE  AGE_GROUP\n",
       "0     6      2    1     2          4\n",
       "1     6      2    0     3          1\n",
       "2     6      0    0     6          3\n",
       "3     6      3    1     3          0\n",
       "4     6      5    1     3          4"
      ]
     },
     "execution_count": 24,
     "metadata": {},
     "output_type": "execute_result"
    }
   ],
   "source": [
    "df_enc.head()"
   ]
  },
  {
   "cell_type": "code",
   "execution_count": 25,
   "id": "1b705c58",
   "metadata": {},
   "outputs": [
    {
     "name": "stdout",
     "output_type": "stream",
     "text": [
      "Average pMSE: 1.065\n",
      "CPU times: user 26.1 s, sys: 38.8 s, total: 1min 4s\n",
      "Wall time: 8.89 s\n"
     ]
    }
   ],
   "source": [
    "%%time\n",
    "avg_pmse = 0\n",
    "seeds = range(20)\n",
    "for s in seeds:\n",
    "    avg_pmse += pmse_ratio(df_enc, df_enc, seed=s)\n",
    "print('Average pMSE:',round(avg_pmse/len(seeds),3))"
   ]
  },
  {
   "cell_type": "code",
   "execution_count": 26,
   "id": "ac674b5b",
   "metadata": {},
   "outputs": [],
   "source": [
    "df_domain = {\n",
    "    \"YEAR\": 11,\n",
    "    \"CLASS\": 6,\n",
    "    \"SEX\": 2,\n",
    "    \"RACE\": 7,\n",
    "    \"AGE_GROUP\": 5,\n",
    "}\n",
    "\n",
    "domain_file_name = 'nsduh_processed_domain.json'\n",
    "domain_file_path = os.path.join('../../data', domain_file_name)\n",
    "with open(domain_file_path, 'w') as domain_file:\n",
    "    json.dump(df_domain, domain_file)"
   ]
  },
  {
   "cell_type": "code",
   "execution_count": 27,
   "id": "4643ad67",
   "metadata": {},
   "outputs": [
    {
     "name": "stdout",
     "output_type": "stream",
     "text": [
      "Domain(YEAR: 11, CLASS: 6, SEX: 2, RACE: 7, AGE_GROUP: 5)\n",
      "Index(['YEAR', 'CLASS', 'SEX', 'RACE', 'AGE_GROUP'], dtype='object')\n",
      "[]\n",
      "Average pMSE: 1.043\n",
      "\n",
      "Domain(YEAR: 11, CLASS: 6, SEX: 2, RACE: 7, AGE_GROUP: 5)\n",
      "Index(['YEAR', 'CLASS', 'SEX', 'RACE', 'AGE_GROUP'], dtype='object')\n",
      "[('SEX', 'AGE_GROUP'), ('AGE_GROUP', 'RACE')]\n",
      "Average pMSE: 0.993\n",
      "\n",
      "Domain(YEAR: 11, CLASS: 6, SEX: 2, RACE: 7, AGE_GROUP: 5)\n",
      "Index(['YEAR', 'CLASS', 'SEX', 'RACE', 'AGE_GROUP'], dtype='object')\n",
      "[('SEX', 'CLASS'), ('AGE_GROUP', 'CLASS'), ('RACE', 'CLASS')]\n",
      "Average pMSE: 1.218\n",
      "\n",
      "CPU times: user 2min 28s, sys: 2min 31s, total: 5min\n",
      "Wall time: 1min 31s\n"
     ]
    }
   ],
   "source": [
    "%%time\n",
    "cliques_to_try = [\n",
    "    [],\n",
    "    [('SEX', 'AGE_GROUP'), ('AGE_GROUP', 'RACE')],\n",
    "    [('SEX', 'CLASS'), ('AGE_GROUP', 'CLASS'), ('RACE', 'CLASS')]\n",
    "]\n",
    "\n",
    "for cl in cliques_to_try:\n",
    "    synth = MSTSynthesizer(epsilon=1.0, \n",
    "                        domain_path=domain_file_path,\n",
    "                        custom_cliques=True,\n",
    "                        cliques_set=cl)\n",
    "    synth.fit(df_enc)\n",
    "    mst_fake_data = synth.sample(samples=len(df_enc))\n",
    "    avg_pmse = 0\n",
    "    for s in seeds:\n",
    "        avg_pmse += pmse_ratio(df_enc, mst_fake_data, seed=s)\n",
    "    print('Average pMSE:',round(avg_pmse/len(seeds),3))\n",
    "    print('')"
   ]
  },
  {
   "cell_type": "code",
   "execution_count": 28,
   "id": "cf882216",
   "metadata": {},
   "outputs": [
    {
     "name": "stdout",
     "output_type": "stream",
     "text": [
      "Domain(YEAR: 11, CLASS: 6, SEX: 2, RACE: 7, AGE_GROUP: 5)\n",
      "Index(['YEAR', 'CLASS', 'SEX', 'RACE', 'AGE_GROUP'], dtype='object')\n",
      "[('YEAR', 'CLASS'), ('CLASS', 'AGE_GROUP'), ('CLASS', 'RACE'), ('CLASS', 'SEX')]\n",
      "CPU times: user 24.6 s, sys: 25.1 ms, total: 24.6 s\n",
      "Wall time: 24.6 s\n"
     ]
    }
   ],
   "source": [
    "%%time\n",
    "synth = MSTSynthesizer(epsilon=1.0, \n",
    "                        domain_path=domain_file_path)\n",
    "synth.fit(df_enc)\n",
    "mst_fake_data = synth.sample(samples=len(df_enc))"
   ]
  },
  {
   "cell_type": "code",
   "execution_count": 29,
   "id": "c165b468",
   "metadata": {},
   "outputs": [
    {
     "data": {
      "text/plain": [
       "YEAR         int64\n",
       "CLASS        int64\n",
       "SEX          int64\n",
       "RACE         int64\n",
       "AGE_GROUP    int64\n",
       "dtype: object"
      ]
     },
     "execution_count": 29,
     "metadata": {},
     "output_type": "execute_result"
    }
   ],
   "source": [
    "mst_fake_data.dtypes"
   ]
  },
  {
   "cell_type": "code",
   "execution_count": 30,
   "id": "0574076d",
   "metadata": {},
   "outputs": [
    {
     "data": {
      "text/html": [
       "<div>\n",
       "<style scoped>\n",
       "    .dataframe tbody tr th:only-of-type {\n",
       "        vertical-align: middle;\n",
       "    }\n",
       "\n",
       "    .dataframe tbody tr th {\n",
       "        vertical-align: top;\n",
       "    }\n",
       "\n",
       "    .dataframe thead th {\n",
       "        text-align: right;\n",
       "    }\n",
       "</style>\n",
       "<table border=\"1\" class=\"dataframe\">\n",
       "  <thead>\n",
       "    <tr style=\"text-align: right;\">\n",
       "      <th></th>\n",
       "      <th>YEAR</th>\n",
       "      <th>CLASS</th>\n",
       "      <th>SEX</th>\n",
       "      <th>RACE</th>\n",
       "      <th>AGE_GROUP</th>\n",
       "    </tr>\n",
       "  </thead>\n",
       "  <tbody>\n",
       "    <tr>\n",
       "      <th>0</th>\n",
       "      <td>2011</td>\n",
       "      <td>ALCOHOL</td>\n",
       "      <td>Female</td>\n",
       "      <td>White</td>\n",
       "      <td>14-15</td>\n",
       "    </tr>\n",
       "    <tr>\n",
       "      <th>1</th>\n",
       "      <td>2012</td>\n",
       "      <td>MARIJUANA</td>\n",
       "      <td>Male</td>\n",
       "      <td>White</td>\n",
       "      <td>16-17</td>\n",
       "    </tr>\n",
       "    <tr>\n",
       "      <th>2</th>\n",
       "      <td>2014</td>\n",
       "      <td>NO_DRUG_USE</td>\n",
       "      <td>Male</td>\n",
       "      <td>Hispanic</td>\n",
       "      <td>18-19</td>\n",
       "    </tr>\n",
       "    <tr>\n",
       "      <th>3</th>\n",
       "      <td>2013</td>\n",
       "      <td>ALCOHOL</td>\n",
       "      <td>Male</td>\n",
       "      <td>White</td>\n",
       "      <td>14-15</td>\n",
       "    </tr>\n",
       "    <tr>\n",
       "      <th>4</th>\n",
       "      <td>2012</td>\n",
       "      <td>NO_DRUG_USE</td>\n",
       "      <td>Male</td>\n",
       "      <td>AI/AN</td>\n",
       "      <td>12-13</td>\n",
       "    </tr>\n",
       "  </tbody>\n",
       "</table>\n",
       "</div>"
      ],
      "text/plain": [
       "   YEAR        CLASS     SEX      RACE AGE_GROUP\n",
       "0  2011      ALCOHOL  Female     White     14-15\n",
       "1  2012    MARIJUANA    Male     White     16-17\n",
       "2  2014  NO_DRUG_USE    Male  Hispanic     18-19\n",
       "3  2013      ALCOHOL    Male     White     14-15\n",
       "4  2012  NO_DRUG_USE    Male     AI/AN     12-13"
      ]
     },
     "execution_count": 30,
     "metadata": {},
     "output_type": "execute_result"
    }
   ],
   "source": [
    "df_fake = get_unencoded_df(df, mst_fake_data)\n",
    "df_fake['SEX'] = df_fake['SEX'].astype('category')\n",
    "df_fake['RACE'] = df_fake['RACE'].astype('category')\n",
    "df_fake['AGE_GROUP'] = df_fake['AGE_GROUP'].astype('category')\n",
    "df_fake['CLASS'] = df_fake['CLASS'].astype('category')\n",
    "df_fake['YEAR'] = df_fake['YEAR'].astype('category')\n",
    "df_fake.head()"
   ]
  },
  {
   "cell_type": "code",
   "execution_count": 31,
   "id": "0d51e92c",
   "metadata": {},
   "outputs": [
    {
     "data": {
      "text/plain": [
       "YEAR         category\n",
       "CLASS        category\n",
       "SEX          category\n",
       "RACE         category\n",
       "AGE_GROUP    category\n",
       "dtype: object"
      ]
     },
     "execution_count": 31,
     "metadata": {},
     "output_type": "execute_result"
    }
   ],
   "source": [
    "df_fake.dtypes"
   ]
  },
  {
   "cell_type": "markdown",
   "id": "874c614c",
   "metadata": {},
   "source": [
    "# Compare true and synthetic data"
   ]
  },
  {
   "cell_type": "code",
   "execution_count": 32,
   "id": "783882d0",
   "metadata": {},
   "outputs": [
    {
     "data": {
      "image/png": "[encoded data removed]",
      "text/plain": [
       "<Figure size 1080x432 with 4 Axes>"
      ]
     },
     "metadata": {
      "needs_background": "light"
     },
     "output_type": "display_data"
    }
   ],
   "source": [
    "plot_figure(df)"
   ]
  },
  {
   "cell_type": "code",
   "execution_count": 33,
   "id": "6a30122a",
   "metadata": {},
   "outputs": [
    {
     "data": {
      "image/png": "[encoded data removed]",
      "text/plain": [
       "<Figure size 1080x432 with 4 Axes>"
      ]
     },
     "metadata": {
      "needs_background": "light"
     },
     "output_type": "display_data"
    }
   ],
   "source": [
    "plot_figure(df_fake)"
   ]
  },
  {
   "cell_type": "code",
   "execution_count": 34,
   "id": "8d1b9b04",
   "metadata": {},
   "outputs": [
    {
     "data": {
      "text/html": [
       "<div>\n",
       "<style scoped>\n",
       "    .dataframe tbody tr th:only-of-type {\n",
       "        vertical-align: middle;\n",
       "    }\n",
       "\n",
       "    .dataframe tbody tr th {\n",
       "        vertical-align: top;\n",
       "    }\n",
       "\n",
       "    .dataframe thead th {\n",
       "        text-align: right;\n",
       "    }\n",
       "</style>\n",
       "<table border=\"1\" class=\"dataframe\">\n",
       "  <thead>\n",
       "    <tr style=\"text-align: right;\">\n",
       "      <th></th>\n",
       "      <th>YEAR</th>\n",
       "      <th>CLASS</th>\n",
       "      <th>SEX</th>\n",
       "      <th>RACE</th>\n",
       "      <th>AGE_GROUP</th>\n",
       "    </tr>\n",
       "  </thead>\n",
       "  <tbody>\n",
       "    <tr>\n",
       "      <th>count</th>\n",
       "      <td>296467</td>\n",
       "      <td>296467</td>\n",
       "      <td>296467</td>\n",
       "      <td>296467</td>\n",
       "      <td>296467</td>\n",
       "    </tr>\n",
       "    <tr>\n",
       "      <th>unique</th>\n",
       "      <td>11</td>\n",
       "      <td>6</td>\n",
       "      <td>2</td>\n",
       "      <td>7</td>\n",
       "      <td>5</td>\n",
       "    </tr>\n",
       "    <tr>\n",
       "      <th>top</th>\n",
       "      <td>2011</td>\n",
       "      <td>NO_DRUG_USE</td>\n",
       "      <td>Male</td>\n",
       "      <td>White</td>\n",
       "      <td>16-17</td>\n",
       "    </tr>\n",
       "    <tr>\n",
       "      <th>freq</th>\n",
       "      <td>29121</td>\n",
       "      <td>125152</td>\n",
       "      <td>148945</td>\n",
       "      <td>175218</td>\n",
       "      <td>66936</td>\n",
       "    </tr>\n",
       "  </tbody>\n",
       "</table>\n",
       "</div>"
      ],
      "text/plain": [
       "          YEAR        CLASS     SEX    RACE AGE_GROUP\n",
       "count   296467       296467  296467  296467    296467\n",
       "unique      11            6       2       7         5\n",
       "top       2011  NO_DRUG_USE    Male   White     16-17\n",
       "freq     29121       125152  148945  175218     66936"
      ]
     },
     "execution_count": 34,
     "metadata": {},
     "output_type": "execute_result"
    }
   ],
   "source": [
    "df.describe()"
   ]
  },
  {
   "cell_type": "code",
   "execution_count": 35,
   "id": "e5812cde",
   "metadata": {},
   "outputs": [
    {
     "data": {
      "text/html": [
       "<div>\n",
       "<style scoped>\n",
       "    .dataframe tbody tr th:only-of-type {\n",
       "        vertical-align: middle;\n",
       "    }\n",
       "\n",
       "    .dataframe tbody tr th {\n",
       "        vertical-align: top;\n",
       "    }\n",
       "\n",
       "    .dataframe thead th {\n",
       "        text-align: right;\n",
       "    }\n",
       "</style>\n",
       "<table border=\"1\" class=\"dataframe\">\n",
       "  <thead>\n",
       "    <tr style=\"text-align: right;\">\n",
       "      <th></th>\n",
       "      <th>YEAR</th>\n",
       "      <th>CLASS</th>\n",
       "      <th>SEX</th>\n",
       "      <th>RACE</th>\n",
       "      <th>AGE_GROUP</th>\n",
       "    </tr>\n",
       "  </thead>\n",
       "  <tbody>\n",
       "    <tr>\n",
       "      <th>count</th>\n",
       "      <td>296467</td>\n",
       "      <td>296467</td>\n",
       "      <td>296467</td>\n",
       "      <td>296467</td>\n",
       "      <td>296467</td>\n",
       "    </tr>\n",
       "    <tr>\n",
       "      <th>unique</th>\n",
       "      <td>11</td>\n",
       "      <td>6</td>\n",
       "      <td>2</td>\n",
       "      <td>7</td>\n",
       "      <td>5</td>\n",
       "    </tr>\n",
       "    <tr>\n",
       "      <th>top</th>\n",
       "      <td>2011</td>\n",
       "      <td>NO_DRUG_USE</td>\n",
       "      <td>Male</td>\n",
       "      <td>White</td>\n",
       "      <td>16-17</td>\n",
       "    </tr>\n",
       "    <tr>\n",
       "      <th>freq</th>\n",
       "      <td>29127</td>\n",
       "      <td>125164</td>\n",
       "      <td>148971</td>\n",
       "      <td>175235</td>\n",
       "      <td>66956</td>\n",
       "    </tr>\n",
       "  </tbody>\n",
       "</table>\n",
       "</div>"
      ],
      "text/plain": [
       "          YEAR        CLASS     SEX    RACE AGE_GROUP\n",
       "count   296467       296467  296467  296467    296467\n",
       "unique      11            6       2       7         5\n",
       "top       2011  NO_DRUG_USE    Male   White     16-17\n",
       "freq     29127       125164  148971  175235     66956"
      ]
     },
     "execution_count": 35,
     "metadata": {},
     "output_type": "execute_result"
    }
   ],
   "source": [
    "df_fake.describe()"
   ]
  },
  {
   "cell_type": "code",
   "execution_count": 36,
   "id": "e621d087",
   "metadata": {},
   "outputs": [],
   "source": [
    "def compare(df, df_fake, column_name):\n",
    "    return pd.DataFrame([\n",
    "            df[column_name].value_counts(),\n",
    "            df_fake[column_name].value_counts(),\n",
    "            df[column_name].value_counts() - df_fake[column_name].value_counts()\n",
    "    ], index=['real', 'mst', 'diff'])"
   ]
  },
  {
   "cell_type": "code",
   "execution_count": 37,
   "id": "98953a32",
   "metadata": {},
   "outputs": [
    {
     "data": {
      "text/html": [
       "<div>\n",
       "<style scoped>\n",
       "    .dataframe tbody tr th:only-of-type {\n",
       "        vertical-align: middle;\n",
       "    }\n",
       "\n",
       "    .dataframe tbody tr th {\n",
       "        vertical-align: top;\n",
       "    }\n",
       "\n",
       "    .dataframe thead th {\n",
       "        text-align: right;\n",
       "    }\n",
       "</style>\n",
       "<table border=\"1\" class=\"dataframe\">\n",
       "  <thead>\n",
       "    <tr style=\"text-align: right;\">\n",
       "      <th></th>\n",
       "      <th>NO_DRUG_USE</th>\n",
       "      <th>ALCOHOL</th>\n",
       "      <th>MARIJUANA</th>\n",
       "      <th>OTHER_DRUGS</th>\n",
       "      <th>OTHER_TABACCO</th>\n",
       "      <th>CIGARETTES</th>\n",
       "    </tr>\n",
       "  </thead>\n",
       "  <tbody>\n",
       "    <tr>\n",
       "      <th>real</th>\n",
       "      <td>125152</td>\n",
       "      <td>93652</td>\n",
       "      <td>39914</td>\n",
       "      <td>16875</td>\n",
       "      <td>14320</td>\n",
       "      <td>6554</td>\n",
       "    </tr>\n",
       "    <tr>\n",
       "      <th>mst</th>\n",
       "      <td>125164</td>\n",
       "      <td>93669</td>\n",
       "      <td>39946</td>\n",
       "      <td>16848</td>\n",
       "      <td>14301</td>\n",
       "      <td>6539</td>\n",
       "    </tr>\n",
       "    <tr>\n",
       "      <th>diff</th>\n",
       "      <td>-12</td>\n",
       "      <td>-17</td>\n",
       "      <td>-32</td>\n",
       "      <td>27</td>\n",
       "      <td>19</td>\n",
       "      <td>15</td>\n",
       "    </tr>\n",
       "  </tbody>\n",
       "</table>\n",
       "</div>"
      ],
      "text/plain": [
       "      NO_DRUG_USE  ALCOHOL  MARIJUANA  OTHER_DRUGS  OTHER_TABACCO  CIGARETTES\n",
       "real       125152    93652      39914        16875          14320        6554\n",
       "mst        125164    93669      39946        16848          14301        6539\n",
       "diff          -12      -17        -32           27             19          15"
      ]
     },
     "execution_count": 37,
     "metadata": {},
     "output_type": "execute_result"
    }
   ],
   "source": [
    "class_compare = compare(df, df_fake, 'CLASS')\n",
    "class_compare"
   ]
  },
  {
   "cell_type": "code",
   "execution_count": 38,
   "id": "b468deef",
   "metadata": {},
   "outputs": [
    {
     "data": {
      "text/plain": [
       "real    296467\n",
       "mst     296467\n",
       "diff         0\n",
       "dtype: int64"
      ]
     },
     "execution_count": 38,
     "metadata": {},
     "output_type": "execute_result"
    }
   ],
   "source": [
    "class_compare.sum(axis=1)"
   ]
  },
  {
   "cell_type": "code",
   "execution_count": 39,
   "id": "a63f4813",
   "metadata": {},
   "outputs": [
    {
     "ename": "KeyError",
     "evalue": "'A'",
     "output_type": "error",
     "traceback": [
      "\u001b[0;31m---------------------------------------------------------------------------\u001b[0m",
      "\u001b[0;31mKeyError\u001b[0m                                  Traceback (most recent call last)",
      "\u001b[0;32m~/.local/lib/python3.8/site-packages/pandas/core/indexes/base.py\u001b[0m in \u001b[0;36mget_loc\u001b[0;34m(self, key, method, tolerance)\u001b[0m\n\u001b[1;32m   3360\u001b[0m             \u001b[0;32mtry\u001b[0m\u001b[0;34m:\u001b[0m\u001b[0;34m\u001b[0m\u001b[0;34m\u001b[0m\u001b[0m\n\u001b[0;32m-> 3361\u001b[0;31m                 \u001b[0;32mreturn\u001b[0m \u001b[0mself\u001b[0m\u001b[0;34m.\u001b[0m\u001b[0m_engine\u001b[0m\u001b[0;34m.\u001b[0m\u001b[0mget_loc\u001b[0m\u001b[0;34m(\u001b[0m\u001b[0mcasted_key\u001b[0m\u001b[0;34m)\u001b[0m\u001b[0;34m\u001b[0m\u001b[0;34m\u001b[0m\u001b[0m\n\u001b[0m\u001b[1;32m   3362\u001b[0m             \u001b[0;32mexcept\u001b[0m \u001b[0mKeyError\u001b[0m \u001b[0;32mas\u001b[0m \u001b[0merr\u001b[0m\u001b[0;34m:\u001b[0m\u001b[0;34m\u001b[0m\u001b[0;34m\u001b[0m\u001b[0m\n",
      "\u001b[0;32m~/.local/lib/python3.8/site-packages/pandas/_libs/index.pyx\u001b[0m in \u001b[0;36mpandas._libs.index.IndexEngine.get_loc\u001b[0;34m()\u001b[0m\n",
      "\u001b[0;32m~/.local/lib/python3.8/site-packages/pandas/_libs/index.pyx\u001b[0m in \u001b[0;36mpandas._libs.index.IndexEngine.get_loc\u001b[0;34m()\u001b[0m\n",
      "\u001b[0;32mpandas/_libs/hashtable_class_helper.pxi\u001b[0m in \u001b[0;36mpandas._libs.hashtable.PyObjectHashTable.get_item\u001b[0;34m()\u001b[0m\n",
      "\u001b[0;32mpandas/_libs/hashtable_class_helper.pxi\u001b[0m in \u001b[0;36mpandas._libs.hashtable.PyObjectHashTable.get_item\u001b[0;34m()\u001b[0m\n",
      "\u001b[0;31mKeyError\u001b[0m: 'A'",
      "\nThe above exception was the direct cause of the following exception:\n",
      "\u001b[0;31mKeyError\u001b[0m                                  Traceback (most recent call last)",
      "\u001b[0;32m/tmp/ipykernel_278033/1918373704.py\u001b[0m in \u001b[0;36m<module>\u001b[0;34m\u001b[0m\n\u001b[1;32m      1\u001b[0m \u001b[0mrr\u001b[0m \u001b[0;34m=\u001b[0m \u001b[0mRiskRatio\u001b[0m\u001b[0;34m(\u001b[0m\u001b[0mreference\u001b[0m\u001b[0;34m=\u001b[0m\u001b[0;36m1\u001b[0m\u001b[0;34m)\u001b[0m\u001b[0;34m\u001b[0m\u001b[0;34m\u001b[0m\u001b[0m\n\u001b[0;32m----> 2\u001b[0;31m \u001b[0mrr\u001b[0m\u001b[0;34m.\u001b[0m\u001b[0mfit\u001b[0m\u001b[0;34m(\u001b[0m\u001b[0mdf\u001b[0m\u001b[0;34m,\u001b[0m \u001b[0mexposure\u001b[0m\u001b[0;34m=\u001b[0m\u001b[0;34m'A'\u001b[0m\u001b[0;34m,\u001b[0m \u001b[0moutcome\u001b[0m\u001b[0;34m=\u001b[0m\u001b[0;34m'Y'\u001b[0m\u001b[0;34m)\u001b[0m\u001b[0;34m\u001b[0m\u001b[0;34m\u001b[0m\u001b[0m\n\u001b[0m\u001b[1;32m      3\u001b[0m \u001b[0;34m\u001b[0m\u001b[0m\n\u001b[1;32m      4\u001b[0m \u001b[0;31m# Calculating P-values\u001b[0m\u001b[0;34m\u001b[0m\u001b[0;34m\u001b[0m\u001b[0;34m\u001b[0m\u001b[0m\n\u001b[1;32m      5\u001b[0m \u001b[0mest\u001b[0m \u001b[0;34m=\u001b[0m \u001b[0mrr\u001b[0m\u001b[0;34m.\u001b[0m\u001b[0mresults\u001b[0m\u001b[0;34m[\u001b[0m\u001b[0;34m'RiskRatio'\u001b[0m\u001b[0;34m]\u001b[0m\u001b[0;34m[\u001b[0m\u001b[0;36m1\u001b[0m\u001b[0;34m:\u001b[0m\u001b[0;34m]\u001b[0m\u001b[0;34m\u001b[0m\u001b[0;34m\u001b[0m\u001b[0m\n",
      "\u001b[0;32m~/.local/lib/python3.8/site-packages/zepid/base.py\u001b[0m in \u001b[0;36mfit\u001b[0;34m(self, df, exposure, outcome)\u001b[0m\n\u001b[1;32m    105\u001b[0m \u001b[0;34m\u001b[0m\u001b[0m\n\u001b[1;32m    106\u001b[0m         \u001b[0;31m# Getting unique values and dropping reference\u001b[0m\u001b[0;34m\u001b[0m\u001b[0;34m\u001b[0m\u001b[0;34m\u001b[0m\u001b[0m\n\u001b[0;32m--> 107\u001b[0;31m         \u001b[0mvals\u001b[0m \u001b[0;34m=\u001b[0m \u001b[0mset\u001b[0m\u001b[0;34m(\u001b[0m\u001b[0mdf\u001b[0m\u001b[0;34m[\u001b[0m\u001b[0mexposure\u001b[0m\u001b[0;34m]\u001b[0m\u001b[0;34m.\u001b[0m\u001b[0mdropna\u001b[0m\u001b[0;34m(\u001b[0m\u001b[0;34m)\u001b[0m\u001b[0;34m.\u001b[0m\u001b[0munique\u001b[0m\u001b[0;34m(\u001b[0m\u001b[0;34m)\u001b[0m\u001b[0;34m)\u001b[0m\u001b[0;34m\u001b[0m\u001b[0;34m\u001b[0m\u001b[0m\n\u001b[0m\u001b[1;32m    108\u001b[0m         \u001b[0mvals\u001b[0m\u001b[0;34m.\u001b[0m\u001b[0mremove\u001b[0m\u001b[0;34m(\u001b[0m\u001b[0mself\u001b[0m\u001b[0;34m.\u001b[0m\u001b[0mreference\u001b[0m\u001b[0;34m)\u001b[0m\u001b[0;34m\u001b[0m\u001b[0;34m\u001b[0m\u001b[0m\n\u001b[1;32m    109\u001b[0m         \u001b[0mself\u001b[0m\u001b[0;34m.\u001b[0m\u001b[0m_c\u001b[0m \u001b[0;34m=\u001b[0m \u001b[0mdf\u001b[0m\u001b[0;34m.\u001b[0m\u001b[0mloc\u001b[0m\u001b[0;34m[\u001b[0m\u001b[0;34m(\u001b[0m\u001b[0mdf\u001b[0m\u001b[0;34m[\u001b[0m\u001b[0mexposure\u001b[0m\u001b[0;34m]\u001b[0m \u001b[0;34m==\u001b[0m \u001b[0mself\u001b[0m\u001b[0;34m.\u001b[0m\u001b[0mreference\u001b[0m\u001b[0;34m)\u001b[0m \u001b[0;34m&\u001b[0m \u001b[0;34m(\u001b[0m\u001b[0mdf\u001b[0m\u001b[0;34m[\u001b[0m\u001b[0moutcome\u001b[0m\u001b[0;34m]\u001b[0m \u001b[0;34m==\u001b[0m \u001b[0;36m1\u001b[0m\u001b[0;34m)\u001b[0m\u001b[0;34m]\u001b[0m\u001b[0;34m.\u001b[0m\u001b[0mshape\u001b[0m\u001b[0;34m[\u001b[0m\u001b[0;36m0\u001b[0m\u001b[0;34m]\u001b[0m\u001b[0;34m\u001b[0m\u001b[0;34m\u001b[0m\u001b[0m\n",
      "\u001b[0;32m~/.local/lib/python3.8/site-packages/pandas/core/frame.py\u001b[0m in \u001b[0;36m__getitem__\u001b[0;34m(self, key)\u001b[0m\n\u001b[1;32m   3456\u001b[0m             \u001b[0;32mif\u001b[0m \u001b[0mself\u001b[0m\u001b[0;34m.\u001b[0m\u001b[0mcolumns\u001b[0m\u001b[0;34m.\u001b[0m\u001b[0mnlevels\u001b[0m \u001b[0;34m>\u001b[0m \u001b[0;36m1\u001b[0m\u001b[0;34m:\u001b[0m\u001b[0;34m\u001b[0m\u001b[0;34m\u001b[0m\u001b[0m\n\u001b[1;32m   3457\u001b[0m                 \u001b[0;32mreturn\u001b[0m \u001b[0mself\u001b[0m\u001b[0;34m.\u001b[0m\u001b[0m_getitem_multilevel\u001b[0m\u001b[0;34m(\u001b[0m\u001b[0mkey\u001b[0m\u001b[0;34m)\u001b[0m\u001b[0;34m\u001b[0m\u001b[0;34m\u001b[0m\u001b[0m\n\u001b[0;32m-> 3458\u001b[0;31m             \u001b[0mindexer\u001b[0m \u001b[0;34m=\u001b[0m \u001b[0mself\u001b[0m\u001b[0;34m.\u001b[0m\u001b[0mcolumns\u001b[0m\u001b[0;34m.\u001b[0m\u001b[0mget_loc\u001b[0m\u001b[0;34m(\u001b[0m\u001b[0mkey\u001b[0m\u001b[0;34m)\u001b[0m\u001b[0;34m\u001b[0m\u001b[0;34m\u001b[0m\u001b[0m\n\u001b[0m\u001b[1;32m   3459\u001b[0m             \u001b[0;32mif\u001b[0m \u001b[0mis_integer\u001b[0m\u001b[0;34m(\u001b[0m\u001b[0mindexer\u001b[0m\u001b[0;34m)\u001b[0m\u001b[0;34m:\u001b[0m\u001b[0;34m\u001b[0m\u001b[0;34m\u001b[0m\u001b[0m\n\u001b[1;32m   3460\u001b[0m                 \u001b[0mindexer\u001b[0m \u001b[0;34m=\u001b[0m \u001b[0;34m[\u001b[0m\u001b[0mindexer\u001b[0m\u001b[0;34m]\u001b[0m\u001b[0;34m\u001b[0m\u001b[0;34m\u001b[0m\u001b[0m\n",
      "\u001b[0;32m~/.local/lib/python3.8/site-packages/pandas/core/indexes/base.py\u001b[0m in \u001b[0;36mget_loc\u001b[0;34m(self, key, method, tolerance)\u001b[0m\n\u001b[1;32m   3361\u001b[0m                 \u001b[0;32mreturn\u001b[0m \u001b[0mself\u001b[0m\u001b[0;34m.\u001b[0m\u001b[0m_engine\u001b[0m\u001b[0;34m.\u001b[0m\u001b[0mget_loc\u001b[0m\u001b[0;34m(\u001b[0m\u001b[0mcasted_key\u001b[0m\u001b[0;34m)\u001b[0m\u001b[0;34m\u001b[0m\u001b[0;34m\u001b[0m\u001b[0m\n\u001b[1;32m   3362\u001b[0m             \u001b[0;32mexcept\u001b[0m \u001b[0mKeyError\u001b[0m \u001b[0;32mas\u001b[0m \u001b[0merr\u001b[0m\u001b[0;34m:\u001b[0m\u001b[0;34m\u001b[0m\u001b[0;34m\u001b[0m\u001b[0m\n\u001b[0;32m-> 3363\u001b[0;31m                 \u001b[0;32mraise\u001b[0m \u001b[0mKeyError\u001b[0m\u001b[0;34m(\u001b[0m\u001b[0mkey\u001b[0m\u001b[0;34m)\u001b[0m \u001b[0;32mfrom\u001b[0m \u001b[0merr\u001b[0m\u001b[0;34m\u001b[0m\u001b[0;34m\u001b[0m\u001b[0m\n\u001b[0m\u001b[1;32m   3364\u001b[0m \u001b[0;34m\u001b[0m\u001b[0m\n\u001b[1;32m   3365\u001b[0m         \u001b[0;32mif\u001b[0m \u001b[0mis_scalar\u001b[0m\u001b[0;34m(\u001b[0m\u001b[0mkey\u001b[0m\u001b[0;34m)\u001b[0m \u001b[0;32mand\u001b[0m \u001b[0misna\u001b[0m\u001b[0;34m(\u001b[0m\u001b[0mkey\u001b[0m\u001b[0;34m)\u001b[0m \u001b[0;32mand\u001b[0m \u001b[0;32mnot\u001b[0m \u001b[0mself\u001b[0m\u001b[0;34m.\u001b[0m\u001b[0mhasnans\u001b[0m\u001b[0;34m:\u001b[0m\u001b[0;34m\u001b[0m\u001b[0;34m\u001b[0m\u001b[0m\n",
      "\u001b[0;31mKeyError\u001b[0m: 'A'"
     ]
    }
   ],
   "source": [
    "rr = RiskRatio(reference=1)\n",
    "rr.fit(df, exposure='A', outcome='Y')\n",
    "\n",
    "# Calculating P-values\n",
    "est = rr.results['RiskRatio'][1:]\n",
    "std = rr.results['SD(RR)'][1:]\n",
    "z_score = np.log(est)/std\n",
    "p_value = norm.sf(abs(z_score))*2\n",
    "\n",
    "# Displaying results\n",
    "print(\"RR:     \", list(est))\n",
    "print(\"P-value:\", p_value)"
   ]
  },
  {
   "cell_type": "code",
   "execution_count": null,
   "id": "9064c1a7",
   "metadata": {},
   "outputs": [],
   "source": [
    "rr = calculate_relative_risk(df_fake, ['MARIJUANA', 'NO_DRUG_USE'], 'SEX')\n",
    "rr.relative_risk"
   ]
  },
  {
   "cell_type": "code",
   "execution_count": null,
   "id": "ec1cf39d",
   "metadata": {},
   "outputs": [],
   "source": [
    "rr = calculate_relative_risk(df, ['MARIJUANA', 'NO_DRUG_USE'], 'SEX')\n",
    "rr.relative_risk"
   ]
  },
  {
   "cell_type": "code",
   "execution_count": null,
   "id": "54c72bfa",
   "metadata": {},
   "outputs": [],
   "source": []
  },
  {
   "cell_type": "markdown",
   "id": "a45f865a",
   "metadata": {},
   "source": [
    "-------------------------------"
   ]
  }
 ],
 "metadata": {
  "kernelspec": {
   "display_name": "Python 3 (ipykernel)",
   "language": "python",
   "name": "python3"
  },
  "language_info": {
   "codemirror_mode": {
    "name": "ipython",
    "version": 3
   },
   "file_extension": ".py",
   "mimetype": "text/x-python",
   "name": "python",
   "nbconvert_exporter": "python",
   "pygments_lexer": "ipython3",
   "version": "3.8.10"
  }
 },
 "nbformat": 4,
 "nbformat_minor": 5
}
