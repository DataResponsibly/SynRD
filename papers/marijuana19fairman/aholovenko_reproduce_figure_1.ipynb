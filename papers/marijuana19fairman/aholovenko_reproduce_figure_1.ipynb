{
 "cells": [
  {
   "cell_type": "code",
   "execution_count": 1,
   "id": "9b186cea",
   "metadata": {},
   "outputs": [],
   "source": [
    "import numpy as np\n",
    "import pandas as pd\n",
    "import matplotlib.pyplot as plt\n",
    "import glob\n",
    "import os\n",
    "import warnings\n",
    "warnings.filterwarnings('ignore')\n",
    "pd.set_option('display.max_rows', None)\n",
    "pd.set_option('display.max_columns', None)"
   ]
  },
  {
   "cell_type": "markdown",
   "id": "cfcbf471",
   "metadata": {},
   "source": [
    "# Merge historical data"
   ]
  },
  {
   "cell_type": "code",
   "execution_count": 2,
   "id": "db0c96c0",
   "metadata": {},
   "outputs": [
    {
     "name": "stdout",
     "output_type": "stream",
     "text": [
      "field CIGTRY  not in ../data/32722-0001-Data.tsv\n",
      "field CIGTRY  not in ../data/23782-0001-Data.tsv\n",
      "field MTHAAGE not in ../data/04596-0001-Data.tsv\n",
      "field CIGTRY  not in ../data/04596-0001-Data.tsv\n",
      "field CIGTRY  not in ../data/26701-0001-Data.tsv\n",
      "field CIGTRY  not in ../data/29621-0001-Data.tsv\n",
      "field CIGTRY  not in ../data/36361-0001-Data.tsv\n",
      "field CIGTRY  not in ../data/35509-0001-Data.tsv\n",
      "field MTHAAGE not in ../data/04373-0001-Data.tsv\n",
      "field CIGTRY  not in ../data/04373-0001-Data.tsv\n",
      "field BLNTAGE not in ../data/04373-0001-Data.tsv\n",
      "field MTHAAGE not in ../data/21240-0001-Data.tsv\n",
      "field CIGTRY  not in ../data/21240-0001-Data.tsv\n",
      "field CIGTRY  not in ../data/34481-0001-Data.tsv\n",
      "field CIGTRY  not in ../data/34933-0001-Data.tsv\n",
      "CPU times: user 17.1 s, sys: 1.35 s, total: 18.5 s\n",
      "Wall time: 19.3 s\n"
     ]
    }
   ],
   "source": [
    "%%time\n",
    "\n",
    "dfs = []\n",
    "files = glob.glob('../data/*.tsv')\n",
    "fields = ['NEWRACE', 'AGE', 'IRSEX', 'HERAGE', 'LSDAGE', 'PCPAGE',\n",
    "          'CRKAGE', 'ECSAGE', 'COCAGE', 'METHAGE', 'CIGAGE', 'SNUFTRY',\n",
    "          'CHEWTRY', 'MTHAAGE', 'OXYCAGE', 'CIGTRY ', 'SEDAGE', 'STIMAGE',\n",
    "          'TRANAGE', 'CIGARTRY', 'INHAGE', 'MJAGE', 'ANALAGE', 'BLNTAGE', 'ALCTRY']\n",
    "\n",
    "for file in files:\n",
    "    df_n1 = pd.read_csv(file, sep='\\t', skipinitialspace=True, nrows=1)\n",
    "    current_columns = []\n",
    "    for field in fields:\n",
    "        if field in df_n1.columns:\n",
    "            current_columns.append(field)\n",
    "        elif f'{field}2' in df_n1.columns:\n",
    "            current_columns.append(f'{field}2')\n",
    "        else:\n",
    "            print(f'field {field} not in {file}')\n",
    "    df = pd.read_csv(file, sep='\\t', skipinitialspace=True, usecols=current_columns)\n",
    "    df['file_name'] = os.path.basename(file)\n",
    "    dfs.append(df)"
   ]
  },
  {
   "cell_type": "code",
   "execution_count": 3,
   "id": "e66030c7",
   "metadata": {},
   "outputs": [
    {
     "data": {
      "text/plain": [
       "(613974, 25)"
      ]
     },
     "execution_count": 3,
     "metadata": {},
     "output_type": "execute_result"
    }
   ],
   "source": [
    "main_df = pd.concat(dfs)\n",
    "main_df_backlog = main_df.copy()\n",
    "main_df.shape  # data diff 613774 (real) - 615701 (paper) = -1927"
   ]
  },
  {
   "cell_type": "code",
   "execution_count": 4,
   "id": "7c8f218d",
   "metadata": {},
   "outputs": [
    {
     "data": {
      "text/html": [
       "<div>\n",
       "<style scoped>\n",
       "    .dataframe tbody tr th:only-of-type {\n",
       "        vertical-align: middle;\n",
       "    }\n",
       "\n",
       "    .dataframe tbody tr th {\n",
       "        vertical-align: top;\n",
       "    }\n",
       "\n",
       "    .dataframe thead th {\n",
       "        text-align: right;\n",
       "    }\n",
       "</style>\n",
       "<table border=\"1\" class=\"dataframe\">\n",
       "  <thead>\n",
       "    <tr style=\"text-align: right;\">\n",
       "      <th></th>\n",
       "      <th>CIGAGE</th>\n",
       "      <th>SNUFTRY</th>\n",
       "      <th>CHEWTRY</th>\n",
       "      <th>CIGARTRY</th>\n",
       "      <th>ALCTRY</th>\n",
       "      <th>MJAGE</th>\n",
       "      <th>COCAGE</th>\n",
       "      <th>CRKAGE</th>\n",
       "      <th>HERAGE</th>\n",
       "      <th>LSDAGE</th>\n",
       "      <th>PCPAGE</th>\n",
       "      <th>ECSAGE</th>\n",
       "      <th>INHAGE</th>\n",
       "      <th>ANALAGE</th>\n",
       "      <th>OXYCAGE</th>\n",
       "      <th>TRANAGE</th>\n",
       "      <th>STIMAGE</th>\n",
       "      <th>METHAGE</th>\n",
       "      <th>SEDAGE</th>\n",
       "      <th>MTHAAGE</th>\n",
       "      <th>BLNTAGE</th>\n",
       "      <th>AGE2</th>\n",
       "      <th>IRSEX</th>\n",
       "      <th>NEWRACE2</th>\n",
       "      <th>file_name</th>\n",
       "    </tr>\n",
       "  </thead>\n",
       "  <tbody>\n",
       "    <tr>\n",
       "      <th>0</th>\n",
       "      <td>999</td>\n",
       "      <td>991</td>\n",
       "      <td>991</td>\n",
       "      <td>991</td>\n",
       "      <td>16</td>\n",
       "      <td>16</td>\n",
       "      <td>991</td>\n",
       "      <td>991</td>\n",
       "      <td>991</td>\n",
       "      <td>991</td>\n",
       "      <td>991</td>\n",
       "      <td>991</td>\n",
       "      <td>991</td>\n",
       "      <td>991</td>\n",
       "      <td>991</td>\n",
       "      <td>991</td>\n",
       "      <td>991</td>\n",
       "      <td>991</td>\n",
       "      <td>991</td>\n",
       "      <td>991.0</td>\n",
       "      <td>991.0</td>\n",
       "      <td>9</td>\n",
       "      <td>1</td>\n",
       "      <td>2</td>\n",
       "      <td>32722-0001-Data.tsv</td>\n",
       "    </tr>\n",
       "    <tr>\n",
       "      <th>1</th>\n",
       "      <td>15</td>\n",
       "      <td>991</td>\n",
       "      <td>991</td>\n",
       "      <td>991</td>\n",
       "      <td>13</td>\n",
       "      <td>14</td>\n",
       "      <td>991</td>\n",
       "      <td>991</td>\n",
       "      <td>991</td>\n",
       "      <td>991</td>\n",
       "      <td>991</td>\n",
       "      <td>991</td>\n",
       "      <td>991</td>\n",
       "      <td>991</td>\n",
       "      <td>991</td>\n",
       "      <td>991</td>\n",
       "      <td>991</td>\n",
       "      <td>991</td>\n",
       "      <td>991</td>\n",
       "      <td>991.0</td>\n",
       "      <td>17.0</td>\n",
       "      <td>12</td>\n",
       "      <td>2</td>\n",
       "      <td>1</td>\n",
       "      <td>32722-0001-Data.tsv</td>\n",
       "    </tr>\n",
       "  </tbody>\n",
       "</table>\n",
       "</div>"
      ],
      "text/plain": [
       "   CIGAGE  SNUFTRY  CHEWTRY  CIGARTRY  ALCTRY  MJAGE  COCAGE  CRKAGE  HERAGE  \\\n",
       "0     999      991      991       991      16     16     991     991     991   \n",
       "1      15      991      991       991      13     14     991     991     991   \n",
       "\n",
       "   LSDAGE  PCPAGE  ECSAGE  INHAGE  ANALAGE  OXYCAGE  TRANAGE  STIMAGE  \\\n",
       "0     991     991     991     991      991      991      991      991   \n",
       "1     991     991     991     991      991      991      991      991   \n",
       "\n",
       "   METHAGE  SEDAGE  MTHAAGE  BLNTAGE  AGE2  IRSEX  NEWRACE2  \\\n",
       "0      991     991    991.0    991.0     9      1         2   \n",
       "1      991     991    991.0     17.0    12      2         1   \n",
       "\n",
       "             file_name  \n",
       "0  32722-0001-Data.tsv  \n",
       "1  32722-0001-Data.tsv  "
      ]
     },
     "execution_count": 4,
     "metadata": {},
     "output_type": "execute_result"
    }
   ],
   "source": [
    "main_df.head(2)"
   ]
  },
  {
   "cell_type": "markdown",
   "id": "ec43a455",
   "metadata": {},
   "source": [
    "# Data preprocessing"
   ]
  },
  {
   "cell_type": "code",
   "execution_count": 5,
   "id": "705ba7c7",
   "metadata": {},
   "outputs": [],
   "source": [
    "file_to_year_mapping = {f:2004+i for i, f in enumerate(sorted([os.path.basename(f) for f in files]))}\n",
    "class_mapping = {\n",
    "    'MJAGE': 'MARIJUANA',\n",
    "    'ALCTRY': 'ALCOHOL',\n",
    "    'CIGAGE': 'CIGARETTES',\n",
    "    'NOUSAGE': 'NO_DRUG_USE',\n",
    "    'CIGARTRY': 'OTHER_TABACCO',\n",
    "    'SNUFTRY': 'OTHER_TABACCO',\n",
    "    'CHEWTRY': 'OTHER_TABACCO',\n",
    "    'HERAGE': 'OTHER_DRUGS',\n",
    "    'LSDAGE': 'OTHER_DRUGS',\n",
    "    'PCPAGE': 'OTHER_DRUGS',\n",
    "    'CRKAGE': 'OTHER_DRUGS',\n",
    "    'ECSAGE': 'OTHER_DRUGS',\n",
    "    'COCAGE': 'OTHER_DRUGS',\n",
    "    'METHAGE': 'OTHER_DRUGS',\n",
    "    'MTHAAGE': 'OTHER_DRUGS',\n",
    "    'OXYCAGE': 'OTHER_DRUGS',\n",
    "    'SEDAGE': 'OTHER_DRUGS',\n",
    "    'STIMAGE': 'OTHER_DRUGS',\n",
    "    'TRANAGE': 'OTHER_DRUGS',\n",
    "    'INHAGE': 'OTHER_DRUGS',\n",
    "    'ANALAGE': 'OTHER_DRUGS',\n",
    "    'BLNTAGE': 'OTHER_DRUGS'\n",
    "}\n",
    "age_to_group_mapping = {\n",
    "    12: '12-13',\n",
    "    13: '12-13',\n",
    "    14: '14-15',\n",
    "    15: '14-15',\n",
    "    16: '16-17',\n",
    "    17: '16-17',\n",
    "    18: '18-19',\n",
    "    19: '18-19',\n",
    "    20: '20-21',\n",
    "    21: '20-21'\n",
    "}\n",
    "classes = ['MJAGE', 'CIGAGE', 'ALCTRY', 'CIGARTRY', 'SNUFTRY',\n",
    "           'CHEWTRY', 'HERAGE', 'LSDAGE', 'PCPAGE', 'CRKAGE',\n",
    "           'ECSAGE', 'COCAGE', 'METHAGE', 'MTHAAGE', 'OXYCAGE',\n",
    "           'SEDAGE', 'STIMAGE', 'TRANAGE', 'INHAGE', 'ANALAGE',\n",
    "           'BLNTAGE']\n",
    "classes_new = classes + ['NOUSAGE']\n",
    "\n",
    "def prepare_data(df):\n",
    "    df['YEAR'] = df['file_name'].map(file_to_year_mapping) # infer year\n",
    "    df[['MTHAAGE', 'BLNTAGE']] = df[['MTHAAGE', 'BLNTAGE']].fillna(10e5)  # fill in nan\n",
    "    # data diff 296467 (real) - 297632 (paper) = -1165 \n",
    "    df = df[(df['AGE2'] < 11)]  # filter people < 22 yo\n",
    "    df['ARGMINAGE'] = df[classes].values.argmin(axis=1)  # index of substance that was used first\n",
    "    df['MINAGE'] = df[classes].values.min(axis=1)  # substance that was used first\n",
    "    df['ARGMINAGE'] = np.where(df['MINAGE'] > 900, 21, df['ARGMINAGE'])  # values > 900 - no drug usage\n",
    "    # mapping to good-looking values\n",
    "    df['SEX'] = df['IRSEX'].map({1: 'Male', 2: 'Female'})\n",
    "    df['AGE'] = df['AGE2'].map({i:i+11 for i in range(1, 11)})\n",
    "    df['RACE'] = df['NEWRACE2'].map({1: 'White', 2: 'Black', 3: 'AI/AN', 4: 'NHOPI', 5: 'Asian', 6: 'Multi-racial', 7: 'Hispanic'})\n",
    "    df['CLASS_NARROW'] = df['ARGMINAGE'].map(lambda x: classes_new[x])\n",
    "    df['CLASS'] = df['CLASS_NARROW'].map(class_mapping)\n",
    "    df['AGE_GROUP'] = df['AGE'].map(age_to_group_mapping)\n",
    "    df.reset_index(inplace=True, drop=True)\n",
    "    df = df[['YEAR', 'CLASS', 'SEX', 'RACE', 'AGE', 'AGE_GROUP', 'MINAGE']]\n",
    "    return df"
   ]
  },
  {
   "cell_type": "code",
   "execution_count": 6,
   "id": "fa0b8860",
   "metadata": {},
   "outputs": [
    {
     "data": {
      "text/plain": [
       "(296467, 7)"
      ]
     },
     "execution_count": 6,
     "metadata": {},
     "output_type": "execute_result"
    }
   ],
   "source": [
    "df = prepare_data(main_df)\n",
    "df.shape"
   ]
  },
  {
   "cell_type": "code",
   "execution_count": 7,
   "id": "03f5205e",
   "metadata": {},
   "outputs": [
    {
     "data": {
      "text/html": [
       "<div>\n",
       "<style scoped>\n",
       "    .dataframe tbody tr th:only-of-type {\n",
       "        vertical-align: middle;\n",
       "    }\n",
       "\n",
       "    .dataframe tbody tr th {\n",
       "        vertical-align: top;\n",
       "    }\n",
       "\n",
       "    .dataframe thead th {\n",
       "        text-align: right;\n",
       "    }\n",
       "</style>\n",
       "<table border=\"1\" class=\"dataframe\">\n",
       "  <thead>\n",
       "    <tr style=\"text-align: right;\">\n",
       "      <th></th>\n",
       "      <th>YEAR</th>\n",
       "      <th>CLASS</th>\n",
       "      <th>SEX</th>\n",
       "      <th>RACE</th>\n",
       "      <th>AGE</th>\n",
       "      <th>AGE_GROUP</th>\n",
       "      <th>MINAGE</th>\n",
       "    </tr>\n",
       "  </thead>\n",
       "  <tbody>\n",
       "    <tr>\n",
       "      <th>0</th>\n",
       "      <td>2010</td>\n",
       "      <td>MARIJUANA</td>\n",
       "      <td>Male</td>\n",
       "      <td>Black</td>\n",
       "      <td>20</td>\n",
       "      <td>20-21</td>\n",
       "      <td>16.0</td>\n",
       "    </tr>\n",
       "    <tr>\n",
       "      <th>1</th>\n",
       "      <td>2010</td>\n",
       "      <td>MARIJUANA</td>\n",
       "      <td>Female</td>\n",
       "      <td>Hispanic</td>\n",
       "      <td>15</td>\n",
       "      <td>14-15</td>\n",
       "      <td>14.0</td>\n",
       "    </tr>\n",
       "    <tr>\n",
       "      <th>2</th>\n",
       "      <td>2010</td>\n",
       "      <td>ALCOHOL</td>\n",
       "      <td>Female</td>\n",
       "      <td>White</td>\n",
       "      <td>18</td>\n",
       "      <td>18-19</td>\n",
       "      <td>13.0</td>\n",
       "    </tr>\n",
       "    <tr>\n",
       "      <th>3</th>\n",
       "      <td>2010</td>\n",
       "      <td>NO_DRUG_USE</td>\n",
       "      <td>Male</td>\n",
       "      <td>Hispanic</td>\n",
       "      <td>13</td>\n",
       "      <td>12-13</td>\n",
       "      <td>991.0</td>\n",
       "    </tr>\n",
       "    <tr>\n",
       "      <th>4</th>\n",
       "      <td>2010</td>\n",
       "      <td>OTHER_TABACCO</td>\n",
       "      <td>Male</td>\n",
       "      <td>Hispanic</td>\n",
       "      <td>20</td>\n",
       "      <td>20-21</td>\n",
       "      <td>15.0</td>\n",
       "    </tr>\n",
       "  </tbody>\n",
       "</table>\n",
       "</div>"
      ],
      "text/plain": [
       "   YEAR          CLASS     SEX      RACE  AGE AGE_GROUP  MINAGE\n",
       "0  2010      MARIJUANA    Male     Black   20     20-21    16.0\n",
       "1  2010      MARIJUANA  Female  Hispanic   15     14-15    14.0\n",
       "2  2010        ALCOHOL  Female     White   18     18-19    13.0\n",
       "3  2010    NO_DRUG_USE    Male  Hispanic   13     12-13   991.0\n",
       "4  2010  OTHER_TABACCO    Male  Hispanic   20     20-21    15.0"
      ]
     },
     "execution_count": 7,
     "metadata": {},
     "output_type": "execute_result"
    }
   ],
   "source": [
    "df.head()"
   ]
  },
  {
   "cell_type": "markdown",
   "id": "6382cad3",
   "metadata": {},
   "source": [
    "# Plot Figure 1"
   ]
  },
  {
   "cell_type": "code",
   "execution_count": 8,
   "id": "0e9b2bae",
   "metadata": {},
   "outputs": [],
   "source": [
    "cols = ['MARIJUANA', 'CIGARETTES', 'ALCOHOL', 'OTHER_TABACCO', 'OTHER_DRUGS', 'NO_DRUG_USE']\n",
    "prop_sex = pd.crosstab(index=df['SEX'], columns=df['CLASS'], normalize=\"index\") * 100\n",
    "prop_race = pd.crosstab(index=df['RACE'], columns=df['CLASS'], normalize=\"index\") * 100\n",
    "prop_age = pd.crosstab(index=df['AGE_GROUP'], columns=df['CLASS'], normalize=\"index\") * 100\n",
    "prop_year = pd.crosstab(index=df['YEAR'], columns=df['CLASS'], normalize=\"index\") * 100"
   ]
  },
  {
   "cell_type": "code",
   "execution_count": 9,
   "id": "73a2ebcb",
   "metadata": {},
   "outputs": [
    {
     "data": {
      "image/png": "[encoded data removed]",
      "text/plain": [
       "<Figure size 1080x432 with 4 Axes>"
      ]
     },
     "metadata": {
      "needs_background": "light"
     },
     "output_type": "display_data"
    }
   ],
   "source": [
    "figure, axis = plt.subplots(1, 4, gridspec_kw={'width_ratios': [1, 2, 3, 4]})\n",
    "figure.set_size_inches(15, 6, forward=True)\n",
    "figure.tight_layout() \n",
    "prop_sex[cols].plot(kind='bar', stacked=True, colormap='tab20', ax=axis[0], legend=None, xlabel='Sex')\n",
    "prop_age[cols].plot(kind='bar', stacked=True, colormap='tab20', ax=axis[1], legend=None, xlabel='Age Group')\n",
    "prop_race[cols].plot(kind='bar', stacked=True, colormap='tab20', ax=axis[2], legend=None, xlabel='Race/Ethnicity')\n",
    "prop_year[cols].plot(kind='bar', stacked=True, colormap='tab20', ax=axis[3], legend=None, xlabel='Survey Year')\n",
    "axis[0].yaxis.set_major_formatter('{x:1.0f}%')\n",
    "axis[1].set_yticks([])\n",
    "axis[2].set_yticks([])\n",
    "axis[3].set_yticks([])\n",
    "axis[0].xaxis.set_label_coords(.5, -.2)\n",
    "axis[1].xaxis.set_label_coords(.5, -.2)\n",
    "axis[2].xaxis.set_label_coords(.5, -.2)\n",
    "axis[3].xaxis.set_label_coords(.5, -.2)\n",
    "plt.subplots_adjust(wspace=0.05)\n",
    "plt.legend(loc='upper center', bbox_to_anchor=(-0.25, 1.1),  ncol = 6)\n",
    "# plt.savefig('figure_1.png', facecolor='white', transparent=False, bbox_inches='tight', pad_inches=.5)\n",
    "plt.show()"
   ]
  },
  {
   "cell_type": "markdown",
   "id": "5bea7bba",
   "metadata": {},
   "source": [
    "# Plot Table 1"
   ]
  },
  {
   "cell_type": "code",
   "execution_count": 10,
   "id": "6924cd8b",
   "metadata": {},
   "outputs": [],
   "source": [
    "from scipy.stats.contingency import relative_risk\n",
    "import scipy.stats"
   ]
  },
  {
   "cell_type": "code",
   "execution_count": 11,
   "id": "1b7b10b5",
   "metadata": {},
   "outputs": [
    {
     "data": {
      "text/plain": [
       "'1.7.2'"
      ]
     },
     "execution_count": 11,
     "metadata": {},
     "output_type": "execute_result"
    }
   ],
   "source": [
    "scipy.__version__"
   ]
  },
  {
   "cell_type": "code",
   "execution_count": 12,
   "id": "2385a76f",
   "metadata": {},
   "outputs": [
    {
     "data": {
      "text/plain": [
       "(165066, 2)"
      ]
     },
     "execution_count": 12,
     "metadata": {},
     "output_type": "execute_result"
    }
   ],
   "source": [
    "tables = []\n",
    "for pair in [('MARIJUANA', 'NO_DRUG_USE'), ('MARIJUANA', 'CIGARETTES'), ('MARIJUANA', 'ALCOHOL')]:\n",
    "    data = df[df.CLASS.isin(pair)][['CLASS', 'SEX']]\n",
    "    tables.append(data)\n",
    "marijuanna_vs_no_drugs = tables[0]\n",
    "marijuanna_vs_no_drugs.shape"
   ]
  },
  {
   "cell_type": "code",
   "execution_count": 13,
   "id": "169d00fd",
   "metadata": {},
   "outputs": [
    {
     "data": {
      "text/html": [
       "<div>\n",
       "<style scoped>\n",
       "    .dataframe tbody tr th:only-of-type {\n",
       "        vertical-align: middle;\n",
       "    }\n",
       "\n",
       "    .dataframe tbody tr th {\n",
       "        vertical-align: top;\n",
       "    }\n",
       "\n",
       "    .dataframe thead th {\n",
       "        text-align: right;\n",
       "    }\n",
       "</style>\n",
       "<table border=\"1\" class=\"dataframe\">\n",
       "  <thead>\n",
       "    <tr style=\"text-align: right;\">\n",
       "      <th></th>\n",
       "      <th>CLASS</th>\n",
       "      <th>SEX</th>\n",
       "    </tr>\n",
       "  </thead>\n",
       "  <tbody>\n",
       "    <tr>\n",
       "      <th>0</th>\n",
       "      <td>MARIJUANA</td>\n",
       "      <td>Male</td>\n",
       "    </tr>\n",
       "    <tr>\n",
       "      <th>1</th>\n",
       "      <td>MARIJUANA</td>\n",
       "      <td>Female</td>\n",
       "    </tr>\n",
       "  </tbody>\n",
       "</table>\n",
       "</div>"
      ],
      "text/plain": [
       "       CLASS     SEX\n",
       "0  MARIJUANA    Male\n",
       "1  MARIJUANA  Female"
      ]
     },
     "execution_count": 13,
     "metadata": {},
     "output_type": "execute_result"
    }
   ],
   "source": [
    "marijuanna_vs_no_drugs.head(2)"
   ]
  },
  {
   "cell_type": "code",
   "execution_count": 14,
   "id": "e3932858",
   "metadata": {},
   "outputs": [
    {
     "data": {
      "text/html": [
       "<div>\n",
       "<style scoped>\n",
       "    .dataframe tbody tr th:only-of-type {\n",
       "        vertical-align: middle;\n",
       "    }\n",
       "\n",
       "    .dataframe tbody tr th {\n",
       "        vertical-align: top;\n",
       "    }\n",
       "\n",
       "    .dataframe thead th {\n",
       "        text-align: right;\n",
       "    }\n",
       "</style>\n",
       "<table border=\"1\" class=\"dataframe\">\n",
       "  <thead>\n",
       "    <tr style=\"text-align: right;\">\n",
       "      <th>CLASS</th>\n",
       "      <th>MARIJUANA</th>\n",
       "      <th>NO_DRUG_USE</th>\n",
       "    </tr>\n",
       "    <tr>\n",
       "      <th>SEX</th>\n",
       "      <th></th>\n",
       "      <th></th>\n",
       "    </tr>\n",
       "  </thead>\n",
       "  <tbody>\n",
       "    <tr>\n",
       "      <th>Female</th>\n",
       "      <td>18706</td>\n",
       "      <td>62843</td>\n",
       "    </tr>\n",
       "    <tr>\n",
       "      <th>Male</th>\n",
       "      <td>21208</td>\n",
       "      <td>62309</td>\n",
       "    </tr>\n",
       "  </tbody>\n",
       "</table>\n",
       "</div>"
      ],
      "text/plain": [
       "CLASS   MARIJUANA  NO_DRUG_USE\n",
       "SEX                           \n",
       "Female      18706        62843\n",
       "Male        21208        62309"
      ]
     },
     "execution_count": 14,
     "metadata": {},
     "output_type": "execute_result"
    }
   ],
   "source": [
    "table = marijuanna_vs_no_drugs.pivot_table(index='SEX', columns='CLASS', aggfunc=len)\n",
    "table"
   ]
  },
  {
   "attachments": {
    "Screenshot%20from%202022-07-06%2014-14-29.png": {
     "image/png": "[encoded data removed]"
    }
   },
   "cell_type": "markdown",
   "id": "49bcb6a2",
   "metadata": {},
   "source": [
    "![Screenshot%20from%202022-07-06%2014-14-29.png](attachment:Screenshot%20from%202022-07-06%2014-14-29.png)"
   ]
  },
  {
   "cell_type": "code",
   "execution_count": 32,
   "id": "811b594f",
   "metadata": {},
   "outputs": [
    {
     "data": {
      "text/plain": [
       "(21208, 18706, 62309, 62843)"
      ]
     },
     "execution_count": 32,
     "metadata": {},
     "output_type": "execute_result"
    }
   ],
   "source": [
    "MM = table.iloc[1, 0]\n",
    "MF = table.iloc[0, 0]\n",
    "NM = table.iloc[1, 1]\n",
    "NF = table.iloc[0, 1]\n",
    "MM, MF, NM, NF"
   ]
  },
  {
   "cell_type": "code",
   "execution_count": 33,
   "id": "4bf75cea",
   "metadata": {},
   "outputs": [
    {
     "data": {
      "text/plain": [
       "1.10703802596475"
      ]
     },
     "execution_count": 33,
     "metadata": {},
     "output_type": "execute_result"
    }
   ],
   "source": [
    "result = relative_risk(MM, MM + NM, MF, MF + NF)\n",
    "result.relative_risk"
   ]
  },
  {
   "cell_type": "markdown",
   "id": "a45f865a",
   "metadata": {},
   "source": [
    "-------------------------------"
   ]
  }
 ],
 "metadata": {
  "kernelspec": {
   "display_name": "Python 3 (ipykernel)",
   "language": "python",
   "name": "python3"
  },
  "language_info": {
   "codemirror_mode": {
    "name": "ipython",
    "version": 3
   },
   "file_extension": ".py",
   "mimetype": "text/x-python",
   "name": "python",
   "nbconvert_exporter": "python",
   "pygments_lexer": "ipython3",
   "version": "3.8.10"
  }
 },
 "nbformat": 4,
 "nbformat_minor": 5
}
