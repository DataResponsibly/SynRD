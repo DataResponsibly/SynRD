{
 "cells": [
  {
   "cell_type": "markdown",
   "id": "6a8997d6-2a66-4244-acec-c749275d023d",
   "metadata": {
    "tags": []
   },
   "source": [
    "# Imports"
   ]
  },
  {
   "cell_type": "code",
   "execution_count": 1,
   "id": "b3bb7661-3716-48cf-9d25-7da2bd2101e5",
   "metadata": {},
   "outputs": [],
   "source": [
    "import gc\n",
    "import glob\n",
    "import os\n",
    "import pathlib\n",
    "from collections import defaultdict\n",
    "from functools import partial\n",
    "from itertools import product\n",
    "\n",
    "import pandas as pd\n",
    "\n",
    "# import dask.dataframe as pd\n",
    "import plotly.express as px\n",
    "\n",
    "# import ray\n",
    "from IPython.display import Image\n",
    "from tqdm.auto import tqdm, trange\n",
    "\n",
    "# from tqdm import write\n",
    "from tqdm.contrib.concurrent import process_map\n",
    "\n",
    "# import modin.pandas as pd\n",
    "\n",
    "\n",
    "# ray.init()"
   ]
  },
  {
   "cell_type": "markdown",
   "id": "c70ea949-85df-4feb-84a8-36cb69465b25",
   "metadata": {
    "tags": []
   },
   "source": [
    "# Split the data"
   ]
  },
  {
   "cell_type": "markdown",
   "id": "4361b9bd-08ba-48ec-aa70-8750de76af12",
   "metadata": {},
   "source": [
    "Put the data in folder `data`. Extract every file in the folder with the same name. If needed, adapt the path."
   ]
  },
  {
   "cell_type": "code",
   "execution_count": 2,
   "id": "576c0ec8-077f-43bf-a056-3e5aaa26e3b6",
   "metadata": {},
   "outputs": [
    {
     "data": {
      "text/plain": [
       "['data/NSDUH_Versions/NSDUH_Versions/NSDUH-2002-2014-DS0001-bndl-data-tsv/NSDUH-2002-2014-DS0001-data/NSDUH_2002_2014_Tab.tsv',\n",
       " 'data/NSDUH_Versions/NSDUH_Versions/NSDUH-2002-2015-DS0001-bndl-data-tsv/NSDUH_2002_2015_Tab.tsv',\n",
       " 'data/NSDUH_Versions/NSDUH_Versions/NSDUH-2002-2017-DS0001-bndl-data-tsv/NSDUH_2002_2017_Tab.tsv',\n",
       " 'data/NSDUH_Versions/NSDUH_Versions/NSDUH-2002-2018-DS0001-bndl-data-tsv/NSDUH_2002_2018_Tab.tsv',\n",
       " 'data/NSDUH_Versions/NSDUH_Versions/NSDUH-2002-2019-DS0001-bndl-data-tsv/NSDUH_2002_2019_Tab.tsv']"
      ]
     },
     "execution_count": 2,
     "metadata": {},
     "output_type": "execute_result"
    }
   ],
   "source": [
    "tsv_paths = sorted(\n",
    "    glob.glob(\"data/NSDUH_Versions/*/*/*.tsv\")\n",
    "    + glob.glob(\"data/NSDUH_Versions/*/*/*/*.tsv\")\n",
    ")\n",
    "tsv_paths"
   ]
  },
  {
   "cell_type": "code",
   "execution_count": 3,
   "id": "5c9c9c90-cd89-45a6-b54a-2542f935dfb6",
   "metadata": {},
   "outputs": [],
   "source": [
    "data_path = \"data/NSDUN_versions\"\n",
    "pathlib.Path(data_path).mkdir(exist_ok=True)\n",
    "\n",
    "# def dump(args):\n",
    "#     v_path, year, data, header = args\n",
    "#     with open(os.path.join(v_path, f\"NSDUN_{year}.tsv\"), \"w\") as f:\n",
    "#         f.writelines([header] + data)\n",
    "\n",
    "\n",
    "# for v, tsv_path in enumerate(tqdm(tsv_paths)):\n",
    "#     v_path = os.path.join(data_path, f\"V{v}\")\n",
    "#     pathlib.Path(v_path).mkdir(exist_ok=True)\n",
    "#     with open(tsv_path, \"r\") as f:\n",
    "#         tsv = f.readlines()\n",
    "\n",
    "#     header = tsv[0]\n",
    "#     tsv = tsv[1:]\n",
    "#     tsvs = defaultdict(list)\n",
    "#     for row in tsv:\n",
    "#         tsvs[row[:4]].append(row)\n",
    "#     process_map(dump, [(v_path, year, data, header) for year, data in tsvs.items()])\n",
    "\n",
    "#     del tsv\n",
    "#     del tsvs\n",
    "#     del row\n",
    "#     del header\n",
    "#     gc.collect()"
   ]
  },
  {
   "cell_type": "code",
   "execution_count": 4,
   "id": "91f3f88b-83d5-4ecb-9899-306c6aaaf1d3",
   "metadata": {},
   "outputs": [
    {
     "data": {
      "application/vnd.jupyter.widget-view+json": {
       "model_id": "3d4d6c880cbb4a2d9bd5c788153acbb3",
       "version_major": 2,
       "version_minor": 0
      },
      "text/plain": [
       "  0%|          | 0/5 [00:00<?, ?it/s]"
      ]
     },
     "metadata": {},
     "output_type": "display_data"
    },
    {
     "name": "stdout",
     "output_type": "stream",
     "text": [
      "Loading data\n"
     ]
    },
    {
     "ename": "KeyboardInterrupt",
     "evalue": "",
     "output_type": "error",
     "traceback": [
      "\u001b[0;31m---------------------------------------------------------------------------\u001b[0m",
      "\u001b[0;31mKeyboardInterrupt\u001b[0m                         Traceback (most recent call last)",
      "Input \u001b[0;32mIn [4]\u001b[0m, in \u001b[0;36m<cell line: 5>\u001b[0;34m()\u001b[0m\n\u001b[1;32m      7\u001b[0m pathlib\u001b[38;5;241m.\u001b[39mPath(v_path)\u001b[38;5;241m.\u001b[39mmkdir(exist_ok\u001b[38;5;241m=\u001b[39m\u001b[38;5;28;01mTrue\u001b[39;00m)\n\u001b[1;32m      9\u001b[0m tqdm\u001b[38;5;241m.\u001b[39mwrite(\u001b[38;5;124m\"\u001b[39m\u001b[38;5;124mLoading data\u001b[39m\u001b[38;5;124m\"\u001b[39m)\n\u001b[0;32m---> 10\u001b[0m df \u001b[38;5;241m=\u001b[39m pd\u001b[38;5;241m.\u001b[39mread_csv(tsv_path, sep\u001b[38;5;241m=\u001b[39m\u001b[38;5;124m\"\u001b[39m\u001b[38;5;130;01m\\t\u001b[39;00m\u001b[38;5;124m\"\u001b[39m, skipinitialspace\u001b[38;5;241m=\u001b[39m\u001b[38;5;28;01mTrue\u001b[39;00m)\n\u001b[1;32m     11\u001b[0m tqdm\u001b[38;5;241m.\u001b[39mwrite(\u001b[38;5;124m\"\u001b[39m\u001b[38;5;124mData loaded\u001b[39m\u001b[38;5;124m\"\u001b[39m)\n\u001b[1;32m     13\u001b[0m \u001b[38;5;28;01mfor\u001b[39;00m year, df_ \u001b[38;5;129;01min\u001b[39;00m tqdm(df\u001b[38;5;241m.\u001b[39mgroupby(\u001b[38;5;124m\"\u001b[39m\u001b[38;5;124mYEAR\u001b[39m\u001b[38;5;124m\"\u001b[39m)):\n",
      "File \u001b[0;32m~/.virtualenvs/masters/lib/python3.10/site-packages/pandas/util/_decorators.py:311\u001b[0m, in \u001b[0;36mdeprecate_nonkeyword_arguments.<locals>.decorate.<locals>.wrapper\u001b[0;34m(*args, **kwargs)\u001b[0m\n\u001b[1;32m    305\u001b[0m \u001b[38;5;28;01mif\u001b[39;00m \u001b[38;5;28mlen\u001b[39m(args) \u001b[38;5;241m>\u001b[39m num_allow_args:\n\u001b[1;32m    306\u001b[0m     warnings\u001b[38;5;241m.\u001b[39mwarn(\n\u001b[1;32m    307\u001b[0m         msg\u001b[38;5;241m.\u001b[39mformat(arguments\u001b[38;5;241m=\u001b[39marguments),\n\u001b[1;32m    308\u001b[0m         \u001b[38;5;167;01mFutureWarning\u001b[39;00m,\n\u001b[1;32m    309\u001b[0m         stacklevel\u001b[38;5;241m=\u001b[39mstacklevel,\n\u001b[1;32m    310\u001b[0m     )\n\u001b[0;32m--> 311\u001b[0m \u001b[38;5;28;01mreturn\u001b[39;00m \u001b[43mfunc\u001b[49m\u001b[43m(\u001b[49m\u001b[38;5;241;43m*\u001b[39;49m\u001b[43margs\u001b[49m\u001b[43m,\u001b[49m\u001b[43m \u001b[49m\u001b[38;5;241;43m*\u001b[39;49m\u001b[38;5;241;43m*\u001b[39;49m\u001b[43mkwargs\u001b[49m\u001b[43m)\u001b[49m\n",
      "File \u001b[0;32m~/.virtualenvs/masters/lib/python3.10/site-packages/pandas/io/parsers/readers.py:680\u001b[0m, in \u001b[0;36mread_csv\u001b[0;34m(filepath_or_buffer, sep, delimiter, header, names, index_col, usecols, squeeze, prefix, mangle_dupe_cols, dtype, engine, converters, true_values, false_values, skipinitialspace, skiprows, skipfooter, nrows, na_values, keep_default_na, na_filter, verbose, skip_blank_lines, parse_dates, infer_datetime_format, keep_date_col, date_parser, dayfirst, cache_dates, iterator, chunksize, compression, thousands, decimal, lineterminator, quotechar, quoting, doublequote, escapechar, comment, encoding, encoding_errors, dialect, error_bad_lines, warn_bad_lines, on_bad_lines, delim_whitespace, low_memory, memory_map, float_precision, storage_options)\u001b[0m\n\u001b[1;32m    665\u001b[0m kwds_defaults \u001b[38;5;241m=\u001b[39m _refine_defaults_read(\n\u001b[1;32m    666\u001b[0m     dialect,\n\u001b[1;32m    667\u001b[0m     delimiter,\n\u001b[0;32m   (...)\u001b[0m\n\u001b[1;32m    676\u001b[0m     defaults\u001b[38;5;241m=\u001b[39m{\u001b[38;5;124m\"\u001b[39m\u001b[38;5;124mdelimiter\u001b[39m\u001b[38;5;124m\"\u001b[39m: \u001b[38;5;124m\"\u001b[39m\u001b[38;5;124m,\u001b[39m\u001b[38;5;124m\"\u001b[39m},\n\u001b[1;32m    677\u001b[0m )\n\u001b[1;32m    678\u001b[0m kwds\u001b[38;5;241m.\u001b[39mupdate(kwds_defaults)\n\u001b[0;32m--> 680\u001b[0m \u001b[38;5;28;01mreturn\u001b[39;00m \u001b[43m_read\u001b[49m\u001b[43m(\u001b[49m\u001b[43mfilepath_or_buffer\u001b[49m\u001b[43m,\u001b[49m\u001b[43m \u001b[49m\u001b[43mkwds\u001b[49m\u001b[43m)\u001b[49m\n",
      "File \u001b[0;32m~/.virtualenvs/masters/lib/python3.10/site-packages/pandas/io/parsers/readers.py:581\u001b[0m, in \u001b[0;36m_read\u001b[0;34m(filepath_or_buffer, kwds)\u001b[0m\n\u001b[1;32m    578\u001b[0m     \u001b[38;5;28;01mreturn\u001b[39;00m parser\n\u001b[1;32m    580\u001b[0m \u001b[38;5;28;01mwith\u001b[39;00m parser:\n\u001b[0;32m--> 581\u001b[0m     \u001b[38;5;28;01mreturn\u001b[39;00m \u001b[43mparser\u001b[49m\u001b[38;5;241;43m.\u001b[39;49m\u001b[43mread\u001b[49m\u001b[43m(\u001b[49m\u001b[43mnrows\u001b[49m\u001b[43m)\u001b[49m\n",
      "File \u001b[0;32m~/.virtualenvs/masters/lib/python3.10/site-packages/pandas/io/parsers/readers.py:1254\u001b[0m, in \u001b[0;36mTextFileReader.read\u001b[0;34m(self, nrows)\u001b[0m\n\u001b[1;32m   1252\u001b[0m nrows \u001b[38;5;241m=\u001b[39m validate_integer(\u001b[38;5;124m\"\u001b[39m\u001b[38;5;124mnrows\u001b[39m\u001b[38;5;124m\"\u001b[39m, nrows)\n\u001b[1;32m   1253\u001b[0m \u001b[38;5;28;01mtry\u001b[39;00m:\n\u001b[0;32m-> 1254\u001b[0m     index, columns, col_dict \u001b[38;5;241m=\u001b[39m \u001b[38;5;28;43mself\u001b[39;49m\u001b[38;5;241;43m.\u001b[39;49m\u001b[43m_engine\u001b[49m\u001b[38;5;241;43m.\u001b[39;49m\u001b[43mread\u001b[49m\u001b[43m(\u001b[49m\u001b[43mnrows\u001b[49m\u001b[43m)\u001b[49m\n\u001b[1;32m   1255\u001b[0m \u001b[38;5;28;01mexcept\u001b[39;00m \u001b[38;5;167;01mException\u001b[39;00m:\n\u001b[1;32m   1256\u001b[0m     \u001b[38;5;28mself\u001b[39m\u001b[38;5;241m.\u001b[39mclose()\n",
      "File \u001b[0;32m~/.virtualenvs/masters/lib/python3.10/site-packages/pandas/io/parsers/c_parser_wrapper.py:225\u001b[0m, in \u001b[0;36mCParserWrapper.read\u001b[0;34m(self, nrows)\u001b[0m\n\u001b[1;32m    223\u001b[0m \u001b[38;5;28;01mtry\u001b[39;00m:\n\u001b[1;32m    224\u001b[0m     \u001b[38;5;28;01mif\u001b[39;00m \u001b[38;5;28mself\u001b[39m\u001b[38;5;241m.\u001b[39mlow_memory:\n\u001b[0;32m--> 225\u001b[0m         chunks \u001b[38;5;241m=\u001b[39m \u001b[38;5;28;43mself\u001b[39;49m\u001b[38;5;241;43m.\u001b[39;49m\u001b[43m_reader\u001b[49m\u001b[38;5;241;43m.\u001b[39;49m\u001b[43mread_low_memory\u001b[49m\u001b[43m(\u001b[49m\u001b[43mnrows\u001b[49m\u001b[43m)\u001b[49m\n\u001b[1;32m    226\u001b[0m         \u001b[38;5;66;03m# destructive to chunks\u001b[39;00m\n\u001b[1;32m    227\u001b[0m         data \u001b[38;5;241m=\u001b[39m _concatenate_chunks(chunks)\n",
      "File \u001b[0;32m~/.virtualenvs/masters/lib/python3.10/site-packages/pandas/_libs/parsers.pyx:805\u001b[0m, in \u001b[0;36mpandas._libs.parsers.TextReader.read_low_memory\u001b[0;34m()\u001b[0m\n",
      "File \u001b[0;32m~/.virtualenvs/masters/lib/python3.10/site-packages/pandas/_libs/parsers.pyx:883\u001b[0m, in \u001b[0;36mpandas._libs.parsers.TextReader._read_rows\u001b[0;34m()\u001b[0m\n",
      "File \u001b[0;32m~/.virtualenvs/masters/lib/python3.10/site-packages/pandas/_libs/parsers.pyx:1026\u001b[0m, in \u001b[0;36mpandas._libs.parsers.TextReader._convert_column_data\u001b[0;34m()\u001b[0m\n",
      "File \u001b[0;32m~/.virtualenvs/masters/lib/python3.10/site-packages/pandas/_libs/parsers.pyx:1072\u001b[0m, in \u001b[0;36mpandas._libs.parsers.TextReader._convert_tokens\u001b[0;34m()\u001b[0m\n",
      "File \u001b[0;32m~/.virtualenvs/masters/lib/python3.10/site-packages/pandas/_libs/parsers.pyx:1147\u001b[0m, in \u001b[0;36mpandas._libs.parsers.TextReader._convert_with_dtype\u001b[0;34m()\u001b[0m\n",
      "File \u001b[0;32m~/.virtualenvs/masters/lib/python3.10/site-packages/pandas/core/dtypes/common.py:1429\u001b[0m, in \u001b[0;36mis_extension_array_dtype\u001b[0;34m(arr_or_dtype)\u001b[0m\n\u001b[1;32m   1420\u001b[0m     \u001b[38;5;66;03m# Note: if other EA dtypes are ever held in HybridBlock, exclude those\u001b[39;00m\n\u001b[1;32m   1421\u001b[0m     \u001b[38;5;66;03m#  here too.\u001b[39;00m\n\u001b[1;32m   1422\u001b[0m     \u001b[38;5;66;03m# NB: need to check DatetimeTZDtype and not is_datetime64tz_dtype\u001b[39;00m\n\u001b[1;32m   1423\u001b[0m     \u001b[38;5;66;03m#  to exclude ArrowTimestampUSDtype\u001b[39;00m\n\u001b[1;32m   1424\u001b[0m     \u001b[38;5;28;01mreturn\u001b[39;00m \u001b[38;5;28misinstance\u001b[39m(dtype, ExtensionDtype) \u001b[38;5;129;01mand\u001b[39;00m \u001b[38;5;129;01mnot\u001b[39;00m \u001b[38;5;28misinstance\u001b[39m(\n\u001b[1;32m   1425\u001b[0m         dtype, (DatetimeTZDtype, PeriodDtype)\n\u001b[1;32m   1426\u001b[0m     )\n\u001b[0;32m-> 1429\u001b[0m \u001b[38;5;28;01mdef\u001b[39;00m \u001b[38;5;21mis_extension_array_dtype\u001b[39m(arr_or_dtype) \u001b[38;5;241m-\u001b[39m\u001b[38;5;241m>\u001b[39m \u001b[38;5;28mbool\u001b[39m:\n\u001b[1;32m   1430\u001b[0m     \u001b[38;5;124;03m\"\"\"\u001b[39;00m\n\u001b[1;32m   1431\u001b[0m \u001b[38;5;124;03m    Check if an object is a pandas extension array type.\u001b[39;00m\n\u001b[1;32m   1432\u001b[0m \n\u001b[0;32m   (...)\u001b[0m\n\u001b[1;32m   1472\u001b[0m \u001b[38;5;124;03m    False\u001b[39;00m\n\u001b[1;32m   1473\u001b[0m \u001b[38;5;124;03m    \"\"\"\u001b[39;00m\n\u001b[1;32m   1474\u001b[0m     dtype \u001b[38;5;241m=\u001b[39m \u001b[38;5;28mgetattr\u001b[39m(arr_or_dtype, \u001b[38;5;124m\"\u001b[39m\u001b[38;5;124mdtype\u001b[39m\u001b[38;5;124m\"\u001b[39m, arr_or_dtype)\n",
      "\u001b[0;31mKeyboardInterrupt\u001b[0m: "
     ]
    }
   ],
   "source": [
    "data_path = \"data/NSDUN_versions2\"\n",
    "pathlib.Path(data_path).mkdir(exist_ok=True)\n",
    "\n",
    "\n",
    "for v, tsv_path in enumerate(tqdm(tsv_paths)):\n",
    "    v_path = os.path.join(data_path, f\"V{v}\")\n",
    "    pathlib.Path(v_path).mkdir(exist_ok=True)\n",
    "\n",
    "    tqdm.write(\"Loading data\")\n",
    "    df = pd.read_csv(tsv_path, sep=\"\\t\", skipinitialspace=True, col=['AGE', 'YEAR'])\n",
    "    tqdm.write(\"Data loaded\")\n",
    "\n",
    "    for year, df_ in tqdm(df.groupby(\"YEAR\")):\n",
    "        path = os.path.join(v_path, f\"NSDUN_{year}.pickle\")\n",
    "        df_.to_pickle(path, index=False)\n",
    "\n",
    "    del df\n",
    "    gc.collect()"
   ]
  },
  {
   "cell_type": "markdown",
   "id": "3e135ccd-67ff-45b7-8849-d650eb8e1378",
   "metadata": {},
   "source": [
    "# Try all combinations"
   ]
  },
  {
   "cell_type": "code",
   "execution_count": null,
   "id": "da719482-43c0-4124-98ec-50d02c4ed0f9",
   "metadata": {},
   "outputs": [],
   "source": [
    "tsv_paths = [\n",
    "    [os.path.join(data_path, f\"V{v}\", f\"NSDUN_{year}\") + \".tsv\" for v in range(0, 5)]\n",
    "    for year in list(range(2002, 2015))\n",
    "]"
   ]
  },
  {
   "cell_type": "code",
   "execution_count": null,
   "id": "b950c3a6-ebff-4144-9d06-973e51ff9f7a",
   "metadata": {},
   "outputs": [],
   "source": [
    "tsv_paths"
   ]
  },
  {
   "cell_type": "code",
   "execution_count": null,
   "id": "587cda7d-4380-4c35-b231-d0581a1f373b",
   "metadata": {},
   "outputs": [],
   "source": [
    "with open(tsv_paths[0][2]) as f:\n",
    "    bad_text = f.readlines()"
   ]
  },
  {
   "cell_type": "code",
   "execution_count": null,
   "id": "f4823ff7-af1b-4f24-a7cf-047f3ba335e3",
   "metadata": {},
   "outputs": [],
   "source": [
    "bad_text_csv = [line.split(\"\\t\") for line in tqdm(bad_text)]"
   ]
  },
  {
   "cell_type": "code",
   "execution_count": null,
   "id": "2f1da49f-e59b-4d2d-a2c5-12f47cea6e1b",
   "metadata": {},
   "outputs": [],
   "source": [
    "bad_columns = [row[2083:2086] for row in bad_text_csv]"
   ]
  },
  {
   "cell_type": "code",
   "execution_count": null,
   "id": "da4ccb72-1edd-4fcb-a16e-0e6f6cb5c8f8",
   "metadata": {},
   "outputs": [],
   "source": [
    "hm = [(int(a), b, int(c)) for a, b, c in bad_columns[1:]]"
   ]
  },
  {
   "cell_type": "code",
   "execution_count": null,
   "id": "4c8507d2-9dd3-4a7e-980f-1a9a1de7a0c2",
   "metadata": {},
   "outputs": [],
   "source": [
    "ttwork_cols = [\"WRKIDST2\", \"WRKIDSY2\"]\n",
    "filter_cols = [\"YEAR\", \"AGE2\", \"JBSTATR2\"]\n",
    "survey_cols = [\"ANALREC\"]\n",
    "cols = survey_cols + filter_cols"
   ]
  },
  {
   "cell_type": "code",
   "execution_count": null,
   "id": "b47ffc0e-f6a6-4e1c-9324-8abf3732ee8b",
   "metadata": {},
   "outputs": [],
   "source": [
    "good = pd.read_csv(tsv_paths[0][1], sep=\"\\t\", skipinitialspace=True, usecols=cols)\n",
    "bad = pd.read_csv(tsv_paths[0][2], sep=\"\\t\", skipinitialspace=True, usecols=cols)"
   ]
  },
  {
   "cell_type": "code",
   "execution_count": null,
   "id": "5b7a984f-b70f-4c83-aeee-979ba680ccb7",
   "metadata": {},
   "outputs": [],
   "source": [
    "bad_full.columns[2084]"
   ]
  },
  {
   "cell_type": "code",
   "execution_count": null,
   "id": "a568631b-8791-45df-bbb7-df20c262de7f",
   "metadata": {},
   "outputs": [],
   "source": [
    "bad_full = pd.read_csv(tsv_paths[0][2], sep=\"\\t\", skipinitialspace=True)"
   ]
  },
  {
   "cell_type": "code",
   "execution_count": null,
   "id": "5b43734e-6f55-4ea0-9c9c-ccfc5a5aed43",
   "metadata": {},
   "outputs": [],
   "source": [
    "import numpy as np"
   ]
  },
  {
   "cell_type": "code",
   "execution_count": null,
   "id": "3930aa52-fa4c-44bd-a44b-d80593cdf710",
   "metadata": {},
   "outputs": [],
   "source": [
    "bad2 = pd.read_csv(tsv_paths[0][2], sep=\"\\t\", dtype={\"GQTYPE\": np.int64})"
   ]
  },
  {
   "cell_type": "code",
   "execution_count": null,
   "id": "2de0a064-b26b-49db-b411-2309121148f2",
   "metadata": {},
   "outputs": [],
   "source": [
    "bad2"
   ]
  },
  {
   "cell_type": "code",
   "execution_count": null,
   "id": "10c34278-663b-49f5-90d3-0edbf097e191",
   "metadata": {},
   "outputs": [],
   "source": [
    "bad_full.iloc[:, 2084].dtype"
   ]
  },
  {
   "cell_type": "code",
   "execution_count": null,
   "id": "6c1f2b13-a3ae-43f8-a62c-75001b03d29f",
   "metadata": {},
   "outputs": [],
   "source": [
    "good"
   ]
  },
  {
   "cell_type": "code",
   "execution_count": null,
   "id": "97e45606-81a8-48d7-a6d4-9f1acd6ade3b",
   "metadata": {
    "tags": []
   },
   "outputs": [],
   "source": [
    "dfs = [\n",
    "    process_map(\n",
    "        partial(pd.read_csv, sep=\"\\t\", skipinitialspace=True, usecols=cols), paths\n",
    "    )\n",
    "    for paths in tqdm(tsv_paths)\n",
    "]"
   ]
  },
  {
   "cell_type": "code",
   "execution_count": null,
   "id": "d3712d72-1348-4d5b-a9a9-8186ab1377f8",
   "metadata": {},
   "outputs": [],
   "source": [
    "dfs[0][3].iloc[:, 1864]"
   ]
  },
  {
   "cell_type": "code",
   "execution_count": null,
   "id": "9bb4cd87-f4c4-4d60-bc2f-9b6ae7f3423f",
   "metadata": {},
   "outputs": [],
   "source": [
    "for dfs_ in tqdm(dfs):\n",
    "    for df in dfs_:\n",
    "        df[\"AGE2\"] = pd.to_numeric(df[\"AGE2\"].str.split().str[0])"
   ]
  },
  {
   "cell_type": "code",
   "execution_count": null,
   "id": "c95cd784-04c6-4f53-b5c2-7217119fd328",
   "metadata": {},
   "outputs": [],
   "source": [
    "from itertools import product"
   ]
  },
  {
   "cell_type": "code",
   "execution_count": null,
   "id": "ba53cdf9-59b5-485b-a0c1-aa41e5ceae03",
   "metadata": {},
   "outputs": [],
   "source": [
    "rez = {}\n",
    "\n",
    "N = sum(1 for _ in product(*tsv_paths))\n",
    "for paths, dfs_ in tqdm(zip(product(*tsv_paths), product(*dfs)), total=N):\n",
    "    n1, n2 = 0, 0\n",
    "    for df in dfs_:\n",
    "        n1 += len(df[df[\"AGE2\"].str.split().str[0] <= 10])\n",
    "        n2 += len(df[df[\"AGE2\"].str.split().str[0] < 10])\n",
    "\n",
    "    rez[paths] = (n1, n2)"
   ]
  },
  {
   "cell_type": "code",
   "execution_count": null,
   "id": "d58428ea-5b20-437e-8b17-e224ef7992a0",
   "metadata": {},
   "outputs": [
    {
     "name": "stderr",
     "output_type": "stream",
     "text": [
      "/home/astadnik/.virtualenvs/masters/lib/python3.10/site-packages/dask/dataframe/io/csv.py:182: DtypeWarning: Columns (1645,1646,1647,1648,1649,1650,1651,1652,1653,1654,1655,1656,1657,1658,1659,1660,1661,1662,1663,1664,1665,1666,1667,1668,1669,1670,1671,1672,1673,1674,1675,1676,1677,1678,1679,1680,1681,1682,1683,1684,1685,1686,1687,1688,1689,1690,1691,1692,1693,1694,1695,1696,1697,1698,1699,1700,1701,1702,1703,1704,1705,1706,1707,1708,1709,1710,1711,1712,1713,1714,1715,1716,1717,1718,1719,1720,1721,1722,1723,1724,1725,1726,1727,1728,1729,1730,1731,1732,1733,1734,1735,1736,1737,1738,1739,1740,1741,1742,1743,1744,1745,1746,1747,1748,1749,1750,1751,1752,1753,1754,1755,1756,1757,1758,1759,1760,1761,1762,1763,1764,1765,1766,1767,1768,1769,1770,1771,1772,1773,1774,1775,1776,1777,1778,1779,1780,1781,1782,1783,1784,1785,1786,1787,1788,1789,1790,1791,1792,1793,1794,1795,1796,1797,1798,1799,1800,1801,1802,1803,1804,1805,1806,1807,1808,1809,1810,1811,1812,1813,1814,1815,1816,1817,1818,1819,1820,1821,1822,1823) have mixed types. Specify dtype option on import or set low_memory=False.\n",
      "  df = reader(bio, **kwargs)\n",
      "/home/astadnik/.virtualenvs/masters/lib/python3.10/site-packages/dask/dataframe/io/csv.py:182: DtypeWarning: Columns (1611,1612,1613,1614,1615,1616,1617,1618,1619,1620,1621,1622,1623,1624,1625,1626,1627,1628,1629,1630,1631,1632,1633,1634,1635,1636,1637,1638,1639,1640,1641,1642,1643,1644,1645,1646,1647,1648,1649,1650,1651,1652,1653,1654,1655,1656,1657,1658,1659,1660,1661,1662,1663,1664,1665,1666,1667,1668,1669,1670,1671,1672,1673,1674,1675,1676,1677,1678,1679,1680,1681,1682,1683,1684,1685,1686,1687,1688,1689,1690,1691,1692,1693,1694,1695,1696,1697,1698,1699,1700,1701,1702,1703,1704,1705,1706,1707,1708,1709,1710,1711,1712,1713,1714,1715,1716,1717,1718,1719,1720,1721,1722,1723,1724,1725,1726,1727,1728,1729,1730,1731,1732,1733,1734,1735,1736,1737,1738) have mixed types. Specify dtype option on import or set low_memory=False.\n",
      "  df = reader(bio, **kwargs)\n",
      "/home/astadnik/.virtualenvs/masters/lib/python3.10/site-packages/dask/dataframe/io/csv.py:182: DtypeWarning: Columns (1605,1607,1608,1609,1610,1611,1612,1613,1614,1615,1616,1617,1618,1619,1620,1621,1622,1623,1624,1625,1626,1627,1628,1629,1630,1631,1632,1633,1634,1635,1636,1637,1638,1639,1640,1641,1642,1643,1644,1645,1646,1647,1648,1649,1650,1651,1652,1653,1654,1655,1656,1657,1658,1659,1660,1661,1662,1663,1664,1665,1666,1667,1668,1669,1670,1671,1672,1673,1674,1675,1676,1677,1678,1679,1680,1681,1682,1683,1684,1685,1686,1687,1688,1689,1690,1691,1692,1693,1694,1695,1696,1697,1698,1699,1700,1701,1702,1703,1704,1705,1706,1707,1708,1709,1710,1711,1712,1713,1714,1715,1716,1717,1718,1719,1720,1721,1722,1723,1724,1725,1726,1727,1728,1729,1730,1731,1732,1733,1734,1735,1736,1737,1738,1739,1740,1741,1742,1743,1744,1745,1746,1747,1748,1749,1750,1751,1752,1753,1754,1755,1756,1757,1758,1759,1760,1761,1762,1763,1764,1765,1766,1767,1768,1769,1770,1771,1772,1773,1774,1775,1776,1777,1778,1779,1780,1781,1782,1783,1784,1785,1786,1787,1788,1789,1790,1791,1792,1793,1794,1795,1796,1797,1798,1799,1800,1801,1802) have mixed types. Specify dtype option on import or set low_memory=False.\n",
      "  df = reader(bio, **kwargs)\n",
      "/home/astadnik/.virtualenvs/masters/lib/python3.10/site-packages/dask/dataframe/io/csv.py:182: DtypeWarning: Columns (1597,1598,1599,1600,1601,1602,1603,1604,1605,1606,1607,1608,1609,1610,1611,1612,1613,1614,1615,1616,1617,1618,1619,1620,1621,1622,1623,1624,1625,1626,1627,1628,1629,1630,1631,1632,1633,1634,1635,1636,1637,1638,1639,1640,1641,1642,1643,1644,1645,1646,1647,1648,1649,1650,1651,1652,1653,1654,1655,1656,1657,1658,1659,1660,1661,1662,1663,1664,1665,1666,1667,1668,1669,1670,1671,1672,1673,1674,1675,1676,1677,1678,1679,1680,1681,1682,1683,1684,1685,1686,1687,1688,1689,1690,1691,1692,1693,1694,1695,1696) have mixed types. Specify dtype option on import or set low_memory=False.\n",
      "  df = reader(bio, **kwargs)\n",
      "/home/astadnik/.virtualenvs/masters/lib/python3.10/site-packages/dask/dataframe/io/csv.py:182: DtypeWarning: Columns (1634,1635,1636,1637,1638,1639,1640,1641,1642,1643,1644,1645,1646,1647,1648,1649,1650,1651,1652,1653,1654,1655,1656,1657,1658,1659,1660,1661,1662,1663,1664,1665,1666,1667,1668,1669,1670,1671,1672,1673,1674,1675,1676,1677,1678,1679,1680,1681,1682,1683,1684,1685,1686,1687,1688,1689,1690,1691,1692,1693,1694,1695,1696,1697,1698,1699,1700,1701,1702,1703,1704,1705,1706,1707,1708,1709,1710,1711,1712,1713,1714,1715,1716,1717,1718,1719,1720,1721,1722,1723,1724,1725,1726,1727,1728,1729,1730,1731,1732,1733,1734,1735,1736,1737,1738,1739,1740,1741,1742,1743,1744,1745,1746,1747,1748,1749,1750,1751,1752) have mixed types. Specify dtype option on import or set low_memory=False.\n",
      "  df = reader(bio, **kwargs)\n"
     ]
    }
   ],
   "source": [
    "# dfs = process_map(\n",
    "#     partial(pd.read_csv, sep=\"\\t\", skipinitialspace=True, usecols=cols), tsv_paths\n",
    "# )\n",
    "data_path = \"data/NSDUN_versions\"\n",
    "if not os.path.exists(data_path):\n",
    "    os.mkdir(data_path)\n",
    "\n",
    "for v, tsv_path in enumerate(tqdm(tsv_paths)):\n",
    "    v_path = os.path.join(data_path, f\"V{v}\")\n",
    "    if not os.path.exists(v_path):\n",
    "        os.mkdir(v_path)\n",
    "    df = pd.read_csv(tsv_paths[0], sep=\"\\t\", skipinitialspace=True, engine=\"python\")\n",
    "    for year in trange(2002, 2015):\n",
    "        df[df[\"YEAR\"] == year].to_pickle(os.path.join(v_path, f\"NSDUN_{year}.pkl\"))\n",
    "\n",
    "    del df"
   ]
  }
 ],
 "metadata": {
  "kernelspec": {
   "display_name": "Python 3 (ipykernel)",
   "language": "python",
   "name": "python3"
  },
  "language_info": {
   "codemirror_mode": {
    "name": "ipython",
    "version": 3
   },
   "file_extension": ".py",
   "mimetype": "text/x-python",
   "name": "python",
   "nbconvert_exporter": "python",
   "pygments_lexer": "ipython3",
   "version": "3.10.5"
  }
 },
 "nbformat": 4,
 "nbformat_minor": 5
}
