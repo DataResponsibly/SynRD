{
 "cells": [
  {
   "cell_type": "markdown",
   "id": "6a8997d6-2a66-4244-acec-c749275d023d",
   "metadata": {
    "tags": []
   },
   "source": [
    "# Imports"
   ]
  },
  {
   "cell_type": "code",
   "execution_count": 2,
   "id": "b3bb7661-3716-48cf-9d25-7da2bd2101e5",
   "metadata": {},
   "outputs": [
    {
     "name": "stderr",
     "output_type": "stream",
     "text": [
      "2022-07-24 03:39:08,446\tINFO services.py:1470 -- View the Ray dashboard at \u001b[1m\u001b[32mhttp://127.0.0.1:8265\u001b[39m\u001b[22m\n"
     ]
    },
    {
     "data": {
      "text/plain": [
       "RayContext(dashboard_url='127.0.0.1:8265', python_version='3.10.5', ray_version='1.13.0', ray_commit='e4ce38d001dbbe09cd21c497fedd03d692b2be3e', address_info={'node_ip_address': '192.168.31.219', 'raylet_ip_address': '192.168.31.219', 'redis_address': None, 'object_store_address': '/tmp/ray/session_2022-07-24_03-39-06_309941_134337/sockets/plasma_store', 'raylet_socket_name': '/tmp/ray/session_2022-07-24_03-39-06_309941_134337/sockets/raylet', 'webui_url': '127.0.0.1:8265', 'session_dir': '/tmp/ray/session_2022-07-24_03-39-06_309941_134337', 'metrics_export_port': 58816, 'gcs_address': '192.168.31.219:64519', 'address': '192.168.31.219:64519', 'node_id': 'e5a18ef2d1179728a98d22c7f2c5962e0b3e418b5be0fd962de5af29'})"
      ]
     },
     "execution_count": 2,
     "metadata": {},
     "output_type": "execute_result"
    }
   ],
   "source": [
    "import gc\n",
    "import glob\n",
    "import os\n",
    "import pathlib\n",
    "from collections import defaultdict\n",
    "from functools import partial\n",
    "from itertools import product\n",
    "\n",
    "import modin.pandas as pd\n",
    "import numpy as np\n",
    "\n",
    "# import dask.dataframe as pd\n",
    "import plotly.express as px\n",
    "import ray\n",
    "from IPython.display import Image\n",
    "from numba import njit\n",
    "from tqdm.auto import tqdm, trange\n",
    "\n",
    "# from tqdm import write\n",
    "from tqdm.contrib.concurrent import process_map\n",
    "\n",
    "# import pandas as pd\n",
    "\n",
    "\n",
    "ray.shutdown()\n",
    "ray.init()"
   ]
  },
  {
   "cell_type": "markdown",
   "id": "c70ea949-85df-4feb-84a8-36cb69465b25",
   "metadata": {
    "tags": []
   },
   "source": [
    "# Split the data"
   ]
  },
  {
   "cell_type": "markdown",
   "id": "4361b9bd-08ba-48ec-aa70-8750de76af12",
   "metadata": {},
   "source": [
    "Put the data in folder `data`. Extract every file in the folder with the same name. If needed, adapt the path."
   ]
  },
  {
   "cell_type": "code",
   "execution_count": 5,
   "id": "576c0ec8-077f-43bf-a056-3e5aaa26e3b6",
   "metadata": {},
   "outputs": [
    {
     "data": {
      "text/plain": [
       "['data/NSDUH_Versions/NSDUH_Versions/NSDUH-2002-2014-DS0001-bndl-data-tsv/NSDUH-2002-2014-DS0001-data/2002.tsv',\n",
       " 'data/NSDUH_Versions/NSDUH_Versions/NSDUH-2002-2014-DS0001-bndl-data-tsv/NSDUH-2002-2014-DS0001-data/2003.tsv',\n",
       " 'data/NSDUH_Versions/NSDUH_Versions/NSDUH-2002-2014-DS0001-bndl-data-tsv/NSDUH-2002-2014-DS0001-data/2004.tsv',\n",
       " 'data/NSDUH_Versions/NSDUH_Versions/NSDUH-2002-2014-DS0001-bndl-data-tsv/NSDUH-2002-2014-DS0001-data/2005.tsv',\n",
       " 'data/NSDUH_Versions/NSDUH_Versions/NSDUH-2002-2014-DS0001-bndl-data-tsv/NSDUH-2002-2014-DS0001-data/2006.tsv',\n",
       " 'data/NSDUH_Versions/NSDUH_Versions/NSDUH-2002-2014-DS0001-bndl-data-tsv/NSDUH-2002-2014-DS0001-data/2007.tsv',\n",
       " 'data/NSDUH_Versions/NSDUH_Versions/NSDUH-2002-2014-DS0001-bndl-data-tsv/NSDUH-2002-2014-DS0001-data/2008.tsv',\n",
       " 'data/NSDUH_Versions/NSDUH_Versions/NSDUH-2002-2014-DS0001-bndl-data-tsv/NSDUH-2002-2014-DS0001-data/2009.tsv',\n",
       " 'data/NSDUH_Versions/NSDUH_Versions/NSDUH-2002-2014-DS0001-bndl-data-tsv/NSDUH-2002-2014-DS0001-data/2010.tsv',\n",
       " 'data/NSDUH_Versions/NSDUH_Versions/NSDUH-2002-2014-DS0001-bndl-data-tsv/NSDUH-2002-2014-DS0001-data/2011.tsv',\n",
       " 'data/NSDUH_Versions/NSDUH_Versions/NSDUH-2002-2014-DS0001-bndl-data-tsv/NSDUH-2002-2014-DS0001-data/2012.tsv',\n",
       " 'data/NSDUH_Versions/NSDUH_Versions/NSDUH-2002-2014-DS0001-bndl-data-tsv/NSDUH-2002-2014-DS0001-data/2013.tsv',\n",
       " 'data/NSDUH_Versions/NSDUH_Versions/NSDUH-2002-2014-DS0001-bndl-data-tsv/NSDUH-2002-2014-DS0001-data/2014.tsv',\n",
       " 'data/NSDUH_Versions/NSDUH_Versions/NSDUH-2002-2015-DS0001-bndl-data-tsv/2002.tsv',\n",
       " 'data/NSDUH_Versions/NSDUH_Versions/NSDUH-2002-2015-DS0001-bndl-data-tsv/2003.tsv',\n",
       " 'data/NSDUH_Versions/NSDUH_Versions/NSDUH-2002-2015-DS0001-bndl-data-tsv/2004.tsv',\n",
       " 'data/NSDUH_Versions/NSDUH_Versions/NSDUH-2002-2015-DS0001-bndl-data-tsv/2005.tsv',\n",
       " 'data/NSDUH_Versions/NSDUH_Versions/NSDUH-2002-2015-DS0001-bndl-data-tsv/2006.tsv',\n",
       " 'data/NSDUH_Versions/NSDUH_Versions/NSDUH-2002-2015-DS0001-bndl-data-tsv/2007.tsv',\n",
       " 'data/NSDUH_Versions/NSDUH_Versions/NSDUH-2002-2015-DS0001-bndl-data-tsv/2008.tsv',\n",
       " 'data/NSDUH_Versions/NSDUH_Versions/NSDUH-2002-2015-DS0001-bndl-data-tsv/2009.tsv',\n",
       " 'data/NSDUH_Versions/NSDUH_Versions/NSDUH-2002-2015-DS0001-bndl-data-tsv/2010.tsv',\n",
       " 'data/NSDUH_Versions/NSDUH_Versions/NSDUH-2002-2015-DS0001-bndl-data-tsv/2011.tsv',\n",
       " 'data/NSDUH_Versions/NSDUH_Versions/NSDUH-2002-2015-DS0001-bndl-data-tsv/2012.tsv',\n",
       " 'data/NSDUH_Versions/NSDUH_Versions/NSDUH-2002-2015-DS0001-bndl-data-tsv/2013.tsv',\n",
       " 'data/NSDUH_Versions/NSDUH_Versions/NSDUH-2002-2015-DS0001-bndl-data-tsv/2014.tsv',\n",
       " 'data/NSDUH_Versions/NSDUH_Versions/NSDUH-2002-2017-DS0001-bndl-data-tsv/2002.tsv',\n",
       " 'data/NSDUH_Versions/NSDUH_Versions/NSDUH-2002-2017-DS0001-bndl-data-tsv/2003.tsv',\n",
       " 'data/NSDUH_Versions/NSDUH_Versions/NSDUH-2002-2017-DS0001-bndl-data-tsv/2004.tsv',\n",
       " 'data/NSDUH_Versions/NSDUH_Versions/NSDUH-2002-2017-DS0001-bndl-data-tsv/2005.tsv',\n",
       " 'data/NSDUH_Versions/NSDUH_Versions/NSDUH-2002-2017-DS0001-bndl-data-tsv/2006.tsv',\n",
       " 'data/NSDUH_Versions/NSDUH_Versions/NSDUH-2002-2017-DS0001-bndl-data-tsv/2007.tsv',\n",
       " 'data/NSDUH_Versions/NSDUH_Versions/NSDUH-2002-2017-DS0001-bndl-data-tsv/2008.tsv',\n",
       " 'data/NSDUH_Versions/NSDUH_Versions/NSDUH-2002-2017-DS0001-bndl-data-tsv/2009.tsv',\n",
       " 'data/NSDUH_Versions/NSDUH_Versions/NSDUH-2002-2017-DS0001-bndl-data-tsv/2010.tsv',\n",
       " 'data/NSDUH_Versions/NSDUH_Versions/NSDUH-2002-2017-DS0001-bndl-data-tsv/2011.tsv',\n",
       " 'data/NSDUH_Versions/NSDUH_Versions/NSDUH-2002-2017-DS0001-bndl-data-tsv/2012.tsv',\n",
       " 'data/NSDUH_Versions/NSDUH_Versions/NSDUH-2002-2017-DS0001-bndl-data-tsv/2013.tsv',\n",
       " 'data/NSDUH_Versions/NSDUH_Versions/NSDUH-2002-2017-DS0001-bndl-data-tsv/2014.tsv',\n",
       " 'data/NSDUH_Versions/NSDUH_Versions/NSDUH-2002-2018-DS0001-bndl-data-tsv/2002.tsv',\n",
       " 'data/NSDUH_Versions/NSDUH_Versions/NSDUH-2002-2018-DS0001-bndl-data-tsv/2003.tsv',\n",
       " 'data/NSDUH_Versions/NSDUH_Versions/NSDUH-2002-2018-DS0001-bndl-data-tsv/2004.tsv',\n",
       " 'data/NSDUH_Versions/NSDUH_Versions/NSDUH-2002-2018-DS0001-bndl-data-tsv/2005.tsv',\n",
       " 'data/NSDUH_Versions/NSDUH_Versions/NSDUH-2002-2018-DS0001-bndl-data-tsv/2006.tsv',\n",
       " 'data/NSDUH_Versions/NSDUH_Versions/NSDUH-2002-2018-DS0001-bndl-data-tsv/2007.tsv',\n",
       " 'data/NSDUH_Versions/NSDUH_Versions/NSDUH-2002-2018-DS0001-bndl-data-tsv/2008.tsv',\n",
       " 'data/NSDUH_Versions/NSDUH_Versions/NSDUH-2002-2018-DS0001-bndl-data-tsv/2009.tsv',\n",
       " 'data/NSDUH_Versions/NSDUH_Versions/NSDUH-2002-2018-DS0001-bndl-data-tsv/2010.tsv',\n",
       " 'data/NSDUH_Versions/NSDUH_Versions/NSDUH-2002-2018-DS0001-bndl-data-tsv/2011.tsv',\n",
       " 'data/NSDUH_Versions/NSDUH_Versions/NSDUH-2002-2018-DS0001-bndl-data-tsv/2012.tsv',\n",
       " 'data/NSDUH_Versions/NSDUH_Versions/NSDUH-2002-2018-DS0001-bndl-data-tsv/2013.tsv',\n",
       " 'data/NSDUH_Versions/NSDUH_Versions/NSDUH-2002-2018-DS0001-bndl-data-tsv/2014.tsv',\n",
       " 'data/NSDUH_Versions/NSDUH_Versions/NSDUH-2002-2019-DS0001-bndl-data-tsv/2002.tsv',\n",
       " 'data/NSDUH_Versions/NSDUH_Versions/NSDUH-2002-2019-DS0001-bndl-data-tsv/2003.tsv',\n",
       " 'data/NSDUH_Versions/NSDUH_Versions/NSDUH-2002-2019-DS0001-bndl-data-tsv/2004.tsv',\n",
       " 'data/NSDUH_Versions/NSDUH_Versions/NSDUH-2002-2019-DS0001-bndl-data-tsv/2005.tsv',\n",
       " 'data/NSDUH_Versions/NSDUH_Versions/NSDUH-2002-2019-DS0001-bndl-data-tsv/2006.tsv',\n",
       " 'data/NSDUH_Versions/NSDUH_Versions/NSDUH-2002-2019-DS0001-bndl-data-tsv/2007.tsv',\n",
       " 'data/NSDUH_Versions/NSDUH_Versions/NSDUH-2002-2019-DS0001-bndl-data-tsv/2008.tsv',\n",
       " 'data/NSDUH_Versions/NSDUH_Versions/NSDUH-2002-2019-DS0001-bndl-data-tsv/2009.tsv',\n",
       " 'data/NSDUH_Versions/NSDUH_Versions/NSDUH-2002-2019-DS0001-bndl-data-tsv/2010.tsv',\n",
       " 'data/NSDUH_Versions/NSDUH_Versions/NSDUH-2002-2019-DS0001-bndl-data-tsv/2011.tsv',\n",
       " 'data/NSDUH_Versions/NSDUH_Versions/NSDUH-2002-2019-DS0001-bndl-data-tsv/2012.tsv',\n",
       " 'data/NSDUH_Versions/NSDUH_Versions/NSDUH-2002-2019-DS0001-bndl-data-tsv/2013.tsv',\n",
       " 'data/NSDUH_Versions/NSDUH_Versions/NSDUH-2002-2019-DS0001-bndl-data-tsv/2014.tsv']"
      ]
     },
     "execution_count": 5,
     "metadata": {},
     "output_type": "execute_result"
    }
   ],
   "source": [
    "tsv_paths = sorted(\n",
    "    glob.glob(\"data/NSDUH_Versions/*/*/*.tsv\")\n",
    "    + glob.glob(\"data/NSDUH_Versions/*/*/*/*.tsv\")\n",
    ")\n",
    "tsv_paths = [\n",
    "    path\n",
    "    for path in tsv_paths\n",
    "    if \"Tab\" not in path and any(f\"{year}.tsv\" in path for year in range(2002, 2015))\n",
    "]\n",
    "\n",
    "tsv_paths"
   ]
  },
  {
   "cell_type": "code",
   "execution_count": 1,
   "id": "bc256167-1154-4c9f-863d-06fc8200bf50",
   "metadata": {},
   "outputs": [],
   "source": [
    "version_mapping = {\n",
    "    \"2002-2014\": \"1\",\n",
    "    \"2002-2015\": \"2\",\n",
    "    \"2002-2017\": \"3\",\n",
    "    \"2002-2018\": \"4\",\n",
    "    \"2002-2019\": \"5\",\n",
    "}"
   ]
  },
  {
   "cell_type": "code",
   "execution_count": null,
   "id": "91f3f88b-83d5-4ecb-9899-306c6aaaf1d3",
   "metadata": {},
   "outputs": [
    {
     "data": {
      "application/vnd.jupyter.widget-view+json": {
       "model_id": "",
       "version_major": 2,
       "version_minor": 0
      },
      "text/plain": [
       "  0%|          | 0/5 [00:00<?, ?it/s]"
      ]
     },
     "metadata": {},
     "output_type": "display_data"
    },
    {
     "name": "stdout",
     "output_type": "stream",
     "text": [
      "Loading data\n"
     ]
    }
   ],
   "source": [
    "# data_path = \"data/NSDUH_versions2\"\n",
    "# pathlib.Path(data_path).mkdir(exist_ok=True)\n",
    "\n",
    "\n",
    "# for v, tsv_path in enumerate(tqdm(tsv_paths)):\n",
    "#     v_path = os.path.join(data_path, f\"V{v}\")\n",
    "#     pathlib.Path(v_path).mkdir(exist_ok=True)\n",
    "\n",
    "#     tqdm.write(\"Loading data\")\n",
    "#     with open(tsv_paths[1].replace(\".tsv\", \".txt\"), \"r\") as f:\n",
    "#         dtype = eval(f.read())\n",
    "#         dtype = {k: v if v != int else float for k, v in dtype.items()}\n",
    "#     # dtype = {col: float if col != \"FILEDATE\" else \"str\" for col in header}\n",
    "#     df = pd.read_csv(tsv_path, sep=\"\\t\", dtype=dtype)\n",
    "#     tqdm.write(\"Data loaded\")\n",
    "\n",
    "#     for year, df_ in tqdm(df.groupby(\"YEAR\")):\n",
    "#         path = os.path.join(v_path, f\"NSDUN_{year}.pickle\")\n",
    "#         df_.to_pickle(path, index=False)\n",
    "\n",
    "#     del df\n",
    "#     gc.collect()"
   ]
  },
  {
   "cell_type": "code",
   "execution_count": 8,
   "id": "776f22cf-d3e6-45c3-ad13-5f692bf71ed6",
   "metadata": {},
   "outputs": [
    {
     "name": "stderr",
     "output_type": "stream",
     "text": [
      "/home/astadnik/.virtualenvs/masters/lib/python3.10/site-packages/modin/pandas/dataframe.py:155: UserWarning:\n",
      "\n",
      "Distributing <class 'list'> object. This may take some time.\n",
      "\n"
     ]
    },
    {
     "data": {
      "application/vnd.plotly.v1+json": {
       "config": {
        "plotlyServerURL": "https://plot.ly"
       },
       "data": [
        {
         "coloraxis": "coloraxis",
         "hovertemplate": "x: %{x}<br>y: %{y}<br>color: %{z}<extra></extra>",
         "name": "0",
         "type": "heatmap",
         "x": [
          "2014",
          "2015",
          "2017",
          "2018",
          "2019"
         ],
         "xaxis": "x",
         "y": [
          "2014",
          "2015",
          "2017",
          "2018",
          "2019"
         ],
         "yaxis": "y",
         "z": [
          [
           0,
           123,
           1891,
           1895,
           1901
          ],
          [
           123,
           0,
           1784,
           1788,
           1794
          ],
          [
           1891,
           1784,
           0,
           46,
           54
          ],
          [
           1895,
           1788,
           46,
           0,
           8
          ],
          [
           1901,
           1794,
           54,
           8,
           0
          ]
         ]
        }
       ],
       "layout": {
        "autosize": true,
        "coloraxis": {
         "colorscale": [
          [
           0,
           "#0d0887"
          ],
          [
           0.1111111111111111,
           "#46039f"
          ],
          [
           0.2222222222222222,
           "#7201a8"
          ],
          [
           0.3333333333333333,
           "#9c179e"
          ],
          [
           0.4444444444444444,
           "#bd3786"
          ],
          [
           0.5555555555555556,
           "#d8576b"
          ],
          [
           0.6666666666666666,
           "#ed7953"
          ],
          [
           0.7777777777777778,
           "#fb9f3a"
          ],
          [
           0.8888888888888888,
           "#fdca26"
          ],
          [
           1,
           "#f0f921"
          ]
         ]
        },
        "template": {
         "data": {
          "bar": [
           {
            "error_x": {
             "color": "#2a3f5f"
            },
            "error_y": {
             "color": "#2a3f5f"
            },
            "marker": {
             "line": {
              "color": "#E5ECF6",
              "width": 0.5
             },
             "pattern": {
              "fillmode": "overlay",
              "size": 10,
              "solidity": 0.2
             }
            },
            "type": "bar"
           }
          ],
          "barpolar": [
           {
            "marker": {
             "line": {
              "color": "#E5ECF6",
              "width": 0.5
             },
             "pattern": {
              "fillmode": "overlay",
              "size": 10,
              "solidity": 0.2
             }
            },
            "type": "barpolar"
           }
          ],
          "carpet": [
           {
            "aaxis": {
             "endlinecolor": "#2a3f5f",
             "gridcolor": "white",
             "linecolor": "white",
             "minorgridcolor": "white",
             "startlinecolor": "#2a3f5f"
            },
            "baxis": {
             "endlinecolor": "#2a3f5f",
             "gridcolor": "white",
             "linecolor": "white",
             "minorgridcolor": "white",
             "startlinecolor": "#2a3f5f"
            },
            "type": "carpet"
           }
          ],
          "choropleth": [
           {
            "colorbar": {
             "outlinewidth": 0,
             "ticks": ""
            },
            "type": "choropleth"
           }
          ],
          "contour": [
           {
            "colorbar": {
             "outlinewidth": 0,
             "ticks": ""
            },
            "colorscale": [
             [
              0,
              "#0d0887"
             ],
             [
              0.1111111111111111,
              "#46039f"
             ],
             [
              0.2222222222222222,
              "#7201a8"
             ],
             [
              0.3333333333333333,
              "#9c179e"
             ],
             [
              0.4444444444444444,
              "#bd3786"
             ],
             [
              0.5555555555555556,
              "#d8576b"
             ],
             [
              0.6666666666666666,
              "#ed7953"
             ],
             [
              0.7777777777777778,
              "#fb9f3a"
             ],
             [
              0.8888888888888888,
              "#fdca26"
             ],
             [
              1,
              "#f0f921"
             ]
            ],
            "type": "contour"
           }
          ],
          "contourcarpet": [
           {
            "colorbar": {
             "outlinewidth": 0,
             "ticks": ""
            },
            "type": "contourcarpet"
           }
          ],
          "heatmap": [
           {
            "colorbar": {
             "outlinewidth": 0,
             "ticks": ""
            },
            "colorscale": [
             [
              0,
              "#0d0887"
             ],
             [
              0.1111111111111111,
              "#46039f"
             ],
             [
              0.2222222222222222,
              "#7201a8"
             ],
             [
              0.3333333333333333,
              "#9c179e"
             ],
             [
              0.4444444444444444,
              "#bd3786"
             ],
             [
              0.5555555555555556,
              "#d8576b"
             ],
             [
              0.6666666666666666,
              "#ed7953"
             ],
             [
              0.7777777777777778,
              "#fb9f3a"
             ],
             [
              0.8888888888888888,
              "#fdca26"
             ],
             [
              1,
              "#f0f921"
             ]
            ],
            "type": "heatmap"
           }
          ],
          "heatmapgl": [
           {
            "colorbar": {
             "outlinewidth": 0,
             "ticks": ""
            },
            "colorscale": [
             [
              0,
              "#0d0887"
             ],
             [
              0.1111111111111111,
              "#46039f"
             ],
             [
              0.2222222222222222,
              "#7201a8"
             ],
             [
              0.3333333333333333,
              "#9c179e"
             ],
             [
              0.4444444444444444,
              "#bd3786"
             ],
             [
              0.5555555555555556,
              "#d8576b"
             ],
             [
              0.6666666666666666,
              "#ed7953"
             ],
             [
              0.7777777777777778,
              "#fb9f3a"
             ],
             [
              0.8888888888888888,
              "#fdca26"
             ],
             [
              1,
              "#f0f921"
             ]
            ],
            "type": "heatmapgl"
           }
          ],
          "histogram": [
           {
            "marker": {
             "pattern": {
              "fillmode": "overlay",
              "size": 10,
              "solidity": 0.2
             }
            },
            "type": "histogram"
           }
          ],
          "histogram2d": [
           {
            "colorbar": {
             "outlinewidth": 0,
             "ticks": ""
            },
            "colorscale": [
             [
              0,
              "#0d0887"
             ],
             [
              0.1111111111111111,
              "#46039f"
             ],
             [
              0.2222222222222222,
              "#7201a8"
             ],
             [
              0.3333333333333333,
              "#9c179e"
             ],
             [
              0.4444444444444444,
              "#bd3786"
             ],
             [
              0.5555555555555556,
              "#d8576b"
             ],
             [
              0.6666666666666666,
              "#ed7953"
             ],
             [
              0.7777777777777778,
              "#fb9f3a"
             ],
             [
              0.8888888888888888,
              "#fdca26"
             ],
             [
              1,
              "#f0f921"
             ]
            ],
            "type": "histogram2d"
           }
          ],
          "histogram2dcontour": [
           {
            "colorbar": {
             "outlinewidth": 0,
             "ticks": ""
            },
            "colorscale": [
             [
              0,
              "#0d0887"
             ],
             [
              0.1111111111111111,
              "#46039f"
             ],
             [
              0.2222222222222222,
              "#7201a8"
             ],
             [
              0.3333333333333333,
              "#9c179e"
             ],
             [
              0.4444444444444444,
              "#bd3786"
             ],
             [
              0.5555555555555556,
              "#d8576b"
             ],
             [
              0.6666666666666666,
              "#ed7953"
             ],
             [
              0.7777777777777778,
              "#fb9f3a"
             ],
             [
              0.8888888888888888,
              "#fdca26"
             ],
             [
              1,
              "#f0f921"
             ]
            ],
            "type": "histogram2dcontour"
           }
          ],
          "mesh3d": [
           {
            "colorbar": {
             "outlinewidth": 0,
             "ticks": ""
            },
            "type": "mesh3d"
           }
          ],
          "parcoords": [
           {
            "line": {
             "colorbar": {
              "outlinewidth": 0,
              "ticks": ""
             }
            },
            "type": "parcoords"
           }
          ],
          "pie": [
           {
            "automargin": true,
            "type": "pie"
           }
          ],
          "scatter": [
           {
            "marker": {
             "colorbar": {
              "outlinewidth": 0,
              "ticks": ""
             }
            },
            "type": "scatter"
           }
          ],
          "scatter3d": [
           {
            "line": {
             "colorbar": {
              "outlinewidth": 0,
              "ticks": ""
             }
            },
            "marker": {
             "colorbar": {
              "outlinewidth": 0,
              "ticks": ""
             }
            },
            "type": "scatter3d"
           }
          ],
          "scattercarpet": [
           {
            "marker": {
             "colorbar": {
              "outlinewidth": 0,
              "ticks": ""
             }
            },
            "type": "scattercarpet"
           }
          ],
          "scattergeo": [
           {
            "marker": {
             "colorbar": {
              "outlinewidth": 0,
              "ticks": ""
             }
            },
            "type": "scattergeo"
           }
          ],
          "scattergl": [
           {
            "marker": {
             "colorbar": {
              "outlinewidth": 0,
              "ticks": ""
             }
            },
            "type": "scattergl"
           }
          ],
          "scattermapbox": [
           {
            "marker": {
             "colorbar": {
              "outlinewidth": 0,
              "ticks": ""
             }
            },
            "type": "scattermapbox"
           }
          ],
          "scatterpolar": [
           {
            "marker": {
             "colorbar": {
              "outlinewidth": 0,
              "ticks": ""
             }
            },
            "type": "scatterpolar"
           }
          ],
          "scatterpolargl": [
           {
            "marker": {
             "colorbar": {
              "outlinewidth": 0,
              "ticks": ""
             }
            },
            "type": "scatterpolargl"
           }
          ],
          "scatterternary": [
           {
            "marker": {
             "colorbar": {
              "outlinewidth": 0,
              "ticks": ""
             }
            },
            "type": "scatterternary"
           }
          ],
          "surface": [
           {
            "colorbar": {
             "outlinewidth": 0,
             "ticks": ""
            },
            "colorscale": [
             [
              0,
              "#0d0887"
             ],
             [
              0.1111111111111111,
              "#46039f"
             ],
             [
              0.2222222222222222,
              "#7201a8"
             ],
             [
              0.3333333333333333,
              "#9c179e"
             ],
             [
              0.4444444444444444,
              "#bd3786"
             ],
             [
              0.5555555555555556,
              "#d8576b"
             ],
             [
              0.6666666666666666,
              "#ed7953"
             ],
             [
              0.7777777777777778,
              "#fb9f3a"
             ],
             [
              0.8888888888888888,
              "#fdca26"
             ],
             [
              1,
              "#f0f921"
             ]
            ],
            "type": "surface"
           }
          ],
          "table": [
           {
            "cells": {
             "fill": {
              "color": "#EBF0F8"
             },
             "line": {
              "color": "white"
             }
            },
            "header": {
             "fill": {
              "color": "#C8D4E3"
             },
             "line": {
              "color": "white"
             }
            },
            "type": "table"
           }
          ]
         },
         "layout": {
          "annotationdefaults": {
           "arrowcolor": "#2a3f5f",
           "arrowhead": 0,
           "arrowwidth": 1
          },
          "autotypenumbers": "strict",
          "coloraxis": {
           "colorbar": {
            "outlinewidth": 0,
            "ticks": ""
           }
          },
          "colorscale": {
           "diverging": [
            [
             0,
             "#8e0152"
            ],
            [
             0.1,
             "#c51b7d"
            ],
            [
             0.2,
             "#de77ae"
            ],
            [
             0.3,
             "#f1b6da"
            ],
            [
             0.4,
             "#fde0ef"
            ],
            [
             0.5,
             "#f7f7f7"
            ],
            [
             0.6,
             "#e6f5d0"
            ],
            [
             0.7,
             "#b8e186"
            ],
            [
             0.8,
             "#7fbc41"
            ],
            [
             0.9,
             "#4d9221"
            ],
            [
             1,
             "#276419"
            ]
           ],
           "sequential": [
            [
             0,
             "#0d0887"
            ],
            [
             0.1111111111111111,
             "#46039f"
            ],
            [
             0.2222222222222222,
             "#7201a8"
            ],
            [
             0.3333333333333333,
             "#9c179e"
            ],
            [
             0.4444444444444444,
             "#bd3786"
            ],
            [
             0.5555555555555556,
             "#d8576b"
            ],
            [
             0.6666666666666666,
             "#ed7953"
            ],
            [
             0.7777777777777778,
             "#fb9f3a"
            ],
            [
             0.8888888888888888,
             "#fdca26"
            ],
            [
             1,
             "#f0f921"
            ]
           ],
           "sequentialminus": [
            [
             0,
             "#0d0887"
            ],
            [
             0.1111111111111111,
             "#46039f"
            ],
            [
             0.2222222222222222,
             "#7201a8"
            ],
            [
             0.3333333333333333,
             "#9c179e"
            ],
            [
             0.4444444444444444,
             "#bd3786"
            ],
            [
             0.5555555555555556,
             "#d8576b"
            ],
            [
             0.6666666666666666,
             "#ed7953"
            ],
            [
             0.7777777777777778,
             "#fb9f3a"
            ],
            [
             0.8888888888888888,
             "#fdca26"
            ],
            [
             1,
             "#f0f921"
            ]
           ]
          },
          "colorway": [
           "#636efa",
           "#EF553B",
           "#00cc96",
           "#ab63fa",
           "#FFA15A",
           "#19d3f3",
           "#FF6692",
           "#B6E880",
           "#FF97FF",
           "#FECB52"
          ],
          "font": {
           "color": "#2a3f5f"
          },
          "geo": {
           "bgcolor": "white",
           "lakecolor": "white",
           "landcolor": "#E5ECF6",
           "showlakes": true,
           "showland": true,
           "subunitcolor": "white"
          },
          "hoverlabel": {
           "align": "left"
          },
          "hovermode": "closest",
          "mapbox": {
           "style": "light"
          },
          "paper_bgcolor": "white",
          "plot_bgcolor": "#E5ECF6",
          "polar": {
           "angularaxis": {
            "gridcolor": "white",
            "linecolor": "white",
            "ticks": ""
           },
           "bgcolor": "#E5ECF6",
           "radialaxis": {
            "gridcolor": "white",
            "linecolor": "white",
            "ticks": ""
           }
          },
          "scene": {
           "xaxis": {
            "backgroundcolor": "#E5ECF6",
            "gridcolor": "white",
            "gridwidth": 2,
            "linecolor": "white",
            "showbackground": true,
            "ticks": "",
            "zerolinecolor": "white"
           },
           "yaxis": {
            "backgroundcolor": "#E5ECF6",
            "gridcolor": "white",
            "gridwidth": 2,
            "linecolor": "white",
            "showbackground": true,
            "ticks": "",
            "zerolinecolor": "white"
           },
           "zaxis": {
            "backgroundcolor": "#E5ECF6",
            "gridcolor": "white",
            "gridwidth": 2,
            "linecolor": "white",
            "showbackground": true,
            "ticks": "",
            "zerolinecolor": "white"
           }
          },
          "shapedefaults": {
           "line": {
            "color": "#2a3f5f"
           }
          },
          "ternary": {
           "aaxis": {
            "gridcolor": "white",
            "linecolor": "white",
            "ticks": ""
           },
           "baxis": {
            "gridcolor": "white",
            "linecolor": "white",
            "ticks": ""
           },
           "bgcolor": "#E5ECF6",
           "caxis": {
            "gridcolor": "white",
            "linecolor": "white",
            "ticks": ""
           }
          },
          "title": {
           "x": 0.05
          },
          "xaxis": {
           "automargin": true,
           "gridcolor": "white",
           "linecolor": "white",
           "ticks": "",
           "title": {
            "standoff": 15
           },
           "zerolinecolor": "white",
           "zerolinewidth": 2
          },
          "yaxis": {
           "automargin": true,
           "gridcolor": "white",
           "linecolor": "white",
           "ticks": "",
           "title": {
            "standoff": 15
           },
           "zerolinecolor": "white",
           "zerolinewidth": 2
          }
         }
        },
        "title": {
         "text": "Number of different columns"
        },
        "xaxis": {
         "anchor": "y",
         "autorange": true,
         "constrain": "domain",
         "domain": [
          0.4146110056925997,
          0.5853889943074004
         ],
         "range": [
          -0.5,
          4.5
         ],
         "scaleanchor": "y",
         "type": "category"
        },
        "yaxis": {
         "anchor": "x",
         "autorange": true,
         "constrain": "domain",
         "domain": [
          0,
          1
         ],
         "range": [
          4.5,
          -0.5
         ],
         "type": "category"
        }
       }
      },
      "image/png": "[encoded data removed]",
      "text/html": [
       "<div>                            <div id=\"6f3e6536-3fec-447c-b0a2-71a166c5a297\" class=\"plotly-graph-div\" style=\"height:525px; width:100%;\"></div>            <script type=\"text/javascript\">                require([\"plotly\"], function(Plotly) {                    window.PLOTLYENV=window.PLOTLYENV || {};                                    if (document.getElementById(\"6f3e6536-3fec-447c-b0a2-71a166c5a297\")) {                    Plotly.newPlot(                        \"6f3e6536-3fec-447c-b0a2-71a166c5a297\",                        [{\"coloraxis\":\"coloraxis\",\"name\":\"0\",\"x\":[\"2014\",\"2015\",\"2017\",\"2018\",\"2019\"],\"y\":[\"2014\",\"2015\",\"2017\",\"2018\",\"2019\"],\"z\":[[0,123,1891,1895,1901],[123,0,1784,1788,1794],[1891,1784,0,46,54],[1895,1788,46,0,8],[1901,1794,54,8,0]],\"type\":\"heatmap\",\"xaxis\":\"x\",\"yaxis\":\"y\",\"hovertemplate\":\"x: %{x}<br>y: %{y}<br>color: %{z}<extra></extra>\"}],                        {\"template\":{\"data\":{\"bar\":[{\"error_x\":{\"color\":\"#2a3f5f\"},\"error_y\":{\"color\":\"#2a3f5f\"},\"marker\":{\"line\":{\"color\":\"#E5ECF6\",\"width\":0.5},\"pattern\":{\"fillmode\":\"overlay\",\"size\":10,\"solidity\":0.2}},\"type\":\"bar\"}],\"barpolar\":[{\"marker\":{\"line\":{\"color\":\"#E5ECF6\",\"width\":0.5},\"pattern\":{\"fillmode\":\"overlay\",\"size\":10,\"solidity\":0.2}},\"type\":\"barpolar\"}],\"carpet\":[{\"aaxis\":{\"endlinecolor\":\"#2a3f5f\",\"gridcolor\":\"white\",\"linecolor\":\"white\",\"minorgridcolor\":\"white\",\"startlinecolor\":\"#2a3f5f\"},\"baxis\":{\"endlinecolor\":\"#2a3f5f\",\"gridcolor\":\"white\",\"linecolor\":\"white\",\"minorgridcolor\":\"white\",\"startlinecolor\":\"#2a3f5f\"},\"type\":\"carpet\"}],\"choropleth\":[{\"colorbar\":{\"outlinewidth\":0,\"ticks\":\"\"},\"type\":\"choropleth\"}],\"contour\":[{\"colorbar\":{\"outlinewidth\":0,\"ticks\":\"\"},\"colorscale\":[[0.0,\"#0d0887\"],[0.1111111111111111,\"#46039f\"],[0.2222222222222222,\"#7201a8\"],[0.3333333333333333,\"#9c179e\"],[0.4444444444444444,\"#bd3786\"],[0.5555555555555556,\"#d8576b\"],[0.6666666666666666,\"#ed7953\"],[0.7777777777777778,\"#fb9f3a\"],[0.8888888888888888,\"#fdca26\"],[1.0,\"#f0f921\"]],\"type\":\"contour\"}],\"contourcarpet\":[{\"colorbar\":{\"outlinewidth\":0,\"ticks\":\"\"},\"type\":\"contourcarpet\"}],\"heatmap\":[{\"colorbar\":{\"outlinewidth\":0,\"ticks\":\"\"},\"colorscale\":[[0.0,\"#0d0887\"],[0.1111111111111111,\"#46039f\"],[0.2222222222222222,\"#7201a8\"],[0.3333333333333333,\"#9c179e\"],[0.4444444444444444,\"#bd3786\"],[0.5555555555555556,\"#d8576b\"],[0.6666666666666666,\"#ed7953\"],[0.7777777777777778,\"#fb9f3a\"],[0.8888888888888888,\"#fdca26\"],[1.0,\"#f0f921\"]],\"type\":\"heatmap\"}],\"heatmapgl\":[{\"colorbar\":{\"outlinewidth\":0,\"ticks\":\"\"},\"colorscale\":[[0.0,\"#0d0887\"],[0.1111111111111111,\"#46039f\"],[0.2222222222222222,\"#7201a8\"],[0.3333333333333333,\"#9c179e\"],[0.4444444444444444,\"#bd3786\"],[0.5555555555555556,\"#d8576b\"],[0.6666666666666666,\"#ed7953\"],[0.7777777777777778,\"#fb9f3a\"],[0.8888888888888888,\"#fdca26\"],[1.0,\"#f0f921\"]],\"type\":\"heatmapgl\"}],\"histogram\":[{\"marker\":{\"pattern\":{\"fillmode\":\"overlay\",\"size\":10,\"solidity\":0.2}},\"type\":\"histogram\"}],\"histogram2d\":[{\"colorbar\":{\"outlinewidth\":0,\"ticks\":\"\"},\"colorscale\":[[0.0,\"#0d0887\"],[0.1111111111111111,\"#46039f\"],[0.2222222222222222,\"#7201a8\"],[0.3333333333333333,\"#9c179e\"],[0.4444444444444444,\"#bd3786\"],[0.5555555555555556,\"#d8576b\"],[0.6666666666666666,\"#ed7953\"],[0.7777777777777778,\"#fb9f3a\"],[0.8888888888888888,\"#fdca26\"],[1.0,\"#f0f921\"]],\"type\":\"histogram2d\"}],\"histogram2dcontour\":[{\"colorbar\":{\"outlinewidth\":0,\"ticks\":\"\"},\"colorscale\":[[0.0,\"#0d0887\"],[0.1111111111111111,\"#46039f\"],[0.2222222222222222,\"#7201a8\"],[0.3333333333333333,\"#9c179e\"],[0.4444444444444444,\"#bd3786\"],[0.5555555555555556,\"#d8576b\"],[0.6666666666666666,\"#ed7953\"],[0.7777777777777778,\"#fb9f3a\"],[0.8888888888888888,\"#fdca26\"],[1.0,\"#f0f921\"]],\"type\":\"histogram2dcontour\"}],\"mesh3d\":[{\"colorbar\":{\"outlinewidth\":0,\"ticks\":\"\"},\"type\":\"mesh3d\"}],\"parcoords\":[{\"line\":{\"colorbar\":{\"outlinewidth\":0,\"ticks\":\"\"}},\"type\":\"parcoords\"}],\"pie\":[{\"automargin\":true,\"type\":\"pie\"}],\"scatter\":[{\"marker\":{\"colorbar\":{\"outlinewidth\":0,\"ticks\":\"\"}},\"type\":\"scatter\"}],\"scatter3d\":[{\"line\":{\"colorbar\":{\"outlinewidth\":0,\"ticks\":\"\"}},\"marker\":{\"colorbar\":{\"outlinewidth\":0,\"ticks\":\"\"}},\"type\":\"scatter3d\"}],\"scattercarpet\":[{\"marker\":{\"colorbar\":{\"outlinewidth\":0,\"ticks\":\"\"}},\"type\":\"scattercarpet\"}],\"scattergeo\":[{\"marker\":{\"colorbar\":{\"outlinewidth\":0,\"ticks\":\"\"}},\"type\":\"scattergeo\"}],\"scattergl\":[{\"marker\":{\"colorbar\":{\"outlinewidth\":0,\"ticks\":\"\"}},\"type\":\"scattergl\"}],\"scattermapbox\":[{\"marker\":{\"colorbar\":{\"outlinewidth\":0,\"ticks\":\"\"}},\"type\":\"scattermapbox\"}],\"scatterpolar\":[{\"marker\":{\"colorbar\":{\"outlinewidth\":0,\"ticks\":\"\"}},\"type\":\"scatterpolar\"}],\"scatterpolargl\":[{\"marker\":{\"colorbar\":{\"outlinewidth\":0,\"ticks\":\"\"}},\"type\":\"scatterpolargl\"}],\"scatterternary\":[{\"marker\":{\"colorbar\":{\"outlinewidth\":0,\"ticks\":\"\"}},\"type\":\"scatterternary\"}],\"surface\":[{\"colorbar\":{\"outlinewidth\":0,\"ticks\":\"\"},\"colorscale\":[[0.0,\"#0d0887\"],[0.1111111111111111,\"#46039f\"],[0.2222222222222222,\"#7201a8\"],[0.3333333333333333,\"#9c179e\"],[0.4444444444444444,\"#bd3786\"],[0.5555555555555556,\"#d8576b\"],[0.6666666666666666,\"#ed7953\"],[0.7777777777777778,\"#fb9f3a\"],[0.8888888888888888,\"#fdca26\"],[1.0,\"#f0f921\"]],\"type\":\"surface\"}],\"table\":[{\"cells\":{\"fill\":{\"color\":\"#EBF0F8\"},\"line\":{\"color\":\"white\"}},\"header\":{\"fill\":{\"color\":\"#C8D4E3\"},\"line\":{\"color\":\"white\"}},\"type\":\"table\"}]},\"layout\":{\"annotationdefaults\":{\"arrowcolor\":\"#2a3f5f\",\"arrowhead\":0,\"arrowwidth\":1},\"autotypenumbers\":\"strict\",\"coloraxis\":{\"colorbar\":{\"outlinewidth\":0,\"ticks\":\"\"}},\"colorscale\":{\"diverging\":[[0,\"#8e0152\"],[0.1,\"#c51b7d\"],[0.2,\"#de77ae\"],[0.3,\"#f1b6da\"],[0.4,\"#fde0ef\"],[0.5,\"#f7f7f7\"],[0.6,\"#e6f5d0\"],[0.7,\"#b8e186\"],[0.8,\"#7fbc41\"],[0.9,\"#4d9221\"],[1,\"#276419\"]],\"sequential\":[[0.0,\"#0d0887\"],[0.1111111111111111,\"#46039f\"],[0.2222222222222222,\"#7201a8\"],[0.3333333333333333,\"#9c179e\"],[0.4444444444444444,\"#bd3786\"],[0.5555555555555556,\"#d8576b\"],[0.6666666666666666,\"#ed7953\"],[0.7777777777777778,\"#fb9f3a\"],[0.8888888888888888,\"#fdca26\"],[1.0,\"#f0f921\"]],\"sequentialminus\":[[0.0,\"#0d0887\"],[0.1111111111111111,\"#46039f\"],[0.2222222222222222,\"#7201a8\"],[0.3333333333333333,\"#9c179e\"],[0.4444444444444444,\"#bd3786\"],[0.5555555555555556,\"#d8576b\"],[0.6666666666666666,\"#ed7953\"],[0.7777777777777778,\"#fb9f3a\"],[0.8888888888888888,\"#fdca26\"],[1.0,\"#f0f921\"]]},\"colorway\":[\"#636efa\",\"#EF553B\",\"#00cc96\",\"#ab63fa\",\"#FFA15A\",\"#19d3f3\",\"#FF6692\",\"#B6E880\",\"#FF97FF\",\"#FECB52\"],\"font\":{\"color\":\"#2a3f5f\"},\"geo\":{\"bgcolor\":\"white\",\"lakecolor\":\"white\",\"landcolor\":\"#E5ECF6\",\"showlakes\":true,\"showland\":true,\"subunitcolor\":\"white\"},\"hoverlabel\":{\"align\":\"left\"},\"hovermode\":\"closest\",\"mapbox\":{\"style\":\"light\"},\"paper_bgcolor\":\"white\",\"plot_bgcolor\":\"#E5ECF6\",\"polar\":{\"angularaxis\":{\"gridcolor\":\"white\",\"linecolor\":\"white\",\"ticks\":\"\"},\"bgcolor\":\"#E5ECF6\",\"radialaxis\":{\"gridcolor\":\"white\",\"linecolor\":\"white\",\"ticks\":\"\"}},\"scene\":{\"xaxis\":{\"backgroundcolor\":\"#E5ECF6\",\"gridcolor\":\"white\",\"gridwidth\":2,\"linecolor\":\"white\",\"showbackground\":true,\"ticks\":\"\",\"zerolinecolor\":\"white\"},\"yaxis\":{\"backgroundcolor\":\"#E5ECF6\",\"gridcolor\":\"white\",\"gridwidth\":2,\"linecolor\":\"white\",\"showbackground\":true,\"ticks\":\"\",\"zerolinecolor\":\"white\"},\"zaxis\":{\"backgroundcolor\":\"#E5ECF6\",\"gridcolor\":\"white\",\"gridwidth\":2,\"linecolor\":\"white\",\"showbackground\":true,\"ticks\":\"\",\"zerolinecolor\":\"white\"}},\"shapedefaults\":{\"line\":{\"color\":\"#2a3f5f\"}},\"ternary\":{\"aaxis\":{\"gridcolor\":\"white\",\"linecolor\":\"white\",\"ticks\":\"\"},\"baxis\":{\"gridcolor\":\"white\",\"linecolor\":\"white\",\"ticks\":\"\"},\"bgcolor\":\"#E5ECF6\",\"caxis\":{\"gridcolor\":\"white\",\"linecolor\":\"white\",\"ticks\":\"\"}},\"title\":{\"x\":0.05},\"xaxis\":{\"automargin\":true,\"gridcolor\":\"white\",\"linecolor\":\"white\",\"ticks\":\"\",\"title\":{\"standoff\":15},\"zerolinecolor\":\"white\",\"zerolinewidth\":2},\"yaxis\":{\"automargin\":true,\"gridcolor\":\"white\",\"linecolor\":\"white\",\"ticks\":\"\",\"title\":{\"standoff\":15},\"zerolinecolor\":\"white\",\"zerolinewidth\":2}}},\"xaxis\":{\"anchor\":\"y\",\"domain\":[0.0,1.0],\"scaleanchor\":\"y\",\"constrain\":\"domain\"},\"yaxis\":{\"anchor\":\"x\",\"domain\":[0.0,1.0],\"autorange\":\"reversed\",\"constrain\":\"domain\"},\"coloraxis\":{\"colorscale\":[[0.0,\"#0d0887\"],[0.1111111111111111,\"#46039f\"],[0.2222222222222222,\"#7201a8\"],[0.3333333333333333,\"#9c179e\"],[0.4444444444444444,\"#bd3786\"],[0.5555555555555556,\"#d8576b\"],[0.6666666666666666,\"#ed7953\"],[0.7777777777777778,\"#fb9f3a\"],[0.8888888888888888,\"#fdca26\"],[1.0,\"#f0f921\"]]},\"title\":{\"text\":\"Number of different columns\"}},                        {\"responsive\": true}                    ).then(function(){\n",
       "                            \n",
       "var gd = document.getElementById('6f3e6536-3fec-447c-b0a2-71a166c5a297');\n",
       "var x = new MutationObserver(function (mutations, observer) {{\n",
       "        var display = window.getComputedStyle(gd).display;\n",
       "        if (!display || display === 'none') {{\n",
       "            console.log([gd, 'removed!']);\n",
       "            Plotly.purge(gd);\n",
       "            observer.disconnect();\n",
       "        }}\n",
       "}});\n",
       "\n",
       "// Listen for the removal of the full notebook cells\n",
       "var notebookContainer = gd.closest('#notebook-container');\n",
       "if (notebookContainer) {{\n",
       "    x.observe(notebookContainer, {childList: true});\n",
       "}}\n",
       "\n",
       "// Listen for the clearing of the current output cell\n",
       "var outputEl = gd.closest('.output');\n",
       "if (outputEl) {{\n",
       "    x.observe(outputEl, {childList: true});\n",
       "}}\n",
       "\n",
       "                        })                };                });            </script>        </div>"
      ]
     },
     "metadata": {},
     "output_type": "display_data"
    }
   ],
   "source": [
    "headers = []\n",
    "for tsv_path in tsv_paths:\n",
    "    with open(tsv_path, \"r\") as f:\n",
    "        headers.append(next(f).split(\"\\t\"))\n",
    "\n",
    "headers = [set(h) for h in headers]\n",
    "\n",
    "diffs = [[h1 ^ h2 for h2 in headers] for h1 in headers]\n",
    "n_diffs = [[len(v) for v in row] for row in diffs]\n",
    "names = [str(year) for year in range(2014, 2020) if year != 2016]\n",
    "px.imshow(\n",
    "    pd.DataFrame(n_diffs, index=names, columns=names),\n",
    "    title=\"Number of different columns\",\n",
    ")"
   ]
  },
  {
   "cell_type": "markdown",
   "id": "3e135ccd-67ff-45b7-8849-d650eb8e1378",
   "metadata": {},
   "source": [
    "# Try all combinations"
   ]
  },
  {
   "cell_type": "code",
   "execution_count": 13,
   "id": "acc6f984-a09a-429d-93c3-ed72035f62b9",
   "metadata": {},
   "outputs": [
    {
     "data": {
      "text/plain": [
       "'data/NSDUH_Versions/NSDUH_Versions/NSDUH-2002-2014-DS0001-bndl-data-tsv/NSDUH-2002-2014-DS0001-data/2002.tsv'"
      ]
     },
     "execution_count": 13,
     "metadata": {},
     "output_type": "execute_result"
    }
   ],
   "source": [
    "tsv_paths[0]"
   ]
  },
  {
   "cell_type": "code",
   "execution_count": null,
   "id": "84a1a9c3-3876-4fff-a574-4e8b149a5c6c",
   "metadata": {},
   "outputs": [
    {
     "data": {
      "application/vnd.jupyter.widget-view+json": {
       "model_id": "2cc3853114d441d0accde74332bfb8bc",
       "version_major": 2,
       "version_minor": 0
      },
      "text/plain": [
       "  0%|          | 0/65 [00:00<?, ?it/s]"
      ]
     },
     "metadata": {},
     "output_type": "display_data"
    },
    {
     "name": "stdout",
     "output_type": "stream",
     "text": [
      "Loading data\n"
     ]
    }
   ],
   "source": [
    "numbers = {year: {} for year in range(2002, 2015)}\n",
    "\n",
    "for tsv_path in tqdm(tsv_paths):\n",
    "    tqdm.write(\"Loading data\")\n",
    "    parent_dir = os.path.dirname(tsv_path)\n",
    "    with open(os.path.join(parent_dir, \"schema.txt\"), \"r\") as f:\n",
    "        dtype = eval(f.read())\n",
    "        dtype = {k: v if v != int else float for k, v in dtype.items()}\n",
    "    df = pd.read_csv(tsv_path, sep=\"\\t\", dtype=dtype)\n",
    "    tqdm.write(\"Data loaded\")\n",
    "\n",
    "    year = int(tsv_path.split(\"/\")[-1].removesuffix(\".tsv\"))\n",
    "    version = None\n",
    "    for pat, v in version_mapping.items():\n",
    "        if pat in tsv_path:\n",
    "            version = v\n",
    "            break\n",
    "    assert version is not None\n",
    "    \n",
    "    if df['AGE2'].dtype == str:\n",
    "        df['AGE2'] = df['AGE2'].str.split().str[0].astype(int)\n",
    "    numbers[year][version] = df[df[\"AGE2\"] <= 10].shape[0]"
   ]
  },
  {
   "cell_type": "code",
   "execution_count": null,
   "id": "b47ffc0e-f6a6-4e1c-9324-8abf3732ee8b",
   "metadata": {},
   "outputs": [],
   "source": [
    "good = pd.read_csv(tsv_paths[0][1], sep=\"\\t\", skipinitialspace=True, usecols=cols)\n",
    "bad = pd.read_csv(tsv_paths[0][2], sep=\"\\t\", skipinitialspace=True, usecols=cols)"
   ]
  },
  {
   "cell_type": "code",
   "execution_count": null,
   "id": "5b7a984f-b70f-4c83-aeee-979ba680ccb7",
   "metadata": {},
   "outputs": [],
   "source": [
    "bad_full.columns[2084]"
   ]
  },
  {
   "cell_type": "code",
   "execution_count": null,
   "id": "a568631b-8791-45df-bbb7-df20c262de7f",
   "metadata": {},
   "outputs": [],
   "source": [
    "bad_full = pd.read_csv(tsv_paths[0][2], sep=\"\\t\", skipinitialspace=True)"
   ]
  },
  {
   "cell_type": "code",
   "execution_count": null,
   "id": "5b43734e-6f55-4ea0-9c9c-ccfc5a5aed43",
   "metadata": {},
   "outputs": [],
   "source": [
    "import numpy as np"
   ]
  },
  {
   "cell_type": "code",
   "execution_count": null,
   "id": "3930aa52-fa4c-44bd-a44b-d80593cdf710",
   "metadata": {},
   "outputs": [],
   "source": [
    "bad2 = pd.read_csv(tsv_paths[0][2], sep=\"\\t\", dtype={\"GQTYPE\": np.int64})"
   ]
  },
  {
   "cell_type": "code",
   "execution_count": null,
   "id": "2de0a064-b26b-49db-b411-2309121148f2",
   "metadata": {},
   "outputs": [],
   "source": [
    "bad2"
   ]
  },
  {
   "cell_type": "code",
   "execution_count": null,
   "id": "10c34278-663b-49f5-90d3-0edbf097e191",
   "metadata": {},
   "outputs": [],
   "source": [
    "bad_full.iloc[:, 2084].dtype"
   ]
  },
  {
   "cell_type": "code",
   "execution_count": null,
   "id": "6c1f2b13-a3ae-43f8-a62c-75001b03d29f",
   "metadata": {},
   "outputs": [],
   "source": [
    "good"
   ]
  },
  {
   "cell_type": "code",
   "execution_count": null,
   "id": "97e45606-81a8-48d7-a6d4-9f1acd6ade3b",
   "metadata": {
    "tags": []
   },
   "outputs": [],
   "source": [
    "dfs = [\n",
    "    process_map(\n",
    "        partial(pd.read_csv, sep=\"\\t\", skipinitialspace=True, usecols=cols), paths\n",
    "    )\n",
    "    for paths in tqdm(tsv_paths)\n",
    "]"
   ]
  },
  {
   "cell_type": "code",
   "execution_count": null,
   "id": "d3712d72-1348-4d5b-a9a9-8186ab1377f8",
   "metadata": {},
   "outputs": [],
   "source": [
    "dfs[0][3].iloc[:, 1864]"
   ]
  },
  {
   "cell_type": "code",
   "execution_count": null,
   "id": "9bb4cd87-f4c4-4d60-bc2f-9b6ae7f3423f",
   "metadata": {},
   "outputs": [],
   "source": [
    "for dfs_ in tqdm(dfs):\n",
    "    for df in dfs_:\n",
    "        df[\"AGE2\"] = pd.to_numeric(df[\"AGE2\"].str.split().str[0])"
   ]
  },
  {
   "cell_type": "code",
   "execution_count": null,
   "id": "c95cd784-04c6-4f53-b5c2-7217119fd328",
   "metadata": {},
   "outputs": [],
   "source": [
    "from itertools import product"
   ]
  },
  {
   "cell_type": "code",
   "execution_count": null,
   "id": "ba53cdf9-59b5-485b-a0c1-aa41e5ceae03",
   "metadata": {},
   "outputs": [],
   "source": [
    "rez = {}\n",
    "\n",
    "N = sum(1 for _ in product(*tsv_paths))\n",
    "for paths, dfs_ in tqdm(zip(product(*tsv_paths), product(*dfs)), total=N):\n",
    "    n1, n2 = 0, 0\n",
    "    for df in dfs_:\n",
    "        n1 += len(df[df[\"AGE2\"].str.split().str[0] <= 10])\n",
    "        n2 += len(df[df[\"AGE2\"].str.split().str[0] < 10])\n",
    "\n",
    "    rez[paths] = (n1, n2)"
   ]
  },
  {
   "cell_type": "code",
   "execution_count": null,
   "id": "d58428ea-5b20-437e-8b17-e224ef7992a0",
   "metadata": {},
   "outputs": [
    {
     "name": "stderr",
     "output_type": "stream",
     "text": [
      "/home/astadnik/.virtualenvs/masters/lib/python3.10/site-packages/dask/dataframe/io/csv.py:182: DtypeWarning: Columns (1645,1646,1647,1648,1649,1650,1651,1652,1653,1654,1655,1656,1657,1658,1659,1660,1661,1662,1663,1664,1665,1666,1667,1668,1669,1670,1671,1672,1673,1674,1675,1676,1677,1678,1679,1680,1681,1682,1683,1684,1685,1686,1687,1688,1689,1690,1691,1692,1693,1694,1695,1696,1697,1698,1699,1700,1701,1702,1703,1704,1705,1706,1707,1708,1709,1710,1711,1712,1713,1714,1715,1716,1717,1718,1719,1720,1721,1722,1723,1724,1725,1726,1727,1728,1729,1730,1731,1732,1733,1734,1735,1736,1737,1738,1739,1740,1741,1742,1743,1744,1745,1746,1747,1748,1749,1750,1751,1752,1753,1754,1755,1756,1757,1758,1759,1760,1761,1762,1763,1764,1765,1766,1767,1768,1769,1770,1771,1772,1773,1774,1775,1776,1777,1778,1779,1780,1781,1782,1783,1784,1785,1786,1787,1788,1789,1790,1791,1792,1793,1794,1795,1796,1797,1798,1799,1800,1801,1802,1803,1804,1805,1806,1807,1808,1809,1810,1811,1812,1813,1814,1815,1816,1817,1818,1819,1820,1821,1822,1823) have mixed types. Specify dtype option on import or set low_memory=False.\n",
      "  df = reader(bio, **kwargs)\n",
      "/home/astadnik/.virtualenvs/masters/lib/python3.10/site-packages/dask/dataframe/io/csv.py:182: DtypeWarning: Columns (1611,1612,1613,1614,1615,1616,1617,1618,1619,1620,1621,1622,1623,1624,1625,1626,1627,1628,1629,1630,1631,1632,1633,1634,1635,1636,1637,1638,1639,1640,1641,1642,1643,1644,1645,1646,1647,1648,1649,1650,1651,1652,1653,1654,1655,1656,1657,1658,1659,1660,1661,1662,1663,1664,1665,1666,1667,1668,1669,1670,1671,1672,1673,1674,1675,1676,1677,1678,1679,1680,1681,1682,1683,1684,1685,1686,1687,1688,1689,1690,1691,1692,1693,1694,1695,1696,1697,1698,1699,1700,1701,1702,1703,1704,1705,1706,1707,1708,1709,1710,1711,1712,1713,1714,1715,1716,1717,1718,1719,1720,1721,1722,1723,1724,1725,1726,1727,1728,1729,1730,1731,1732,1733,1734,1735,1736,1737,1738) have mixed types. Specify dtype option on import or set low_memory=False.\n",
      "  df = reader(bio, **kwargs)\n",
      "/home/astadnik/.virtualenvs/masters/lib/python3.10/site-packages/dask/dataframe/io/csv.py:182: DtypeWarning: Columns (1605,1607,1608,1609,1610,1611,1612,1613,1614,1615,1616,1617,1618,1619,1620,1621,1622,1623,1624,1625,1626,1627,1628,1629,1630,1631,1632,1633,1634,1635,1636,1637,1638,1639,1640,1641,1642,1643,1644,1645,1646,1647,1648,1649,1650,1651,1652,1653,1654,1655,1656,1657,1658,1659,1660,1661,1662,1663,1664,1665,1666,1667,1668,1669,1670,1671,1672,1673,1674,1675,1676,1677,1678,1679,1680,1681,1682,1683,1684,1685,1686,1687,1688,1689,1690,1691,1692,1693,1694,1695,1696,1697,1698,1699,1700,1701,1702,1703,1704,1705,1706,1707,1708,1709,1710,1711,1712,1713,1714,1715,1716,1717,1718,1719,1720,1721,1722,1723,1724,1725,1726,1727,1728,1729,1730,1731,1732,1733,1734,1735,1736,1737,1738,1739,1740,1741,1742,1743,1744,1745,1746,1747,1748,1749,1750,1751,1752,1753,1754,1755,1756,1757,1758,1759,1760,1761,1762,1763,1764,1765,1766,1767,1768,1769,1770,1771,1772,1773,1774,1775,1776,1777,1778,1779,1780,1781,1782,1783,1784,1785,1786,1787,1788,1789,1790,1791,1792,1793,1794,1795,1796,1797,1798,1799,1800,1801,1802) have mixed types. Specify dtype option on import or set low_memory=False.\n",
      "  df = reader(bio, **kwargs)\n",
      "/home/astadnik/.virtualenvs/masters/lib/python3.10/site-packages/dask/dataframe/io/csv.py:182: DtypeWarning: Columns (1597,1598,1599,1600,1601,1602,1603,1604,1605,1606,1607,1608,1609,1610,1611,1612,1613,1614,1615,1616,1617,1618,1619,1620,1621,1622,1623,1624,1625,1626,1627,1628,1629,1630,1631,1632,1633,1634,1635,1636,1637,1638,1639,1640,1641,1642,1643,1644,1645,1646,1647,1648,1649,1650,1651,1652,1653,1654,1655,1656,1657,1658,1659,1660,1661,1662,1663,1664,1665,1666,1667,1668,1669,1670,1671,1672,1673,1674,1675,1676,1677,1678,1679,1680,1681,1682,1683,1684,1685,1686,1687,1688,1689,1690,1691,1692,1693,1694,1695,1696) have mixed types. Specify dtype option on import or set low_memory=False.\n",
      "  df = reader(bio, **kwargs)\n",
      "/home/astadnik/.virtualenvs/masters/lib/python3.10/site-packages/dask/dataframe/io/csv.py:182: DtypeWarning: Columns (1634,1635,1636,1637,1638,1639,1640,1641,1642,1643,1644,1645,1646,1647,1648,1649,1650,1651,1652,1653,1654,1655,1656,1657,1658,1659,1660,1661,1662,1663,1664,1665,1666,1667,1668,1669,1670,1671,1672,1673,1674,1675,1676,1677,1678,1679,1680,1681,1682,1683,1684,1685,1686,1687,1688,1689,1690,1691,1692,1693,1694,1695,1696,1697,1698,1699,1700,1701,1702,1703,1704,1705,1706,1707,1708,1709,1710,1711,1712,1713,1714,1715,1716,1717,1718,1719,1720,1721,1722,1723,1724,1725,1726,1727,1728,1729,1730,1731,1732,1733,1734,1735,1736,1737,1738,1739,1740,1741,1742,1743,1744,1745,1746,1747,1748,1749,1750,1751,1752) have mixed types. Specify dtype option on import or set low_memory=False.\n",
      "  df = reader(bio, **kwargs)\n"
     ]
    }
   ],
   "source": [
    "# dfs = process_map(\n",
    "#     partial(pd.read_csv, sep=\"\\t\", skipinitialspace=True, usecols=cols), tsv_paths\n",
    "# )\n",
    "data_path = \"data/NSDUN_versions\"\n",
    "if not os.path.exists(data_path):\n",
    "    os.mkdir(data_path)\n",
    "\n",
    "for v, tsv_path in enumerate(tqdm(tsv_paths)):\n",
    "    v_path = os.path.join(data_path, f\"V{v}\")\n",
    "    if not os.path.exists(v_path):\n",
    "        os.mkdir(v_path)\n",
    "    df = pd.read_csv(tsv_paths[0], sep=\"\\t\", skipinitialspace=True, engine=\"python\")\n",
    "    for year in trange(2002, 2015):\n",
    "        df[df[\"YEAR\"] == year].to_pickle(os.path.join(v_path, f\"NSDUN_{year}.pkl\"))\n",
    "\n",
    "    del df"
   ]
  }
 ],
 "metadata": {
  "kernelspec": {
   "display_name": "Python 3 (ipykernel)",
   "language": "python",
   "name": "python3"
  },
  "language_info": {
   "codemirror_mode": {
    "name": "ipython",
    "version": 3
   },
   "file_extension": ".py",
   "mimetype": "text/x-python",
   "name": "python",
   "nbconvert_exporter": "python",
   "pygments_lexer": "ipython3",
   "version": "3.10.5"
  }
 },
 "nbformat": 4,
 "nbformat_minor": 5
}
