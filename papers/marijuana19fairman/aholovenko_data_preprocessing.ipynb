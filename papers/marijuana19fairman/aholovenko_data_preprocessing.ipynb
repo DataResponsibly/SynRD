{
 "cells": [
  {
   "cell_type": "code",
   "execution_count": 1,
   "id": "9b186cea",
   "metadata": {},
   "outputs": [],
   "source": [
    "import numpy as np\n",
    "import pandas as pd\n",
    "import glob\n",
    "import os\n",
    "import warnings\n",
    "%matplotlib inline\n",
    "warnings.filterwarnings('ignore')\n",
    "pd.set_option('display.max_rows', None)\n",
    "pd.set_option('display.max_columns', None)"
   ]
  },
  {
   "cell_type": "markdown",
   "id": "cfcbf471",
   "metadata": {},
   "source": [
    "# Merge historical data"
   ]
  },
  {
   "cell_type": "markdown",
   "id": "9acec523",
   "metadata": {},
   "source": [
    "data can be found on [ICPSR website](https://www.icpsr.umich.edu/web/ICPSR/series/64/studies)"
   ]
  },
  {
   "cell_type": "code",
   "execution_count": 2,
   "id": "db0c96c0",
   "metadata": {},
   "outputs": [
    {
     "name": "stdout",
     "output_type": "stream",
     "text": [
      "field CIGTRY  not in ../../data/32722-0001-Data.tsv\n",
      "field CIGTRY  not in ../../data/23782-0001-Data.tsv\n",
      "field MTHAAGE not in ../../data/04596-0001-Data.tsv\n",
      "field CIGTRY  not in ../../data/04596-0001-Data.tsv\n",
      "field CIGTRY  not in ../../data/26701-0001-Data.tsv\n",
      "field CIGTRY  not in ../../data/29621-0001-Data.tsv\n",
      "field CIGTRY  not in ../../data/36361-0001-Data.tsv\n",
      "field CIGTRY  not in ../../data/35509-0001-Data.tsv\n",
      "field MTHAAGE not in ../../data/04373-0001-Data.tsv\n",
      "field CIGTRY  not in ../../data/04373-0001-Data.tsv\n",
      "field BLNTAGE not in ../../data/04373-0001-Data.tsv\n",
      "field MTHAAGE not in ../../data/21240-0001-Data.tsv\n",
      "field CIGTRY  not in ../../data/21240-0001-Data.tsv\n",
      "field CIGTRY  not in ../../data/34481-0001-Data.tsv\n",
      "field CIGTRY  not in ../../data/34933-0001-Data.tsv\n",
      "CPU times: user 16.8 s, sys: 671 ms, total: 17.4 s\n",
      "Wall time: 17.4 s\n"
     ]
    }
   ],
   "source": [
    "%%time\n",
    "\n",
    "dfs = []\n",
    "files = glob.glob('../../data/*.tsv')\n",
    "fields = ['NEWRACE', 'AGE', 'IRSEX', 'HERAGE', 'LSDAGE', 'PCPAGE',\n",
    "          'CRKAGE', 'ECSAGE', 'COCAGE', 'METHAGE', 'CIGAGE', 'SNUFTRY',\n",
    "          'CHEWTRY', 'MTHAAGE', 'OXYCAGE', 'CIGTRY ', 'SEDAGE', 'STIMAGE',\n",
    "          'TRANAGE', 'CIGARTRY', 'INHAGE', 'MJAGE', 'ANALAGE', 'BLNTAGE', 'ALCTRY'] #+ \\\n",
    "    #['MRJMDAYS',  'MRJYDAYS', 'DEPNDALC', 'DEPNDMRJ', 'NDSSDNSP']\n",
    "\n",
    "for file in files:\n",
    "    df_n1 = pd.read_csv(file, sep='\\t', skipinitialspace=True, nrows=1)\n",
    "    current_columns = []\n",
    "    for field in fields:\n",
    "        if field in df_n1.columns:\n",
    "            current_columns.append(field)\n",
    "        elif f'{field}2' in df_n1.columns:\n",
    "            current_columns.append(f'{field}2')\n",
    "        else:\n",
    "            print(f'field {field} not in {file}')\n",
    "    df = pd.read_csv(file, sep='\\t', skipinitialspace=True, usecols=current_columns)\n",
    "    df['file_name'] = os.path.basename(file)\n",
    "    dfs.append(df)"
   ]
  },
  {
   "cell_type": "code",
   "execution_count": 3,
   "id": "e66030c7",
   "metadata": {},
   "outputs": [
    {
     "data": {
      "text/plain": [
       "(613974, 25)"
      ]
     },
     "execution_count": 3,
     "metadata": {},
     "output_type": "execute_result"
    }
   ],
   "source": [
    "main_df = pd.concat(dfs)\n",
    "main_df_backlog = main_df.copy()\n",
    "main_df.shape  # data diff 613774 (real) - 615701 (paper) = -1927 difference"
   ]
  },
  {
   "cell_type": "code",
   "execution_count": 4,
   "id": "7c8f218d",
   "metadata": {},
   "outputs": [
    {
     "data": {
      "text/html": [
       "<div>\n",
       "<style scoped>\n",
       "    .dataframe tbody tr th:only-of-type {\n",
       "        vertical-align: middle;\n",
       "    }\n",
       "\n",
       "    .dataframe tbody tr th {\n",
       "        vertical-align: top;\n",
       "    }\n",
       "\n",
       "    .dataframe thead th {\n",
       "        text-align: right;\n",
       "    }\n",
       "</style>\n",
       "<table border=\"1\" class=\"dataframe\">\n",
       "  <thead>\n",
       "    <tr style=\"text-align: right;\">\n",
       "      <th></th>\n",
       "      <th>CIGAGE</th>\n",
       "      <th>SNUFTRY</th>\n",
       "      <th>CHEWTRY</th>\n",
       "      <th>CIGARTRY</th>\n",
       "      <th>ALCTRY</th>\n",
       "      <th>MJAGE</th>\n",
       "      <th>COCAGE</th>\n",
       "      <th>CRKAGE</th>\n",
       "      <th>HERAGE</th>\n",
       "      <th>LSDAGE</th>\n",
       "      <th>PCPAGE</th>\n",
       "      <th>ECSAGE</th>\n",
       "      <th>INHAGE</th>\n",
       "      <th>ANALAGE</th>\n",
       "      <th>OXYCAGE</th>\n",
       "      <th>TRANAGE</th>\n",
       "      <th>STIMAGE</th>\n",
       "      <th>METHAGE</th>\n",
       "      <th>SEDAGE</th>\n",
       "      <th>MTHAAGE</th>\n",
       "      <th>BLNTAGE</th>\n",
       "      <th>AGE2</th>\n",
       "      <th>IRSEX</th>\n",
       "      <th>NEWRACE2</th>\n",
       "      <th>file_name</th>\n",
       "    </tr>\n",
       "  </thead>\n",
       "  <tbody>\n",
       "    <tr>\n",
       "      <th>0</th>\n",
       "      <td>999</td>\n",
       "      <td>991</td>\n",
       "      <td>991</td>\n",
       "      <td>991</td>\n",
       "      <td>16</td>\n",
       "      <td>16</td>\n",
       "      <td>991</td>\n",
       "      <td>991</td>\n",
       "      <td>991</td>\n",
       "      <td>991</td>\n",
       "      <td>991</td>\n",
       "      <td>991</td>\n",
       "      <td>991</td>\n",
       "      <td>991</td>\n",
       "      <td>991</td>\n",
       "      <td>991</td>\n",
       "      <td>991</td>\n",
       "      <td>991</td>\n",
       "      <td>991</td>\n",
       "      <td>991.0</td>\n",
       "      <td>991.0</td>\n",
       "      <td>9</td>\n",
       "      <td>1</td>\n",
       "      <td>2</td>\n",
       "      <td>32722-0001-Data.tsv</td>\n",
       "    </tr>\n",
       "    <tr>\n",
       "      <th>1</th>\n",
       "      <td>15</td>\n",
       "      <td>991</td>\n",
       "      <td>991</td>\n",
       "      <td>991</td>\n",
       "      <td>13</td>\n",
       "      <td>14</td>\n",
       "      <td>991</td>\n",
       "      <td>991</td>\n",
       "      <td>991</td>\n",
       "      <td>991</td>\n",
       "      <td>991</td>\n",
       "      <td>991</td>\n",
       "      <td>991</td>\n",
       "      <td>991</td>\n",
       "      <td>991</td>\n",
       "      <td>991</td>\n",
       "      <td>991</td>\n",
       "      <td>991</td>\n",
       "      <td>991</td>\n",
       "      <td>991.0</td>\n",
       "      <td>17.0</td>\n",
       "      <td>12</td>\n",
       "      <td>2</td>\n",
       "      <td>1</td>\n",
       "      <td>32722-0001-Data.tsv</td>\n",
       "    </tr>\n",
       "  </tbody>\n",
       "</table>\n",
       "</div>"
      ],
      "text/plain": [
       "   CIGAGE  SNUFTRY  CHEWTRY  CIGARTRY  ALCTRY  MJAGE  COCAGE  CRKAGE  HERAGE  \\\n",
       "0     999      991      991       991      16     16     991     991     991   \n",
       "1      15      991      991       991      13     14     991     991     991   \n",
       "\n",
       "   LSDAGE  PCPAGE  ECSAGE  INHAGE  ANALAGE  OXYCAGE  TRANAGE  STIMAGE  \\\n",
       "0     991     991     991     991      991      991      991      991   \n",
       "1     991     991     991     991      991      991      991      991   \n",
       "\n",
       "   METHAGE  SEDAGE  MTHAAGE  BLNTAGE  AGE2  IRSEX  NEWRACE2  \\\n",
       "0      991     991    991.0    991.0     9      1         2   \n",
       "1      991     991    991.0     17.0    12      2         1   \n",
       "\n",
       "             file_name  \n",
       "0  32722-0001-Data.tsv  \n",
       "1  32722-0001-Data.tsv  "
      ]
     },
     "execution_count": 4,
     "metadata": {},
     "output_type": "execute_result"
    }
   ],
   "source": [
    "main_df.head(2)"
   ]
  },
  {
   "cell_type": "markdown",
   "id": "ec43a455",
   "metadata": {},
   "source": [
    "# Preprocessing"
   ]
  },
  {
   "cell_type": "code",
   "execution_count": 5,
   "id": "705ba7c7",
   "metadata": {},
   "outputs": [],
   "source": [
    "file_to_year_mapping = {f:2004+i for i, f in enumerate(sorted([os.path.basename(f) for f in files]))}\n",
    "class_mapping = {\n",
    "    'MJAGE': 'MARIJUANA',\n",
    "    'ALCTRY': 'ALCOHOL',\n",
    "    'CIGAGE': 'CIGARETTES',\n",
    "    'NOUSAGE': 'NO_DRUG_USE',\n",
    "    'CIGARTRY': 'OTHER_TABACCO',\n",
    "    'SNUFTRY': 'OTHER_TABACCO',\n",
    "    'CHEWTRY': 'OTHER_TABACCO',\n",
    "    'HERAGE': 'OTHER_DRUGS',\n",
    "    'LSDAGE': 'OTHER_DRUGS',\n",
    "    'PCPAGE': 'OTHER_DRUGS',\n",
    "    'CRKAGE': 'OTHER_DRUGS',\n",
    "    'ECSAGE': 'OTHER_DRUGS',\n",
    "    'COCAGE': 'OTHER_DRUGS',\n",
    "    'METHAGE': 'OTHER_DRUGS',\n",
    "    'MTHAAGE': 'OTHER_DRUGS',\n",
    "    'OXYCAGE': 'OTHER_DRUGS',\n",
    "    'SEDAGE': 'OTHER_DRUGS',\n",
    "    'STIMAGE': 'OTHER_DRUGS',\n",
    "    'TRANAGE': 'OTHER_DRUGS',\n",
    "    'INHAGE': 'OTHER_DRUGS',\n",
    "    'ANALAGE': 'OTHER_DRUGS',\n",
    "    'BLNTAGE': 'OTHER_DRUGS'\n",
    "}\n",
    "age_to_group_mapping = {\n",
    "    12: '12-13',\n",
    "    13: '12-13',\n",
    "    14: '14-15',\n",
    "    15: '14-15',\n",
    "    16: '16-17',\n",
    "    17: '16-17',\n",
    "    18: '18-19',\n",
    "    19: '18-19',\n",
    "    20: '20-21',\n",
    "    21: '20-21'\n",
    "}\n",
    "classes = ['MJAGE', 'CIGAGE', 'ALCTRY', 'CIGARTRY', 'SNUFTRY',\n",
    "           'CHEWTRY', 'HERAGE', 'LSDAGE', 'PCPAGE', 'CRKAGE',\n",
    "           'ECSAGE', 'COCAGE', 'METHAGE', 'MTHAAGE', 'OXYCAGE',\n",
    "           'SEDAGE', 'STIMAGE', 'TRANAGE', 'INHAGE', 'ANALAGE',\n",
    "           'BLNTAGE']\n",
    "classes_new = classes + ['NOUSAGE']\n",
    "\n",
    "def prepare_data(df):\n",
    "    df['YEAR'] = df['file_name'].map(file_to_year_mapping) # infer year\n",
    "    df[['MTHAAGE', 'BLNTAGE']] = df[['MTHAAGE', 'BLNTAGE']].fillna(10e5)  # fill in nan\n",
    "    # data diff 296467 (real) - 297632 (paper) = -1165 \n",
    "    df = df[(df['AGE2'] < 11)]  # filter people < 22 yo\n",
    "    df['ARGMINAGE'] = df[classes].values.argmin(axis=1)  # index of substance that was used first\n",
    "    df['MINAGE'] = df[classes].values.min(axis=1)  # substance that was used first\n",
    "    df['ARGMINAGE'] = np.where(df['MINAGE'] > 900, 21, df['ARGMINAGE'])  # values > 900 - no drug usage\n",
    "    # mapping to good-looking values\n",
    "    df['SEX'] = df['IRSEX'].map({1: 'Male', 2: 'Female'})\n",
    "    df['AGE'] = df['AGE2'].map({i:i+11 for i in range(1, 11)})\n",
    "    df['RACE'] = df['NEWRACE2'].map({1: 'White', 2: 'Black', 3: 'AI/AN', 4: 'NHOPI', 5: 'Asian', 6: 'Multi-racial', 7: 'Hispanic'})\n",
    "    df['CLASS_NARROW'] = df['ARGMINAGE'].map(lambda x: classes_new[x])\n",
    "    df['CLASS'] = df['CLASS_NARROW'].map(class_mapping)\n",
    "    df['AGE_GROUP'] = df['AGE'].map(age_to_group_mapping)\n",
    "    df.reset_index(inplace=True, drop=True)\n",
    "    df = df[['YEAR', 'CLASS', 'SEX', 'RACE', 'AGE_GROUP', 'AGE']]\n",
    "    # make values categorical\n",
    "    df['SEX'] = df['SEX'].astype('category')\n",
    "    df['RACE'] = df['RACE'].astype('category')\n",
    "    df['AGE_GROUP'] = df['AGE_GROUP'].astype('category')\n",
    "    df['CLASS'] = df['CLASS'].astype('category')\n",
    "    df['YEAR'] = df['YEAR'].astype('category')\n",
    "    return df"
   ]
  },
  {
   "cell_type": "code",
   "execution_count": 6,
   "id": "fa0b8860",
   "metadata": {},
   "outputs": [
    {
     "data": {
      "text/plain": [
       "(296467, 6)"
      ]
     },
     "execution_count": 6,
     "metadata": {},
     "output_type": "execute_result"
    }
   ],
   "source": [
    "df = prepare_data(main_df)\n",
    "df.to_csv('../../data/nsduh_processed_data.csv')\n",
    "# df = pd.read_csv('../../data/nsduh_processed_data.csv', index_col=0)\n",
    "df.shape"
   ]
  },
  {
   "cell_type": "code",
   "execution_count": 7,
   "id": "03f5205e",
   "metadata": {},
   "outputs": [
    {
     "data": {
      "text/html": [
       "<div>\n",
       "<style scoped>\n",
       "    .dataframe tbody tr th:only-of-type {\n",
       "        vertical-align: middle;\n",
       "    }\n",
       "\n",
       "    .dataframe tbody tr th {\n",
       "        vertical-align: top;\n",
       "    }\n",
       "\n",
       "    .dataframe thead th {\n",
       "        text-align: right;\n",
       "    }\n",
       "</style>\n",
       "<table border=\"1\" class=\"dataframe\">\n",
       "  <thead>\n",
       "    <tr style=\"text-align: right;\">\n",
       "      <th></th>\n",
       "      <th>YEAR</th>\n",
       "      <th>CLASS</th>\n",
       "      <th>SEX</th>\n",
       "      <th>RACE</th>\n",
       "      <th>AGE_GROUP</th>\n",
       "      <th>AGE</th>\n",
       "    </tr>\n",
       "  </thead>\n",
       "  <tbody>\n",
       "    <tr>\n",
       "      <th>0</th>\n",
       "      <td>2010</td>\n",
       "      <td>MARIJUANA</td>\n",
       "      <td>Male</td>\n",
       "      <td>Black</td>\n",
       "      <td>20-21</td>\n",
       "      <td>20</td>\n",
       "    </tr>\n",
       "    <tr>\n",
       "      <th>1</th>\n",
       "      <td>2010</td>\n",
       "      <td>MARIJUANA</td>\n",
       "      <td>Female</td>\n",
       "      <td>Hispanic</td>\n",
       "      <td>14-15</td>\n",
       "      <td>15</td>\n",
       "    </tr>\n",
       "    <tr>\n",
       "      <th>2</th>\n",
       "      <td>2010</td>\n",
       "      <td>ALCOHOL</td>\n",
       "      <td>Female</td>\n",
       "      <td>White</td>\n",
       "      <td>18-19</td>\n",
       "      <td>18</td>\n",
       "    </tr>\n",
       "    <tr>\n",
       "      <th>3</th>\n",
       "      <td>2010</td>\n",
       "      <td>NO_DRUG_USE</td>\n",
       "      <td>Male</td>\n",
       "      <td>Hispanic</td>\n",
       "      <td>12-13</td>\n",
       "      <td>13</td>\n",
       "    </tr>\n",
       "    <tr>\n",
       "      <th>4</th>\n",
       "      <td>2010</td>\n",
       "      <td>OTHER_TABACCO</td>\n",
       "      <td>Male</td>\n",
       "      <td>Hispanic</td>\n",
       "      <td>20-21</td>\n",
       "      <td>20</td>\n",
       "    </tr>\n",
       "  </tbody>\n",
       "</table>\n",
       "</div>"
      ],
      "text/plain": [
       "   YEAR          CLASS     SEX      RACE AGE_GROUP  AGE\n",
       "0  2010      MARIJUANA    Male     Black     20-21   20\n",
       "1  2010      MARIJUANA  Female  Hispanic     14-15   15\n",
       "2  2010        ALCOHOL  Female     White     18-19   18\n",
       "3  2010    NO_DRUG_USE    Male  Hispanic     12-13   13\n",
       "4  2010  OTHER_TABACCO    Male  Hispanic     20-21   20"
      ]
     },
     "execution_count": 7,
     "metadata": {},
     "output_type": "execute_result"
    }
   ],
   "source": [
    "df.head()"
   ]
  },
  {
   "cell_type": "code",
   "execution_count": null,
   "id": "04c8aaf5",
   "metadata": {},
   "outputs": [],
   "source": []
  }
 ],
 "metadata": {
  "kernelspec": {
   "display_name": "Python 3 (ipykernel)",
   "language": "python",
   "name": "python3"
  },
  "language_info": {
   "codemirror_mode": {
    "name": "ipython",
    "version": 3
   },
   "file_extension": ".py",
   "mimetype": "text/x-python",
   "name": "python",
   "nbconvert_exporter": "python",
   "pygments_lexer": "ipython3",
   "version": "3.8.10"
  },
  "vscode": {
   "interpreter": {
    "hash": "6597d1ed23b894caf154b6750f098a8514a19e03807460ffd2d8425103778dc0"
   }
  }
 },
 "nbformat": 4,
 "nbformat_minor": 5
}
