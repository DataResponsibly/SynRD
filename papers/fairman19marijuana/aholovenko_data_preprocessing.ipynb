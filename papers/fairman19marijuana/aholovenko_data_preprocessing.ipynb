{
 "cells": [
  {
   "cell_type": "code",
   "execution_count": 239,
   "id": "9b186cea",
   "metadata": {},
   "outputs": [],
   "source": [
    "import numpy as np\n",
    "import pandas as pd\n",
    "import glob\n",
    "import os\n",
    "import warnings\n",
    "%matplotlib inline\n",
    "warnings.filterwarnings('ignore')\n",
    "pd.set_option('display.max_rows', None)\n",
    "pd.set_option('display.max_columns', None)"
   ]
  },
  {
   "cell_type": "markdown",
   "id": "cfcbf471",
   "metadata": {},
   "source": [
    "# Merge historical data"
   ]
  },
  {
   "cell_type": "markdown",
   "id": "9acec523",
   "metadata": {},
   "source": [
    "data can be found on [ICPSR website](https://www.icpsr.umich.edu/web/ICPSR/series/64/studies)"
   ]
  },
  {
   "cell_type": "code",
   "execution_count": 240,
   "id": "db0c96c0",
   "metadata": {},
   "outputs": [
    {
     "name": "stdout",
     "output_type": "stream",
     "text": [
      "CPU times: user 16.9 s, sys: 688 ms, total: 17.6 s\n",
      "Wall time: 17.6 s\n"
     ]
    }
   ],
   "source": [
    "%%time\n",
    "\n",
    "dfs = []\n",
    "files = glob.glob('../../data/*.tsv')\n",
    "# fields = ['NEWRACE', 'AGE', 'IRSEX', 'HERAGE', 'LSDAGE', 'PCPAGE',\n",
    "#           'CRKAGE', 'ECSAGE', 'COCAGE', 'METHAGE', 'CIGAGE', 'SNUFTRY',\n",
    "#           'CHEWTRY', 'MTHAAGE', 'OXYCAGE', 'CIGTRY ', 'SEDAGE', 'STIMAGE',\n",
    "#           'TRANAGE', 'CIGARTRY', 'INHAGE', 'MJAGE', 'ANALAGE', 'BLNTAGE', 'ALCTRY', 'USEACM'] \n",
    "\n",
    "general = ['NEWRACE', 'AGE', 'IRSEX', 'USEACM']\n",
    "cig = ['CIGTRY']\n",
    "alc = ['ALCTRY']\n",
    "mar = ['MJAGE']\n",
    "other_tobacco = ['CIGARTRY', 'CHEWTRY', 'SNUFTRY', 'SLTTRY']\n",
    "other_drugs = ['COCAGE', 'HALLAGE', 'HERAGE', 'INHAGE', 'ANALAGE', 'SEDAGE', 'STIMAGE', 'TRANAGE']\n",
    "fields = general + cig + alc + mar + other_tobacco + other_drugs\n",
    "\n",
    "for file in files:\n",
    "    df_n1 = pd.read_csv(file, sep='\\t', skipinitialspace=True, nrows=1)\n",
    "    current_columns = []\n",
    "    for field in fields:\n",
    "        field = field.strip()\n",
    "        if field in df_n1.columns:\n",
    "            current_columns.append(field)\n",
    "        elif f'{field}2' in df_n1.columns:\n",
    "            current_columns.append(f'{field}2')\n",
    "        else:\n",
    "            print(f'field {field} not in {file}')\n",
    "    current_columns += ['CIGTRY']\n",
    "    df = pd.read_csv(file, sep='\\t', skipinitialspace=True, usecols=current_columns)\n",
    "    df['file_name'] = os.path.basename(file)\n",
    "    dfs.append(df)"
   ]
  },
  {
   "cell_type": "code",
   "execution_count": 279,
   "id": "571e3dff",
   "metadata": {},
   "outputs": [
    {
     "data": {
      "text/plain": [
       "['CIGTRY',\n",
       " 'ALCTRY',\n",
       " 'MJAGE',\n",
       " 'CIGARTRY',\n",
       " 'CHEWTRY',\n",
       " 'SNUFTRY',\n",
       " 'SLTTRY',\n",
       " 'COCAGE',\n",
       " 'HALLAGE',\n",
       " 'HERAGE',\n",
       " 'INHAGE',\n",
       " 'ANALAGE',\n",
       " 'SEDAGE',\n",
       " 'STIMAGE',\n",
       " 'TRANAGE']"
      ]
     },
     "execution_count": 279,
     "metadata": {},
     "output_type": "execute_result"
    }
   ],
   "source": [
    "classes"
   ]
  },
  {
   "cell_type": "code",
   "execution_count": 241,
   "id": "e66030c7",
   "metadata": {},
   "outputs": [
    {
     "data": {
      "text/plain": [
       "(613974, 20)"
      ]
     },
     "execution_count": 241,
     "metadata": {},
     "output_type": "execute_result"
    }
   ],
   "source": [
    "main_df = pd.concat(dfs)\n",
    "# main_df_backlog = main_df.copy()\n",
    "main_df.shape  # data diff 613774 (real) - 615701 (paper) = -1927 difference"
   ]
  },
  {
   "cell_type": "code",
   "execution_count": 242,
   "id": "e3030798",
   "metadata": {},
   "outputs": [
    {
     "name": "stdout",
     "output_type": "stream",
     "text": [
      "CPU times: user 93.6 ms, sys: 32 ms, total: 126 ms\n",
      "Wall time: 125 ms\n"
     ]
    },
    {
     "data": {
      "text/html": [
       "<div>\n",
       "<style scoped>\n",
       "    .dataframe tbody tr th:only-of-type {\n",
       "        vertical-align: middle;\n",
       "    }\n",
       "\n",
       "    .dataframe tbody tr th {\n",
       "        vertical-align: top;\n",
       "    }\n",
       "\n",
       "    .dataframe thead th {\n",
       "        text-align: right;\n",
       "    }\n",
       "</style>\n",
       "<table border=\"1\" class=\"dataframe\">\n",
       "  <thead>\n",
       "    <tr style=\"text-align: right;\">\n",
       "      <th></th>\n",
       "      <th>CIGTRY</th>\n",
       "      <th>SNUFTRY</th>\n",
       "      <th>CHEWTRY</th>\n",
       "      <th>SLTTRY</th>\n",
       "      <th>CIGARTRY</th>\n",
       "      <th>ALCTRY</th>\n",
       "      <th>MJAGE</th>\n",
       "      <th>COCAGE</th>\n",
       "      <th>HERAGE</th>\n",
       "      <th>HALLAGE</th>\n",
       "      <th>INHAGE</th>\n",
       "      <th>ANALAGE</th>\n",
       "      <th>TRANAGE</th>\n",
       "      <th>STIMAGE</th>\n",
       "      <th>SEDAGE</th>\n",
       "      <th>USEACM</th>\n",
       "      <th>AGE2</th>\n",
       "      <th>IRSEX</th>\n",
       "      <th>NEWRACE2</th>\n",
       "      <th>file_name</th>\n",
       "      <th>MINAGE</th>\n",
       "      <th>MINAGE_CLASS</th>\n",
       "      <th>CLASSES_LIST</th>\n",
       "      <th>YEAR</th>\n",
       "      <th>SEX</th>\n",
       "      <th>AGE</th>\n",
       "      <th>RACE</th>\n",
       "      <th>AGE_GROUP</th>\n",
       "    </tr>\n",
       "  </thead>\n",
       "  <tbody>\n",
       "    <tr>\n",
       "      <th>0</th>\n",
       "      <td>991</td>\n",
       "      <td>991</td>\n",
       "      <td>991</td>\n",
       "      <td>991</td>\n",
       "      <td>991</td>\n",
       "      <td>14</td>\n",
       "      <td>14</td>\n",
       "      <td>991</td>\n",
       "      <td>991</td>\n",
       "      <td>991</td>\n",
       "      <td>991</td>\n",
       "      <td>991</td>\n",
       "      <td>991</td>\n",
       "      <td>991</td>\n",
       "      <td>991</td>\n",
       "      <td>99</td>\n",
       "      <td>4</td>\n",
       "      <td>2</td>\n",
       "      <td>7</td>\n",
       "      <td>32722-0001-Data.tsv</td>\n",
       "      <td>14</td>\n",
       "      <td>None</td>\n",
       "      <td>None</td>\n",
       "      <td>2010</td>\n",
       "      <td>Female</td>\n",
       "      <td>15</td>\n",
       "      <td>Hispanic</td>\n",
       "      <td>14-15</td>\n",
       "    </tr>\n",
       "    <tr>\n",
       "      <th>1</th>\n",
       "      <td>14</td>\n",
       "      <td>991</td>\n",
       "      <td>991</td>\n",
       "      <td>991</td>\n",
       "      <td>991</td>\n",
       "      <td>13</td>\n",
       "      <td>991</td>\n",
       "      <td>991</td>\n",
       "      <td>991</td>\n",
       "      <td>991</td>\n",
       "      <td>991</td>\n",
       "      <td>991</td>\n",
       "      <td>991</td>\n",
       "      <td>991</td>\n",
       "      <td>991</td>\n",
       "      <td>99</td>\n",
       "      <td>7</td>\n",
       "      <td>2</td>\n",
       "      <td>1</td>\n",
       "      <td>32722-0001-Data.tsv</td>\n",
       "      <td>13</td>\n",
       "      <td>None</td>\n",
       "      <td>None</td>\n",
       "      <td>2010</td>\n",
       "      <td>Female</td>\n",
       "      <td>18</td>\n",
       "      <td>White</td>\n",
       "      <td>18-19</td>\n",
       "    </tr>\n",
       "    <tr>\n",
       "      <th>2</th>\n",
       "      <td>991</td>\n",
       "      <td>991</td>\n",
       "      <td>991</td>\n",
       "      <td>991</td>\n",
       "      <td>991</td>\n",
       "      <td>991</td>\n",
       "      <td>991</td>\n",
       "      <td>991</td>\n",
       "      <td>991</td>\n",
       "      <td>991</td>\n",
       "      <td>991</td>\n",
       "      <td>991</td>\n",
       "      <td>991</td>\n",
       "      <td>991</td>\n",
       "      <td>991</td>\n",
       "      <td>91</td>\n",
       "      <td>2</td>\n",
       "      <td>1</td>\n",
       "      <td>7</td>\n",
       "      <td>32722-0001-Data.tsv</td>\n",
       "      <td>999</td>\n",
       "      <td>NO_DRUG_USE</td>\n",
       "      <td>NO_DRUG_USE</td>\n",
       "      <td>2010</td>\n",
       "      <td>Male</td>\n",
       "      <td>13</td>\n",
       "      <td>Hispanic</td>\n",
       "      <td>12-13</td>\n",
       "    </tr>\n",
       "    <tr>\n",
       "      <th>3</th>\n",
       "      <td>15</td>\n",
       "      <td>991</td>\n",
       "      <td>991</td>\n",
       "      <td>991</td>\n",
       "      <td>15</td>\n",
       "      <td>16</td>\n",
       "      <td>16</td>\n",
       "      <td>18</td>\n",
       "      <td>991</td>\n",
       "      <td>991</td>\n",
       "      <td>991</td>\n",
       "      <td>18</td>\n",
       "      <td>991</td>\n",
       "      <td>991</td>\n",
       "      <td>991</td>\n",
       "      <td>99</td>\n",
       "      <td>9</td>\n",
       "      <td>1</td>\n",
       "      <td>7</td>\n",
       "      <td>32722-0001-Data.tsv</td>\n",
       "      <td>15</td>\n",
       "      <td>None</td>\n",
       "      <td>None</td>\n",
       "      <td>2010</td>\n",
       "      <td>Male</td>\n",
       "      <td>20</td>\n",
       "      <td>Hispanic</td>\n",
       "      <td>20-21</td>\n",
       "    </tr>\n",
       "    <tr>\n",
       "      <th>4</th>\n",
       "      <td>991</td>\n",
       "      <td>991</td>\n",
       "      <td>991</td>\n",
       "      <td>991</td>\n",
       "      <td>17</td>\n",
       "      <td>17</td>\n",
       "      <td>18</td>\n",
       "      <td>991</td>\n",
       "      <td>991</td>\n",
       "      <td>991</td>\n",
       "      <td>991</td>\n",
       "      <td>991</td>\n",
       "      <td>991</td>\n",
       "      <td>991</td>\n",
       "      <td>991</td>\n",
       "      <td>99</td>\n",
       "      <td>9</td>\n",
       "      <td>1</td>\n",
       "      <td>1</td>\n",
       "      <td>32722-0001-Data.tsv</td>\n",
       "      <td>17</td>\n",
       "      <td>None</td>\n",
       "      <td>None</td>\n",
       "      <td>2010</td>\n",
       "      <td>Male</td>\n",
       "      <td>20</td>\n",
       "      <td>White</td>\n",
       "      <td>20-21</td>\n",
       "    </tr>\n",
       "  </tbody>\n",
       "</table>\n",
       "</div>"
      ],
      "text/plain": [
       "   CIGTRY  SNUFTRY  CHEWTRY  SLTTRY  CIGARTRY  ALCTRY  MJAGE  COCAGE  HERAGE  \\\n",
       "0     991      991      991     991       991      14     14     991     991   \n",
       "1      14      991      991     991       991      13    991     991     991   \n",
       "2     991      991      991     991       991     991    991     991     991   \n",
       "3      15      991      991     991        15      16     16      18     991   \n",
       "4     991      991      991     991        17      17     18     991     991   \n",
       "\n",
       "   HALLAGE  INHAGE  ANALAGE  TRANAGE  STIMAGE  SEDAGE  USEACM  AGE2  IRSEX  \\\n",
       "0      991     991      991      991      991     991      99     4      2   \n",
       "1      991     991      991      991      991     991      99     7      2   \n",
       "2      991     991      991      991      991     991      91     2      1   \n",
       "3      991     991       18      991      991     991      99     9      1   \n",
       "4      991     991      991      991      991     991      99     9      1   \n",
       "\n",
       "   NEWRACE2            file_name  MINAGE MINAGE_CLASS CLASSES_LIST  YEAR  \\\n",
       "0         7  32722-0001-Data.tsv      14         None         None  2010   \n",
       "1         1  32722-0001-Data.tsv      13         None         None  2010   \n",
       "2         7  32722-0001-Data.tsv     999  NO_DRUG_USE  NO_DRUG_USE  2010   \n",
       "3         7  32722-0001-Data.tsv      15         None         None  2010   \n",
       "4         1  32722-0001-Data.tsv      17         None         None  2010   \n",
       "\n",
       "      SEX  AGE      RACE AGE_GROUP  \n",
       "0  Female   15  Hispanic     14-15  \n",
       "1  Female   18     White     18-19  \n",
       "2    Male   13  Hispanic     12-13  \n",
       "3    Male   20  Hispanic     20-21  \n",
       "4    Male   20     White     20-21  "
      ]
     },
     "execution_count": 242,
     "metadata": {},
     "output_type": "execute_result"
    }
   ],
   "source": [
    "%%time\n",
    "np.random.seed(42)\n",
    "main_df = pd.concat(dfs)\n",
    "file_to_year_mapping = {f:2004+i for i, f in enumerate(sorted([os.path.basename(f) for f in files]))}\n",
    "class_mapping = {\n",
    "    'MARIJUANA': 'MARIJUANA',\n",
    "    'MJAGE': 'MARIJUANA',\n",
    "    'ALCOHOL': 'ALCOHOL',\n",
    "    'ALCTRY': 'ALCOHOL',\n",
    "    'CIGARETTES': 'CIGARETTES',\n",
    "    'CIGTRY': 'CIGARETTES',\n",
    "    'NO_DRUG_USE': 'NO_DRUG_USE',\n",
    "    'NOUSAGE': 'NO_DRUG_USE',\n",
    "    'OTHER_TABACCO': 'OTHER_TABACCO',\n",
    "    'CIGARTRY': 'OTHER_TABACCO',\n",
    "    'SNUFTRY': 'OTHER_TABACCO',\n",
    "    'CHEWTRY': 'OTHER_TABACCO',\n",
    "    'SLTTRY': 'OTHER_TABACCO',\n",
    "    'OTHER_DRUGS': 'OTHER_DRUGS',\n",
    "    'HERAGE': 'OTHER_DRUGS',\n",
    "    'COCAGE': 'OTHER_DRUGS',\n",
    "    'SEDAGE': 'OTHER_DRUGS',\n",
    "    'STIMAGE': 'OTHER_DRUGS',\n",
    "    'TRANAGE': 'OTHER_DRUGS',\n",
    "    'INHAGE': 'OTHER_DRUGS',\n",
    "    'ANALAGE': 'OTHER_DRUGS',\n",
    "    'HALLAGE': 'OTHER_DRUGS'\n",
    "}\n",
    "age_to_group_mapping = {\n",
    "    12: '12-13',\n",
    "    13: '12-13',\n",
    "    14: '14-15',\n",
    "    15: '14-15',\n",
    "    16: '16-17',\n",
    "    17: '16-17',\n",
    "    18: '18-19',\n",
    "    19: '18-19',\n",
    "    20: '20-21',\n",
    "    21: '20-21'\n",
    "}\n",
    "race_mapping = {1: 'White', 2: 'Black', 3: 'AI/AN', 4: 'NHOPI', 5: 'Asian', 6: 'Multi-racial', 7: 'Hispanic'}\n",
    "use_acm_map = {\n",
    "    1: 'ALCOHOL',\n",
    "    2: 'CIGARETTES',\n",
    "    3: 'MARIJUANA',\n",
    "    4: 'ALCOHOL',\n",
    "    5: 'CIGARETTES',\n",
    "    6: 'MARIJUANA',\n",
    "#     11: 'ALCTRY',\n",
    "#     12: 'CIGTRY',\n",
    "#     13: 'MJAGE',\n",
    "    91: 'NO_DRUG_USE',\n",
    "}\n",
    "classes = cig + alc + mar + other_tobacco + other_drugs\n",
    "main_df = main_df[(main_df['AGE2'] < 11)]  # filter people < 22 yo\n",
    "main_df['MINAGE'] = main_df[classes].values.min(axis=1)\n",
    "main_df['MINAGE'] = np.where(main_df['MINAGE'] > 900, 999, main_df['MINAGE'])\n",
    "main_df['MINAGE_CLASS'] = np.where(main_df['MINAGE'] > 900, 'NO_DRUG_USE', None)\n",
    "main_df['CLASSES_LIST'] = np.where(main_df['MINAGE'] > 900, 'NO_DRUG_USE', None)\n",
    "main_df = main_df[~(main_df.MINAGE_CLASS=='NO_DRUG_USE')==(main_df.USEACM==99)] # remove where unknown class\n",
    "main_df['YEAR'] = main_df['file_name'].map(file_to_year_mapping) # infer year\n",
    "main_df['SEX'] = main_df['IRSEX'].map({1: 'Male', 2: 'Female'})\n",
    "main_df['AGE'] = main_df['AGE2'].map({i:i+11 for i in range(1, 11)})\n",
    "main_df['RACE'] = main_df['NEWRACE2'].map(race_mapping)\n",
    "main_df['AGE_GROUP'] = main_df['AGE'].map(age_to_group_mapping)\n",
    "main_df.reset_index(inplace=True, drop=True)\n",
    "main_df.head()"
   ]
  },
  {
   "cell_type": "code",
   "execution_count": 243,
   "id": "539943cd",
   "metadata": {},
   "outputs": [
    {
     "data": {
      "text/plain": [
       "(277254, 28)"
      ]
     },
     "execution_count": 243,
     "metadata": {},
     "output_type": "execute_result"
    }
   ],
   "source": [
    "main_df.shape"
   ]
  },
  {
   "cell_type": "code",
   "execution_count": 244,
   "id": "7bb9e6c3",
   "metadata": {},
   "outputs": [
    {
     "data": {
      "text/plain": [
       "NO_DRUG_USE    0.424557\n",
       "Name: MINAGE_CLASS, dtype: float64"
      ]
     },
     "execution_count": 244,
     "metadata": {},
     "output_type": "execute_result"
    }
   ],
   "source": [
    "main_df.MINAGE_CLASS.value_counts()/main_df.shape[0]"
   ]
  },
  {
   "cell_type": "code",
   "execution_count": 245,
   "id": "447fcf24",
   "metadata": {},
   "outputs": [
    {
     "data": {
      "text/plain": [
       "Male      138850\n",
       "Female    138404\n",
       "Name: SEX, dtype: int64"
      ]
     },
     "execution_count": 245,
     "metadata": {},
     "output_type": "execute_result"
    }
   ],
   "source": [
    "main_df.SEX.value_counts()"
   ]
  },
  {
   "cell_type": "code",
   "execution_count": 246,
   "id": "b7dedc1d",
   "metadata": {},
   "outputs": [
    {
     "data": {
      "text/plain": [
       "12-13    57906\n",
       "14-15    60874\n",
       "16-17    62424\n",
       "18-19    49444\n",
       "20-21    46606\n",
       "Name: AGE_GROUP, dtype: int64"
      ]
     },
     "execution_count": 246,
     "metadata": {},
     "output_type": "execute_result"
    }
   ],
   "source": [
    "main_df.AGE_GROUP.value_counts().sort_index()"
   ]
  },
  {
   "cell_type": "code",
   "execution_count": 247,
   "id": "65645518",
   "metadata": {},
   "outputs": [
    {
     "data": {
      "text/plain": [
       "White           164282\n",
       "Hispanic         49292\n",
       "Black            37656\n",
       "Multi-racial     11080\n",
       "Asian             9434\n",
       "AI/AN             4210\n",
       "NHOPI             1300\n",
       "Name: RACE, dtype: int64"
      ]
     },
     "execution_count": 247,
     "metadata": {},
     "output_type": "execute_result"
    }
   ],
   "source": [
    "main_df.RACE.value_counts()"
   ]
  },
  {
   "cell_type": "code",
   "execution_count": 248,
   "id": "dd444281",
   "metadata": {},
   "outputs": [
    {
     "data": {
      "text/plain": [
       "2004    26046\n",
       "2005    26307\n",
       "2006    25704\n",
       "2007    25513\n",
       "2008    25633\n",
       "2009    25462\n",
       "2010    26375\n",
       "2011    27249\n",
       "2012    25045\n",
       "2013    25024\n",
       "2014    18896\n",
       "Name: YEAR, dtype: int64"
      ]
     },
     "execution_count": 248,
     "metadata": {},
     "output_type": "execute_result"
    }
   ],
   "source": [
    "main_df.YEAR.value_counts().sort_index()"
   ]
  },
  {
   "cell_type": "code",
   "execution_count": 249,
   "id": "93a2a3fa",
   "metadata": {},
   "outputs": [
    {
     "data": {
      "text/plain": [
       "NO_DRUG_USE    117710\n",
       "Name: MINAGE_CLASS, dtype: int64"
      ]
     },
     "execution_count": 249,
     "metadata": {},
     "output_type": "execute_result"
    }
   ],
   "source": [
    "main_df.MINAGE_CLASS.value_counts()"
   ]
  },
  {
   "cell_type": "code",
   "execution_count": 250,
   "id": "912dc5c1",
   "metadata": {},
   "outputs": [
    {
     "data": {
      "text/html": [
       "<div>\n",
       "<style scoped>\n",
       "    .dataframe tbody tr th:only-of-type {\n",
       "        vertical-align: middle;\n",
       "    }\n",
       "\n",
       "    .dataframe tbody tr th {\n",
       "        vertical-align: top;\n",
       "    }\n",
       "\n",
       "    .dataframe thead th {\n",
       "        text-align: right;\n",
       "    }\n",
       "</style>\n",
       "<table border=\"1\" class=\"dataframe\">\n",
       "  <thead>\n",
       "    <tr style=\"text-align: right;\">\n",
       "      <th></th>\n",
       "      <th>CIGTRY</th>\n",
       "      <th>SNUFTRY</th>\n",
       "      <th>CHEWTRY</th>\n",
       "      <th>SLTTRY</th>\n",
       "      <th>CIGARTRY</th>\n",
       "      <th>ALCTRY</th>\n",
       "      <th>MJAGE</th>\n",
       "      <th>COCAGE</th>\n",
       "      <th>HERAGE</th>\n",
       "      <th>HALLAGE</th>\n",
       "      <th>INHAGE</th>\n",
       "      <th>ANALAGE</th>\n",
       "      <th>TRANAGE</th>\n",
       "      <th>STIMAGE</th>\n",
       "      <th>SEDAGE</th>\n",
       "      <th>USEACM</th>\n",
       "      <th>AGE2</th>\n",
       "      <th>IRSEX</th>\n",
       "      <th>NEWRACE2</th>\n",
       "      <th>file_name</th>\n",
       "      <th>MINAGE</th>\n",
       "      <th>MINAGE_CLASS</th>\n",
       "      <th>CLASSES_LIST</th>\n",
       "      <th>YEAR</th>\n",
       "      <th>SEX</th>\n",
       "      <th>AGE</th>\n",
       "      <th>RACE</th>\n",
       "      <th>AGE_GROUP</th>\n",
       "    </tr>\n",
       "  </thead>\n",
       "  <tbody>\n",
       "    <tr>\n",
       "      <th>0</th>\n",
       "      <td>991</td>\n",
       "      <td>991</td>\n",
       "      <td>991</td>\n",
       "      <td>991</td>\n",
       "      <td>991</td>\n",
       "      <td>14</td>\n",
       "      <td>14</td>\n",
       "      <td>991</td>\n",
       "      <td>991</td>\n",
       "      <td>991</td>\n",
       "      <td>991</td>\n",
       "      <td>991</td>\n",
       "      <td>991</td>\n",
       "      <td>991</td>\n",
       "      <td>991</td>\n",
       "      <td>99</td>\n",
       "      <td>4</td>\n",
       "      <td>2</td>\n",
       "      <td>7</td>\n",
       "      <td>32722-0001-Data.tsv</td>\n",
       "      <td>14</td>\n",
       "      <td>None</td>\n",
       "      <td>None</td>\n",
       "      <td>2010</td>\n",
       "      <td>Female</td>\n",
       "      <td>15</td>\n",
       "      <td>Hispanic</td>\n",
       "      <td>14-15</td>\n",
       "    </tr>\n",
       "    <tr>\n",
       "      <th>1</th>\n",
       "      <td>14</td>\n",
       "      <td>991</td>\n",
       "      <td>991</td>\n",
       "      <td>991</td>\n",
       "      <td>991</td>\n",
       "      <td>13</td>\n",
       "      <td>991</td>\n",
       "      <td>991</td>\n",
       "      <td>991</td>\n",
       "      <td>991</td>\n",
       "      <td>991</td>\n",
       "      <td>991</td>\n",
       "      <td>991</td>\n",
       "      <td>991</td>\n",
       "      <td>991</td>\n",
       "      <td>99</td>\n",
       "      <td>7</td>\n",
       "      <td>2</td>\n",
       "      <td>1</td>\n",
       "      <td>32722-0001-Data.tsv</td>\n",
       "      <td>13</td>\n",
       "      <td>None</td>\n",
       "      <td>None</td>\n",
       "      <td>2010</td>\n",
       "      <td>Female</td>\n",
       "      <td>18</td>\n",
       "      <td>White</td>\n",
       "      <td>18-19</td>\n",
       "    </tr>\n",
       "    <tr>\n",
       "      <th>2</th>\n",
       "      <td>991</td>\n",
       "      <td>991</td>\n",
       "      <td>991</td>\n",
       "      <td>991</td>\n",
       "      <td>991</td>\n",
       "      <td>991</td>\n",
       "      <td>991</td>\n",
       "      <td>991</td>\n",
       "      <td>991</td>\n",
       "      <td>991</td>\n",
       "      <td>991</td>\n",
       "      <td>991</td>\n",
       "      <td>991</td>\n",
       "      <td>991</td>\n",
       "      <td>991</td>\n",
       "      <td>91</td>\n",
       "      <td>2</td>\n",
       "      <td>1</td>\n",
       "      <td>7</td>\n",
       "      <td>32722-0001-Data.tsv</td>\n",
       "      <td>999</td>\n",
       "      <td>NO_DRUG_USE</td>\n",
       "      <td>NO_DRUG_USE</td>\n",
       "      <td>2010</td>\n",
       "      <td>Male</td>\n",
       "      <td>13</td>\n",
       "      <td>Hispanic</td>\n",
       "      <td>12-13</td>\n",
       "    </tr>\n",
       "    <tr>\n",
       "      <th>3</th>\n",
       "      <td>15</td>\n",
       "      <td>991</td>\n",
       "      <td>991</td>\n",
       "      <td>991</td>\n",
       "      <td>15</td>\n",
       "      <td>16</td>\n",
       "      <td>16</td>\n",
       "      <td>18</td>\n",
       "      <td>991</td>\n",
       "      <td>991</td>\n",
       "      <td>991</td>\n",
       "      <td>18</td>\n",
       "      <td>991</td>\n",
       "      <td>991</td>\n",
       "      <td>991</td>\n",
       "      <td>99</td>\n",
       "      <td>9</td>\n",
       "      <td>1</td>\n",
       "      <td>7</td>\n",
       "      <td>32722-0001-Data.tsv</td>\n",
       "      <td>15</td>\n",
       "      <td>None</td>\n",
       "      <td>None</td>\n",
       "      <td>2010</td>\n",
       "      <td>Male</td>\n",
       "      <td>20</td>\n",
       "      <td>Hispanic</td>\n",
       "      <td>20-21</td>\n",
       "    </tr>\n",
       "    <tr>\n",
       "      <th>4</th>\n",
       "      <td>991</td>\n",
       "      <td>991</td>\n",
       "      <td>991</td>\n",
       "      <td>991</td>\n",
       "      <td>17</td>\n",
       "      <td>17</td>\n",
       "      <td>18</td>\n",
       "      <td>991</td>\n",
       "      <td>991</td>\n",
       "      <td>991</td>\n",
       "      <td>991</td>\n",
       "      <td>991</td>\n",
       "      <td>991</td>\n",
       "      <td>991</td>\n",
       "      <td>991</td>\n",
       "      <td>99</td>\n",
       "      <td>9</td>\n",
       "      <td>1</td>\n",
       "      <td>1</td>\n",
       "      <td>32722-0001-Data.tsv</td>\n",
       "      <td>17</td>\n",
       "      <td>None</td>\n",
       "      <td>None</td>\n",
       "      <td>2010</td>\n",
       "      <td>Male</td>\n",
       "      <td>20</td>\n",
       "      <td>White</td>\n",
       "      <td>20-21</td>\n",
       "    </tr>\n",
       "  </tbody>\n",
       "</table>\n",
       "</div>"
      ],
      "text/plain": [
       "   CIGTRY  SNUFTRY  CHEWTRY  SLTTRY  CIGARTRY  ALCTRY  MJAGE  COCAGE  HERAGE  \\\n",
       "0     991      991      991     991       991      14     14     991     991   \n",
       "1      14      991      991     991       991      13    991     991     991   \n",
       "2     991      991      991     991       991     991    991     991     991   \n",
       "3      15      991      991     991        15      16     16      18     991   \n",
       "4     991      991      991     991        17      17     18     991     991   \n",
       "\n",
       "   HALLAGE  INHAGE  ANALAGE  TRANAGE  STIMAGE  SEDAGE  USEACM  AGE2  IRSEX  \\\n",
       "0      991     991      991      991      991     991      99     4      2   \n",
       "1      991     991      991      991      991     991      99     7      2   \n",
       "2      991     991      991      991      991     991      91     2      1   \n",
       "3      991     991       18      991      991     991      99     9      1   \n",
       "4      991     991      991      991      991     991      99     9      1   \n",
       "\n",
       "   NEWRACE2            file_name  MINAGE MINAGE_CLASS CLASSES_LIST  YEAR  \\\n",
       "0         7  32722-0001-Data.tsv      14         None         None  2010   \n",
       "1         1  32722-0001-Data.tsv      13         None         None  2010   \n",
       "2         7  32722-0001-Data.tsv     999  NO_DRUG_USE  NO_DRUG_USE  2010   \n",
       "3         7  32722-0001-Data.tsv      15         None         None  2010   \n",
       "4         1  32722-0001-Data.tsv      17         None         None  2010   \n",
       "\n",
       "      SEX  AGE      RACE AGE_GROUP  \n",
       "0  Female   15  Hispanic     14-15  \n",
       "1  Female   18     White     18-19  \n",
       "2    Male   13  Hispanic     12-13  \n",
       "3    Male   20  Hispanic     20-21  \n",
       "4    Male   20     White     20-21  "
      ]
     },
     "execution_count": 250,
     "metadata": {},
     "output_type": "execute_result"
    }
   ],
   "source": [
    "main_df.reset_index(inplace=True, drop=True)\n",
    "main_df.head()"
   ]
  },
  {
   "cell_type": "code",
   "execution_count": 251,
   "id": "be12102c",
   "metadata": {},
   "outputs": [
    {
     "name": "stdout",
     "output_type": "stream",
     "text": [
      "CPU times: user 1min 28s, sys: 260 ms, total: 1min 28s\n",
      "Wall time: 1min 28s\n"
     ]
    },
    {
     "data": {
      "text/html": [
       "<div>\n",
       "<style scoped>\n",
       "    .dataframe tbody tr th:only-of-type {\n",
       "        vertical-align: middle;\n",
       "    }\n",
       "\n",
       "    .dataframe tbody tr th {\n",
       "        vertical-align: top;\n",
       "    }\n",
       "\n",
       "    .dataframe thead th {\n",
       "        text-align: right;\n",
       "    }\n",
       "</style>\n",
       "<table border=\"1\" class=\"dataframe\">\n",
       "  <thead>\n",
       "    <tr style=\"text-align: right;\">\n",
       "      <th></th>\n",
       "      <th>CIGTRY</th>\n",
       "      <th>SNUFTRY</th>\n",
       "      <th>CHEWTRY</th>\n",
       "      <th>SLTTRY</th>\n",
       "      <th>CIGARTRY</th>\n",
       "      <th>ALCTRY</th>\n",
       "      <th>MJAGE</th>\n",
       "      <th>COCAGE</th>\n",
       "      <th>HERAGE</th>\n",
       "      <th>HALLAGE</th>\n",
       "      <th>INHAGE</th>\n",
       "      <th>ANALAGE</th>\n",
       "      <th>TRANAGE</th>\n",
       "      <th>STIMAGE</th>\n",
       "      <th>SEDAGE</th>\n",
       "      <th>USEACM</th>\n",
       "      <th>AGE2</th>\n",
       "      <th>IRSEX</th>\n",
       "      <th>NEWRACE2</th>\n",
       "      <th>file_name</th>\n",
       "      <th>MINAGE</th>\n",
       "      <th>MINAGE_CLASS</th>\n",
       "      <th>CLASSES_LIST</th>\n",
       "      <th>YEAR</th>\n",
       "      <th>SEX</th>\n",
       "      <th>AGE</th>\n",
       "      <th>RACE</th>\n",
       "      <th>AGE_GROUP</th>\n",
       "    </tr>\n",
       "  </thead>\n",
       "  <tbody>\n",
       "    <tr>\n",
       "      <th>0</th>\n",
       "      <td>991</td>\n",
       "      <td>991</td>\n",
       "      <td>991</td>\n",
       "      <td>991</td>\n",
       "      <td>991</td>\n",
       "      <td>14</td>\n",
       "      <td>14</td>\n",
       "      <td>991</td>\n",
       "      <td>991</td>\n",
       "      <td>991</td>\n",
       "      <td>991</td>\n",
       "      <td>991</td>\n",
       "      <td>991</td>\n",
       "      <td>991</td>\n",
       "      <td>991</td>\n",
       "      <td>99</td>\n",
       "      <td>4</td>\n",
       "      <td>2</td>\n",
       "      <td>7</td>\n",
       "      <td>32722-0001-Data.tsv</td>\n",
       "      <td>14</td>\n",
       "      <td>ALCOHOL</td>\n",
       "      <td>ALCOHOL/MARIJUANA</td>\n",
       "      <td>2010</td>\n",
       "      <td>Female</td>\n",
       "      <td>15</td>\n",
       "      <td>Hispanic</td>\n",
       "      <td>14-15</td>\n",
       "    </tr>\n",
       "    <tr>\n",
       "      <th>1</th>\n",
       "      <td>14</td>\n",
       "      <td>991</td>\n",
       "      <td>991</td>\n",
       "      <td>991</td>\n",
       "      <td>991</td>\n",
       "      <td>13</td>\n",
       "      <td>991</td>\n",
       "      <td>991</td>\n",
       "      <td>991</td>\n",
       "      <td>991</td>\n",
       "      <td>991</td>\n",
       "      <td>991</td>\n",
       "      <td>991</td>\n",
       "      <td>991</td>\n",
       "      <td>991</td>\n",
       "      <td>99</td>\n",
       "      <td>7</td>\n",
       "      <td>2</td>\n",
       "      <td>1</td>\n",
       "      <td>32722-0001-Data.tsv</td>\n",
       "      <td>13</td>\n",
       "      <td>ALCOHOL</td>\n",
       "      <td>ALCOHOL</td>\n",
       "      <td>2010</td>\n",
       "      <td>Female</td>\n",
       "      <td>18</td>\n",
       "      <td>White</td>\n",
       "      <td>18-19</td>\n",
       "    </tr>\n",
       "    <tr>\n",
       "      <th>2</th>\n",
       "      <td>991</td>\n",
       "      <td>991</td>\n",
       "      <td>991</td>\n",
       "      <td>991</td>\n",
       "      <td>991</td>\n",
       "      <td>991</td>\n",
       "      <td>991</td>\n",
       "      <td>991</td>\n",
       "      <td>991</td>\n",
       "      <td>991</td>\n",
       "      <td>991</td>\n",
       "      <td>991</td>\n",
       "      <td>991</td>\n",
       "      <td>991</td>\n",
       "      <td>991</td>\n",
       "      <td>91</td>\n",
       "      <td>2</td>\n",
       "      <td>1</td>\n",
       "      <td>7</td>\n",
       "      <td>32722-0001-Data.tsv</td>\n",
       "      <td>999</td>\n",
       "      <td>NO_DRUG_USE</td>\n",
       "      <td>NO_DRUG_USE</td>\n",
       "      <td>2010</td>\n",
       "      <td>Male</td>\n",
       "      <td>13</td>\n",
       "      <td>Hispanic</td>\n",
       "      <td>12-13</td>\n",
       "    </tr>\n",
       "    <tr>\n",
       "      <th>3</th>\n",
       "      <td>15</td>\n",
       "      <td>991</td>\n",
       "      <td>991</td>\n",
       "      <td>991</td>\n",
       "      <td>15</td>\n",
       "      <td>16</td>\n",
       "      <td>16</td>\n",
       "      <td>18</td>\n",
       "      <td>991</td>\n",
       "      <td>991</td>\n",
       "      <td>991</td>\n",
       "      <td>18</td>\n",
       "      <td>991</td>\n",
       "      <td>991</td>\n",
       "      <td>991</td>\n",
       "      <td>99</td>\n",
       "      <td>9</td>\n",
       "      <td>1</td>\n",
       "      <td>7</td>\n",
       "      <td>32722-0001-Data.tsv</td>\n",
       "      <td>15</td>\n",
       "      <td>OTHER_TABACCO</td>\n",
       "      <td>CIGARETTES/OTHER_TABACCO</td>\n",
       "      <td>2010</td>\n",
       "      <td>Male</td>\n",
       "      <td>20</td>\n",
       "      <td>Hispanic</td>\n",
       "      <td>20-21</td>\n",
       "    </tr>\n",
       "    <tr>\n",
       "      <th>4</th>\n",
       "      <td>991</td>\n",
       "      <td>991</td>\n",
       "      <td>991</td>\n",
       "      <td>991</td>\n",
       "      <td>17</td>\n",
       "      <td>17</td>\n",
       "      <td>18</td>\n",
       "      <td>991</td>\n",
       "      <td>991</td>\n",
       "      <td>991</td>\n",
       "      <td>991</td>\n",
       "      <td>991</td>\n",
       "      <td>991</td>\n",
       "      <td>991</td>\n",
       "      <td>991</td>\n",
       "      <td>99</td>\n",
       "      <td>9</td>\n",
       "      <td>1</td>\n",
       "      <td>1</td>\n",
       "      <td>32722-0001-Data.tsv</td>\n",
       "      <td>17</td>\n",
       "      <td>ALCOHOL</td>\n",
       "      <td>ALCOHOL/OTHER_TABACCO</td>\n",
       "      <td>2010</td>\n",
       "      <td>Male</td>\n",
       "      <td>20</td>\n",
       "      <td>White</td>\n",
       "      <td>20-21</td>\n",
       "    </tr>\n",
       "  </tbody>\n",
       "</table>\n",
       "</div>"
      ],
      "text/plain": [
       "   CIGTRY  SNUFTRY  CHEWTRY  SLTTRY  CIGARTRY  ALCTRY  MJAGE  COCAGE  HERAGE  \\\n",
       "0     991      991      991     991       991      14     14     991     991   \n",
       "1      14      991      991     991       991      13    991     991     991   \n",
       "2     991      991      991     991       991     991    991     991     991   \n",
       "3      15      991      991     991        15      16     16      18     991   \n",
       "4     991      991      991     991        17      17     18     991     991   \n",
       "\n",
       "   HALLAGE  INHAGE  ANALAGE  TRANAGE  STIMAGE  SEDAGE  USEACM  AGE2  IRSEX  \\\n",
       "0      991     991      991      991      991     991      99     4      2   \n",
       "1      991     991      991      991      991     991      99     7      2   \n",
       "2      991     991      991      991      991     991      91     2      1   \n",
       "3      991     991       18      991      991     991      99     9      1   \n",
       "4      991     991      991      991      991     991      99     9      1   \n",
       "\n",
       "   NEWRACE2            file_name  MINAGE   MINAGE_CLASS  \\\n",
       "0         7  32722-0001-Data.tsv      14        ALCOHOL   \n",
       "1         1  32722-0001-Data.tsv      13        ALCOHOL   \n",
       "2         7  32722-0001-Data.tsv     999    NO_DRUG_USE   \n",
       "3         7  32722-0001-Data.tsv      15  OTHER_TABACCO   \n",
       "4         1  32722-0001-Data.tsv      17        ALCOHOL   \n",
       "\n",
       "               CLASSES_LIST  YEAR     SEX  AGE      RACE AGE_GROUP  \n",
       "0         ALCOHOL/MARIJUANA  2010  Female   15  Hispanic     14-15  \n",
       "1                   ALCOHOL  2010  Female   18     White     18-19  \n",
       "2               NO_DRUG_USE  2010    Male   13  Hispanic     12-13  \n",
       "3  CIGARETTES/OTHER_TABACCO  2010    Male   20  Hispanic     20-21  \n",
       "4     ALCOHOL/OTHER_TABACCO  2010    Male   20     White     20-21  "
      ]
     },
     "execution_count": 251,
     "metadata": {},
     "output_type": "execute_result"
    }
   ],
   "source": [
    "%%time\n",
    "for i, row in main_df.iterrows():\n",
    "#     if i > 2000:\n",
    "#         break\n",
    "    if row['MINAGE'] > 900:\n",
    "        continue\n",
    "    several_substances = sorted(row[classes][row[classes].apply(lambda x: x==row['MINAGE'])].index.values)\n",
    "    several_substances_mapped = sorted(list(set([class_mapping[s] for s in several_substances])))\n",
    "    main_df.at[i, 'CLASSES_LIST'] = '/'.join(several_substances_mapped)\n",
    "    if len(several_substances_mapped) == 1:\n",
    "        main_df.at[i, 'MINAGE_CLASS'] = several_substances_mapped[0]  \n",
    "    else:\n",
    "        main_df.at[i, 'MINAGE_CLASS'] = use_acm_map.get(row['USEACM']) or np.random.choice(several_substances_mapped)\n",
    "main_df.head()"
   ]
  },
  {
   "cell_type": "code",
   "execution_count": 252,
   "id": "e25425e5",
   "metadata": {},
   "outputs": [],
   "source": [
    "main_df['CLASS'] = main_df['MINAGE_CLASS'].map(class_mapping)\n",
    "main_df.reset_index(inplace=True, drop=True)\n",
    "# main_df.to_csv('fairman19marijuana_dataframe.csv')"
   ]
  },
  {
   "cell_type": "code",
   "execution_count": 253,
   "id": "fb4ef85f",
   "metadata": {},
   "outputs": [
    {
     "data": {
      "text/plain": [
       "NO_DRUG_USE      117710\n",
       "ALCOHOL           79901\n",
       "CIGARETTES        40635\n",
       "MARIJUANA         17969\n",
       "OTHER_TABACCO     11302\n",
       "OTHER_DRUGS        9737\n",
       "Name: CLASS, dtype: int64"
      ]
     },
     "execution_count": 253,
     "metadata": {},
     "output_type": "execute_result"
    }
   ],
   "source": [
    "main_df['CLASS'].value_counts()"
   ]
  },
  {
   "cell_type": "code",
   "execution_count": 289,
   "id": "0208374f",
   "metadata": {},
   "outputs": [
    {
     "data": {
      "text/plain": [
       "RACE          CLASS        \n",
       "AI/AN         NO_DRUG_USE      33.467933\n",
       "              CIGARETTES       23.895487\n",
       "              ALCOHOL          17.719715\n",
       "              MARIJUANA        12.066508\n",
       "              OTHER_TABACCO     7.743468\n",
       "              OTHER_DRUGS       5.106888\n",
       "Asian         NO_DRUG_USE      54.600382\n",
       "              ALCOHOL          28.323087\n",
       "              CIGARETTES        9.847361\n",
       "              MARIJUANA         3.264787\n",
       "              OTHER_DRUGS       2.713589\n",
       "              OTHER_TABACCO     1.250795\n",
       "Black         NO_DRUG_USE      45.955492\n",
       "              ALCOHOL          25.748885\n",
       "              CIGARETTES       11.982154\n",
       "              MARIJUANA         9.971850\n",
       "              OTHER_DRUGS       3.866582\n",
       "              OTHER_TABACCO     2.475037\n",
       "Hispanic      NO_DRUG_USE      43.211880\n",
       "              ALCOHOL          29.692445\n",
       "              CIGARETTES       13.117747\n",
       "              MARIJUANA         7.463686\n",
       "              OTHER_DRUGS       4.016879\n",
       "              OTHER_TABACCO     2.497363\n",
       "Multi-racial  NO_DRUG_USE      40.956679\n",
       "              ALCOHOL          25.938628\n",
       "              CIGARETTES       16.534296\n",
       "              MARIJUANA         8.935018\n",
       "              OTHER_DRUGS       4.151625\n",
       "              OTHER_TABACCO     3.483755\n",
       "NHOPI         NO_DRUG_USE      39.538462\n",
       "              ALCOHOL          25.692308\n",
       "              CIGARETTES       17.000000\n",
       "              MARIJUANA        10.230769\n",
       "              OTHER_DRUGS       3.769231\n",
       "              OTHER_TABACCO     3.769231\n",
       "White         NO_DRUG_USE      41.083624\n",
       "              ALCOHOL          29.792065\n",
       "              CIGARETTES       15.624962\n",
       "              MARIJUANA         5.232466\n",
       "              OTHER_TABACCO     5.027940\n",
       "              OTHER_DRUGS       3.238943\n",
       "dtype: float64"
      ]
     },
     "execution_count": 289,
     "metadata": {},
     "output_type": "execute_result"
    }
   ],
   "source": [
    "main_df[['RACE', 'CLASS']].value_counts() * 100/main_df[['RACE']].value_counts()"
   ]
  },
  {
   "cell_type": "code",
   "execution_count": 286,
   "id": "79c463fb",
   "metadata": {},
   "outputs": [
    {
     "data": {
      "text/plain": [
       "CLASS        \n",
       "NO_DRUG_USE      117710\n",
       "ALCOHOL           79901\n",
       "CIGARETTES        40635\n",
       "MARIJUANA         17969\n",
       "OTHER_TABACCO     11302\n",
       "OTHER_DRUGS        9737\n",
       "dtype: int64"
      ]
     },
     "execution_count": 286,
     "metadata": {},
     "output_type": "execute_result"
    }
   ],
   "source": [
    "main_df[['SEX']].value_counts()"
   ]
  },
  {
   "cell_type": "code",
   "execution_count": 261,
   "id": "88d9d1c9",
   "metadata": {},
   "outputs": [
    {
     "data": {
      "text/plain": [
       "NO_DRUG_USE                                       117710\n",
       "ALCOHOL                                            68318\n",
       "CIGARETTES                                         30879\n",
       "MARIJUANA                                          10890\n",
       "ALCOHOL/CIGARETTES                                  8307\n",
       "OTHER_DRUGS                                         7132\n",
       "ALCOHOL/MARIJUANA                                   6518\n",
       "OTHER_TABACCO                                       6098\n",
       "CIGARETTES/MARIJUANA                                4102\n",
       "ALCOHOL/OTHER_TABACCO                               3384\n",
       "CIGARETTES/OTHER_TABACCO                            3213\n",
       "ALCOHOL/OTHER_DRUGS                                 2298\n",
       "ALCOHOL/CIGARETTES/OTHER_TABACCO                    1860\n",
       "ALCOHOL/MARIJUANA/OTHER_TABACCO                     1033\n",
       "CIGARETTES/MARIJUANA/OTHER_TABACCO                   885\n",
       "CIGARETTES/OTHER_DRUGS                               885\n",
       "MARIJUANA/OTHER_TABACCO                              799\n",
       "ALCOHOL/MARIJUANA/OTHER_DRUGS                        679\n",
       "ALCOHOL/CIGARETTES/OTHER_DRUGS                       529\n",
       "MARIJUANA/OTHER_DRUGS                                520\n",
       "CIGARETTES/MARIJUANA/OTHER_DRUGS                     382\n",
       "CIGARETTES/OTHER_DRUGS/OTHER_TABACCO                 152\n",
       "OTHER_DRUGS/OTHER_TABACCO                            133\n",
       "ALCOHOL/OTHER_DRUGS/OTHER_TABACCO                    129\n",
       "ALCOHOL/CIGARETTES/OTHER_DRUGS/OTHER_TABACCO         127\n",
       "ALCOHOL/MARIJUANA/OTHER_DRUGS/OTHER_TABACCO          121\n",
       "CIGARETTES/MARIJUANA/OTHER_DRUGS/OTHER_TABACCO       113\n",
       "MARIJUANA/OTHER_DRUGS/OTHER_TABACCO                   58\n",
       "Name: CLASSES_LIST, dtype: int64"
      ]
     },
     "execution_count": 261,
     "metadata": {},
     "output_type": "execute_result"
    }
   ],
   "source": [
    "main_df.CLASSES_LIST.value_counts()"
   ]
  },
  {
   "cell_type": "code",
   "execution_count": 262,
   "id": "195684fb",
   "metadata": {},
   "outputs": [
    {
     "data": {
      "text/html": [
       "<div>\n",
       "<style scoped>\n",
       "    .dataframe tbody tr th:only-of-type {\n",
       "        vertical-align: middle;\n",
       "    }\n",
       "\n",
       "    .dataframe tbody tr th {\n",
       "        vertical-align: top;\n",
       "    }\n",
       "\n",
       "    .dataframe thead th {\n",
       "        text-align: right;\n",
       "    }\n",
       "</style>\n",
       "<table border=\"1\" class=\"dataframe\">\n",
       "  <thead>\n",
       "    <tr style=\"text-align: right;\">\n",
       "      <th></th>\n",
       "      <th>CIGTRY</th>\n",
       "      <th>SNUFTRY</th>\n",
       "      <th>CHEWTRY</th>\n",
       "      <th>SLTTRY</th>\n",
       "      <th>CIGARTRY</th>\n",
       "      <th>ALCTRY</th>\n",
       "      <th>MJAGE</th>\n",
       "      <th>COCAGE</th>\n",
       "      <th>HERAGE</th>\n",
       "      <th>HALLAGE</th>\n",
       "      <th>INHAGE</th>\n",
       "      <th>ANALAGE</th>\n",
       "      <th>TRANAGE</th>\n",
       "      <th>STIMAGE</th>\n",
       "      <th>SEDAGE</th>\n",
       "      <th>USEACM</th>\n",
       "      <th>AGE2</th>\n",
       "      <th>IRSEX</th>\n",
       "      <th>NEWRACE2</th>\n",
       "      <th>file_name</th>\n",
       "      <th>MINAGE</th>\n",
       "      <th>MINAGE_CLASS</th>\n",
       "      <th>CLASSES_LIST</th>\n",
       "      <th>YEAR</th>\n",
       "      <th>SEX</th>\n",
       "      <th>AGE</th>\n",
       "      <th>RACE</th>\n",
       "      <th>AGE_GROUP</th>\n",
       "      <th>CLASS</th>\n",
       "    </tr>\n",
       "  </thead>\n",
       "  <tbody>\n",
       "  </tbody>\n",
       "</table>\n",
       "</div>"
      ],
      "text/plain": [
       "Empty DataFrame\n",
       "Columns: [CIGTRY, SNUFTRY, CHEWTRY, SLTTRY, CIGARTRY, ALCTRY, MJAGE, COCAGE, HERAGE, HALLAGE, INHAGE, ANALAGE, TRANAGE, STIMAGE, SEDAGE, USEACM, AGE2, IRSEX, NEWRACE2, file_name, MINAGE, MINAGE_CLASS, CLASSES_LIST, YEAR, SEX, AGE, RACE, AGE_GROUP, CLASS]\n",
       "Index: []"
      ]
     },
     "execution_count": 262,
     "metadata": {},
     "output_type": "execute_result"
    }
   ],
   "source": [
    "main_df[main_df.CLASS.isna()].head()"
   ]
  },
  {
   "cell_type": "code",
   "execution_count": 263,
   "id": "665a8ca3",
   "metadata": {},
   "outputs": [
    {
     "data": {
      "text/plain": [
       "(277254, 7)"
      ]
     },
     "execution_count": 263,
     "metadata": {},
     "output_type": "execute_result"
    }
   ],
   "source": [
    "# 275,559\n",
    "df = main_df[['YEAR', 'CLASS', 'SEX', 'RACE', 'AGE_GROUP', 'AGE', 'MINAGE']]\n",
    "df['SEX'] = df['SEX'].astype('category')\n",
    "df['RACE'] = df['RACE'].astype('category')\n",
    "df['AGE_GROUP'] = df['AGE_GROUP'].astype('category')\n",
    "df['CLASS'] = df['CLASS'].astype('category')\n",
    "df['YEAR'] = df['YEAR'].astype('category')\n",
    "df['AGE'] = df['AGE'].astype(np.int32)\n",
    "df['MINAGE'] = df['MINAGE'].astype(np.int32)\n",
    "df.shape"
   ]
  },
  {
   "cell_type": "code",
   "execution_count": 264,
   "id": "ff5ea83f",
   "metadata": {},
   "outputs": [
    {
     "data": {
      "text/plain": [
       "-1695"
      ]
     },
     "execution_count": 264,
     "metadata": {},
     "output_type": "execute_result"
    }
   ],
   "source": [
    "275559 - main_df.shape[0]"
   ]
  },
  {
   "cell_type": "code",
   "execution_count": 266,
   "id": "4598a50c",
   "metadata": {},
   "outputs": [],
   "source": [
    "import pickle\n",
    "\n",
    "with open('../fairman19marijuana_dataframe.pickle', 'wb') as pickle_file:\n",
    "    pickle.dump(df, pickle_file)"
   ]
  },
  {
   "cell_type": "markdown",
   "id": "204fc2c9",
   "metadata": {},
   "source": [
    "# check"
   ]
  },
  {
   "cell_type": "code",
   "execution_count": 267,
   "id": "7cafc734",
   "metadata": {},
   "outputs": [
    {
     "data": {
      "text/html": [
       "<div>\n",
       "<style scoped>\n",
       "    .dataframe tbody tr th:only-of-type {\n",
       "        vertical-align: middle;\n",
       "    }\n",
       "\n",
       "    .dataframe tbody tr th {\n",
       "        vertical-align: top;\n",
       "    }\n",
       "\n",
       "    .dataframe thead th {\n",
       "        text-align: right;\n",
       "    }\n",
       "</style>\n",
       "<table border=\"1\" class=\"dataframe\">\n",
       "  <thead>\n",
       "    <tr style=\"text-align: right;\">\n",
       "      <th></th>\n",
       "      <th>YEAR</th>\n",
       "      <th>CLASS</th>\n",
       "      <th>SEX</th>\n",
       "      <th>RACE</th>\n",
       "      <th>AGE_GROUP</th>\n",
       "      <th>AGE</th>\n",
       "      <th>MINAGE</th>\n",
       "    </tr>\n",
       "  </thead>\n",
       "  <tbody>\n",
       "    <tr>\n",
       "      <th>0</th>\n",
       "      <td>2010</td>\n",
       "      <td>ALCOHOL</td>\n",
       "      <td>Female</td>\n",
       "      <td>Hispanic</td>\n",
       "      <td>14-15</td>\n",
       "      <td>15</td>\n",
       "      <td>14</td>\n",
       "    </tr>\n",
       "    <tr>\n",
       "      <th>1</th>\n",
       "      <td>2010</td>\n",
       "      <td>ALCOHOL</td>\n",
       "      <td>Female</td>\n",
       "      <td>White</td>\n",
       "      <td>18-19</td>\n",
       "      <td>18</td>\n",
       "      <td>13</td>\n",
       "    </tr>\n",
       "    <tr>\n",
       "      <th>2</th>\n",
       "      <td>2010</td>\n",
       "      <td>NO_DRUG_USE</td>\n",
       "      <td>Male</td>\n",
       "      <td>Hispanic</td>\n",
       "      <td>12-13</td>\n",
       "      <td>13</td>\n",
       "      <td>999</td>\n",
       "    </tr>\n",
       "    <tr>\n",
       "      <th>3</th>\n",
       "      <td>2010</td>\n",
       "      <td>OTHER_TABACCO</td>\n",
       "      <td>Male</td>\n",
       "      <td>Hispanic</td>\n",
       "      <td>20-21</td>\n",
       "      <td>20</td>\n",
       "      <td>15</td>\n",
       "    </tr>\n",
       "    <tr>\n",
       "      <th>4</th>\n",
       "      <td>2010</td>\n",
       "      <td>ALCOHOL</td>\n",
       "      <td>Male</td>\n",
       "      <td>White</td>\n",
       "      <td>20-21</td>\n",
       "      <td>20</td>\n",
       "      <td>17</td>\n",
       "    </tr>\n",
       "  </tbody>\n",
       "</table>\n",
       "</div>"
      ],
      "text/plain": [
       "   YEAR          CLASS     SEX      RACE AGE_GROUP  AGE  MINAGE\n",
       "0  2010        ALCOHOL  Female  Hispanic     14-15   15      14\n",
       "1  2010        ALCOHOL  Female     White     18-19   18      13\n",
       "2  2010    NO_DRUG_USE    Male  Hispanic     12-13   13     999\n",
       "3  2010  OTHER_TABACCO    Male  Hispanic     20-21   20      15\n",
       "4  2010        ALCOHOL    Male     White     20-21   20      17"
      ]
     },
     "execution_count": 267,
     "metadata": {},
     "output_type": "execute_result"
    }
   ],
   "source": [
    "df = pd.read_pickle('../fairman19marijuana_dataframe.pickle')\n",
    "df.head()"
   ]
  },
  {
   "cell_type": "code",
   "execution_count": 268,
   "id": "2cf8631a",
   "metadata": {},
   "outputs": [
    {
     "data": {
      "text/plain": [
       "NO_DRUG_USE      117710\n",
       "ALCOHOL           79901\n",
       "CIGARETTES        40635\n",
       "MARIJUANA         17969\n",
       "OTHER_TABACCO     11302\n",
       "OTHER_DRUGS        9737\n",
       "Name: CLASS, dtype: int64"
      ]
     },
     "execution_count": 268,
     "metadata": {},
     "output_type": "execute_result"
    }
   ],
   "source": [
    "df.CLASS.value_counts()"
   ]
  },
  {
   "cell_type": "code",
   "execution_count": 273,
   "id": "94a4b3aa",
   "metadata": {},
   "outputs": [
    {
     "data": {
      "text/plain": [
       "'\\nNo drug use(n=116,320) - \\nCigarettes(n=39,735)\\nAlcohol(n=77,830)\\nMarijuana(n=15,267)\\nOther Tobaccoa(n=9,798)\\nOther Drugsb(n=16,609)\\naOther tobacco included cigars CIGARTRY, pipes NONE, chew CHEWTRY, snuff SNUFTRY, and smokeless tobacco SLTTRY.\\nbOther drugs included non-medical use of cocaine COCAGE, hallucinogens HALLAGE, heroin HERAGE, inhalants INHAGE, analgesics ANALAGE, sedatives SEDAGE, stimulants STIMAGE, and tranquillizers TRANAGE.\\n'"
      ]
     },
     "execution_count": 273,
     "metadata": {},
     "output_type": "execute_result"
    }
   ],
   "source": [
    "text = \"\"\"\n",
    "No drug use(n=116,320) - \n",
    "Cigarettes(n=39,735)\n",
    "Alcohol(n=77,830)\n",
    "Marijuana(n=15,267)\n",
    "Other Tobaccoa(n=9,798)\n",
    "Other Drugsb(n=16,609)\n",
    "aOther tobacco included cigars CIGARTRY, pipes NONE, chew CHEWTRY, snuff SNUFTRY, and smokeless tobacco SLTTRY.\n",
    "bOther drugs included non-medical use of cocaine COCAGE, hallucinogens HALLAGE, heroin HERAGE, inhalants INHAGE, analgesics ANALAGE, sedatives SEDAGE, stimulants STIMAGE, and tranquillizers TRANAGE.\n",
    "\"\"\"\n",
    "text"
   ]
  },
  {
   "cell_type": "code",
   "execution_count": 275,
   "id": "f5484cde",
   "metadata": {},
   "outputs": [
    {
     "name": "stdout",
     "output_type": "stream",
     "text": [
      "NO_DRUG_USE 116320 117710 -1390 MORE\n",
      "ALCOHOL 77830 79901 -2071 MORE\n",
      "CIGARETTES 39735 40635 -900 MORE\n",
      "MARIJUANA 16609 17969 -1360 MORE\n",
      "OTHER_TABACCO 9798 11302 -1504 MORE\n",
      "OTHER_DRUGS 15267 9737 5530 LESS\n"
     ]
    }
   ],
   "source": [
    "paper_counts = [116320, 77830, 39735, 16609, 9798, 15267]\n",
    "for true, (name, estimated) in zip(paper_counts, df.CLASS.value_counts().items()):\n",
    "    print(name, true, estimated, true - estimated, 'MORE' if estimated > true else 'LESS') "
   ]
  },
  {
   "cell_type": "code",
   "execution_count": 277,
   "id": "083ff578",
   "metadata": {},
   "outputs": [
    {
     "data": {
      "text/plain": [
       "(13.511398176291793, 14.089460784313726)"
      ]
     },
     "execution_count": 277,
     "metadata": {},
     "output_type": "execute_result"
    }
   ],
   "source": [
    "mean_age_first_use_2004 = df[\n",
    "    (df.CLASS == 'MARIJUANA') & (df.YEAR == 2004)]['MINAGE'].mean()\n",
    "mean_age_first_use_2014 = df[\n",
    "    (df.CLASS == 'MARIJUANA') & (df.YEAR == 2014)]['MINAGE'].mean()\n",
    "mean_age_first_use_2004, mean_age_first_use_2014"
   ]
  },
  {
   "cell_type": "markdown",
   "id": "25223655",
   "metadata": {},
   "source": [
    "# temp"
   ]
  },
  {
   "cell_type": "code",
   "execution_count": null,
   "id": "6898b18a",
   "metadata": {},
   "outputs": [],
   "source": [
    "df[(df.CLASS == 'MARIJUANA') & (df.YEAR == 2004)].shape[0]*100/df[(df.YEAR == 2004)].shape[0]"
   ]
  },
  {
   "cell_type": "code",
   "execution_count": null,
   "id": "3ef92c6f",
   "metadata": {},
   "outputs": [],
   "source": [
    "df[(df.CLASS == 'MARIJUANA') & (df.YEAR == 2014)].shape[0]*100/df[(df.YEAR == 2014)].shape[0]"
   ]
  },
  {
   "cell_type": "code",
   "execution_count": null,
   "id": "ed8bad68",
   "metadata": {},
   "outputs": [],
   "source": [
    "df[(df.CLASS == 'MARIJUANA')].shape[0]*100/df.shape[0]\n",
    "# df[(df.CLASS == 'ALCOHOL')].shape[0]*100/df.shape[0]\n",
    "# df[(df.CLASS == 'CIGARETTES')].shape[0]*100/df.shape[0]\n",
    "# main_df[(main_df.CLASS == 'OTHER_DRUGS')].shape[0]*100/main_df.shape[0]\n",
    "# main_df[(main_df.CLASS == 'OTHER_TABACCO')].shape[0]*100/main_df.shape[0]"
   ]
  },
  {
   "cell_type": "code",
   "execution_count": null,
   "id": "7f30e5d2",
   "metadata": {},
   "outputs": [],
   "source": [
    "main_df[(main_df.CLASS == 'MARIJUANA')].shape[0]*100/main_df.shape[0] # 5.8% <\n",
    "# main_df[(main_df.CLASS == 'ALCOHOL')].shape[0]*100/main_df.shape[0] # 29.8% for alcohol <\n",
    "# main_df[(main_df.CLASS == 'CIGARETTES')].shape[0]*100/main_df.shape[0] # 14.2% for cigarettes ~>\n",
    "# main_df[(main_df.CLASS == 'OTHER_DRUGS')].shape[0]*100/main_df.shape[0] # 3.6% for other tobacco >\n",
    "# main_df[(main_df.CLASS == 'OTHER_TABACCO')].shape[0]*100/main_df.shape[0] # 5.9% other drugs <"
   ]
  }
 ],
 "metadata": {
  "kernelspec": {
   "display_name": "Python 3 (ipykernel)",
   "language": "python",
   "name": "python3"
  },
  "language_info": {
   "codemirror_mode": {
    "name": "ipython",
    "version": 3
   },
   "file_extension": ".py",
   "mimetype": "text/x-python",
   "name": "python",
   "nbconvert_exporter": "python",
   "pygments_lexer": "ipython3",
   "version": "3.8.10"
  },
  "vscode": {
   "interpreter": {
    "hash": "6597d1ed23b894caf154b6750f098a8514a19e03807460ffd2d8425103778dc0"
   }
  }
 },
 "nbformat": 4,
 "nbformat_minor": 5
}
