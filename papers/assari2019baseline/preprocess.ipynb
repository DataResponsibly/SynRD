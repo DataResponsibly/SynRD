{
 "cells": [
  {
   "cell_type": "code",
   "execution_count": 139,
   "metadata": {},
   "outputs": [],
   "source": [
    "import pandas as pd\n",
    "import numpy as np\n",
    "import os\n",
    "import warnings\n",
    "warnings.filterwarnings('ignore')\n",
    "pd.set_option('display.max_columns', None)\n",
    "pd.set_option('display.max_rows', None)"
   ]
  },
  {
   "cell_type": "markdown",
   "metadata": {},
   "source": [
    "#### Prepare data"
   ]
  },
  {
   "cell_type": "code",
   "execution_count": 3,
   "metadata": {},
   "outputs": [
    {
     "data": {
      "text/plain": [
       "(3617, 4564)"
      ]
     },
     "execution_count": 3,
     "metadata": {},
     "output_type": "execute_result"
    }
   ],
   "source": [
    "data = pd.read_csv('04690-0001-Data.tsv',sep='\\t')\n",
    "data.shape"
   ]
  },
  {
   "cell_type": "code",
   "execution_count": 119,
   "metadata": {},
   "outputs": [],
   "source": [
    "feature_map = {\"V2102\": \"Race\", \"V103\": \"Sex\", \"V104\": \"Age\", \"V2007\": \"Education\", \"V2036\": \"Income\", \"V4942\": \"Smoking\", \"V2623\": \"BMI\", \"V2612\": \"Chronic medical conditions\", \"V13214\": \"Physical Activity Index\", \"V2203\": \"Depressive symptomatology\", \"V914\": \"General health\"}"
   ]
  },
  {
   "cell_type": "code",
   "execution_count": 120,
   "metadata": {},
   "outputs": [
    {
     "data": {
      "text/plain": [
       "(3617, 11)"
      ]
     },
     "execution_count": 120,
     "metadata": {},
     "output_type": "execute_result"
    }
   ],
   "source": [
    "# select relevant columns\n",
    "data_select_cols = data[feature_map.keys()]\n",
    "data_select_cols.rename(columns=feature_map, inplace=True)\n",
    "data_select_cols.shape\n"
   ]
  },
  {
   "cell_type": "code",
   "execution_count": 122,
   "metadata": {},
   "outputs": [
    {
     "data": {
      "text/html": [
       "<div>\n",
       "<style scoped>\n",
       "    .dataframe tbody tr th:only-of-type {\n",
       "        vertical-align: middle;\n",
       "    }\n",
       "\n",
       "    .dataframe tbody tr th {\n",
       "        vertical-align: top;\n",
       "    }\n",
       "\n",
       "    .dataframe thead th {\n",
       "        text-align: right;\n",
       "    }\n",
       "</style>\n",
       "<table border=\"1\" class=\"dataframe\">\n",
       "  <thead>\n",
       "    <tr style=\"text-align: right;\">\n",
       "      <th></th>\n",
       "      <th>Race</th>\n",
       "      <th>Sex</th>\n",
       "      <th>Age</th>\n",
       "      <th>Education</th>\n",
       "      <th>Income</th>\n",
       "      <th>Smoking</th>\n",
       "      <th>BMI</th>\n",
       "      <th>Chronic medical conditions</th>\n",
       "      <th>Physical Activity Index</th>\n",
       "      <th>Depressive symptomatology</th>\n",
       "      <th>General health</th>\n",
       "    </tr>\n",
       "  </thead>\n",
       "  <tbody>\n",
       "    <tr>\n",
       "      <th>0</th>\n",
       "      <td>2</td>\n",
       "      <td>2</td>\n",
       "      <td>69</td>\n",
       "      <td>3</td>\n",
       "      <td>2.5</td>\n",
       "      <td>5</td>\n",
       "      <td>31.62580</td>\n",
       "      <td>4</td>\n",
       "      <td>-99.000000</td>\n",
       "      <td>-1.9058</td>\n",
       "      <td>1</td>\n",
       "    </tr>\n",
       "    <tr>\n",
       "      <th>1</th>\n",
       "      <td>1</td>\n",
       "      <td>1</td>\n",
       "      <td>44</td>\n",
       "      <td>12</td>\n",
       "      <td>70.0</td>\n",
       "      <td>5</td>\n",
       "      <td>32.98301</td>\n",
       "      <td>0</td>\n",
       "      <td>0.910288</td>\n",
       "      <td>0.2119</td>\n",
       "      <td>5</td>\n",
       "    </tr>\n",
       "    <tr>\n",
       "      <th>2</th>\n",
       "      <td>1</td>\n",
       "      <td>1</td>\n",
       "      <td>75</td>\n",
       "      <td>9</td>\n",
       "      <td>7.5</td>\n",
       "      <td>5</td>\n",
       "      <td>24.36586</td>\n",
       "      <td>1</td>\n",
       "      <td>-99.000000</td>\n",
       "      <td>1.4984</td>\n",
       "      <td>1</td>\n",
       "    </tr>\n",
       "    <tr>\n",
       "      <th>3</th>\n",
       "      <td>1</td>\n",
       "      <td>1</td>\n",
       "      <td>25</td>\n",
       "      <td>10</td>\n",
       "      <td>12.5</td>\n",
       "      <td>-99</td>\n",
       "      <td>21.92676</td>\n",
       "      <td>0</td>\n",
       "      <td>0.194457</td>\n",
       "      <td>-0.2067</td>\n",
       "      <td>5</td>\n",
       "    </tr>\n",
       "    <tr>\n",
       "      <th>4</th>\n",
       "      <td>1</td>\n",
       "      <td>2</td>\n",
       "      <td>30</td>\n",
       "      <td>14</td>\n",
       "      <td>12.5</td>\n",
       "      <td>5</td>\n",
       "      <td>18.89454</td>\n",
       "      <td>0</td>\n",
       "      <td>-1.655802</td>\n",
       "      <td>-0.2433</td>\n",
       "      <td>5</td>\n",
       "    </tr>\n",
       "  </tbody>\n",
       "</table>\n",
       "</div>"
      ],
      "text/plain": [
       "   Race  Sex  Age  Education  Income  Smoking       BMI  \\\n",
       "0     2    2   69          3     2.5        5  31.62580   \n",
       "1     1    1   44         12    70.0        5  32.98301   \n",
       "2     1    1   75          9     7.5        5  24.36586   \n",
       "3     1    1   25         10    12.5      -99  21.92676   \n",
       "4     1    2   30         14    12.5        5  18.89454   \n",
       "\n",
       "   Chronic medical conditions  Physical Activity Index  \\\n",
       "0                           4               -99.000000   \n",
       "1                           0                 0.910288   \n",
       "2                           1               -99.000000   \n",
       "3                           0                 0.194457   \n",
       "4                           0                -1.655802   \n",
       "\n",
       "   Depressive symptomatology  General health  \n",
       "0                    -1.9058               1  \n",
       "1                     0.2119               5  \n",
       "2                     1.4984               1  \n",
       "3                    -0.2067               5  \n",
       "4                    -0.2433               5  "
      ]
     },
     "execution_count": 122,
     "metadata": {},
     "output_type": "execute_result"
    }
   ],
   "source": [
    "data_select_cols.head()"
   ]
  },
  {
   "cell_type": "code",
   "execution_count": 128,
   "metadata": {},
   "outputs": [],
   "source": [
    "# construct additional columns and translate data\n",
    "data_sample = data_select_cols.copy()\n",
    "data_sample = data_sample[(data_sample[\"Race\"] == 1) | (data_sample[\"Race\"] == 2)] # 1 = white, 2 = Black\n",
    "data_sample[\"Educational Attainment\"] = data_sample.apply(lambda x: 1 if x[\"Education\"] >= 12 else 0, axis=1)\n",
    "data_sample[\"Obese\"] = data_sample.apply(lambda x: 1 if x[\"BMI\"] > 30 else 0, axis=1)\n",
    "data_sample[\"General health binary\"] = data_sample.apply(lambda x: 1 if x[\"General health\"] in [1, 2, 3] else 0, axis=1)"
   ]
  },
  {
   "cell_type": "markdown",
   "metadata": {},
   "source": [
    "#### Print descriptive statistics (table 1)"
   ]
  },
  {
   "cell_type": "code",
   "execution_count": 145,
   "metadata": {},
   "outputs": [],
   "source": [
    "white_sample = data_sample[data_sample[\"Race\"] == 1]\n",
    "black_sample = data_sample[data_sample[\"Race\"] == 2]"
   ]
  },
  {
   "cell_type": "code",
   "execution_count": 148,
   "metadata": {},
   "outputs": [],
   "source": [
    "def print_mean(col_name):\n",
    "    print(f\"\\tPooled sample: {round(data_sample[col_name].mean(), 2)} (mean), ?(95% CI)\")\n",
    "    print(f\"\\tWhite individuals: {round(white_sample[col_name].mean(), 2)} (mean), ?(95% CI)\")\n",
    "    print(f\"\\tBlack individuals: {round(black_sample[col_name].mean(), 2)} (mean), ?(95% CI)\")"
   ]
  },
  {
   "cell_type": "code",
   "execution_count": 153,
   "metadata": {},
   "outputs": [],
   "source": [
    "def print_percent(col_name, value):\n",
    "    print(f\"\\tPooled sample: {round(data_sample[data_sample[col_name] == value].shape[0]/data_sample.shape[0]*100, 2)} (mean), ?(95% CI)\")\n",
    "    print(f\"\\tWhite individuals: {round(white_sample[white_sample[col_name] == value].shape[0]/white_sample.shape[0]*100, 2)} (mean), ?(95% CI)\")\n",
    "    print(f\"\\tBlack individuals: {round(black_sample[black_sample[col_name] == value].shape[0]/black_sample.shape[0]*100, 2)} (mean), ?(95% CI)\")"
   ]
  },
  {
   "cell_type": "code",
   "execution_count": 136,
   "metadata": {},
   "outputs": [
    {
     "name": "stdout",
     "output_type": "stream",
     "text": [
      "Sample size\n",
      "\tPooled sample size n = 3361\n",
      "\tWhite individuals n = 2205\n",
      "\tBlack individuals n = 1156\n"
     ]
    }
   ],
   "source": [
    "print(\"Sample size\")\n",
    "print(f\"\\tPooled sample size n = {data_sample.shape[0]}\")\n",
    "print(f\"\\tWhite individuals n = {white_sample.shape[0]}\")\n",
    "print(f\"\\tBlack individuals n = {black_sample.shape[0]}\")"
   ]
  },
  {
   "cell_type": "code",
   "execution_count": 150,
   "metadata": {},
   "outputs": [
    {
     "name": "stdout",
     "output_type": "stream",
     "text": [
      "Age (Years)\n",
      "\tPooled sample: 54.0 (mean), ?(95% CI)\n",
      "\tWhite individuals: 54.82 (mean), ?(95% CI)\n",
      "\tBlack individuals: 52.42 (mean), ?(95% CI)\n"
     ]
    }
   ],
   "source": [
    "print(\"Age (Years)\")\n",
    "print_mean(\"Age\")"
   ]
  },
  {
   "cell_type": "code",
   "execution_count": 154,
   "metadata": {},
   "outputs": [
    {
     "name": "stdout",
     "output_type": "stream",
     "text": [
      "Gender: Men\n",
      "\tPooled sample: 37.34 (mean), ?(95% CI)\n",
      "\tWhite individuals: 39.14 (mean), ?(95% CI)\n",
      "\tBlack individuals: 33.91 (mean), ?(95% CI)\n"
     ]
    }
   ],
   "source": [
    "print(\"Gender: Men\")\n",
    "print_percent(\"Sex\", 1)"
   ]
  },
  {
   "cell_type": "code",
   "execution_count": 155,
   "metadata": {},
   "outputs": [
    {
     "name": "stdout",
     "output_type": "stream",
     "text": [
      "Gender: Women\n",
      "\tPooled sample: 62.66 (mean), ?(95% CI)\n",
      "\tWhite individuals: 60.86 (mean), ?(95% CI)\n",
      "\tBlack individuals: 66.09 (mean), ?(95% CI)\n"
     ]
    }
   ],
   "source": [
    "print(\"Gender: Women\")\n",
    "print_percent(\"Sex\", 2)"
   ]
  },
  {
   "cell_type": "code",
   "execution_count": 156,
   "metadata": {},
   "outputs": [
    {
     "name": "stdout",
     "output_type": "stream",
     "text": [
      "Education: 11 years or less\n",
      "\tPooled sample: 36.57 (mean), ?(95% CI)\n",
      "\tWhite individuals: 28.48 (mean), ?(95% CI)\n",
      "\tBlack individuals: 51.99 (mean), ?(95% CI)\n"
     ]
    }
   ],
   "source": [
    "print(\"Education: 11 years or less\")\n",
    "print_percent(\"Educational Attainment\", 0)"
   ]
  },
  {
   "cell_type": "code",
   "execution_count": 157,
   "metadata": {},
   "outputs": [
    {
     "name": "stdout",
     "output_type": "stream",
     "text": [
      "Education: 12 years or more\n",
      "\tPooled sample: 63.43 (mean), ?(95% CI)\n",
      "\tWhite individuals: 71.52 (mean), ?(95% CI)\n",
      "\tBlack individuals: 48.01 (mean), ?(95% CI)\n"
     ]
    }
   ],
   "source": [
    "print(\"Education: 12 years or more\")\n",
    "print_percent(\"Educational Attainment\", 1)"
   ]
  },
  {
   "cell_type": "code",
   "execution_count": 158,
   "metadata": {},
   "outputs": [
    {
     "name": "stdout",
     "output_type": "stream",
     "text": [
      "Education\n",
      "\tPooled sample: 11.58 (mean), ?(95% CI)\n",
      "\tWhite individuals: 12.21 (mean), ?(95% CI)\n",
      "\tBlack individuals: 10.36 (mean), ?(95% CI)\n"
     ]
    }
   ],
   "source": [
    "print(\"Education\")\n",
    "print_mean(\"Education\")"
   ]
  },
  {
   "cell_type": "code",
   "execution_count": 159,
   "metadata": {},
   "outputs": [
    {
     "name": "stdout",
     "output_type": "stream",
     "text": [
      "Income ($1000\n",
      "\tPooled sample: 23.6 (mean), ?(95% CI)\n",
      "\tWhite individuals: 27.43 (mean), ?(95% CI)\n",
      "\tBlack individuals: 16.3 (mean), ?(95% CI)\n"
     ]
    }
   ],
   "source": [
    "print(\"Income ($1000\")\n",
    "print_mean(\"Income\")"
   ]
  },
  {
   "cell_type": "code",
   "execution_count": 160,
   "metadata": {},
   "outputs": [
    {
     "name": "stdout",
     "output_type": "stream",
     "text": [
      "Self-Rated Health\n",
      "\tPooled sample: 4.51 (mean), ?(95% CI)\n",
      "\tWhite individuals: 4.58 (mean), ?(95% CI)\n",
      "\tBlack individuals: 4.37 (mean), ?(95% CI)\n"
     ]
    }
   ],
   "source": [
    "print(\"Self-Rated Health\")\n",
    "print_mean(\"General health\")"
   ]
  },
  {
   "cell_type": "code",
   "execution_count": 162,
   "metadata": {},
   "outputs": [
    {
     "name": "stdout",
     "output_type": "stream",
     "text": [
      "Chronic Medical Conditions\n",
      "\tPooled sample: 1.42 (mean), ?(95% CI)\n",
      "\tWhite individuals: 1.32 (mean), ?(95% CI)\n",
      "\tBlack individuals: 1.61 (mean), ?(95% CI)\n"
     ]
    }
   ],
   "source": [
    "print(\"Chronic Medical Conditions\")\n",
    "print_mean(\"Chronic medical conditions\")"
   ]
  },
  {
   "cell_type": "code",
   "execution_count": 163,
   "metadata": {},
   "outputs": [
    {
     "name": "stdout",
     "output_type": "stream",
     "text": [
      "Self-Rated Health: Good or Excellent\n",
      "\tPooled sample: 11.51 (mean), ?(95% CI)\n",
      "\tWhite individuals: 9.3 (mean), ?(95% CI)\n",
      "\tBlack individuals: 15.74 (mean), ?(95% CI)\n"
     ]
    }
   ],
   "source": [
    "print(\"Self-Rated Health: Good or Excellent\")\n",
    "print_percent(\"General health binary\", 1)"
   ]
  },
  {
   "cell_type": "code",
   "execution_count": 164,
   "metadata": {},
   "outputs": [
    {
     "name": "stdout",
     "output_type": "stream",
     "text": [
      "Self-Rated Health: Poor or fair\n",
      "\tPooled sample: 88.49 (mean), ?(95% CI)\n",
      "\tWhite individuals: 90.7 (mean), ?(95% CI)\n",
      "\tBlack individuals: 84.26 (mean), ?(95% CI)\n"
     ]
    }
   ],
   "source": [
    "print(\"Self-Rated Health: Poor or fair\")\n",
    "print_percent(\"General health binary\", 0)"
   ]
  },
  {
   "cell_type": "code",
   "execution_count": 165,
   "metadata": {},
   "outputs": [
    {
     "name": "stdout",
     "output_type": "stream",
     "text": [
      "Smoking\n",
      "\tPooled sample: 19.67 (mean), ?(95% CI)\n",
      "\tWhite individuals: 18.59 (mean), ?(95% CI)\n",
      "\tBlack individuals: 21.71 (mean), ?(95% CI)\n"
     ]
    }
   ],
   "source": [
    "print(\"Smoking\")\n",
    "print_percent(\"Smoking\", 1)"
   ]
  },
  {
   "cell_type": "code",
   "execution_count": 166,
   "metadata": {},
   "outputs": [
    {
     "name": "stdout",
     "output_type": "stream",
     "text": [
      "Obesity: No\n",
      "\tPooled sample: 82.33 (mean), ?(95% CI)\n",
      "\tWhite individuals: 86.08 (mean), ?(95% CI)\n",
      "\tBlack individuals: 75.17 (mean), ?(95% CI)\n"
     ]
    }
   ],
   "source": [
    "print(\"Obesity: No\")\n",
    "print_percent(\"Obese\", 0)"
   ]
  },
  {
   "cell_type": "code",
   "execution_count": 168,
   "metadata": {},
   "outputs": [
    {
     "name": "stdout",
     "output_type": "stream",
     "text": [
      "Obesity: Yes\n",
      "\tPooled sample: 17.67 (mean), ?(95% CI)\n",
      "\tWhite individuals: 13.92 (mean), ?(95% CI)\n",
      "\tBlack individuals: 24.83 (mean), ?(95% CI)\n"
     ]
    }
   ],
   "source": [
    "print(\"Obesity: Yes\")\n",
    "print_percent(\"Obese\", 1)"
   ]
  }
 ],
 "metadata": {
  "kernelspec": {
   "display_name": "Python 3.10.6 ('synrd_baseline_env')",
   "language": "python",
   "name": "python3"
  },
  "language_info": {
   "codemirror_mode": {
    "name": "ipython",
    "version": 3
   },
   "file_extension": ".py",
   "mimetype": "text/x-python",
   "name": "python",
   "nbconvert_exporter": "python",
   "pygments_lexer": "ipython3",
   "version": "3.8.13"
  },
  "orig_nbformat": 4,
  "vscode": {
   "interpreter": {
    "hash": "feeb56d07ffd6778a0773d83b8aa9779f373d34988f0f62e548ba81a4cb8522d"
   }
  }
 },
 "nbformat": 4,
 "nbformat_minor": 2
}
