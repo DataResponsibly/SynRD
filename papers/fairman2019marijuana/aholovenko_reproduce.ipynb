{
 "cells": [
  {
   "cell_type": "code",
   "execution_count": 2,
   "id": "9b186cea",
   "metadata": {},
   "outputs": [],
   "source": [
    "import numpy as np\n",
    "import pandas as pd\n",
    "import matplotlib.pyplot as plt\n",
    "import re\n",
    "import glob\n",
    "import json\n",
    "import os\n",
    "import statsmodels.api as st\n",
    "from statsmodels.discrete.discrete_model import MNLogit\n",
    "import warnings\n",
    "%matplotlib inline\n",
    "warnings.filterwarnings('ignore')\n",
    "pd.set_option('display.max_rows', None)\n",
    "pd.set_option('display.max_columns', None)"
   ]
  },
  {
   "cell_type": "markdown",
   "id": "7b56c088",
   "metadata": {},
   "source": [
    "Use ./aholovenko_data_preprocessing.ipynb to generate processed data."
   ]
  },
  {
   "cell_type": "markdown",
   "id": "5bb18551",
   "metadata": {},
   "source": [
    "# Importing data"
   ]
  },
  {
   "cell_type": "code",
   "execution_count": 3,
   "id": "fa0b8860",
   "metadata": {},
   "outputs": [
    {
     "data": {
      "text/plain": [
       "(296467, 7)"
      ]
     },
     "execution_count": 3,
     "metadata": {},
     "output_type": "execute_result"
    }
   ],
   "source": [
    "df = pd.read_pickle('fairman2019marijuana_dataframe.pickle')\n",
    "df.shape"
   ]
  },
  {
   "cell_type": "code",
   "execution_count": 4,
   "id": "03f5205e",
   "metadata": {},
   "outputs": [
    {
     "data": {
      "text/html": [
       "<div>\n",
       "<style scoped>\n",
       "    .dataframe tbody tr th:only-of-type {\n",
       "        vertical-align: middle;\n",
       "    }\n",
       "\n",
       "    .dataframe tbody tr th {\n",
       "        vertical-align: top;\n",
       "    }\n",
       "\n",
       "    .dataframe thead th {\n",
       "        text-align: right;\n",
       "    }\n",
       "</style>\n",
       "<table border=\"1\" class=\"dataframe\">\n",
       "  <thead>\n",
       "    <tr style=\"text-align: right;\">\n",
       "      <th></th>\n",
       "      <th>YEAR</th>\n",
       "      <th>CLASS</th>\n",
       "      <th>SEX</th>\n",
       "      <th>RACE</th>\n",
       "      <th>AGE_GROUP</th>\n",
       "      <th>AGE</th>\n",
       "      <th>MINAGE</th>\n",
       "    </tr>\n",
       "  </thead>\n",
       "  <tbody>\n",
       "    <tr>\n",
       "      <th>0</th>\n",
       "      <td>2010</td>\n",
       "      <td>CIGARETTES</td>\n",
       "      <td>Male</td>\n",
       "      <td>Black</td>\n",
       "      <td>20-21</td>\n",
       "      <td>20</td>\n",
       "      <td>16</td>\n",
       "    </tr>\n",
       "    <tr>\n",
       "      <th>1</th>\n",
       "      <td>2010</td>\n",
       "      <td>ALCOHOL</td>\n",
       "      <td>Female</td>\n",
       "      <td>Hispanic</td>\n",
       "      <td>14-15</td>\n",
       "      <td>15</td>\n",
       "      <td>14</td>\n",
       "    </tr>\n",
       "    <tr>\n",
       "      <th>2</th>\n",
       "      <td>2010</td>\n",
       "      <td>ALCOHOL</td>\n",
       "      <td>Female</td>\n",
       "      <td>White</td>\n",
       "      <td>18-19</td>\n",
       "      <td>18</td>\n",
       "      <td>13</td>\n",
       "    </tr>\n",
       "    <tr>\n",
       "      <th>3</th>\n",
       "      <td>2010</td>\n",
       "      <td>NO_DRUG_USE</td>\n",
       "      <td>Male</td>\n",
       "      <td>Hispanic</td>\n",
       "      <td>12-13</td>\n",
       "      <td>13</td>\n",
       "      <td>999</td>\n",
       "    </tr>\n",
       "    <tr>\n",
       "      <th>4</th>\n",
       "      <td>2010</td>\n",
       "      <td>CIGARETTES</td>\n",
       "      <td>Male</td>\n",
       "      <td>Hispanic</td>\n",
       "      <td>20-21</td>\n",
       "      <td>20</td>\n",
       "      <td>15</td>\n",
       "    </tr>\n",
       "  </tbody>\n",
       "</table>\n",
       "</div>"
      ],
      "text/plain": [
       "   YEAR        CLASS     SEX      RACE AGE_GROUP  AGE  MINAGE\n",
       "0  2010   CIGARETTES    Male     Black     20-21   20      16\n",
       "1  2010      ALCOHOL  Female  Hispanic     14-15   15      14\n",
       "2  2010      ALCOHOL  Female     White     18-19   18      13\n",
       "3  2010  NO_DRUG_USE    Male  Hispanic     12-13   13     999\n",
       "4  2010   CIGARETTES    Male  Hispanic     20-21   20      15"
      ]
     },
     "execution_count": 4,
     "metadata": {},
     "output_type": "execute_result"
    }
   ],
   "source": [
    "df.head()"
   ]
  },
  {
   "cell_type": "code",
   "execution_count": 5,
   "id": "9f586cc0",
   "metadata": {},
   "outputs": [
    {
     "data": {
      "text/plain": [
       "YEAR         category\n",
       "CLASS        category\n",
       "SEX          category\n",
       "RACE         category\n",
       "AGE_GROUP    category\n",
       "AGE             int32\n",
       "MINAGE          int32\n",
       "dtype: object"
      ]
     },
     "execution_count": 5,
     "metadata": {},
     "output_type": "execute_result"
    }
   ],
   "source": [
    "df.dtypes"
   ]
  },
  {
   "cell_type": "markdown",
   "id": "6382cad3",
   "metadata": {},
   "source": [
    "# Reproduce Figure 1"
   ]
  },
  {
   "cell_type": "markdown",
   "id": "3776fd43",
   "metadata": {},
   "source": [
    "Figure 1: Percent of youth aged 12–21-years whose first drug use was marijuana, cigarettes, alcohol, other tobacco, other drugs, or no drug use by demographic characteristics and survey year. \n",
    "\n",
    "Abbreviations: American Indian/Alaska Native (AI/AN); Native Hawaiian and other Pacific Islander (NHOPI)."
   ]
  },
  {
   "cell_type": "code",
   "execution_count": 6,
   "id": "73a2ebcb",
   "metadata": {},
   "outputs": [
    {
     "data": {
      "image/png": "[encoded data removed]",
      "text/plain": [
       "<Figure size 1080x432 with 4 Axes>"
      ]
     },
     "metadata": {
      "needs_background": "light"
     },
     "output_type": "display_data"
    }
   ],
   "source": [
    "def plot_figure(df_):\n",
    "    cols = ['MARIJUANA', 'CIGARETTES', 'ALCOHOL', 'OTHER_TABACCO', 'OTHER_DRUGS', 'NO_DRUG_USE']\n",
    "    prop_sex = pd.crosstab(index=df_['SEX'], columns=df_['CLASS'], normalize=\"index\") * 100\n",
    "    prop_race = pd.crosstab(index=df_['RACE'], columns=df_['CLASS'], normalize=\"index\") * 100\n",
    "    prop_age = pd.crosstab(index=df_['AGE_GROUP'], columns=df_['CLASS'], normalize=\"index\") * 100\n",
    "    prop_year = pd.crosstab(index=df_['YEAR'], columns=df_['CLASS'], normalize=\"index\") * 100\n",
    "    figure, axis = plt.subplots(1, 4, gridspec_kw={'width_ratios': [1, 2, 3, 4]})\n",
    "    figure.set_size_inches(15, 6, forward=True)\n",
    "    figure.tight_layout() \n",
    "    prop_sex[cols].plot(kind='bar', stacked=True, colormap='tab20', ax=axis[0], legend=None, xlabel='Sex')\n",
    "    prop_age[cols].plot(kind='bar', stacked=True, colormap='tab20', ax=axis[1], legend=None, xlabel='Age Group')\n",
    "    prop_race[cols].plot(kind='bar', stacked=True, colormap='tab20', ax=axis[2], legend=None, xlabel='Race/Ethnicity')\n",
    "    prop_year[cols].plot(kind='bar', stacked=True, colormap='tab20', ax=axis[3], legend=None, xlabel='Survey Year')\n",
    "    axis[0].yaxis.set_major_formatter('{x:1.0f}%')\n",
    "    axis[1].set_yticks([])\n",
    "    axis[2].set_yticks([])\n",
    "    axis[3].set_yticks([])\n",
    "    axis[0].xaxis.set_label_coords(.5, -.2)\n",
    "    axis[1].xaxis.set_label_coords(.5, -.2)\n",
    "    axis[2].xaxis.set_label_coords(.5, -.2)\n",
    "    axis[3].xaxis.set_label_coords(.5, -.2)\n",
    "    plt.subplots_adjust(wspace=0.05)\n",
    "    plt.legend(loc='upper center', bbox_to_anchor=(-0.25, 1.1),  ncol = 6)\n",
    "    # plt.savefig('figure_1.png', facecolor='white', transparent=False, bbox_inches='tight', pad_inches=.5)\n",
    "    plt.show()\n",
    "    \n",
    "plot_figure(df)"
   ]
  },
  {
   "cell_type": "markdown",
   "id": "5bea7bba",
   "metadata": {},
   "source": [
    "# Reproduce Table 1"
   ]
  },
  {
   "cell_type": "markdown",
   "id": "59eab0f9",
   "metadata": {},
   "source": [
    "Table 1: Demographic and survey characteristics associated with using marijuana as the first drug used relative to no drug use, using cigarettes first, or using alcohol first (n=275,559), adjusted relative risk ratios (aRRR)."
   ]
  },
  {
   "cell_type": "code",
   "execution_count": 703,
   "id": "0c0de055",
   "metadata": {},
   "outputs": [],
   "source": [
    "class_mapping = {\n",
    "    'MARIJUANA': 0,\n",
    "    'ALCOHOL': 1,\n",
    "    'CIGARETTES': 2,\n",
    "    'NO_DRUG_USE': 3,\n",
    "    'OTHER_TABACCO': 4,\n",
    "    'OTHER_DRUGS': 5\n",
    "}"
   ]
  },
  {
   "cell_type": "code",
   "execution_count": 704,
   "id": "b4258f73",
   "metadata": {},
   "outputs": [
    {
     "data": {
      "text/plain": [
       "YEAR          int32\n",
       "CLASS         int64\n",
       "SEX          object\n",
       "RACE         object\n",
       "AGE_GROUP    object\n",
       "AGE           int32\n",
       "dtype: object"
      ]
     },
     "execution_count": 704,
     "metadata": {},
     "output_type": "execute_result"
    }
   ],
   "source": [
    "data = df.copy()\n",
    "data['CLASS'] = data.CLASS.map(class_mapping)\n",
    "data['AGE'] = data.AGE.astype(np.int32)\n",
    "data['YEAR'] = data.YEAR.astype(np.int32)\n",
    "data.dtypes"
   ]
  },
  {
   "cell_type": "code",
   "execution_count": 705,
   "id": "b60885dd",
   "metadata": {},
   "outputs": [
    {
     "data": {
      "text/plain": [
       "(296467, 6)"
      ]
     },
     "execution_count": 705,
     "metadata": {},
     "output_type": "execute_result"
    }
   ],
   "source": [
    "data.shape"
   ]
  },
  {
   "cell_type": "code",
   "execution_count": 706,
   "id": "795130f8",
   "metadata": {},
   "outputs": [
    {
     "data": {
      "text/html": [
       "<div>\n",
       "<style scoped>\n",
       "    .dataframe tbody tr th:only-of-type {\n",
       "        vertical-align: middle;\n",
       "    }\n",
       "\n",
       "    .dataframe tbody tr th {\n",
       "        vertical-align: top;\n",
       "    }\n",
       "\n",
       "    .dataframe thead th {\n",
       "        text-align: right;\n",
       "    }\n",
       "</style>\n",
       "<table border=\"1\" class=\"dataframe\">\n",
       "  <thead>\n",
       "    <tr style=\"text-align: right;\">\n",
       "      <th></th>\n",
       "      <th>YEAR</th>\n",
       "      <th>CLASS</th>\n",
       "      <th>SEX</th>\n",
       "      <th>RACE</th>\n",
       "      <th>AGE_GROUP</th>\n",
       "      <th>AGE</th>\n",
       "    </tr>\n",
       "  </thead>\n",
       "  <tbody>\n",
       "    <tr>\n",
       "      <th>0</th>\n",
       "      <td>2010</td>\n",
       "      <td>0</td>\n",
       "      <td>Male</td>\n",
       "      <td>Black</td>\n",
       "      <td>20-21</td>\n",
       "      <td>20</td>\n",
       "    </tr>\n",
       "    <tr>\n",
       "      <th>1</th>\n",
       "      <td>2010</td>\n",
       "      <td>0</td>\n",
       "      <td>Female</td>\n",
       "      <td>Hispanic</td>\n",
       "      <td>14-15</td>\n",
       "      <td>15</td>\n",
       "    </tr>\n",
       "    <tr>\n",
       "      <th>2</th>\n",
       "      <td>2010</td>\n",
       "      <td>1</td>\n",
       "      <td>Female</td>\n",
       "      <td>White</td>\n",
       "      <td>18-19</td>\n",
       "      <td>18</td>\n",
       "    </tr>\n",
       "    <tr>\n",
       "      <th>3</th>\n",
       "      <td>2010</td>\n",
       "      <td>3</td>\n",
       "      <td>Male</td>\n",
       "      <td>Hispanic</td>\n",
       "      <td>12-13</td>\n",
       "      <td>13</td>\n",
       "    </tr>\n",
       "    <tr>\n",
       "      <th>4</th>\n",
       "      <td>2010</td>\n",
       "      <td>4</td>\n",
       "      <td>Male</td>\n",
       "      <td>Hispanic</td>\n",
       "      <td>20-21</td>\n",
       "      <td>20</td>\n",
       "    </tr>\n",
       "  </tbody>\n",
       "</table>\n",
       "</div>"
      ],
      "text/plain": [
       "   YEAR  CLASS     SEX      RACE AGE_GROUP  AGE\n",
       "0  2010      0    Male     Black     20-21   20\n",
       "1  2010      0  Female  Hispanic     14-15   15\n",
       "2  2010      1  Female     White     18-19   18\n",
       "3  2010      3    Male  Hispanic     12-13   13\n",
       "4  2010      4    Male  Hispanic     20-21   20"
      ]
     },
     "execution_count": 706,
     "metadata": {},
     "output_type": "execute_result"
    }
   ],
   "source": [
    "data.head()"
   ]
  },
  {
   "cell_type": "code",
   "execution_count": 745,
   "id": "55d9b98e",
   "metadata": {},
   "outputs": [],
   "source": [
    "model = sm.MNLogit.from_formula(\n",
    "    'CLASS ~ C(SEX, Treatment(reference=\"Male\")) + AGE + C(RACE, Treatment(reference=\"White\")) + YEAR',\n",
    "    data=data)"
   ]
  },
  {
   "cell_type": "code",
   "execution_count": 746,
   "id": "a3465094",
   "metadata": {},
   "outputs": [
    {
     "name": "stdout",
     "output_type": "stream",
     "text": [
      "Optimization terminated successfully.\n",
      "         Current function value: 1.213960\n",
      "         Iterations 8\n"
     ]
    }
   ],
   "source": [
    "log_reg = model.fit(method='newton', maxiter=100, full_output=True)"
   ]
  },
  {
   "cell_type": "code",
   "execution_count": 795,
   "id": "261ced2f",
   "metadata": {},
   "outputs": [
    {
     "name": "stdout",
     "output_type": "stream",
     "text": [
      "                                             Results: MNLogit\n",
      "==========================================================================================================\n",
      "Model:                            MNLogit                       Pseudo R-squared:              0.128      \n",
      "Dependent Variable:               CLASS                         AIC:                           719897.8895\n",
      "Date:                             2022-07-19 20:44              BIC:                           720427.8741\n",
      "No. Observations:                 296467                        Log-Likelihood:                -3.5990e+05\n",
      "Df Model:                         45                            LL-Null:                       -4.1263e+05\n",
      "Df Residuals:                     296417                        LLR p-value:                   0.0000     \n",
      "Converged:                        1.0000                        Scale:                         1.0000     \n",
      "No. Iterations:                   8.0000                                                                  \n",
      "----------------------------------------------------------------------------------------------------------\n",
      "                        CLASS = 0                          Coef.  Std.Err.    t     P>|t|   [0.025  0.975]\n",
      "----------------------------------------------------------------------------------------------------------\n",
      "                                            Intercept     73.8527   3.9435  18.7278 0.0000 66.1236 81.5818\n",
      "        C(SEX, Treatment(reference=\"Male\"))[T.Female]      0.2883   0.0121  23.8903 0.0000  0.2647  0.3120\n",
      "       C(RACE, Treatment(reference=\"White\"))[T.AI/AN]     -1.0749   0.0450 -23.9011 0.0000 -1.1630 -0.9867\n",
      "       C(RACE, Treatment(reference=\"White\"))[T.Asian]      0.5166   0.0421  12.2705 0.0000  0.4341  0.5991\n",
      "       C(RACE, Treatment(reference=\"White\"))[T.Black]     -0.4738   0.0177 -26.7000 0.0000 -0.5086 -0.4390\n",
      "    C(RACE, Treatment(reference=\"White\"))[T.Hispanic]     -0.1382   0.0161  -8.5863 0.0000 -0.1698 -0.1067\n",
      "C(RACE, Treatment(reference=\"White\"))[T.Multi-racial]     -0.4692   0.0294 -15.9702 0.0000 -0.5267 -0.4116\n",
      "       C(RACE, Treatment(reference=\"White\"))[T.NHOPI]     -0.5447   0.0805  -6.7662 0.0000 -0.7024 -0.3869\n",
      "                                                  AGE     -0.0708   0.0025 -28.6372 0.0000 -0.0757 -0.0660\n",
      "                                                 YEAR     -0.0357   0.0020 -18.1943 0.0000 -0.0396 -0.0319\n",
      "----------------------------------------------------------------------------------------------------------\n",
      "                      CLASS = 1                         Coef.   Std.Err.    t     P>|t|   [0.025   0.975] \n",
      "----------------------------------------------------------------------------------------------------------\n",
      "                                            Intercept  180.4839   8.9196  20.2345 0.0000 163.0017 197.9660\n",
      "        C(SEX, Treatment(reference=\"Male\"))[T.Female]    0.3891   0.0270  14.3860 0.0000   0.3361   0.4421\n",
      "       C(RACE, Treatment(reference=\"White\"))[T.AI/AN]   -0.4553   0.0898  -5.0706 0.0000  -0.6314  -0.2793\n",
      "       C(RACE, Treatment(reference=\"White\"))[T.Asian]   -0.2400   0.0965  -2.4880 0.0128  -0.4291  -0.0509\n",
      "       C(RACE, Treatment(reference=\"White\"))[T.Black]   -1.0677   0.0494 -21.5941 0.0000  -1.1646  -0.9708\n",
      "    C(RACE, Treatment(reference=\"White\"))[T.Hispanic]   -0.8754   0.0437 -20.0312 0.0000  -0.9611  -0.7898\n",
      "C(RACE, Treatment(reference=\"White\"))[T.Multi-racial]   -0.3463   0.0657  -5.2737 0.0000  -0.4750  -0.2176\n",
      "       C(RACE, Treatment(reference=\"White\"))[T.NHOPI]   -0.4104   0.1750  -2.3455 0.0190  -0.7534  -0.0675\n",
      "                                                  AGE    0.1367   0.0060  22.6299 0.0000   0.1248   0.1485\n",
      "                                                 YEAR   -0.0920   0.0044 -20.6954 0.0000  -0.1007  -0.0832\n",
      "----------------------------------------------------------------------------------------------------------\n",
      "                      CLASS = 2                        Coef.   Std.Err.     t     P>|t|   [0.025   0.975] \n",
      "----------------------------------------------------------------------------------------------------------\n",
      "                                            Intercept -44.6786   4.1297  -10.8189 0.0000 -52.7726 -36.5845\n",
      "        C(SEX, Treatment(reference=\"Male\"))[T.Female]   0.2163   0.0127   17.0512 0.0000   0.1914   0.2411\n",
      "       C(RACE, Treatment(reference=\"White\"))[T.AI/AN]  -0.9189   0.0455  -20.1795 0.0000  -1.0082  -0.8297\n",
      "       C(RACE, Treatment(reference=\"White\"))[T.Asian]   1.2073   0.0429   28.1334 0.0000   1.1232   1.2914\n",
      "       C(RACE, Treatment(reference=\"White\"))[T.Black]  -0.0078   0.0182   -0.4288 0.6681  -0.0434   0.0278\n",
      "    C(RACE, Treatment(reference=\"White\"))[T.Hispanic]  -0.0266   0.0170   -1.5628 0.1181  -0.0599   0.0067\n",
      "C(RACE, Treatment(reference=\"White\"))[T.Multi-racial]  -0.4833   0.0305  -15.8230 0.0000  -0.5432  -0.4235\n",
      "       C(RACE, Treatment(reference=\"White\"))[T.NHOPI]  -0.3101   0.0843   -3.6768 0.0002  -0.4755  -0.1448\n",
      "                                                  AGE  -0.5440   0.0027 -201.1856 0.0000  -0.5493  -0.5387\n",
      "                                                 YEAR   0.0271   0.0021   13.1989 0.0000   0.0231   0.0312\n",
      "----------------------------------------------------------------------------------------------------------\n",
      "                        CLASS = 3                          Coef.  Std.Err.    t     P>|t|   [0.025  0.975]\n",
      "----------------------------------------------------------------------------------------------------------\n",
      "                                            Intercept     72.3477   6.4447  11.2258 0.0000 59.7162 84.9792\n",
      "        C(SEX, Treatment(reference=\"Male\"))[T.Female]     -1.0368   0.0222 -46.7141 0.0000 -1.0803 -0.9933\n",
      "       C(RACE, Treatment(reference=\"White\"))[T.AI/AN]      0.0037   0.0562   0.0663 0.9471 -0.1064  0.1139\n",
      "       C(RACE, Treatment(reference=\"White\"))[T.Asian]     -0.6920   0.0875  -7.9106 0.0000 -0.8635 -0.5206\n",
      "       C(RACE, Treatment(reference=\"White\"))[T.Black]     -0.9344   0.0343 -27.2225 0.0000 -1.0017 -0.8671\n",
      "    C(RACE, Treatment(reference=\"White\"))[T.Hispanic]     -0.7243   0.0298 -24.2787 0.0000 -0.7828 -0.6658\n",
      "C(RACE, Treatment(reference=\"White\"))[T.Multi-racial]     -0.6433   0.0518 -12.4254 0.0000 -0.7447 -0.5418\n",
      "       C(RACE, Treatment(reference=\"White\"))[T.NHOPI]     -0.6488   0.1416  -4.5819 0.0000 -0.9264 -0.3713\n",
      "                                                  AGE     -0.0807   0.0040 -20.4005 0.0000 -0.0885 -0.0730\n",
      "                                                 YEAR     -0.0355   0.0032 -11.0636 0.0000 -0.0418 -0.0292\n",
      "----------------------------------------------------------------------------------------------------------\n",
      "                        CLASS = 4                          Coef.  Std.Err.    t     P>|t|   [0.025  0.975]\n",
      "----------------------------------------------------------------------------------------------------------\n",
      "                                            Intercept     56.9752   6.0924   9.3518 0.0000 45.0343 68.9161\n",
      "        C(SEX, Treatment(reference=\"Male\"))[T.Female]      0.2339   0.0187  12.5175 0.0000  0.1973  0.2705\n",
      "       C(RACE, Treatment(reference=\"White\"))[T.AI/AN]     -0.3303   0.0666  -4.9607 0.0000 -0.4608 -0.1998\n",
      "       C(RACE, Treatment(reference=\"White\"))[T.Asian]      0.9675   0.0580  16.6956 0.0000  0.8539  1.0811\n",
      "       C(RACE, Treatment(reference=\"White\"))[T.Black]      0.3843   0.0253  15.2157 0.0000  0.3348  0.4338\n",
      "    C(RACE, Treatment(reference=\"White\"))[T.Hispanic]      0.1805   0.0250   7.2220 0.0000  0.1315  0.2294\n",
      "C(RACE, Treatment(reference=\"White\"))[T.Multi-racial]     -0.0609   0.0445  -1.3674 0.1715 -0.1481  0.0264\n",
      "       C(RACE, Treatment(reference=\"White\"))[T.NHOPI]      0.1393   0.1180   1.1798 0.2381 -0.0921  0.3706\n",
      "                                                  AGE     -0.3064   0.0038 -81.6354 0.0000 -0.3138 -0.2991\n",
      "                                                 YEAR     -0.0263   0.0030  -8.6766 0.0000 -0.0323 -0.0204\n",
      "==========================================================================================================\n",
      "\n"
     ]
    }
   ],
   "source": [
    "print(log_reg.summary2())"
   ]
  },
  {
   "cell_type": "code",
   "execution_count": 794,
   "id": "4d7403e4",
   "metadata": {},
   "outputs": [
    {
     "data": {
      "text/html": [
       "<div>\n",
       "<style scoped>\n",
       "    .dataframe tbody tr th:only-of-type {\n",
       "        vertical-align: middle;\n",
       "    }\n",
       "\n",
       "    .dataframe tbody tr th {\n",
       "        vertical-align: top;\n",
       "    }\n",
       "\n",
       "    .dataframe thead th {\n",
       "        text-align: right;\n",
       "    }\n",
       "</style>\n",
       "<table border=\"1\" class=\"dataframe\">\n",
       "  <thead>\n",
       "    <tr style=\"text-align: right;\">\n",
       "      <th></th>\n",
       "      <th>aOR</th>\n",
       "      <th>Lower CI</th>\n",
       "      <th>Higher CI</th>\n",
       "      <th>pvalue</th>\n",
       "      <th>aOR</th>\n",
       "      <th>Lower CI</th>\n",
       "      <th>Higher CI</th>\n",
       "      <th>pvalue</th>\n",
       "      <th>aOR</th>\n",
       "      <th>Lower CI</th>\n",
       "      <th>Higher CI</th>\n",
       "      <th>pvalue</th>\n",
       "    </tr>\n",
       "  </thead>\n",
       "  <tbody>\n",
       "    <tr>\n",
       "      <th>Male vs. Female</th>\n",
       "      <td>1.334</td>\n",
       "      <td>1.303</td>\n",
       "      <td>1.366</td>\n",
       "      <td>0.0</td>\n",
       "      <td>1.476</td>\n",
       "      <td>1.399</td>\n",
       "      <td>1.556</td>\n",
       "      <td>0.000</td>\n",
       "      <td>1.241</td>\n",
       "      <td>1.211</td>\n",
       "      <td>1.273</td>\n",
       "      <td>0.000</td>\n",
       "    </tr>\n",
       "    <tr>\n",
       "      <th>White vs. AI/AN</th>\n",
       "      <td>0.341</td>\n",
       "      <td>0.313</td>\n",
       "      <td>0.373</td>\n",
       "      <td>0.0</td>\n",
       "      <td>0.634</td>\n",
       "      <td>0.532</td>\n",
       "      <td>0.756</td>\n",
       "      <td>0.000</td>\n",
       "      <td>0.399</td>\n",
       "      <td>0.365</td>\n",
       "      <td>0.436</td>\n",
       "      <td>0.000</td>\n",
       "    </tr>\n",
       "    <tr>\n",
       "      <th>White vs. Asian</th>\n",
       "      <td>1.676</td>\n",
       "      <td>1.544</td>\n",
       "      <td>1.820</td>\n",
       "      <td>0.0</td>\n",
       "      <td>0.787</td>\n",
       "      <td>0.651</td>\n",
       "      <td>0.950</td>\n",
       "      <td>0.013</td>\n",
       "      <td>3.345</td>\n",
       "      <td>3.075</td>\n",
       "      <td>3.638</td>\n",
       "      <td>0.000</td>\n",
       "    </tr>\n",
       "    <tr>\n",
       "      <th>White vs. Black</th>\n",
       "      <td>0.623</td>\n",
       "      <td>0.601</td>\n",
       "      <td>0.645</td>\n",
       "      <td>0.0</td>\n",
       "      <td>0.344</td>\n",
       "      <td>0.312</td>\n",
       "      <td>0.379</td>\n",
       "      <td>0.000</td>\n",
       "      <td>0.992</td>\n",
       "      <td>0.958</td>\n",
       "      <td>1.028</td>\n",
       "      <td>0.668</td>\n",
       "    </tr>\n",
       "    <tr>\n",
       "      <th>White vs. Hispanic</th>\n",
       "      <td>0.871</td>\n",
       "      <td>0.844</td>\n",
       "      <td>0.899</td>\n",
       "      <td>0.0</td>\n",
       "      <td>0.417</td>\n",
       "      <td>0.382</td>\n",
       "      <td>0.454</td>\n",
       "      <td>0.000</td>\n",
       "      <td>0.974</td>\n",
       "      <td>0.942</td>\n",
       "      <td>1.007</td>\n",
       "      <td>0.118</td>\n",
       "    </tr>\n",
       "    <tr>\n",
       "      <th>White vs. Multi-racial</th>\n",
       "      <td>0.626</td>\n",
       "      <td>0.591</td>\n",
       "      <td>0.663</td>\n",
       "      <td>0.0</td>\n",
       "      <td>0.707</td>\n",
       "      <td>0.622</td>\n",
       "      <td>0.804</td>\n",
       "      <td>0.000</td>\n",
       "      <td>0.617</td>\n",
       "      <td>0.581</td>\n",
       "      <td>0.655</td>\n",
       "      <td>0.000</td>\n",
       "    </tr>\n",
       "    <tr>\n",
       "      <th>White vs. NHOPI</th>\n",
       "      <td>0.580</td>\n",
       "      <td>0.495</td>\n",
       "      <td>0.679</td>\n",
       "      <td>0.0</td>\n",
       "      <td>0.663</td>\n",
       "      <td>0.471</td>\n",
       "      <td>0.935</td>\n",
       "      <td>0.019</td>\n",
       "      <td>0.733</td>\n",
       "      <td>0.622</td>\n",
       "      <td>0.865</td>\n",
       "      <td>0.000</td>\n",
       "    </tr>\n",
       "    <tr>\n",
       "      <th>AGE</th>\n",
       "      <td>0.932</td>\n",
       "      <td>0.927</td>\n",
       "      <td>0.936</td>\n",
       "      <td>0.0</td>\n",
       "      <td>1.146</td>\n",
       "      <td>1.133</td>\n",
       "      <td>1.160</td>\n",
       "      <td>0.000</td>\n",
       "      <td>0.580</td>\n",
       "      <td>0.577</td>\n",
       "      <td>0.583</td>\n",
       "      <td>0.000</td>\n",
       "    </tr>\n",
       "    <tr>\n",
       "      <th>YEAR</th>\n",
       "      <td>0.965</td>\n",
       "      <td>0.961</td>\n",
       "      <td>0.969</td>\n",
       "      <td>0.0</td>\n",
       "      <td>0.912</td>\n",
       "      <td>0.904</td>\n",
       "      <td>0.920</td>\n",
       "      <td>0.000</td>\n",
       "      <td>1.028</td>\n",
       "      <td>1.023</td>\n",
       "      <td>1.032</td>\n",
       "      <td>0.000</td>\n",
       "    </tr>\n",
       "  </tbody>\n",
       "</table>\n",
       "</div>"
      ],
      "text/plain": [
       "                          aOR  Lower CI  Higher CI  pvalue    aOR  Lower CI  \\\n",
       "Male vs. Female         1.334     1.303      1.366     0.0  1.476     1.399   \n",
       "White vs. AI/AN         0.341     0.313      0.373     0.0  0.634     0.532   \n",
       "White vs. Asian         1.676     1.544      1.820     0.0  0.787     0.651   \n",
       "White vs. Black         0.623     0.601      0.645     0.0  0.344     0.312   \n",
       "White vs. Hispanic      0.871     0.844      0.899     0.0  0.417     0.382   \n",
       "White vs. Multi-racial  0.626     0.591      0.663     0.0  0.707     0.622   \n",
       "White vs. NHOPI         0.580     0.495      0.679     0.0  0.663     0.471   \n",
       "AGE                     0.932     0.927      0.936     0.0  1.146     1.133   \n",
       "YEAR                    0.965     0.961      0.969     0.0  0.912     0.904   \n",
       "\n",
       "                        Higher CI  pvalue    aOR  Lower CI  Higher CI  pvalue  \n",
       "Male vs. Female             1.556   0.000  1.241     1.211      1.273   0.000  \n",
       "White vs. AI/AN             0.756   0.000  0.399     0.365      0.436   0.000  \n",
       "White vs. Asian             0.950   0.013  3.345     3.075      3.638   0.000  \n",
       "White vs. Black             0.379   0.000  0.992     0.958      1.028   0.668  \n",
       "White vs. Hispanic          0.454   0.000  0.974     0.942      1.007   0.118  \n",
       "White vs. Multi-racial      0.804   0.000  0.617     0.581      0.655   0.000  \n",
       "White vs. NHOPI             0.935   0.019  0.733     0.622      0.865   0.000  \n",
       "AGE                         1.160   0.000  0.580     0.577      0.583   0.000  \n",
       "YEAR                        0.920   0.000  1.028     1.023      1.032   0.000  "
      ]
     },
     "execution_count": 794,
     "metadata": {},
     "output_type": "execute_result"
    }
   ],
   "source": [
    "dfs = []\n",
    "lower_CI = log_reg.conf_int()['lower']\n",
    "upper_CI = log_reg.conf_int()['upper']\n",
    "for indx in [0, 1, 2]:\n",
    "    dfs.append(\n",
    "        pd.DataFrame(\n",
    "            {\n",
    "                \"aOR\": np.exp(log_reg.params[indx]),\n",
    "                \"Lower CI\": np.exp(lower_CI.iloc[lower_CI.index.get_level_values('CLASS') == str(indx + 1)].values),\n",
    "                \"Higher CI\": np.exp(upper_CI.iloc[upper_CI.index.get_level_values('CLASS') == str(indx + 1)].values),\n",
    "                \"pvalue\": log_reg.pvalues[indx],\n",
    "            }\n",
    "        )\n",
    "    )\n",
    "\n",
    "aOR = pd.concat(dfs, axis=1)\n",
    "aOR = aOR.drop('Intercept')\n",
    "aOR.index = [x[-1].replace(')', '').replace('T.', '').replace('\"', '').replace('[', ' vs. ').replace(']', '') for x in aOR.index.str.split('reference=')]\n",
    "aOR = round(aOR, 3)\n",
    "aOR"
   ]
  },
  {
   "cell_type": "code",
   "execution_count": null,
   "id": "b0574f6b",
   "metadata": {},
   "outputs": [],
   "source": []
  },
  {
   "cell_type": "markdown",
   "id": "a3048354",
   "metadata": {},
   "source": [
    "# Plot Table 2"
   ]
  },
  {
   "cell_type": "markdown",
   "id": "41a93192",
   "metadata": {},
   "source": [
    "Table columns\n",
    "- Heavy Marijuana Use Among Users (n=71,699)\n",
    "- Cannabis Use Disorder Among Users (n=71,699)\n",
    "- Alcohol Use Disorder Among Drinkers (n=136,399)\n",
    "- Nicotine Dependence Among Smokers (n=89,202)\n",
    "- Other Drug Use *c,d* (n=142,630)\n",
    "    * *c* Other drugs included non-medical use of cocaine, hallucinogens, heroin, inhalants, analgesics, sedatives, stimulants, and tranquillizers.\n",
    "    * *d* Those having used only one drug or all five types of drugs dropped from analyses (n=67,148) after controlling for number of drugs used due to no variance in the outcome.\n",
    "\n",
    "Methodology\n",
    "- **Heavy marijuana use** was defined as reporting marijuana use on either ≥20 or more days in the past month, or ≥300 days in the past year. **MRJMDAYS**, **MRJYDAYS**\n",
    "- Participants were classified as having a **cannabis use disorder (CUD)** or **alcohol use disorder (AUD)** if, within the last 12 months, they had met one or more features of abuse or 3 or more features of dependence based on criteria in the Diagnostic and Statistical Manual of Mental Disorders, 4th Edition (American Psychiatric Association, 1994).  -> **DEPNDALC**, **DEPNDMRJ**\n",
    "- Those whose total score on the Nicotine Dependence Syndrome Scale was ≥2.75 were classified as **having nicotine dependence (ND)** (Shiffman, Waters, & Hickcox, 2004). -> **NDSSDNSP**\n",
    "- Any lifetime use of other drugs was based on responses to items about having ever used inhalants, cocaine, heroin, and non-medical prescription drugs"
   ]
  },
  {
   "cell_type": "code",
   "execution_count": 150,
   "id": "2df91fe9",
   "metadata": {},
   "outputs": [
    {
     "data": {
      "text/html": [
       "<div>\n",
       "<style scoped>\n",
       "    .dataframe tbody tr th:only-of-type {\n",
       "        vertical-align: middle;\n",
       "    }\n",
       "\n",
       "    .dataframe tbody tr th {\n",
       "        vertical-align: top;\n",
       "    }\n",
       "\n",
       "    .dataframe thead th {\n",
       "        text-align: right;\n",
       "    }\n",
       "</style>\n",
       "<table border=\"1\" class=\"dataframe\">\n",
       "  <thead>\n",
       "    <tr style=\"text-align: right;\">\n",
       "      <th></th>\n",
       "      <th>YEAR</th>\n",
       "      <th>CLASS</th>\n",
       "      <th>SEX</th>\n",
       "      <th>RACE</th>\n",
       "      <th>AGE_GROUP</th>\n",
       "      <th>MRJMDAYS</th>\n",
       "      <th>MRJYDAYS</th>\n",
       "      <th>DEPNDALC</th>\n",
       "      <th>DEPNDMRJ</th>\n",
       "      <th>NDSSDNSP</th>\n",
       "    </tr>\n",
       "  </thead>\n",
       "  <tbody>\n",
       "    <tr>\n",
       "      <th>0</th>\n",
       "      <td>2010</td>\n",
       "      <td>MARIJUANA</td>\n",
       "      <td>Male</td>\n",
       "      <td>Black</td>\n",
       "      <td>20-21</td>\n",
       "      <td>5</td>\n",
       "      <td>6</td>\n",
       "      <td>0</td>\n",
       "      <td>0</td>\n",
       "      <td>0</td>\n",
       "    </tr>\n",
       "    <tr>\n",
       "      <th>1</th>\n",
       "      <td>2010</td>\n",
       "      <td>MARIJUANA</td>\n",
       "      <td>Female</td>\n",
       "      <td>Hispanic</td>\n",
       "      <td>14-15</td>\n",
       "      <td>5</td>\n",
       "      <td>1</td>\n",
       "      <td>1</td>\n",
       "      <td>0</td>\n",
       "      <td>0</td>\n",
       "    </tr>\n",
       "    <tr>\n",
       "      <th>2</th>\n",
       "      <td>2010</td>\n",
       "      <td>ALCOHOL</td>\n",
       "      <td>Female</td>\n",
       "      <td>White</td>\n",
       "      <td>18-19</td>\n",
       "      <td>5</td>\n",
       "      <td>6</td>\n",
       "      <td>0</td>\n",
       "      <td>0</td>\n",
       "      <td>0</td>\n",
       "    </tr>\n",
       "    <tr>\n",
       "      <th>3</th>\n",
       "      <td>2010</td>\n",
       "      <td>NO_DRUG_USE</td>\n",
       "      <td>Male</td>\n",
       "      <td>Hispanic</td>\n",
       "      <td>12-13</td>\n",
       "      <td>5</td>\n",
       "      <td>6</td>\n",
       "      <td>0</td>\n",
       "      <td>0</td>\n",
       "      <td>0</td>\n",
       "    </tr>\n",
       "    <tr>\n",
       "      <th>4</th>\n",
       "      <td>2010</td>\n",
       "      <td>OTHER_TABACCO</td>\n",
       "      <td>Male</td>\n",
       "      <td>Hispanic</td>\n",
       "      <td>20-21</td>\n",
       "      <td>3</td>\n",
       "      <td>4</td>\n",
       "      <td>1</td>\n",
       "      <td>0</td>\n",
       "      <td>0</td>\n",
       "    </tr>\n",
       "  </tbody>\n",
       "</table>\n",
       "</div>"
      ],
      "text/plain": [
       "   YEAR          CLASS     SEX      RACE AGE_GROUP  MRJMDAYS  MRJYDAYS  \\\n",
       "0  2010      MARIJUANA    Male     Black     20-21         5         6   \n",
       "1  2010      MARIJUANA  Female  Hispanic     14-15         5         1   \n",
       "2  2010        ALCOHOL  Female     White     18-19         5         6   \n",
       "3  2010    NO_DRUG_USE    Male  Hispanic     12-13         5         6   \n",
       "4  2010  OTHER_TABACCO    Male  Hispanic     20-21         3         4   \n",
       "\n",
       "   DEPNDALC  DEPNDMRJ  NDSSDNSP  \n",
       "0         0         0         0  \n",
       "1         1         0         0  \n",
       "2         0         0         0  \n",
       "3         0         0         0  \n",
       "4         1         0         0  "
      ]
     },
     "execution_count": 150,
     "metadata": {},
     "output_type": "execute_result"
    }
   ],
   "source": [
    "df.head()"
   ]
  },
  {
   "cell_type": "code",
   "execution_count": 152,
   "id": "c9ee4a62",
   "metadata": {},
   "outputs": [
    {
     "data": {
      "text/plain": [
       "(171315, 10)"
      ]
     },
     "execution_count": 152,
     "metadata": {},
     "output_type": "execute_result"
    }
   ],
   "source": [
    "df[(df.CLASS!='NO_DRUG_USE')].shape"
   ]
  },
  {
   "cell_type": "code",
   "execution_count": 135,
   "id": "9ba8f401",
   "metadata": {},
   "outputs": [
    {
     "data": {
      "text/plain": [
       "(55268, 30)"
      ]
     },
     "execution_count": 135,
     "metadata": {},
     "output_type": "execute_result"
    }
   ],
   "source": [
    "df.shape"
   ]
  },
  {
   "cell_type": "markdown",
   "id": "71aeb2ad",
   "metadata": {},
   "source": [
    "__________"
   ]
  }
 ],
 "metadata": {
  "kernelspec": {
   "display_name": "Python 3 (ipykernel)",
   "language": "python",
   "name": "python3"
  },
  "language_info": {
   "codemirror_mode": {
    "name": "ipython",
    "version": 3
   },
   "file_extension": ".py",
   "mimetype": "text/x-python",
   "name": "python",
   "nbconvert_exporter": "python",
   "pygments_lexer": "ipython3",
   "version": "3.8.10"
  },
  "vscode": {
   "interpreter": {
    "hash": "6597d1ed23b894caf154b6750f098a8514a19e03807460ffd2d8425103778dc0"
   }
  }
 },
 "nbformat": 4,
 "nbformat_minor": 5
}