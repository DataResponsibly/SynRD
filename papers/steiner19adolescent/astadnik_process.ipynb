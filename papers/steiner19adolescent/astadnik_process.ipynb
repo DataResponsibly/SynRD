{
 "cells": [
  {
   "cell_type": "markdown",
   "id": "243e5889-e79b-41b9-98bb-125376c8120b",
   "metadata": {},
   "source": [
    "# import numpy as np\n",
    "import pandas as pd"
   ]
  },
  {
   "cell_type": "code",
   "execution_count": 2,
   "id": "4a7040c5-ddd4-4b11-a65a-04bac6a8eb15",
   "metadata": {},
   "outputs": [],
   "source": [
    "kwargs = {\"sep\": \"\\t\", \"low_memory\": False}\n",
    "ds1 = pd.read_csv(\"../adzrago22smoking/data/21600-0001-Data.tsv\", **kwargs)\n",
    "ds5 = pd.read_csv(\"../adzrago22smoking/data/21600-0005-Data.tsv\", **kwargs)\n",
    "ds8 = pd.read_csv(\"../adzrago22smoking/data/21600-0008-Data.tsv\", **kwargs)\n",
    "ds22 = pd.read_csv(\"../adzrago22smoking/data/21600-0022-Data.tsv\", **kwargs)"
   ]
  },
  {
   "cell_type": "code",
   "execution_count": 3,
   "id": "56fedb40-88fc-4d3f-92f0-3677b43ceb70",
   "metadata": {},
   "outputs": [
    {
     "data": {
      "text/plain": [
       "(6504, 2794)"
      ]
     },
     "execution_count": 3,
     "metadata": {},
     "output_type": "execute_result"
    }
   ],
   "source": [
    "ds1.shape"
   ]
  },
  {
   "cell_type": "code",
   "execution_count": 28,
   "id": "1a8fba23-e19d-4588-a31c-2f1659298307",
   "metadata": {},
   "outputs": [
    {
     "data": {
      "text/plain": [
       "(5114, 920)"
      ]
     },
     "execution_count": 28,
     "metadata": {},
     "output_type": "execute_result"
    }
   ],
   "source": [
    "ds22.shape"
   ]
  },
  {
   "cell_type": "code",
   "execution_count": 8,
   "id": "d20febae-c950-457f-b094-0cee8a9e3684",
   "metadata": {},
   "outputs": [],
   "source": [
    "df_map = {\"ds1\": ds1, \"ds5\": ds5, \"ds8\": ds8, \"ds22\": ds22}\n",
    "\n",
    "time_map = {\"ds1\": 0, \"ds5\": 1, \"ds8\": 6, \"ds22\": 13}\n",
    "\n",
    "column_map = {\n",
    "    \"ds1\": {\n",
    "        \"H1TO32\": \"marijuana_1\",\n",
    "        \"H1TO15\": \"alcohol_1\",\n",
    "        \"H1TO40\": \"drugs_1\",\n",
    "        \"H1DS2\": \"behavior_1\",\n",
    "        \"H1GI18\": \"attendance_1\",\n",
    "        \"H1TO7\": \"smoking_1\",\n",
    "        \"S1\": \"age_1\",\n",
    "        \"BIO_SEX\": \"sex_1\",\n",
    "        \"S6C\": \"asian_1\",\n",
    "        \"S6B\": \"black_1\",\n",
    "        \"S6A\": \"white_1\",\n",
    "        \"S6D\": \"nativeamerican_1\",\n",
    "        \"S6E\": \"other_1\"\n",
    "        #'S4': 'hispanic_1'\n",
    "    },\n",
    "    \"ds5\": {\n",
    "        \"H2TO46\": \"marijuana_2\",\n",
    "        \"H2TO19\": \"alcohol_2\",\n",
    "        \"H2TO58\": \"drugs_2\",\n",
    "        \"H2DS2\": \"behavior_2\",\n",
    "        \"H2GI6\": \"attendance_2\",\n",
    "        \"H2TO7\": \"smoking_2\",\n",
    "        \"CALCAGE2\": \"age_2\",\n",
    "        \"BIO_SEX2\": \"sex_2\",\n",
    "    },\n",
    "    \"ds8\": {\n",
    "        \"H3TO110\": \"marijuana_3\",\n",
    "        \"H3TO38\": \"alcohol_3\",\n",
    "        \"H3TO117\": \"drugs_3\",\n",
    "        \"H3DS1\": \"behavior_3\",\n",
    "        \"H3ED23\": \"attendance_3\",\n",
    "        \"H3TO10\": \"smoking_3\",\n",
    "        \"FRIEND\": \"age_3\",  # not actual column\n",
    "        \"BIO_SEX3\": \"sex_3\",\n",
    "        \"H3OD2\": \"hispanic_3\",\n",
    "    },\n",
    "    \"ds22\": {\n",
    "        \"H4TO71\": \"marijuana_4\",\n",
    "        \"H4TO35\": \"alcohol_4\",\n",
    "        \"H4TO65E\": \"drugs_4\",\n",
    "        \"H4DS1\": \"behavior_4\",\n",
    "        \"H4ED6\": \"attendance_4\",\n",
    "        \"H4TO6\": \"smoking_4\",\n",
    "        \"PRISON4\": \"age_4\",  # not actual column\n",
    "        \"BIO_SEX4\": \"sex_4\",\n",
    "    },\n",
    "}"
   ]
  },
  {
   "cell_type": "code",
   "execution_count": 9,
   "id": "d4c6b9a1-c599-4104-9d46-7f7f4848817a",
   "metadata": {},
   "outputs": [],
   "source": [
    "dfs = []\n",
    "new_df_map = {}\n",
    "for i, (wave, cols) in enumerate(column_map.items()):\n",
    "    df = df_map[wave]\n",
    "    df = df[[\"AID\"] + list(cols.keys())]\n",
    "    df = df.rename(cols, axis=1)\n",
    "    df = df.set_index(\"AID\")\n",
    "    df[\"time_\" + str(i + 1)] = time_map[wave]\n",
    "    dfs.append(df)\n",
    "    new_df_map[wave] = df\n",
    "\n",
    "full_df = pd.concat(dfs, axis=1, join=\"inner\").reset_index()"
   ]
  },
  {
   "cell_type": "code",
   "execution_count": 17,
   "id": "5082c9e3-d245-48d8-a72d-1ea144179e44",
   "metadata": {},
   "outputs": [
    {
     "data": {
      "text/html": [
       "<div>\n",
       "<style scoped>\n",
       "    .dataframe tbody tr th:only-of-type {\n",
       "        vertical-align: middle;\n",
       "    }\n",
       "\n",
       "    .dataframe tbody tr th {\n",
       "        vertical-align: top;\n",
       "    }\n",
       "\n",
       "    .dataframe thead th {\n",
       "        text-align: right;\n",
       "    }\n",
       "</style>\n",
       "<table border=\"1\" class=\"dataframe\">\n",
       "  <thead>\n",
       "    <tr style=\"text-align: right;\">\n",
       "      <th></th>\n",
       "      <th>marijuana_1</th>\n",
       "      <th>alcohol_1</th>\n",
       "      <th>behavior_1</th>\n",
       "      <th>attendance_1</th>\n",
       "      <th>smoking_1</th>\n",
       "      <th>sex_1</th>\n",
       "      <th>time_1</th>\n",
       "    </tr>\n",
       "  </thead>\n",
       "  <tbody>\n",
       "    <tr>\n",
       "      <th>count</th>\n",
       "      <td>6504.000000</td>\n",
       "      <td>6504.000000</td>\n",
       "      <td>6504.000000</td>\n",
       "      <td>6504.000000</td>\n",
       "      <td>6504.000000</td>\n",
       "      <td>6504.000000</td>\n",
       "      <td>6504.0</td>\n",
       "    </tr>\n",
       "    <tr>\n",
       "      <th>mean</th>\n",
       "      <td>745.144834</td>\n",
       "      <td>46.892066</td>\n",
       "      <td>0.291205</td>\n",
       "      <td>0.983702</td>\n",
       "      <td>74.107011</td>\n",
       "      <td>1.516759</td>\n",
       "      <td>0.0</td>\n",
       "    </tr>\n",
       "    <tr>\n",
       "      <th>std</th>\n",
       "      <td>431.505517</td>\n",
       "      <td>45.795986</td>\n",
       "      <td>0.851450</td>\n",
       "      <td>0.194604</td>\n",
       "      <td>39.438188</td>\n",
       "      <td>0.502825</td>\n",
       "      <td>0.0</td>\n",
       "    </tr>\n",
       "    <tr>\n",
       "      <th>min</th>\n",
       "      <td>0.000000</td>\n",
       "      <td>1.000000</td>\n",
       "      <td>0.000000</td>\n",
       "      <td>0.000000</td>\n",
       "      <td>0.000000</td>\n",
       "      <td>1.000000</td>\n",
       "      <td>0.0</td>\n",
       "    </tr>\n",
       "    <tr>\n",
       "      <th>25%</th>\n",
       "      <td>60.000000</td>\n",
       "      <td>5.000000</td>\n",
       "      <td>0.000000</td>\n",
       "      <td>1.000000</td>\n",
       "      <td>30.000000</td>\n",
       "      <td>1.000000</td>\n",
       "      <td>0.0</td>\n",
       "    </tr>\n",
       "    <tr>\n",
       "      <th>50%</th>\n",
       "      <td>997.000000</td>\n",
       "      <td>7.000000</td>\n",
       "      <td>0.000000</td>\n",
       "      <td>1.000000</td>\n",
       "      <td>97.000000</td>\n",
       "      <td>2.000000</td>\n",
       "      <td>0.0</td>\n",
       "    </tr>\n",
       "    <tr>\n",
       "      <th>75%</th>\n",
       "      <td>997.000000</td>\n",
       "      <td>97.000000</td>\n",
       "      <td>0.000000</td>\n",
       "      <td>1.000000</td>\n",
       "      <td>97.000000</td>\n",
       "      <td>2.000000</td>\n",
       "      <td>0.0</td>\n",
       "    </tr>\n",
       "    <tr>\n",
       "      <th>max</th>\n",
       "      <td>999.000000</td>\n",
       "      <td>98.000000</td>\n",
       "      <td>9.000000</td>\n",
       "      <td>8.000000</td>\n",
       "      <td>98.000000</td>\n",
       "      <td>6.000000</td>\n",
       "      <td>0.0</td>\n",
       "    </tr>\n",
       "  </tbody>\n",
       "</table>\n",
       "</div>"
      ],
      "text/plain": [
       "       marijuana_1    alcohol_1   behavior_1  attendance_1    smoking_1  \\\n",
       "count  6504.000000  6504.000000  6504.000000   6504.000000  6504.000000   \n",
       "mean    745.144834    46.892066     0.291205      0.983702    74.107011   \n",
       "std     431.505517    45.795986     0.851450      0.194604    39.438188   \n",
       "min       0.000000     1.000000     0.000000      0.000000     0.000000   \n",
       "25%      60.000000     5.000000     0.000000      1.000000    30.000000   \n",
       "50%     997.000000     7.000000     0.000000      1.000000    97.000000   \n",
       "75%     997.000000    97.000000     0.000000      1.000000    97.000000   \n",
       "max     999.000000    98.000000     9.000000      8.000000    98.000000   \n",
       "\n",
       "             sex_1  time_1  \n",
       "count  6504.000000  6504.0  \n",
       "mean      1.516759     0.0  \n",
       "std       0.502825     0.0  \n",
       "min       1.000000     0.0  \n",
       "25%       1.000000     0.0  \n",
       "50%       2.000000     0.0  \n",
       "75%       2.000000     0.0  \n",
       "max       6.000000     0.0  "
      ]
     },
     "execution_count": 17,
     "metadata": {},
     "output_type": "execute_result"
    }
   ],
   "source": [
    "# Paper says n=6504, first wave table\n",
    "new_df_map[\"ds1\"].describe()"
   ]
  },
  {
   "cell_type": "code",
   "execution_count": 19,
   "id": "f590d071-0ed4-4ca6-9056-e0d8949758ab",
   "metadata": {},
   "outputs": [
    {
     "data": {
      "text/plain": [
       "(3342, 43)"
      ]
     },
     "execution_count": 19,
     "metadata": {},
     "output_type": "execute_result"
    }
   ],
   "source": [
    "full_df.shape"
   ]
  },
  {
   "cell_type": "code",
   "execution_count": 21,
   "id": "9efb2365-2e07-44b4-8426-101b3c2b94e8",
   "metadata": {},
   "outputs": [
    {
     "data": {
      "text/plain": [
       "[(6504, 14), (4834, 9), (4882, 10), (5114, 9)]"
      ]
     },
     "execution_count": 21,
     "metadata": {},
     "output_type": "execute_result"
    }
   ],
   "source": [
    "[df.shape for df in new_df_map.values()]"
   ]
  },
  {
   "cell_type": "code",
   "execution_count": null,
   "id": "5030aee8-cf90-439c-a1a9-83b72b91139a",
   "metadata": {},
   "outputs": [],
   "source": []
  }
 ],
 "metadata": {
  "kernelspec": {
   "display_name": "Python 3 (ipykernel)",
   "language": "python",
   "name": "python3"
  },
  "language_info": {
   "codemirror_mode": {
    "name": "ipython",
    "version": 3
   },
   "file_extension": ".py",
   "mimetype": "text/x-python",
   "name": "python",
   "nbconvert_exporter": "python",
   "pygments_lexer": "ipython3",
   "version": "3.10.5"
  }
 },
 "nbformat": 4,
 "nbformat_minor": 5
}
