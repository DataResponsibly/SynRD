{
 "cells": [
  {
   "cell_type": "code",
   "execution_count": 1,
   "id": "27686917",
   "metadata": {},
   "outputs": [],
   "source": [
    "import pandas as pd\n",
    "import numpy as np\n",
    "import os\n",
    "import warnings\n",
    "warnings.filterwarnings('ignore')\n",
    "pd.set_option('display.max_columns', None)\n",
    "pd.set_option('display.max_rows', None)"
   ]
  },
  {
   "cell_type": "code",
   "execution_count": 2,
   "id": "6c7e455e",
   "metadata": {},
   "outputs": [
    {
     "data": {
      "text/plain": [
       "(3617, 4564)"
      ]
     },
     "execution_count": 2,
     "metadata": {},
     "output_type": "execute_result"
    }
   ],
   "source": [
    "raw = pd.read_csv('./data/DS0001/04690-0001-Data.tsv',sep='\\t')\n",
    "raw.shape"
   ]
  },
  {
   "cell_type": "code",
   "execution_count": 19,
   "id": "9a33ba5a",
   "metadata": {},
   "outputs": [],
   "source": [
    "df = raw[(raw['V2060'] == 1) & (raw['V2225'] > 0) & (raw['V2017'] > 0)]\n",
    "\n",
    "missing_val = {-95: np.nan, -96: np.nan, -99: np.nan}\n",
    "# check_box = {1: 1, 5: 0}\n",
    "df.replace({'V103': missing_val, 'V104': missing_val, 'V546': missing_val,\n",
    "            'V1002': missing_val, 'V1006': missing_val, 'V1007': missing_val,\n",
    "            'V1010': missing_val, 'V1012': missing_val, 'V2007': missing_val,\n",
    "            'V2017':missing_val, 'V2020': missing_val,\n",
    "            }, inplace=True)\n",
    "\n",
    "# Listwise deletion as in the original paper\n",
    "df = df.dropna(axis='index', subset=['V1002','V1006','V1007','V1010','V1012'], how='any')\n",
    "\n",
    "# Dependent variables\n",
    "df['positive_emotion'] = df[['V1006', 'V1010']].mean(axis=1)\n",
    "df['negative_emotion'] = df[['V1012', 'V1002', 'V1007']].mean(axis=1)\n",
    "\n",
    "# Normalize\n",
    "df['positive_emotion']=(df['positive_emotion']-df['positive_emotion'].min()) \\\n",
    "                        /(df['positive_emotion'].max()-df['positive_emotion'].min())\n",
    "df['negative_emotion']=(df['negative_emotion']-df['negative_emotion'].min()) \\\n",
    "                        /(df['negative_emotion'].max()-df['negative_emotion'].min())\n",
    "\n",
    "# Independent variables\n",
    "df['spouse_support'] = df['V2204']\n",
    "df['spouse_strain'] = df['V2205']\n",
    "df['child_support'] = df['V2207']\n",
    "df['child_strain'] = df['V2208']\n",
    "df['friend_support'] = df['V2216']\n",
    "df['friend_strain'] = df['V2217']\n",
    "\n",
    "def age_categorize(row):  \n",
    "    if row['age'] < 45:\n",
    "        return 'under 45'\n",
    "    elif row['age'] >= 45 and row['age'] <= 65:\n",
    "        return '45-65'\n",
    "    elif row['age'] > 65:\n",
    "        return 'over 65'\n",
    "\n",
    "def education_categorize(row):  \n",
    "    if row['education'] < 12:\n",
    "        return '1'\n",
    "    elif 12 <= row['education'] < 14:\n",
    "        return '2'\n",
    "    elif 14 <= row['education'] < 16:\n",
    "        return '3'\n",
    "    elif 16 <= row['education'] < 17:\n",
    "        return '4'\n",
    "    elif row['education'] >= 17:\n",
    "        return '5'\n",
    "\n",
    "# Control variables\n",
    "df['confidants'] = df['V546']\n",
    "df['age'] = df['V104']\n",
    "df['income'] = df['V2020']\n",
    "df['sex'] = df['V103']\n",
    "df['education'] = df['V2007']\n",
    "df['retired'] = df['V1105']\n",
    "df['num_child'] = df['V2017']\n",
    "\n",
    "df = df.dropna(axis='index', subset=['confidants','age','age','income','sex',\n",
    "                                    'education','retired','num_child'], how='any')\n",
    "\n",
    "df['age_group'] = df.apply(lambda row: age_categorize(row), axis=1)\n",
    "df['education_group'] = df.apply(lambda row: education_categorize(row), axis=1)"
   ]
  },
  {
   "cell_type": "markdown",
   "id": "323d1139",
   "metadata": {},
   "source": [
    "## Dataset sampling\n",
    "\n",
    "- Originally 3617 respondents\n",
    "- Listwise deletion to 1640 participants\n",
    "- Use dropna() function for Listwise deletion\n",
    "- All of these participants had a spouse, a child, and friends when responding to the survey"
   ]
  },
  {
   "cell_type": "code",
   "execution_count": 3,
   "id": "d7e7eb8b",
   "metadata": {},
   "outputs": [
    {
     "name": "stdout",
     "output_type": "stream",
     "text": [
      "1768\n"
     ]
    }
   ],
   "source": [
    "# Married, have friends\n",
    "# V2060: Married == 1\n",
    "# V2225: # of Friends > 0\n",
    "# V2017: # of Children > 0\n",
    "\n",
    "df = raw[(raw['V2060'] == 1) & (raw['V2225'] > 0) & (raw['V2017'] > 0)]\n",
    "print(len(df))"
   ]
  },
  {
   "cell_type": "code",
   "execution_count": 4,
   "id": "87298308",
   "metadata": {},
   "outputs": [
    {
     "data": {
      "text/plain": [
       "False"
      ]
     },
     "execution_count": 4,
     "metadata": {},
     "output_type": "execute_result"
    }
   ],
   "source": [
    "df.isnull().values.any()"
   ]
  },
  {
   "cell_type": "markdown",
   "id": "6afb470c",
   "metadata": {},
   "source": [
    "## Dependent Variables\n",
    "\n",
    "Positive emotional state\n",
    "\n",
    "- “In the past week: I felt happy” - H1E V1006\n",
    "- “In the past week: I enjoyed life” - H1J V1010\n",
    "- The two variables are combined to V2620\n",
    "\n",
    "\n",
    "Negative emotional state\n",
    "- “In the past week: I felt sad” - H1M V1012\n",
    "- “In the past week: I felt depressed” - H1A V1002\n",
    "- “In the past week: I felt lonely” - H1F V1007"
   ]
  },
  {
   "cell_type": "code",
   "execution_count": 5,
   "id": "8d6152b0",
   "metadata": {},
   "outputs": [
    {
     "name": "stdout",
     "output_type": "stream",
     "text": [
      "1740\n"
     ]
    }
   ],
   "source": [
    "missing_val = {-95: np.nan, -96: np.nan, -99: np.nan}\n",
    "\n",
    "df.replace({'V1006': missing_val, 'V1010': missing_val, 'V1012': missing_val, \n",
    "            'V1002': missing_val, 'V1007': missing_val}, inplace=True)\n",
    "\n",
    "df = df.dropna(axis='index', subset=['V1002','V1006','V1007','V1010','V1012'], how='any')\n",
    "\n",
    "\n",
    "df['positive_emotion'] = df[['V1006', 'V1010']].mean(axis=1)\n",
    "df['negative_emotion'] = df[['V1012', 'V1002', 'V1007']].mean(axis=1)\n",
    "\n",
    "# Normalize\n",
    "df['positive_emotion']=(df['positive_emotion']-df['positive_emotion'].min()) \\\n",
    "                    /(df['positive_emotion'].max()-df['positive_emotion'].min())\n",
    "df['negative_emotion']=(df['negative_emotion']-df['negative_emotion'].min()) \\\n",
    "                    /(df['negative_emotion'].max()-df['negative_emotion'].min())\n",
    "print(len(df))"
   ]
  },
  {
   "cell_type": "markdown",
   "id": "faf1a79a",
   "metadata": {},
   "source": [
    "## Independent Variables\n",
    "\n",
    "Spouse\n",
    "- Love and care: C2 V405\n",
    "- Willing to listen: C4 V407\n",
    "- Too many demands: C3 V406\n",
    "- Critical of you: C5 V408\n",
    "\n",
    "Child\n",
    "- Love and care: C14 V431\n",
    "- Willing to listen: C16 V433\n",
    "- Too many demands: C15 V432\n",
    "- Critical of you: C17 V434\n",
    "\n",
    "Friends\n",
    "- Love and care: C47 V535\n",
    "- Willing to listen: C49 V537\n",
    "- Too many demands: C48 V536\n",
    "- Critical of you: C50 V538"
   ]
  },
  {
   "cell_type": "code",
   "execution_count": 6,
   "id": "0744e612",
   "metadata": {},
   "outputs": [],
   "source": [
    "df['spouse_support'] = df['V2204']\n",
    "df['spouse_strain'] = df['V2205']\n",
    "df['child_support'] = df['V2207']\n",
    "df['child_strain'] = df['V2208']\n",
    "df['friend_support'] = df['V2216']\n",
    "df['friend_strain'] = df['V2217']"
   ]
  },
  {
   "cell_type": "code",
   "execution_count": 7,
   "id": "7b5b1ef9",
   "metadata": {},
   "outputs": [
    {
     "data": {
      "text/plain": [
       "False"
      ]
     },
     "execution_count": 7,
     "metadata": {},
     "output_type": "execute_result"
    }
   ],
   "source": [
    "df.isnull().values.any()"
   ]
  },
  {
   "cell_type": "code",
   "execution_count": 8,
   "id": "e1108013",
   "metadata": {},
   "outputs": [
    {
     "data": {
      "text/plain": [
       "1740"
      ]
     },
     "execution_count": 8,
     "metadata": {},
     "output_type": "execute_result"
    }
   ],
   "source": [
    "len(df)"
   ]
  },
  {
   "cell_type": "markdown",
   "id": "e277a1f5",
   "metadata": {},
   "source": [
    "## Control Variables\n",
    "\n",
    "- Confidants: C54 V546\n",
    "- Age: A0C1 V104\n",
    "- Income: R27 V1730\n",
    "- Sex: AOB1 V103\n",
    "- Education R13 V1646\n",
    "    - Less than HS\n",
    "    - HS diploma\n",
    "    - College degree\n",
    "    - 4-year degree\n",
    "    - Graduate degree\n",
    "- Retired: J1E V1105\n",
    "- Age category\n",
    "    - Age <45\n",
    "    - Age 45-65\n",
    "    - Age >65\n",
    "- Number of Children\n",
    "    - Children in HH: V105, V108, V111, V114, V117, V120, V123, V126, V129, V132, V135 -> Check each column \n",
    "    - Children elsewhere: V202\n",
    "\n"
   ]
  },
  {
   "cell_type": "code",
   "execution_count": 18,
   "id": "65952c5a",
   "metadata": {
    "scrolled": true
   },
   "outputs": [
    {
     "ename": "KeyError",
     "evalue": "'age_group'",
     "output_type": "error",
     "traceback": [
      "\u001b[0;31m---------------------------------------------------------------------------\u001b[0m",
      "\u001b[0;31mKeyError\u001b[0m                                  Traceback (most recent call last)",
      "File \u001b[0;32m/opt/miniconda3/envs/work/lib/python3.10/site-packages/pandas/core/indexes/base.py:3629\u001b[0m, in \u001b[0;36mIndex.get_loc\u001b[0;34m(self, key, method, tolerance)\u001b[0m\n\u001b[1;32m   3628\u001b[0m \u001b[38;5;28;01mtry\u001b[39;00m:\n\u001b[0;32m-> 3629\u001b[0m     \u001b[38;5;28;01mreturn\u001b[39;00m \u001b[38;5;28;43mself\u001b[39;49m\u001b[38;5;241;43m.\u001b[39;49m\u001b[43m_engine\u001b[49m\u001b[38;5;241;43m.\u001b[39;49m\u001b[43mget_loc\u001b[49m\u001b[43m(\u001b[49m\u001b[43mcasted_key\u001b[49m\u001b[43m)\u001b[49m\n\u001b[1;32m   3630\u001b[0m \u001b[38;5;28;01mexcept\u001b[39;00m \u001b[38;5;167;01mKeyError\u001b[39;00m \u001b[38;5;28;01mas\u001b[39;00m err:\n",
      "File \u001b[0;32m/opt/miniconda3/envs/work/lib/python3.10/site-packages/pandas/_libs/index.pyx:136\u001b[0m, in \u001b[0;36mpandas._libs.index.IndexEngine.get_loc\u001b[0;34m()\u001b[0m\n",
      "File \u001b[0;32m/opt/miniconda3/envs/work/lib/python3.10/site-packages/pandas/_libs/index.pyx:163\u001b[0m, in \u001b[0;36mpandas._libs.index.IndexEngine.get_loc\u001b[0;34m()\u001b[0m\n",
      "File \u001b[0;32mpandas/_libs/hashtable_class_helper.pxi:5198\u001b[0m, in \u001b[0;36mpandas._libs.hashtable.PyObjectHashTable.get_item\u001b[0;34m()\u001b[0m\n",
      "File \u001b[0;32mpandas/_libs/hashtable_class_helper.pxi:5206\u001b[0m, in \u001b[0;36mpandas._libs.hashtable.PyObjectHashTable.get_item\u001b[0;34m()\u001b[0m\n",
      "\u001b[0;31mKeyError\u001b[0m: 'age_group'",
      "\nThe above exception was the direct cause of the following exception:\n",
      "\u001b[0;31mKeyError\u001b[0m                                  Traceback (most recent call last)",
      "Input \u001b[0;32mIn [18]\u001b[0m, in \u001b[0;36m<cell line: 1>\u001b[0;34m()\u001b[0m\n\u001b[0;32m----> 1\u001b[0m \u001b[43mdata\u001b[49m\u001b[43m[\u001b[49m\u001b[38;5;124;43m'\u001b[39;49m\u001b[38;5;124;43mage_group\u001b[39;49m\u001b[38;5;124;43m'\u001b[39;49m\u001b[43m]\u001b[49m\u001b[38;5;241m.\u001b[39mhead()\n",
      "File \u001b[0;32m/opt/miniconda3/envs/work/lib/python3.10/site-packages/pandas/core/frame.py:3505\u001b[0m, in \u001b[0;36mDataFrame.__getitem__\u001b[0;34m(self, key)\u001b[0m\n\u001b[1;32m   3503\u001b[0m \u001b[38;5;28;01mif\u001b[39;00m \u001b[38;5;28mself\u001b[39m\u001b[38;5;241m.\u001b[39mcolumns\u001b[38;5;241m.\u001b[39mnlevels \u001b[38;5;241m>\u001b[39m \u001b[38;5;241m1\u001b[39m:\n\u001b[1;32m   3504\u001b[0m     \u001b[38;5;28;01mreturn\u001b[39;00m \u001b[38;5;28mself\u001b[39m\u001b[38;5;241m.\u001b[39m_getitem_multilevel(key)\n\u001b[0;32m-> 3505\u001b[0m indexer \u001b[38;5;241m=\u001b[39m \u001b[38;5;28;43mself\u001b[39;49m\u001b[38;5;241;43m.\u001b[39;49m\u001b[43mcolumns\u001b[49m\u001b[38;5;241;43m.\u001b[39;49m\u001b[43mget_loc\u001b[49m\u001b[43m(\u001b[49m\u001b[43mkey\u001b[49m\u001b[43m)\u001b[49m\n\u001b[1;32m   3506\u001b[0m \u001b[38;5;28;01mif\u001b[39;00m is_integer(indexer):\n\u001b[1;32m   3507\u001b[0m     indexer \u001b[38;5;241m=\u001b[39m [indexer]\n",
      "File \u001b[0;32m/opt/miniconda3/envs/work/lib/python3.10/site-packages/pandas/core/indexes/base.py:3631\u001b[0m, in \u001b[0;36mIndex.get_loc\u001b[0;34m(self, key, method, tolerance)\u001b[0m\n\u001b[1;32m   3629\u001b[0m     \u001b[38;5;28;01mreturn\u001b[39;00m \u001b[38;5;28mself\u001b[39m\u001b[38;5;241m.\u001b[39m_engine\u001b[38;5;241m.\u001b[39mget_loc(casted_key)\n\u001b[1;32m   3630\u001b[0m \u001b[38;5;28;01mexcept\u001b[39;00m \u001b[38;5;167;01mKeyError\u001b[39;00m \u001b[38;5;28;01mas\u001b[39;00m err:\n\u001b[0;32m-> 3631\u001b[0m     \u001b[38;5;28;01mraise\u001b[39;00m \u001b[38;5;167;01mKeyError\u001b[39;00m(key) \u001b[38;5;28;01mfrom\u001b[39;00m \u001b[38;5;21;01merr\u001b[39;00m\n\u001b[1;32m   3632\u001b[0m \u001b[38;5;28;01mexcept\u001b[39;00m \u001b[38;5;167;01mTypeError\u001b[39;00m:\n\u001b[1;32m   3633\u001b[0m     \u001b[38;5;66;03m# If we have a listlike key, _check_indexing_error will raise\u001b[39;00m\n\u001b[1;32m   3634\u001b[0m     \u001b[38;5;66;03m#  InvalidIndexError. Otherwise we fall through and re-raise\u001b[39;00m\n\u001b[1;32m   3635\u001b[0m     \u001b[38;5;66;03m#  the TypeError.\u001b[39;00m\n\u001b[1;32m   3636\u001b[0m     \u001b[38;5;28mself\u001b[39m\u001b[38;5;241m.\u001b[39m_check_indexing_error(key)\n",
      "\u001b[0;31mKeyError\u001b[0m: 'age_group'"
     ]
    }
   ],
   "source": [
    "data['age_group'].head()"
   ]
  },
  {
   "cell_type": "code",
   "execution_count": 10,
   "id": "036a12a8",
   "metadata": {},
   "outputs": [],
   "source": [
    "def age_categorize(row):  \n",
    "    if row['age'] < 45:\n",
    "        return 'under 45'\n",
    "    elif row['age'] >= 45 and row['age'] <= 65:\n",
    "        return '45-65'\n",
    "    elif row['age'] > 65:\n",
    "        return 'over 65'\n",
    "    \n",
    "def education_categorize(row):  \n",
    "    if row['education'] < 12:\n",
    "        return '1' # Less than high school\n",
    "    elif 12 <= row['education'] < 14:\n",
    "        return '2' # High school diploma\n",
    "    elif 14 <= row['education'] < 16:\n",
    "        return '3' # College degree\n",
    "    elif 16 <= row['education'] < 17:\n",
    "        return '4' # 4-year degree\n",
    "    elif row['education'] >= 17:\n",
    "        return '5' # Graduate degree\n",
    "#     return np.nan"
   ]
  },
  {
   "cell_type": "code",
   "execution_count": 15,
   "id": "49756e10",
   "metadata": {
    "scrolled": true
   },
   "outputs": [
    {
     "data": {
      "text/plain": [
       "1     2\n",
       "9     1\n",
       "11    1\n",
       "12    3\n",
       "13    1\n",
       "Name: education_group, dtype: object"
      ]
     },
     "execution_count": 15,
     "metadata": {},
     "output_type": "execute_result"
    }
   ],
   "source": [
    "data['education_group'].head()"
   ]
  },
  {
   "cell_type": "code",
   "execution_count": 11,
   "id": "9b62f655",
   "metadata": {},
   "outputs": [],
   "source": [
    "missing_val = {-95: np.nan, -96: np.nan, -99: np.nan}\n",
    "check_box = {1: 1, 5: 0}\n",
    "\n",
    "df.replace({'V546': missing_val, 'V104': missing_val, 'V2020': missing_val,\n",
    "            'V1105': check_box, 'V103': missing_val, 'V2007': missing_val,\n",
    "            'V2017':missing_val\n",
    "            }, inplace=True)\n",
    "\n",
    "df['confidants'] = df['V546']\n",
    "df['age'] = df['V104']\n",
    "# df['age_group'] = df.apply(lambda row: age_categorize(row), axis=1)\n",
    "df['income'] = df['V2020']\n",
    "df['sex'] = df['V103']\n",
    "df['education'] = df['V2007']\n",
    "# df['education_group'] = df.apply(lambda row: education_categorize(row), axis=1)\n",
    "df['retired'] = df['V1105']\n",
    "df['num_child'] = df['V2017']\n",
    "\n",
    "df = df.dropna(axis='index', subset=['confidants','age','age','income','sex',\n",
    "                                     'education','retired','num_child'], how='any')\n",
    "\n",
    "# df['age_group'] = df.apply(lambda row: age_categorize(row), axis=1)\n",
    "# df['education_group'] = df.apply(lambda row: education_categorize(row), axis=1)"
   ]
  },
  {
   "cell_type": "code",
   "execution_count": 12,
   "id": "fd41f1e2",
   "metadata": {},
   "outputs": [
    {
     "data": {
      "text/plain": [
       "False"
      ]
     },
     "execution_count": 12,
     "metadata": {},
     "output_type": "execute_result"
    }
   ],
   "source": [
    "df.isnull().values.any()"
   ]
  },
  {
   "cell_type": "code",
   "execution_count": 13,
   "id": "5302b79a",
   "metadata": {},
   "outputs": [
    {
     "data": {
      "text/plain": [
       "1585"
      ]
     },
     "execution_count": 13,
     "metadata": {},
     "output_type": "execute_result"
    }
   ],
   "source": [
    "len(df)"
   ]
  },
  {
   "cell_type": "code",
   "execution_count": 15,
   "id": "1fa7dadf",
   "metadata": {},
   "outputs": [
    {
     "name": "stdout",
     "output_type": "stream",
     "text": [
      "(1585, 15)\n"
     ]
    },
    {
     "data": {
      "text/html": [
       "<div>\n",
       "<style scoped>\n",
       "    .dataframe tbody tr th:only-of-type {\n",
       "        vertical-align: middle;\n",
       "    }\n",
       "\n",
       "    .dataframe tbody tr th {\n",
       "        vertical-align: top;\n",
       "    }\n",
       "\n",
       "    .dataframe thead th {\n",
       "        text-align: right;\n",
       "    }\n",
       "</style>\n",
       "<table border=\"1\" class=\"dataframe\">\n",
       "  <thead>\n",
       "    <tr style=\"text-align: right;\">\n",
       "      <th></th>\n",
       "      <th>positive_emotion</th>\n",
       "      <th>negative_emotion</th>\n",
       "      <th>spouse_support</th>\n",
       "      <th>spouse_strain</th>\n",
       "      <th>child_support</th>\n",
       "      <th>child_strain</th>\n",
       "      <th>friend_support</th>\n",
       "      <th>friend_strain</th>\n",
       "      <th>confidants</th>\n",
       "      <th>age</th>\n",
       "      <th>income</th>\n",
       "      <th>sex</th>\n",
       "      <th>education</th>\n",
       "      <th>retired</th>\n",
       "      <th>num_child</th>\n",
       "    </tr>\n",
       "  </thead>\n",
       "  <tbody>\n",
       "    <tr>\n",
       "      <th>1</th>\n",
       "      <td>0.5</td>\n",
       "      <td>0.000000</td>\n",
       "      <td>0.3309</td>\n",
       "      <td>1.3306</td>\n",
       "      <td>-0.4619</td>\n",
       "      <td>1.814400</td>\n",
       "      <td>-2.045698</td>\n",
       "      <td>0.3005</td>\n",
       "      <td>1.0</td>\n",
       "      <td>44.0</td>\n",
       "      <td>9</td>\n",
       "      <td>1</td>\n",
       "      <td>12</td>\n",
       "      <td>0</td>\n",
       "      <td>2</td>\n",
       "    </tr>\n",
       "    <tr>\n",
       "      <th>9</th>\n",
       "      <td>1.0</td>\n",
       "      <td>0.333333</td>\n",
       "      <td>0.3309</td>\n",
       "      <td>-1.3283</td>\n",
       "      <td>-0.1654</td>\n",
       "      <td>-0.442000</td>\n",
       "      <td>0.114700</td>\n",
       "      <td>0.2565</td>\n",
       "      <td>4.0</td>\n",
       "      <td>73.0</td>\n",
       "      <td>2</td>\n",
       "      <td>1</td>\n",
       "      <td>9</td>\n",
       "      <td>1</td>\n",
       "      <td>3</td>\n",
       "    </tr>\n",
       "    <tr>\n",
       "      <th>11</th>\n",
       "      <td>0.5</td>\n",
       "      <td>0.166667</td>\n",
       "      <td>-0.4141</td>\n",
       "      <td>-0.7946</td>\n",
       "      <td>-0.1654</td>\n",
       "      <td>-0.482300</td>\n",
       "      <td>-0.401300</td>\n",
       "      <td>0.9053</td>\n",
       "      <td>3.0</td>\n",
       "      <td>47.0</td>\n",
       "      <td>7</td>\n",
       "      <td>1</td>\n",
       "      <td>10</td>\n",
       "      <td>0</td>\n",
       "      <td>5</td>\n",
       "    </tr>\n",
       "    <tr>\n",
       "      <th>12</th>\n",
       "      <td>1.0</td>\n",
       "      <td>0.000000</td>\n",
       "      <td>0.8749</td>\n",
       "      <td>-0.2641</td>\n",
       "      <td>0.9599</td>\n",
       "      <td>-1.026199</td>\n",
       "      <td>1.243099</td>\n",
       "      <td>-0.9531</td>\n",
       "      <td>2.0</td>\n",
       "      <td>48.0</td>\n",
       "      <td>7</td>\n",
       "      <td>1</td>\n",
       "      <td>14</td>\n",
       "      <td>1</td>\n",
       "      <td>3</td>\n",
       "    </tr>\n",
       "    <tr>\n",
       "      <th>13</th>\n",
       "      <td>1.0</td>\n",
       "      <td>0.166667</td>\n",
       "      <td>0.3309</td>\n",
       "      <td>-0.7946</td>\n",
       "      <td>0.9599</td>\n",
       "      <td>-1.026199</td>\n",
       "      <td>-0.497800</td>\n",
       "      <td>1.4661</td>\n",
       "      <td>7.0</td>\n",
       "      <td>55.0</td>\n",
       "      <td>7</td>\n",
       "      <td>2</td>\n",
       "      <td>5</td>\n",
       "      <td>0</td>\n",
       "      <td>3</td>\n",
       "    </tr>\n",
       "  </tbody>\n",
       "</table>\n",
       "</div>"
      ],
      "text/plain": [
       "    positive_emotion  negative_emotion  spouse_support  spouse_strain  \\\n",
       "1                0.5          0.000000          0.3309         1.3306   \n",
       "9                1.0          0.333333          0.3309        -1.3283   \n",
       "11               0.5          0.166667         -0.4141        -0.7946   \n",
       "12               1.0          0.000000          0.8749        -0.2641   \n",
       "13               1.0          0.166667          0.3309        -0.7946   \n",
       "\n",
       "    child_support  child_strain  friend_support  friend_strain  confidants  \\\n",
       "1         -0.4619      1.814400       -2.045698         0.3005         1.0   \n",
       "9         -0.1654     -0.442000        0.114700         0.2565         4.0   \n",
       "11        -0.1654     -0.482300       -0.401300         0.9053         3.0   \n",
       "12         0.9599     -1.026199        1.243099        -0.9531         2.0   \n",
       "13         0.9599     -1.026199       -0.497800         1.4661         7.0   \n",
       "\n",
       "     age  income  sex  education  retired  num_child  \n",
       "1   44.0       9    1         12        0          2  \n",
       "9   73.0       2    1          9        1          3  \n",
       "11  47.0       7    1         10        0          5  \n",
       "12  48.0       7    1         14        1          3  \n",
       "13  55.0       7    2          5        0          3  "
      ]
     },
     "execution_count": 15,
     "metadata": {},
     "output_type": "execute_result"
    }
   ],
   "source": [
    "# data = df[['positive_emotion', 'negative_emotion', 'spouse_support', 'spouse_strain',\n",
    "#            'child_support', 'child_strain', 'friend_support', 'friend_strain',\n",
    "#            'confidants', 'age', 'age_group', 'income', 'sex', 'education', 'education_group',\n",
    "#            'retired', 'num_child']].copy(deep=True)\n",
    "\n",
    "data = df[['positive_emotion', 'negative_emotion', 'spouse_support', 'spouse_strain',\n",
    "           'child_support', 'child_strain', 'friend_support', 'friend_strain',\n",
    "           'confidants', 'age', 'income', 'sex', 'education',\n",
    "           'retired', 'num_child']].copy(deep=True)\n",
    "\n",
    "print(data.shape)\n",
    "data.head()"
   ]
  },
  {
   "cell_type": "markdown",
   "id": "0c66c26d",
   "metadata": {},
   "source": [
    "## Statistical Hybrid Model"
   ]
  },
  {
   "cell_type": "code",
   "execution_count": 16,
   "id": "4e37254a",
   "metadata": {},
   "outputs": [
    {
     "data": {
      "text/plain": [
       "1585"
      ]
     },
     "execution_count": 16,
     "metadata": {},
     "output_type": "execute_result"
    }
   ],
   "source": [
    "len(data)"
   ]
  },
  {
   "cell_type": "code",
   "execution_count": null,
   "id": "3833aaf0",
   "metadata": {},
   "outputs": [],
   "source": []
  },
  {
   "cell_type": "code",
   "execution_count": 30,
   "id": "2e85bd38",
   "metadata": {},
   "outputs": [],
   "source": [
    "df = raw[(raw['V2060'] == 1) & (raw['V2225'] > 0) & (raw['V2017'] > 0)]\n",
    "\n",
    "missing_val = {-95: np.nan, -96: np.nan, -99: np.nan}\n",
    "# check_box = {1: 1, 5: 0}\n",
    "df.replace({'V103': missing_val, 'V104': missing_val, 'V546': missing_val,\n",
    "            'V1002': missing_val, 'V1006': missing_val, 'V1007': missing_val,\n",
    "            'V1010': missing_val, 'V1012': missing_val, 'V2007': missing_val,\n",
    "            'V2017':missing_val, 'V2020': missing_val,\n",
    "            }, inplace=True)\n",
    "\n",
    "# Listwise deletion as in the original paper\n",
    "df = df.dropna(axis='index', subset=['V1002','V1006','V1007','V1010','V1012'], how='any')\n",
    "\n",
    "# Dependent variables\n",
    "df['positive_emotion'] = df[['V1006', 'V1010']].mean(axis=1)\n",
    "df['negative_emotion'] = df[['V1012', 'V1002', 'V1007']].mean(axis=1)\n",
    "\n",
    "# Normalize\n",
    "df['positive_emotion']=(df['positive_emotion']-df['positive_emotion'].min()) \\\n",
    "                        /(df['positive_emotion'].max()-df['positive_emotion'].min())\n",
    "df['negative_emotion']=(df['negative_emotion']-df['negative_emotion'].min()) \\\n",
    "                        /(df['negative_emotion'].max()-df['negative_emotion'].min())\n",
    "\n",
    "# Independent variables\n",
    "df['spouse_support'] = df['V2204']\n",
    "df['spouse_strain'] = df['V2205']\n",
    "df['child_support'] = df['V2207']\n",
    "df['child_strain'] = df['V2208']\n",
    "df['friend_support'] = df['V2216']\n",
    "df['friend_strain'] = df['V2217']\n",
    "\n",
    "def age_categorize(row):  \n",
    "    if row['age'] < 45:\n",
    "        return '0'\n",
    "    elif row['age'] >= 45 and row['age'] <= 65:\n",
    "        return '1'\n",
    "    elif row['age'] > 65:\n",
    "        return '2'\n",
    "\n",
    "def education_categorize(row):  \n",
    "    if row['education'] < 12:\n",
    "        return '0'\n",
    "    elif 12 <= row['education'] < 14:\n",
    "        return '1'\n",
    "    elif 14 <= row['education'] < 16:\n",
    "        return '2'\n",
    "    elif 16 <= row['education'] < 17:\n",
    "        return '3'\n",
    "    elif row['education'] >= 17:\n",
    "        return '4'\n",
    "\n",
    "# Control variables\n",
    "df['confidants'] = df['V546']\n",
    "df['age'] = df['V104']\n",
    "df['income'] = df['V2020']\n",
    "df['sex'] = df['V103']\n",
    "df['education'] = df['V2007']\n",
    "df['retired'] = df['V1105']\n",
    "df['num_child'] = df['V2017']\n",
    "\n",
    "df = df.dropna(axis='index', subset=['confidants','age','age','income','sex',\n",
    "                                    'education','retired','num_child'], how='any')\n",
    "\n",
    "df['age_category'] = df.apply(lambda row: age_categorize(row), axis=1)\n",
    "df['education_group'] = df.apply(lambda row: education_categorize(row), axis=1)"
   ]
  },
  {
   "cell_type": "code",
   "execution_count": 41,
   "id": "648a3434",
   "metadata": {},
   "outputs": [
    {
     "name": "stderr",
     "output_type": "stream",
     "text": [
      "/opt/miniconda3/envs/work/lib/python3.10/site-packages/statsmodels/base/model.py:604: ConvergenceWarning: Maximum Likelihood optimization failed to converge. Check mle_retvals\n",
      "  warnings.warn(\"Maximum Likelihood optimization failed to \"\n",
      "/opt/miniconda3/envs/work/lib/python3.10/site-packages/statsmodels/regression/mixed_linear_model.py:2200: ConvergenceWarning: Retrying MixedLM optimization with lbfgs\n",
      "  warnings.warn(\n",
      "/opt/miniconda3/envs/work/lib/python3.10/site-packages/statsmodels/base/model.py:604: ConvergenceWarning: Maximum Likelihood optimization failed to converge. Check mle_retvals\n",
      "  warnings.warn(\"Maximum Likelihood optimization failed to \"\n",
      "/opt/miniconda3/envs/work/lib/python3.10/site-packages/statsmodels/regression/mixed_linear_model.py:2200: ConvergenceWarning: Retrying MixedLM optimization with cg\n",
      "  warnings.warn(\n",
      "/opt/miniconda3/envs/work/lib/python3.10/site-packages/statsmodels/base/model.py:604: ConvergenceWarning: Maximum Likelihood optimization failed to converge. Check mle_retvals\n",
      "  warnings.warn(\"Maximum Likelihood optimization failed to \"\n",
      "/opt/miniconda3/envs/work/lib/python3.10/site-packages/statsmodels/regression/mixed_linear_model.py:2206: ConvergenceWarning: MixedLM optimization failed, trying a different optimizer may help.\n",
      "  warnings.warn(msg, ConvergenceWarning)\n",
      "/opt/miniconda3/envs/work/lib/python3.10/site-packages/statsmodels/regression/mixed_linear_model.py:2218: ConvergenceWarning: Gradient optimization failed, |grad| = 62.780479\n",
      "  warnings.warn(msg, ConvergenceWarning)\n",
      "/opt/miniconda3/envs/work/lib/python3.10/site-packages/statsmodels/regression/mixed_linear_model.py:2237: ConvergenceWarning: The MLE may be on the boundary of the parameter space.\n",
      "  warnings.warn(msg, ConvergenceWarning)\n",
      "/opt/miniconda3/envs/work/lib/python3.10/site-packages/statsmodels/regression/mixed_linear_model.py:2261: ConvergenceWarning: The Hessian matrix at the estimated parameter values is not positive definite.\n",
      "  warnings.warn(msg, ConvergenceWarning)\n"
     ]
    },
    {
     "data": {
      "text/html": [
       "<table class=\"simpletable\">\n",
       "<tr>\n",
       "       <td>Model:</td>       <td>MixedLM</td> <td>Dependent Variable:</td> <td>positive_emotion</td>\n",
       "</tr>\n",
       "<tr>\n",
       "  <td>No. Observations:</td>  <td>1585</td>         <td>Method:</td>             <td>REML</td>      \n",
       "</tr>\n",
       "<tr>\n",
       "     <td>No. Groups:</td>       <td>3</td>          <td>Scale:</td>             <td>0.0521</td>     \n",
       "</tr>\n",
       "<tr>\n",
       "  <td>Min. group size:</td>    <td>378</td>     <td>Log-Likelihood:</td>        <td>3.8430</td>     \n",
       "</tr>\n",
       "<tr>\n",
       "  <td>Max. group size:</td>    <td>621</td>       <td>Converged:</td>             <td>No</td>       \n",
       "</tr>\n",
       "<tr>\n",
       "  <td>Mean group size:</td>   <td>528.3</td>           <td></td>                   <td></td>        \n",
       "</tr>\n",
       "</table>\n",
       "<table class=\"simpletable\">\n",
       "<tr>\n",
       "           <td></td>            <th>Coef.</th> <th>Std.Err.</th>    <th>z</th>   <th>P>|z|</th> <th>[0.025</th> <th>0.975]</th>\n",
       "</tr>\n",
       "<tr>\n",
       "  <th>Intercept</th>            <td>0.856</td>   <td>0.171</td>   <td>5.016</td> <td>0.000</td>  <td>0.521</td>  <td>1.190</td>\n",
       "</tr>\n",
       "<tr>\n",
       "  <th>spouse_support</th>       <td>0.032</td>   <td>0.006</td>   <td>5.001</td> <td>0.000</td>  <td>0.020</td>  <td>0.045</td>\n",
       "</tr>\n",
       "<tr>\n",
       "  <th>spouse_strain</th>       <td>-0.011</td>   <td>0.007</td>  <td>-1.618</td> <td>0.106</td> <td>-0.024</td>  <td>0.002</td>\n",
       "</tr>\n",
       "<tr>\n",
       "  <th>child_support</th>        <td>0.017</td>   <td>0.005</td>   <td>3.330</td> <td>0.001</td>  <td>0.007</td>  <td>0.027</td>\n",
       "</tr>\n",
       "<tr>\n",
       "  <th>child_strain</th>        <td>-0.017</td>   <td>0.005</td>  <td>-3.317</td> <td>0.001</td> <td>-0.027</td> <td>-0.007</td>\n",
       "</tr>\n",
       "<tr>\n",
       "  <th>friend_support</th>       <td>0.020</td>   <td>0.007</td>   <td>2.845</td> <td>0.004</td>  <td>0.006</td>  <td>0.034</td>\n",
       "</tr>\n",
       "<tr>\n",
       "  <th>friend_strain</th>       <td>-0.011</td>   <td>0.007</td>  <td>-1.639</td> <td>0.101</td> <td>-0.025</td>  <td>0.002</td>\n",
       "</tr>\n",
       "<tr>\n",
       "  <th>age_category Var</th>     <td>0.048</td>     <td></td>        <td></td>      <td></td>       <td></td>       <td></td>   \n",
       "</tr>\n",
       "<tr>\n",
       "  <th>confidants Var</th>       <td>0.000</td>     <td></td>        <td></td>      <td></td>       <td></td>       <td></td>   \n",
       "</tr>\n",
       "<tr>\n",
       "  <th>education_group Var</th>  <td>0.007</td>     <td></td>        <td></td>      <td></td>       <td></td>       <td></td>   \n",
       "</tr>\n",
       "<tr>\n",
       "  <th>income Var</th>           <td>0.005</td>     <td></td>        <td></td>      <td></td>       <td></td>       <td></td>   \n",
       "</tr>\n",
       "<tr>\n",
       "  <th>num_child Var</th>        <td>0.000</td>     <td></td>        <td></td>      <td></td>       <td></td>       <td></td>   \n",
       "</tr>\n",
       "<tr>\n",
       "  <th>retired Var</th>          <td>0.036</td>     <td></td>        <td></td>      <td></td>       <td></td>       <td></td>   \n",
       "</tr>\n",
       "<tr>\n",
       "  <th>sex Var</th>              <td>0.036</td>     <td></td>        <td></td>      <td></td>       <td></td>       <td></td>   \n",
       "</tr>\n",
       "</table>"
      ],
      "text/plain": [
       "<class 'statsmodels.iolib.summary2.Summary'>\n",
       "\"\"\"\n",
       "            Mixed Linear Model Regression Results\n",
       "==============================================================\n",
       "Model:            MixedLM Dependent Variable: positive_emotion\n",
       "No. Observations: 1585    Method:             REML            \n",
       "No. Groups:       3       Scale:              0.0521          \n",
       "Min. group size:  378     Log-Likelihood:     3.8430          \n",
       "Max. group size:  621     Converged:          No              \n",
       "Mean group size:  528.3                                       \n",
       "--------------------------------------------------------------\n",
       "                    Coef.  Std.Err.   z    P>|z| [0.025 0.975]\n",
       "--------------------------------------------------------------\n",
       "Intercept            0.856    0.171  5.016 0.000  0.521  1.190\n",
       "spouse_support       0.032    0.006  5.001 0.000  0.020  0.045\n",
       "spouse_strain       -0.011    0.007 -1.618 0.106 -0.024  0.002\n",
       "child_support        0.017    0.005  3.330 0.001  0.007  0.027\n",
       "child_strain        -0.017    0.005 -3.317 0.001 -0.027 -0.007\n",
       "friend_support       0.020    0.007  2.845 0.004  0.006  0.034\n",
       "friend_strain       -0.011    0.007 -1.639 0.101 -0.025  0.002\n",
       "age_category Var     0.048                                    \n",
       "confidants Var       0.000                                    \n",
       "education_group Var  0.007                                    \n",
       "income Var           0.005                                    \n",
       "num_child Var        0.000                                    \n",
       "retired Var          0.036                                    \n",
       "sex Var              0.036                                    \n",
       "==============================================================\n",
       "\n",
       "\"\"\""
      ]
     },
     "execution_count": 41,
     "metadata": {},
     "output_type": "execute_result"
    }
   ],
   "source": [
    "from statsmodels.regression.mixed_linear_model import MixedLM\n",
    "\n",
    "# For now, this is what we can do.\n",
    "# In fact, this is what they do!\n",
    "# data = data.dropna()\n",
    "\n",
    "# Describe variance components\n",
    "vc = {'confidants': '0 + C(confidants)', 'age_category': '0 + C(age_category)', 'education_group': '0 + C(education_group)', \n",
    "      'income': '0 + C(income)', 'sex': '0 + C(sex)', 'retired': '0 + C(retired)', 'num_child': '0 + C(num_child)'} \n",
    "\n",
    "model1 = MixedLM.from_formula(\n",
    "    'positive_emotion ~ spouse_support + spouse_strain + child_support + child_strain + friend_support + friend_strain',    \n",
    "    vc_formula = vc, data=df, groups=df['age_category'])\n",
    "\n",
    "#     'positive_emotion ~ spouse_support + spouse_strain + child_support + child_strain + friend_support + friend_strain',\n",
    "#     vc_formula = vc, data=data, groups=data['age_group'])\n",
    "\n",
    "result1 = model1.fit()\n",
    "result1.summary()\n"
   ]
  },
  {
   "cell_type": "code",
   "execution_count": 37,
   "id": "7598628c",
   "metadata": {},
   "outputs": [
    {
     "ename": "PatsyError",
     "evalue": "unclosed bracket in embedded Python expression\n    negative_emotion ~ spouse_support + spouse_strain + child_support + child_strain + friend_support + friend_strain         + C(confidants) + C(sex, Treatment(reference=\"0\") + C(income) + C(education_group, Treatment(reference=\"0\"))         + C(age_category) + C(retired) + C(num_child)\n                                                                                                                                                ^^^^^^^^^^^^^^^^^^^^^^^^^^^^^^^^^^^^^^^^^^^^^^^^^^^^^^^^^^^^^^^^^^^^^^^^^^^^^^^^^^^^^^^^^^^^^^^^^^^^^^^^^^^^^^^^^^^^^^^^^^^^^^^^^^^^^^^^^^^^^^^^",
     "output_type": "error",
     "traceback": [
      "\u001b[0;31m---------------------------------------------------------------------------\u001b[0m",
      "\u001b[0;31mPatsyError\u001b[0m                                Traceback (most recent call last)",
      "Input \u001b[0;32mIn [37]\u001b[0m, in \u001b[0;36m<cell line: 11>\u001b[0;34m()\u001b[0m\n\u001b[1;32m      3\u001b[0m \u001b[38;5;66;03m# For now, this is what we can do.\u001b[39;00m\n\u001b[1;32m      4\u001b[0m \u001b[38;5;66;03m# In fact, this is what they do!\u001b[39;00m\n\u001b[1;32m      5\u001b[0m \u001b[38;5;66;03m# data = data.dropna()\u001b[39;00m\n\u001b[1;32m      6\u001b[0m \n\u001b[1;32m      7\u001b[0m \u001b[38;5;66;03m# Describe variance components\u001b[39;00m\n\u001b[1;32m      8\u001b[0m vc \u001b[38;5;241m=\u001b[39m {\u001b[38;5;124m'\u001b[39m\u001b[38;5;124mconfidants\u001b[39m\u001b[38;5;124m'\u001b[39m: \u001b[38;5;124m'\u001b[39m\u001b[38;5;124m0 + C(confidants)\u001b[39m\u001b[38;5;124m'\u001b[39m, \u001b[38;5;124m'\u001b[39m\u001b[38;5;124mage_category\u001b[39m\u001b[38;5;124m'\u001b[39m: \u001b[38;5;124m'\u001b[39m\u001b[38;5;124m0 + C(age_category)\u001b[39m\u001b[38;5;124m'\u001b[39m, \u001b[38;5;124m'\u001b[39m\u001b[38;5;124meducation_group\u001b[39m\u001b[38;5;124m'\u001b[39m: \u001b[38;5;124m'\u001b[39m\u001b[38;5;124m0 + C(education_group)\u001b[39m\u001b[38;5;124m'\u001b[39m, \n\u001b[1;32m      9\u001b[0m       \u001b[38;5;124m'\u001b[39m\u001b[38;5;124mincome\u001b[39m\u001b[38;5;124m'\u001b[39m: \u001b[38;5;124m'\u001b[39m\u001b[38;5;124m0 + C(income)\u001b[39m\u001b[38;5;124m'\u001b[39m, \u001b[38;5;124m'\u001b[39m\u001b[38;5;124msex\u001b[39m\u001b[38;5;124m'\u001b[39m: \u001b[38;5;124m'\u001b[39m\u001b[38;5;124m0 + C(sex)\u001b[39m\u001b[38;5;124m'\u001b[39m, \u001b[38;5;124m'\u001b[39m\u001b[38;5;124mretired\u001b[39m\u001b[38;5;124m'\u001b[39m: \u001b[38;5;124m'\u001b[39m\u001b[38;5;124m0 + C(retired)\u001b[39m\u001b[38;5;124m'\u001b[39m, \u001b[38;5;124m'\u001b[39m\u001b[38;5;124mnum_child\u001b[39m\u001b[38;5;124m'\u001b[39m: \u001b[38;5;124m'\u001b[39m\u001b[38;5;124m0 + C(num_child)\u001b[39m\u001b[38;5;124m'\u001b[39m} \n\u001b[0;32m---> 11\u001b[0m model2 \u001b[38;5;241m=\u001b[39m \u001b[43mMixedLM\u001b[49m\u001b[38;5;241;43m.\u001b[39;49m\u001b[43mfrom_formula\u001b[49m\u001b[43m(\u001b[49m\n\u001b[1;32m     12\u001b[0m \u001b[43m    \u001b[49m\u001b[38;5;124;43m'\u001b[39;49m\u001b[38;5;124;43mnegative_emotion ~ spouse_support + spouse_strain + child_support + child_strain + friend_support + friend_strain \u001b[39;49m\u001b[38;5;130;43;01m\\\u001b[39;49;00m\n\u001b[1;32m     13\u001b[0m \u001b[38;5;124;43m        + C(confidants) + C(sex, Treatment(reference=\u001b[39;49m\u001b[38;5;124;43m\"\u001b[39;49m\u001b[38;5;124;43m0\u001b[39;49m\u001b[38;5;124;43m\"\u001b[39;49m\u001b[38;5;124;43m) + C(income) + C(education_group, Treatment(reference=\u001b[39;49m\u001b[38;5;124;43m\"\u001b[39;49m\u001b[38;5;124;43m0\u001b[39;49m\u001b[38;5;124;43m\"\u001b[39;49m\u001b[38;5;124;43m)) \u001b[39;49m\u001b[38;5;130;43;01m\\\u001b[39;49;00m\n\u001b[1;32m     14\u001b[0m \u001b[38;5;124;43m        + C(age_category) + C(retired) + C(num_child)\u001b[39;49m\u001b[38;5;124;43m'\u001b[39;49m\u001b[43m,\u001b[49m\u001b[43m    \u001b[49m\n\u001b[1;32m     15\u001b[0m \u001b[43m    \u001b[49m\u001b[43mvc_formula\u001b[49m\u001b[43m \u001b[49m\u001b[38;5;241;43m=\u001b[39;49m\u001b[43m \u001b[49m\u001b[43mvc\u001b[49m\u001b[43m,\u001b[49m\u001b[43m \u001b[49m\u001b[43mdata\u001b[49m\u001b[38;5;241;43m=\u001b[39;49m\u001b[43mdf\u001b[49m\u001b[43m,\u001b[49m\u001b[43m \u001b[49m\u001b[43mgroups\u001b[49m\u001b[38;5;241;43m=\u001b[39;49m\u001b[43mdf\u001b[49m\u001b[43m[\u001b[49m\u001b[38;5;124;43m'\u001b[39;49m\u001b[38;5;124;43mage_category\u001b[39;49m\u001b[38;5;124;43m'\u001b[39;49m\u001b[43m]\u001b[49m\u001b[43m)\u001b[49m\n\u001b[1;32m     17\u001b[0m result2 \u001b[38;5;241m=\u001b[39m model2\u001b[38;5;241m.\u001b[39mfit()\n\u001b[1;32m     18\u001b[0m result2\u001b[38;5;241m.\u001b[39msummary()\n",
      "File \u001b[0;32m/opt/miniconda3/envs/work/lib/python3.10/site-packages/statsmodels/regression/mixed_linear_model.py:1046\u001b[0m, in \u001b[0;36mMixedLM.from_formula\u001b[0;34m(cls, formula, data, re_formula, vc_formula, subset, use_sparse, missing, *args, **kwargs)\u001b[0m\n\u001b[1;32m   1044\u001b[0m kwargs[\u001b[38;5;124m\"\u001b[39m\u001b[38;5;124mexog_vc\u001b[39m\u001b[38;5;124m\"\u001b[39m] \u001b[38;5;241m=\u001b[39m exog_vc\n\u001b[1;32m   1045\u001b[0m kwargs[\u001b[38;5;124m\"\u001b[39m\u001b[38;5;124mgroups\u001b[39m\u001b[38;5;124m\"\u001b[39m] \u001b[38;5;241m=\u001b[39m groups\n\u001b[0;32m-> 1046\u001b[0m mod \u001b[38;5;241m=\u001b[39m \u001b[38;5;28;43msuper\u001b[39;49m\u001b[43m(\u001b[49m\u001b[43mMixedLM\u001b[49m\u001b[43m,\u001b[49m\u001b[43m \u001b[49m\u001b[38;5;28;43mcls\u001b[39;49m\u001b[43m)\u001b[49m\u001b[38;5;241;43m.\u001b[39;49m\u001b[43mfrom_formula\u001b[49m\u001b[43m(\u001b[49m\n\u001b[1;32m   1047\u001b[0m \u001b[43m    \u001b[49m\u001b[43mformula\u001b[49m\u001b[43m,\u001b[49m\u001b[43m \u001b[49m\u001b[43mdata\u001b[49m\u001b[43m,\u001b[49m\u001b[43m \u001b[49m\u001b[38;5;241;43m*\u001b[39;49m\u001b[43margs\u001b[49m\u001b[43m,\u001b[49m\u001b[43m \u001b[49m\u001b[38;5;241;43m*\u001b[39;49m\u001b[38;5;241;43m*\u001b[39;49m\u001b[43mkwargs\u001b[49m\u001b[43m)\u001b[49m\n\u001b[1;32m   1049\u001b[0m \u001b[38;5;66;03m# expand re names to account for pairs of RE\u001b[39;00m\n\u001b[1;32m   1050\u001b[0m (param_names,\n\u001b[1;32m   1051\u001b[0m  exog_re_names,\n\u001b[1;32m   1052\u001b[0m  exog_re_names_full) \u001b[38;5;241m=\u001b[39m mod\u001b[38;5;241m.\u001b[39m_make_param_names(exog_re_names)\n",
      "File \u001b[0;32m/opt/miniconda3/envs/work/lib/python3.10/site-packages/statsmodels/base/model.py:200\u001b[0m, in \u001b[0;36mModel.from_formula\u001b[0;34m(cls, formula, data, subset, drop_cols, *args, **kwargs)\u001b[0m\n\u001b[1;32m    197\u001b[0m \u001b[38;5;28;01mif\u001b[39;00m missing \u001b[38;5;241m==\u001b[39m \u001b[38;5;124m'\u001b[39m\u001b[38;5;124mnone\u001b[39m\u001b[38;5;124m'\u001b[39m:  \u001b[38;5;66;03m# with patsy it's drop or raise. let's raise.\u001b[39;00m\n\u001b[1;32m    198\u001b[0m     missing \u001b[38;5;241m=\u001b[39m \u001b[38;5;124m'\u001b[39m\u001b[38;5;124mraise\u001b[39m\u001b[38;5;124m'\u001b[39m\n\u001b[0;32m--> 200\u001b[0m tmp \u001b[38;5;241m=\u001b[39m \u001b[43mhandle_formula_data\u001b[49m\u001b[43m(\u001b[49m\u001b[43mdata\u001b[49m\u001b[43m,\u001b[49m\u001b[43m \u001b[49m\u001b[38;5;28;43;01mNone\u001b[39;49;00m\u001b[43m,\u001b[49m\u001b[43m \u001b[49m\u001b[43mformula\u001b[49m\u001b[43m,\u001b[49m\u001b[43m \u001b[49m\u001b[43mdepth\u001b[49m\u001b[38;5;241;43m=\u001b[39;49m\u001b[43meval_env\u001b[49m\u001b[43m,\u001b[49m\n\u001b[1;32m    201\u001b[0m \u001b[43m                          \u001b[49m\u001b[43mmissing\u001b[49m\u001b[38;5;241;43m=\u001b[39;49m\u001b[43mmissing\u001b[49m\u001b[43m)\u001b[49m\n\u001b[1;32m    202\u001b[0m ((endog, exog), missing_idx, design_info) \u001b[38;5;241m=\u001b[39m tmp\n\u001b[1;32m    203\u001b[0m max_endog \u001b[38;5;241m=\u001b[39m \u001b[38;5;28mcls\u001b[39m\u001b[38;5;241m.\u001b[39m_formula_max_endog\n",
      "File \u001b[0;32m/opt/miniconda3/envs/work/lib/python3.10/site-packages/statsmodels/formula/formulatools.py:63\u001b[0m, in \u001b[0;36mhandle_formula_data\u001b[0;34m(Y, X, formula, depth, missing)\u001b[0m\n\u001b[1;32m     61\u001b[0m \u001b[38;5;28;01melse\u001b[39;00m:\n\u001b[1;32m     62\u001b[0m     \u001b[38;5;28;01mif\u001b[39;00m data_util\u001b[38;5;241m.\u001b[39m_is_using_pandas(Y, \u001b[38;5;28;01mNone\u001b[39;00m):\n\u001b[0;32m---> 63\u001b[0m         result \u001b[38;5;241m=\u001b[39m \u001b[43mdmatrices\u001b[49m\u001b[43m(\u001b[49m\u001b[43mformula\u001b[49m\u001b[43m,\u001b[49m\u001b[43m \u001b[49m\u001b[43mY\u001b[49m\u001b[43m,\u001b[49m\u001b[43m \u001b[49m\u001b[43mdepth\u001b[49m\u001b[43m,\u001b[49m\u001b[43m \u001b[49m\u001b[43mreturn_type\u001b[49m\u001b[38;5;241;43m=\u001b[39;49m\u001b[38;5;124;43m'\u001b[39;49m\u001b[38;5;124;43mdataframe\u001b[39;49m\u001b[38;5;124;43m'\u001b[39;49m\u001b[43m,\u001b[49m\n\u001b[1;32m     64\u001b[0m \u001b[43m                           \u001b[49m\u001b[43mNA_action\u001b[49m\u001b[38;5;241;43m=\u001b[39;49m\u001b[43mna_action\u001b[49m\u001b[43m)\u001b[49m\n\u001b[1;32m     65\u001b[0m     \u001b[38;5;28;01melse\u001b[39;00m:\n\u001b[1;32m     66\u001b[0m         result \u001b[38;5;241m=\u001b[39m dmatrices(formula, Y, depth, return_type\u001b[38;5;241m=\u001b[39m\u001b[38;5;124m'\u001b[39m\u001b[38;5;124mdataframe\u001b[39m\u001b[38;5;124m'\u001b[39m,\n\u001b[1;32m     67\u001b[0m                            NA_action\u001b[38;5;241m=\u001b[39mna_action)\n",
      "File \u001b[0;32m/opt/miniconda3/envs/work/lib/python3.10/site-packages/patsy/highlevel.py:309\u001b[0m, in \u001b[0;36mdmatrices\u001b[0;34m(formula_like, data, eval_env, NA_action, return_type)\u001b[0m\n\u001b[1;32m    299\u001b[0m \u001b[38;5;124;03m\"\"\"Construct two design matrices given a formula_like and data.\u001b[39;00m\n\u001b[1;32m    300\u001b[0m \n\u001b[1;32m    301\u001b[0m \u001b[38;5;124;03mThis function is identical to :func:`dmatrix`, except that it requires\u001b[39;00m\n\u001b[0;32m   (...)\u001b[0m\n\u001b[1;32m    306\u001b[0m \u001b[38;5;124;03mSee :func:`dmatrix` for details.\u001b[39;00m\n\u001b[1;32m    307\u001b[0m \u001b[38;5;124;03m\"\"\"\u001b[39;00m\n\u001b[1;32m    308\u001b[0m eval_env \u001b[38;5;241m=\u001b[39m EvalEnvironment\u001b[38;5;241m.\u001b[39mcapture(eval_env, reference\u001b[38;5;241m=\u001b[39m\u001b[38;5;241m1\u001b[39m)\n\u001b[0;32m--> 309\u001b[0m (lhs, rhs) \u001b[38;5;241m=\u001b[39m \u001b[43m_do_highlevel_design\u001b[49m\u001b[43m(\u001b[49m\u001b[43mformula_like\u001b[49m\u001b[43m,\u001b[49m\u001b[43m \u001b[49m\u001b[43mdata\u001b[49m\u001b[43m,\u001b[49m\u001b[43m \u001b[49m\u001b[43meval_env\u001b[49m\u001b[43m,\u001b[49m\n\u001b[1;32m    310\u001b[0m \u001b[43m                                  \u001b[49m\u001b[43mNA_action\u001b[49m\u001b[43m,\u001b[49m\u001b[43m \u001b[49m\u001b[43mreturn_type\u001b[49m\u001b[43m)\u001b[49m\n\u001b[1;32m    311\u001b[0m \u001b[38;5;28;01mif\u001b[39;00m lhs\u001b[38;5;241m.\u001b[39mshape[\u001b[38;5;241m1\u001b[39m] \u001b[38;5;241m==\u001b[39m \u001b[38;5;241m0\u001b[39m:\n\u001b[1;32m    312\u001b[0m     \u001b[38;5;28;01mraise\u001b[39;00m PatsyError(\u001b[38;5;124m\"\u001b[39m\u001b[38;5;124mmodel is missing required outcome variables\u001b[39m\u001b[38;5;124m\"\u001b[39m)\n",
      "File \u001b[0;32m/opt/miniconda3/envs/work/lib/python3.10/site-packages/patsy/highlevel.py:164\u001b[0m, in \u001b[0;36m_do_highlevel_design\u001b[0;34m(formula_like, data, eval_env, NA_action, return_type)\u001b[0m\n\u001b[1;32m    162\u001b[0m \u001b[38;5;28;01mdef\u001b[39;00m \u001b[38;5;21mdata_iter_maker\u001b[39m():\n\u001b[1;32m    163\u001b[0m     \u001b[38;5;28;01mreturn\u001b[39;00m \u001b[38;5;28miter\u001b[39m([data])\n\u001b[0;32m--> 164\u001b[0m design_infos \u001b[38;5;241m=\u001b[39m \u001b[43m_try_incr_builders\u001b[49m\u001b[43m(\u001b[49m\u001b[43mformula_like\u001b[49m\u001b[43m,\u001b[49m\u001b[43m \u001b[49m\u001b[43mdata_iter_maker\u001b[49m\u001b[43m,\u001b[49m\u001b[43m \u001b[49m\u001b[43meval_env\u001b[49m\u001b[43m,\u001b[49m\n\u001b[1;32m    165\u001b[0m \u001b[43m                                  \u001b[49m\u001b[43mNA_action\u001b[49m\u001b[43m)\u001b[49m\n\u001b[1;32m    166\u001b[0m \u001b[38;5;28;01mif\u001b[39;00m design_infos \u001b[38;5;129;01mis\u001b[39;00m \u001b[38;5;129;01mnot\u001b[39;00m \u001b[38;5;28;01mNone\u001b[39;00m:\n\u001b[1;32m    167\u001b[0m     \u001b[38;5;28;01mreturn\u001b[39;00m build_design_matrices(design_infos, data,\n\u001b[1;32m    168\u001b[0m                                  NA_action\u001b[38;5;241m=\u001b[39mNA_action,\n\u001b[1;32m    169\u001b[0m                                  return_type\u001b[38;5;241m=\u001b[39mreturn_type)\n",
      "File \u001b[0;32m/opt/miniconda3/envs/work/lib/python3.10/site-packages/patsy/highlevel.py:62\u001b[0m, in \u001b[0;36m_try_incr_builders\u001b[0;34m(formula_like, data_iter_maker, eval_env, NA_action)\u001b[0m\n\u001b[1;32m     55\u001b[0m         \u001b[38;5;28;01mraise\u001b[39;00m PatsyError(\n\u001b[1;32m     56\u001b[0m             \u001b[38;5;124m\"\u001b[39m\u001b[38;5;124mOn Python 2, formula strings must be either \u001b[39m\u001b[38;5;124m'\u001b[39m\u001b[38;5;124mstr\u001b[39m\u001b[38;5;124m'\u001b[39m\u001b[38;5;124m objects, \u001b[39m\u001b[38;5;124m\"\u001b[39m\n\u001b[1;32m     57\u001b[0m             \u001b[38;5;124m\"\u001b[39m\u001b[38;5;124mor else \u001b[39m\u001b[38;5;124m'\u001b[39m\u001b[38;5;124municode\u001b[39m\u001b[38;5;124m'\u001b[39m\u001b[38;5;124m objects containing only ascii \u001b[39m\u001b[38;5;124m\"\u001b[39m\n\u001b[1;32m     58\u001b[0m             \u001b[38;5;124m\"\u001b[39m\u001b[38;5;124mcharacters. You passed a unicode string with non-ascii \u001b[39m\u001b[38;5;124m\"\u001b[39m\n\u001b[1;32m     59\u001b[0m             \u001b[38;5;124m\"\u001b[39m\u001b[38;5;124mcharacters. I\u001b[39m\u001b[38;5;124m'\u001b[39m\u001b[38;5;124mm afraid you\u001b[39m\u001b[38;5;124m'\u001b[39m\u001b[38;5;124mll have to either switch to \u001b[39m\u001b[38;5;124m\"\u001b[39m\n\u001b[1;32m     60\u001b[0m             \u001b[38;5;124m\"\u001b[39m\u001b[38;5;124mascii-only, or else upgrade to Python 3.\u001b[39m\u001b[38;5;124m\"\u001b[39m)\n\u001b[1;32m     61\u001b[0m \u001b[38;5;28;01mif\u001b[39;00m \u001b[38;5;28misinstance\u001b[39m(formula_like, \u001b[38;5;28mstr\u001b[39m):\n\u001b[0;32m---> 62\u001b[0m     formula_like \u001b[38;5;241m=\u001b[39m \u001b[43mModelDesc\u001b[49m\u001b[38;5;241;43m.\u001b[39;49m\u001b[43mfrom_formula\u001b[49m\u001b[43m(\u001b[49m\u001b[43mformula_like\u001b[49m\u001b[43m)\u001b[49m\n\u001b[1;32m     63\u001b[0m     \u001b[38;5;66;03m# fallthrough\u001b[39;00m\n\u001b[1;32m     64\u001b[0m \u001b[38;5;28;01mif\u001b[39;00m \u001b[38;5;28misinstance\u001b[39m(formula_like, ModelDesc):\n",
      "File \u001b[0;32m/opt/miniconda3/envs/work/lib/python3.10/site-packages/patsy/desc.py:164\u001b[0m, in \u001b[0;36mModelDesc.from_formula\u001b[0;34m(cls, tree_or_string)\u001b[0m\n\u001b[1;32m    162\u001b[0m     tree \u001b[38;5;241m=\u001b[39m tree_or_string\n\u001b[1;32m    163\u001b[0m \u001b[38;5;28;01melse\u001b[39;00m:\n\u001b[0;32m--> 164\u001b[0m     tree \u001b[38;5;241m=\u001b[39m \u001b[43mparse_formula\u001b[49m\u001b[43m(\u001b[49m\u001b[43mtree_or_string\u001b[49m\u001b[43m)\u001b[49m\n\u001b[1;32m    165\u001b[0m value \u001b[38;5;241m=\u001b[39m Evaluator()\u001b[38;5;241m.\u001b[39meval(tree, require_evalexpr\u001b[38;5;241m=\u001b[39m\u001b[38;5;28;01mFalse\u001b[39;00m)\n\u001b[1;32m    166\u001b[0m \u001b[38;5;28;01massert\u001b[39;00m \u001b[38;5;28misinstance\u001b[39m(value, \u001b[38;5;28mcls\u001b[39m)\n",
      "File \u001b[0;32m/opt/miniconda3/envs/work/lib/python3.10/site-packages/patsy/parse_formula.py:146\u001b[0m, in \u001b[0;36mparse_formula\u001b[0;34m(code, extra_operators)\u001b[0m\n\u001b[1;32m    144\u001b[0m operators \u001b[38;5;241m=\u001b[39m _default_ops \u001b[38;5;241m+\u001b[39m extra_operators\n\u001b[1;32m    145\u001b[0m operator_strings \u001b[38;5;241m=\u001b[39m [op\u001b[38;5;241m.\u001b[39mtoken_type \u001b[38;5;28;01mfor\u001b[39;00m op \u001b[38;5;129;01min\u001b[39;00m operators]\n\u001b[0;32m--> 146\u001b[0m tree \u001b[38;5;241m=\u001b[39m \u001b[43minfix_parse\u001b[49m\u001b[43m(\u001b[49m\u001b[43m_tokenize_formula\u001b[49m\u001b[43m(\u001b[49m\u001b[43mcode\u001b[49m\u001b[43m,\u001b[49m\u001b[43m \u001b[49m\u001b[43moperator_strings\u001b[49m\u001b[43m)\u001b[49m\u001b[43m,\u001b[49m\n\u001b[1;32m    147\u001b[0m \u001b[43m                   \u001b[49m\u001b[43moperators\u001b[49m\u001b[43m,\u001b[49m\n\u001b[1;32m    148\u001b[0m \u001b[43m                   \u001b[49m\u001b[43m_atomic_token_types\u001b[49m\u001b[43m)\u001b[49m\n\u001b[1;32m    149\u001b[0m \u001b[38;5;28;01mif\u001b[39;00m \u001b[38;5;129;01mnot\u001b[39;00m \u001b[38;5;28misinstance\u001b[39m(tree, ParseNode) \u001b[38;5;129;01mor\u001b[39;00m tree\u001b[38;5;241m.\u001b[39mtype \u001b[38;5;241m!=\u001b[39m \u001b[38;5;124m\"\u001b[39m\u001b[38;5;124m~\u001b[39m\u001b[38;5;124m\"\u001b[39m:\n\u001b[1;32m    150\u001b[0m     tree \u001b[38;5;241m=\u001b[39m ParseNode(\u001b[38;5;124m\"\u001b[39m\u001b[38;5;124m~\u001b[39m\u001b[38;5;124m\"\u001b[39m, \u001b[38;5;28;01mNone\u001b[39;00m, [tree], tree\u001b[38;5;241m.\u001b[39morigin)\n",
      "File \u001b[0;32m/opt/miniconda3/envs/work/lib/python3.10/site-packages/patsy/infix_parser.py:210\u001b[0m, in \u001b[0;36minfix_parse\u001b[0;34m(tokens, operators, atomic_types, trace)\u001b[0m\n\u001b[1;32m    205\u001b[0m \u001b[38;5;66;03m# This is an implementation of Dijkstra's shunting yard algorithm:\u001b[39;00m\n\u001b[1;32m    206\u001b[0m \u001b[38;5;66;03m#   http://en.wikipedia.org/wiki/Shunting_yard_algorithm\u001b[39;00m\n\u001b[1;32m    207\u001b[0m \u001b[38;5;66;03m#   http://www.engr.mun.ca/~theo/Misc/exp_parsing.htm\u001b[39;00m\n\u001b[1;32m    209\u001b[0m want_noun \u001b[38;5;241m=\u001b[39m \u001b[38;5;28;01mTrue\u001b[39;00m\n\u001b[0;32m--> 210\u001b[0m \u001b[38;5;28;01mfor\u001b[39;00m token \u001b[38;5;129;01min\u001b[39;00m token_source:\n\u001b[1;32m    211\u001b[0m     \u001b[38;5;28;01mif\u001b[39;00m c\u001b[38;5;241m.\u001b[39mtrace:\n\u001b[1;32m    212\u001b[0m         \u001b[38;5;28mprint\u001b[39m(\u001b[38;5;124m\"\u001b[39m\u001b[38;5;124mReading next token (want_noun=\u001b[39m\u001b[38;5;132;01m%r\u001b[39;00m\u001b[38;5;124m)\u001b[39m\u001b[38;5;124m\"\u001b[39m \u001b[38;5;241m%\u001b[39m (want_noun,))\n",
      "File \u001b[0;32m/opt/miniconda3/envs/work/lib/python3.10/site-packages/patsy/parse_formula.py:94\u001b[0m, in \u001b[0;36m_tokenize_formula\u001b[0;34m(code, operator_strings)\u001b[0m\n\u001b[1;32m     92\u001b[0m \u001b[38;5;28;01melse\u001b[39;00m:\n\u001b[1;32m     93\u001b[0m     it\u001b[38;5;241m.\u001b[39mpush_back((pytype, token_string, origin))\n\u001b[0;32m---> 94\u001b[0m     \u001b[38;5;28;01myield\u001b[39;00m \u001b[43m_read_python_expr\u001b[49m\u001b[43m(\u001b[49m\u001b[43mit\u001b[49m\u001b[43m,\u001b[49m\u001b[43m \u001b[49m\u001b[43mend_tokens\u001b[49m\u001b[43m)\u001b[49m\n",
      "File \u001b[0;32m/opt/miniconda3/envs/work/lib/python3.10/site-packages/patsy/parse_formula.py:71\u001b[0m, in \u001b[0;36m_read_python_expr\u001b[0;34m(it, end_tokens)\u001b[0m\n\u001b[1;32m     69\u001b[0m     \u001b[38;5;28;01mreturn\u001b[39;00m Token(token_type, Origin\u001b[38;5;241m.\u001b[39mcombine(origins), extra\u001b[38;5;241m=\u001b[39mexpr_text)\n\u001b[1;32m     70\u001b[0m \u001b[38;5;28;01melse\u001b[39;00m:\n\u001b[0;32m---> 71\u001b[0m     \u001b[38;5;28;01mraise\u001b[39;00m PatsyError(\u001b[38;5;124m\"\u001b[39m\u001b[38;5;124munclosed bracket in embedded Python \u001b[39m\u001b[38;5;124m\"\u001b[39m\n\u001b[1;32m     72\u001b[0m                         \u001b[38;5;124m\"\u001b[39m\u001b[38;5;124mexpression\u001b[39m\u001b[38;5;124m\"\u001b[39m,\n\u001b[1;32m     73\u001b[0m                         Origin\u001b[38;5;241m.\u001b[39mcombine(origins))\n",
      "\u001b[0;31mPatsyError\u001b[0m: unclosed bracket in embedded Python expression\n    negative_emotion ~ spouse_support + spouse_strain + child_support + child_strain + friend_support + friend_strain         + C(confidants) + C(sex, Treatment(reference=\"0\") + C(income) + C(education_group, Treatment(reference=\"0\"))         + C(age_category) + C(retired) + C(num_child)\n                                                                                                                                                ^^^^^^^^^^^^^^^^^^^^^^^^^^^^^^^^^^^^^^^^^^^^^^^^^^^^^^^^^^^^^^^^^^^^^^^^^^^^^^^^^^^^^^^^^^^^^^^^^^^^^^^^^^^^^^^^^^^^^^^^^^^^^^^^^^^^^^^^^^^^^^^^"
     ]
    }
   ],
   "source": [
    "from statsmodels.regression.mixed_linear_model import MixedLM\n",
    "\n",
    "# For now, this is what we can do.\n",
    "# In fact, this is what they do!\n",
    "# data = data.dropna()\n",
    "\n",
    "# Describe variance components\n",
    "vc = {'confidants': '0 + C(confidants)', 'age_category': '0 + C(age_category)', 'education_group': '0 + C(education_group)', \n",
    "      'income': '0 + C(income)', 'sex': '0 + C(sex)', 'retired': '0 + C(retired)', 'num_child': '0 + C(num_child)'} \n",
    "\n",
    "model2 = MixedLM.from_formula(\n",
    "    'negative_emotion ~ spouse_support + spouse_strain + child_support + child_strain + friend_support + friend_strain \\\n",
    "        + C(confidants) + C(sex, Treatment(reference=\"0\") + C(income) + C(education_group, Treatment(reference=\"0\")) \\\n",
    "        + C(age_category) + C(retired) + C(num_child)',    \n",
    "    vc_formula = vc, data=df, groups=df['age_category'])\n",
    "\n",
    "result2 = model2.fit()\n",
    "result2.summary()\n"
   ]
  },
  {
   "cell_type": "code",
   "execution_count": 21,
   "id": "2a49583e",
   "metadata": {},
   "outputs": [],
   "source": [
    "df.to_pickle(\"./pierce2019who_dataframe.pickle\") "
   ]
  },
  {
   "cell_type": "code",
   "execution_count": null,
   "id": "2dbc2f00",
   "metadata": {},
   "outputs": [],
   "source": []
  },
  {
   "cell_type": "code",
   "execution_count": null,
   "id": "ca20fefb",
   "metadata": {},
   "outputs": [],
   "source": []
  }
 ],
 "metadata": {
  "kernelspec": {
   "display_name": "Python 3 (ipykernel)",
   "language": "python",
   "name": "python3"
  },
  "language_info": {
   "codemirror_mode": {
    "name": "ipython",
    "version": 3
   },
   "file_extension": ".py",
   "mimetype": "text/x-python",
   "name": "python",
   "nbconvert_exporter": "python",
   "pygments_lexer": "ipython3",
   "version": "3.10.6"
  },
  "vscode": {
   "interpreter": {
    "hash": "75ae39fb185b2e97d9f6fb1f28c7cc09709216ce708b2cace28bac267a90fa53"
   }
  }
 },
 "nbformat": 4,
 "nbformat_minor": 5
}
