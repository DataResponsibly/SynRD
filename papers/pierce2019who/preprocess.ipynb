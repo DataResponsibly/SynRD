{
 "cells": [
  {
   "cell_type": "code",
   "execution_count": 1,
   "id": "27686917",
   "metadata": {},
   "outputs": [],
   "source": [
    "import pandas as pd\n",
    "import numpy as np\n",
    "import os\n",
    "import warnings\n",
    "warnings.filterwarnings('ignore')\n",
    "pd.set_option('display.max_columns', None)\n",
    "pd.set_option('display.max_rows', None)"
   ]
  },
  {
   "cell_type": "code",
   "execution_count": 2,
   "id": "6c7e455e",
   "metadata": {},
   "outputs": [
    {
     "data": {
      "text/plain": [
       "(3617, 4564)"
      ]
     },
     "execution_count": 2,
     "metadata": {},
     "output_type": "execute_result"
    }
   ],
   "source": [
    "raw = pd.read_csv('./data/DS0001/04690-0001-Data.tsv',sep='\\t')\n",
    "raw.shape"
   ]
  },
  {
   "cell_type": "markdown",
   "id": "323d1139",
   "metadata": {},
   "source": [
    "## Dataset sampling\n",
    "\n",
    "- Originally 3617 respondents\n",
    "- Listwise deletion to 1640 participants\n",
    "- Use dropna() function for Listwise deletion\n",
    "- All of these participants had a spouse, a child, and friends when responding to the survey"
   ]
  },
  {
   "cell_type": "code",
   "execution_count": 3,
   "id": "d7e7eb8b",
   "metadata": {},
   "outputs": [
    {
     "name": "stdout",
     "output_type": "stream",
     "text": [
      "1768\n"
     ]
    }
   ],
   "source": [
    "# Married, have friends\n",
    "# V2060: Married == 1\n",
    "# V2225: # of Friends > 0\n",
    "# V2017: # of Children > 0\n",
    "\n",
    "df = raw[(raw['V2060'] == 1) & (raw['V2225'] > 0) & (raw['V2017'] > 0)]\n",
    "print(len(df))"
   ]
  },
  {
   "cell_type": "code",
   "execution_count": 4,
   "id": "87298308",
   "metadata": {},
   "outputs": [
    {
     "data": {
      "text/plain": [
       "False"
      ]
     },
     "execution_count": 4,
     "metadata": {},
     "output_type": "execute_result"
    }
   ],
   "source": [
    "df.isnull().values.any()"
   ]
  },
  {
   "cell_type": "markdown",
   "id": "6afb470c",
   "metadata": {},
   "source": [
    "## Dependent Variables\n",
    "\n",
    "Positive emotional state\n",
    "\n",
    "- “In the past week: I felt happy” - H1E V1006\n",
    "- “In the past week: I enjoyed life” - H1J V1010\n",
    "- The two variables are combined to V2620\n",
    "\n",
    "\n",
    "Negative emotional state\n",
    "- “In the past week: I felt sad” - H1M V1012\n",
    "- “In the past week: I felt depressed” - H1A V1002\n",
    "- “In the past week: I felt lonely” - H1F V1007"
   ]
  },
  {
   "cell_type": "code",
   "execution_count": 5,
   "id": "4e1810b3",
   "metadata": {},
   "outputs": [
    {
     "name": "stdout",
     "output_type": "stream",
     "text": [
      "1740\n"
     ]
    }
   ],
   "source": [
    "missing_val = {-95: np.nan, -96: np.nan, -99: np.nan}\n",
    "\n",
    "df.replace({'V1006': missing_val, 'V1010': missing_val, 'V1012': missing_val, \n",
    "            'V1002': missing_val, 'V1007': missing_val}, inplace=True)\n",
    "\n",
    "df = df.dropna(axis='index', subset=['V1002','V1006','V1007','V1010','V1012'], how='any')\n",
    "\n",
    "\n",
    "df['positive_emotion'] = df[['V1006', 'V1010']].mean(axis=1)\n",
    "df['negative_emotion'] = df[['V1012', 'V1002', 'V1007']].mean(axis=1)\n",
    "\n",
    "# Normalize\n",
    "df['positive_emotion']=(df['positive_emotion']-df['positive_emotion'].min()) \\\n",
    "                    /(df['positive_emotion'].max()-df['positive_emotion'].min())\n",
    "df['negative_emotion']=(df['negative_emotion']-df['negative_emotion'].min()) \\\n",
    "                    /(df['negative_emotion'].max()-df['negative_emotion'].min())\n",
    "print(len(df))"
   ]
  },
  {
   "cell_type": "markdown",
   "id": "faf1a79a",
   "metadata": {},
   "source": [
    "## Independent Variables\n",
    "\n",
    "Spouse\n",
    "- Love and care: C2 V405\n",
    "- Willing to listen: C4 V407\n",
    "- Too many demands: C3 V406\n",
    "- Critical of you: C5 V408\n",
    "\n",
    "Child\n",
    "- Love and care: C14 V431\n",
    "- Willing to listen: C16 V433\n",
    "- Too many demands: C15 V432\n",
    "- Critical of you: C17 V434\n",
    "\n",
    "Friends\n",
    "- Love and care: C47 V535\n",
    "- Willing to listen: C49 V537\n",
    "- Too many demands: C48 V536\n",
    "- Critical of you: C50 V538"
   ]
  },
  {
   "cell_type": "code",
   "execution_count": 7,
   "id": "b6720728",
   "metadata": {},
   "outputs": [],
   "source": [
    "df['spouse_support'] = df['V2204']\n",
    "df['spouse_strain'] = df['V2205']\n",
    "df['child_support'] = df['V2207']\n",
    "df['child_strain'] = df['V2208']\n",
    "df['friend_support'] = df['V2216']\n",
    "df['friend_strain'] = df['V2217']"
   ]
  },
  {
   "cell_type": "code",
   "execution_count": 8,
   "id": "6de62647",
   "metadata": {},
   "outputs": [
    {
     "data": {
      "text/plain": [
       "False"
      ]
     },
     "execution_count": 8,
     "metadata": {},
     "output_type": "execute_result"
    }
   ],
   "source": [
    "df.isnull().values.any()"
   ]
  },
  {
   "cell_type": "code",
   "execution_count": 9,
   "id": "3a8f2077",
   "metadata": {},
   "outputs": [
    {
     "data": {
      "text/plain": [
       "1740"
      ]
     },
     "execution_count": 9,
     "metadata": {},
     "output_type": "execute_result"
    }
   ],
   "source": [
    "len(df)"
   ]
  },
  {
   "cell_type": "markdown",
   "id": "e277a1f5",
   "metadata": {},
   "source": [
    "## Control Variables\n",
    "\n",
    "- Confidants: C54 V546\n",
    "- Age: A0C1 V104\n",
    "- Income: R27 V1730\n",
    "- Sex: AOB1 V103\n",
    "- Education R13 V1646\n",
    "    - Less than HS\n",
    "    - HS diploma\n",
    "    - College degree\n",
    "    - 4-year degree\n",
    "    - Graduate degree\n",
    "- Retired: J1E V1105\n",
    "- Age category\n",
    "    - Age <45\n",
    "    - Age 45-65\n",
    "    - Age >65\n",
    "- Number of Children\n",
    "    - Children in HH: V105, V108, V111, V114, V117, V120, V123, V126, V129, V132, V135 -> Check each column \n",
    "    - Children elsewhere: V202\n",
    "\n"
   ]
  },
  {
   "cell_type": "code",
   "execution_count": 10,
   "id": "036a12a8",
   "metadata": {},
   "outputs": [],
   "source": [
    "def age_categorize(row):  \n",
    "    if row['age'] < 45:\n",
    "        return 'under 45'\n",
    "    elif row['age'] >= 45 and row['age'] <= 65:\n",
    "        return '45-65'\n",
    "    elif row['age'] > 65:\n",
    "        return 'over 65'\n",
    "    \n",
    "def education_categorize(row):  \n",
    "    if row['education'] < 12:\n",
    "        return '1' # Less than high school\n",
    "    elif 12 <= row['education'] < 14:\n",
    "        return '2' # High school diploma\n",
    "    elif 14 <= row['education'] < 16:\n",
    "        return '3' # College degree\n",
    "    elif 16 <= row['education'] < 17:\n",
    "        return '4' # 4-year degree\n",
    "    elif row['education'] >= 17:\n",
    "        return '5' # Graduate degree\n",
    "#     return np.nan"
   ]
  },
  {
   "cell_type": "code",
   "execution_count": 11,
   "id": "9b62f655",
   "metadata": {},
   "outputs": [],
   "source": [
    "missing_val = {-95: np.nan, -96: np.nan, -99: np.nan}\n",
    "check_box = {1: 1, 5: 0}\n",
    "\n",
    "df.replace({'V546': missing_val, 'V104': missing_val, 'V2020': missing_val,\n",
    "            'V1105': check_box, 'V103': missing_val, 'V2007': missing_val,\n",
    "            'V2017':missing_val\n",
    "            }, inplace=True)\n",
    "\n",
    "df['confidants'] = df['V546']\n",
    "df['age'] = df['V104']\n",
    "# df['age_group'] = df.apply(lambda row: age_categorize(row), axis=1)\n",
    "df['income'] = df['V2020']\n",
    "df['sex'] = df['V103']\n",
    "df['education'] = df['V2007']\n",
    "# df['education_group'] = df.apply(lambda row: education_categorize(row), axis=1)\n",
    "df['retired'] = df['V1105']\n",
    "df['num_child'] = df['V2017']\n",
    "\n",
    "df = df.dropna(axis='index', subset=['confidants','age','age','income','sex',\n",
    "                                     'education','retired','num_child'], how='any')\n",
    "\n",
    "df['age_group'] = df.apply(lambda row: age_categorize(row), axis=1)\n",
    "df['education_group'] = df.apply(lambda row: education_categorize(row), axis=1)"
   ]
  },
  {
   "cell_type": "code",
   "execution_count": 12,
   "id": "73dec05e",
   "metadata": {},
   "outputs": [
    {
     "data": {
      "text/plain": [
       "False"
      ]
     },
     "execution_count": 12,
     "metadata": {},
     "output_type": "execute_result"
    }
   ],
   "source": [
    "df.isnull().values.any()"
   ]
  },
  {
   "cell_type": "code",
   "execution_count": 13,
   "id": "f4b93b0a",
   "metadata": {},
   "outputs": [
    {
     "data": {
      "text/plain": [
       "1585"
      ]
     },
     "execution_count": 13,
     "metadata": {},
     "output_type": "execute_result"
    }
   ],
   "source": [
    "len(df)"
   ]
  },
  {
   "cell_type": "code",
   "execution_count": 14,
   "id": "1fa7dadf",
   "metadata": {},
   "outputs": [
    {
     "name": "stdout",
     "output_type": "stream",
     "text": [
      "(1585, 17)\n"
     ]
    },
    {
     "data": {
      "text/html": [
       "<div>\n",
       "<style scoped>\n",
       "    .dataframe tbody tr th:only-of-type {\n",
       "        vertical-align: middle;\n",
       "    }\n",
       "\n",
       "    .dataframe tbody tr th {\n",
       "        vertical-align: top;\n",
       "    }\n",
       "\n",
       "    .dataframe thead th {\n",
       "        text-align: right;\n",
       "    }\n",
       "</style>\n",
       "<table border=\"1\" class=\"dataframe\">\n",
       "  <thead>\n",
       "    <tr style=\"text-align: right;\">\n",
       "      <th></th>\n",
       "      <th>positive_emotion</th>\n",
       "      <th>negative_emotion</th>\n",
       "      <th>spouse_support</th>\n",
       "      <th>spouse_strain</th>\n",
       "      <th>child_support</th>\n",
       "      <th>child_strain</th>\n",
       "      <th>friend_support</th>\n",
       "      <th>friend_strain</th>\n",
       "      <th>confidants</th>\n",
       "      <th>age</th>\n",
       "      <th>age_group</th>\n",
       "      <th>income</th>\n",
       "      <th>sex</th>\n",
       "      <th>education</th>\n",
       "      <th>education_group</th>\n",
       "      <th>retired</th>\n",
       "      <th>num_child</th>\n",
       "    </tr>\n",
       "  </thead>\n",
       "  <tbody>\n",
       "    <tr>\n",
       "      <th>1</th>\n",
       "      <td>0.5</td>\n",
       "      <td>0.000000</td>\n",
       "      <td>0.3309</td>\n",
       "      <td>1.3306</td>\n",
       "      <td>-0.4619</td>\n",
       "      <td>1.814400</td>\n",
       "      <td>-2.045698</td>\n",
       "      <td>0.3005</td>\n",
       "      <td>1.0</td>\n",
       "      <td>44.0</td>\n",
       "      <td>under 45</td>\n",
       "      <td>9</td>\n",
       "      <td>1</td>\n",
       "      <td>12</td>\n",
       "      <td>2</td>\n",
       "      <td>0</td>\n",
       "      <td>2</td>\n",
       "    </tr>\n",
       "    <tr>\n",
       "      <th>9</th>\n",
       "      <td>1.0</td>\n",
       "      <td>0.333333</td>\n",
       "      <td>0.3309</td>\n",
       "      <td>-1.3283</td>\n",
       "      <td>-0.1654</td>\n",
       "      <td>-0.442000</td>\n",
       "      <td>0.114700</td>\n",
       "      <td>0.2565</td>\n",
       "      <td>4.0</td>\n",
       "      <td>73.0</td>\n",
       "      <td>over 65</td>\n",
       "      <td>2</td>\n",
       "      <td>1</td>\n",
       "      <td>9</td>\n",
       "      <td>1</td>\n",
       "      <td>1</td>\n",
       "      <td>3</td>\n",
       "    </tr>\n",
       "    <tr>\n",
       "      <th>11</th>\n",
       "      <td>0.5</td>\n",
       "      <td>0.166667</td>\n",
       "      <td>-0.4141</td>\n",
       "      <td>-0.7946</td>\n",
       "      <td>-0.1654</td>\n",
       "      <td>-0.482300</td>\n",
       "      <td>-0.401300</td>\n",
       "      <td>0.9053</td>\n",
       "      <td>3.0</td>\n",
       "      <td>47.0</td>\n",
       "      <td>45-65</td>\n",
       "      <td>7</td>\n",
       "      <td>1</td>\n",
       "      <td>10</td>\n",
       "      <td>1</td>\n",
       "      <td>0</td>\n",
       "      <td>5</td>\n",
       "    </tr>\n",
       "    <tr>\n",
       "      <th>12</th>\n",
       "      <td>1.0</td>\n",
       "      <td>0.000000</td>\n",
       "      <td>0.8749</td>\n",
       "      <td>-0.2641</td>\n",
       "      <td>0.9599</td>\n",
       "      <td>-1.026199</td>\n",
       "      <td>1.243099</td>\n",
       "      <td>-0.9531</td>\n",
       "      <td>2.0</td>\n",
       "      <td>48.0</td>\n",
       "      <td>45-65</td>\n",
       "      <td>7</td>\n",
       "      <td>1</td>\n",
       "      <td>14</td>\n",
       "      <td>3</td>\n",
       "      <td>1</td>\n",
       "      <td>3</td>\n",
       "    </tr>\n",
       "    <tr>\n",
       "      <th>13</th>\n",
       "      <td>1.0</td>\n",
       "      <td>0.166667</td>\n",
       "      <td>0.3309</td>\n",
       "      <td>-0.7946</td>\n",
       "      <td>0.9599</td>\n",
       "      <td>-1.026199</td>\n",
       "      <td>-0.497800</td>\n",
       "      <td>1.4661</td>\n",
       "      <td>7.0</td>\n",
       "      <td>55.0</td>\n",
       "      <td>45-65</td>\n",
       "      <td>7</td>\n",
       "      <td>2</td>\n",
       "      <td>5</td>\n",
       "      <td>1</td>\n",
       "      <td>0</td>\n",
       "      <td>3</td>\n",
       "    </tr>\n",
       "  </tbody>\n",
       "</table>\n",
       "</div>"
      ],
      "text/plain": [
       "    positive_emotion  negative_emotion  spouse_support  spouse_strain  \\\n",
       "1                0.5          0.000000          0.3309         1.3306   \n",
       "9                1.0          0.333333          0.3309        -1.3283   \n",
       "11               0.5          0.166667         -0.4141        -0.7946   \n",
       "12               1.0          0.000000          0.8749        -0.2641   \n",
       "13               1.0          0.166667          0.3309        -0.7946   \n",
       "\n",
       "    child_support  child_strain  friend_support  friend_strain  confidants  \\\n",
       "1         -0.4619      1.814400       -2.045698         0.3005         1.0   \n",
       "9         -0.1654     -0.442000        0.114700         0.2565         4.0   \n",
       "11        -0.1654     -0.482300       -0.401300         0.9053         3.0   \n",
       "12         0.9599     -1.026199        1.243099        -0.9531         2.0   \n",
       "13         0.9599     -1.026199       -0.497800         1.4661         7.0   \n",
       "\n",
       "     age age_group  income  sex  education education_group  retired  num_child  \n",
       "1   44.0  under 45       9    1         12               2        0          2  \n",
       "9   73.0   over 65       2    1          9               1        1          3  \n",
       "11  47.0     45-65       7    1         10               1        0          5  \n",
       "12  48.0     45-65       7    1         14               3        1          3  \n",
       "13  55.0     45-65       7    2          5               1        0          3  "
      ]
     },
     "execution_count": 14,
     "metadata": {},
     "output_type": "execute_result"
    }
   ],
   "source": [
    "data = df[['positive_emotion', 'negative_emotion', 'spouse_support', 'spouse_strain',\n",
    "           'child_support', 'child_strain', 'friend_support', 'friend_strain',\n",
    "           'confidants', 'age', 'age_group', 'income', 'sex', 'education', 'education_group',\n",
    "           'retired', 'num_child']].copy(deep=True)\n",
    "\n",
    "print(data.shape)\n",
    "data.head()"
   ]
  },
  {
   "cell_type": "markdown",
   "id": "0c66c26d",
   "metadata": {},
   "source": [
    "## Statistical Hybrid Model"
   ]
  },
  {
   "cell_type": "code",
   "execution_count": 16,
   "id": "4e37254a",
   "metadata": {},
   "outputs": [
    {
     "data": {
      "text/plain": [
       "1585"
      ]
     },
     "execution_count": 16,
     "metadata": {},
     "output_type": "execute_result"
    }
   ],
   "source": [
    "len(data)"
   ]
  },
  {
   "cell_type": "code",
   "execution_count": 18,
   "id": "648a3434",
   "metadata": {},
   "outputs": [
    {
     "name": "stderr",
     "output_type": "stream",
     "text": [
      "/opt/miniconda3/envs/work/lib/python3.10/site-packages/statsmodels/base/model.py:604: ConvergenceWarning: Maximum Likelihood optimization failed to converge. Check mle_retvals\n",
      "  warnings.warn(\"Maximum Likelihood optimization failed to \"\n",
      "/opt/miniconda3/envs/work/lib/python3.10/site-packages/statsmodels/regression/mixed_linear_model.py:2200: ConvergenceWarning: Retrying MixedLM optimization with lbfgs\n",
      "  warnings.warn(\n",
      "/opt/miniconda3/envs/work/lib/python3.10/site-packages/statsmodels/base/model.py:604: ConvergenceWarning: Maximum Likelihood optimization failed to converge. Check mle_retvals\n",
      "  warnings.warn(\"Maximum Likelihood optimization failed to \"\n",
      "/opt/miniconda3/envs/work/lib/python3.10/site-packages/statsmodels/regression/mixed_linear_model.py:2200: ConvergenceWarning: Retrying MixedLM optimization with cg\n",
      "  warnings.warn(\n",
      "/opt/miniconda3/envs/work/lib/python3.10/site-packages/statsmodels/base/model.py:604: ConvergenceWarning: Maximum Likelihood optimization failed to converge. Check mle_retvals\n",
      "  warnings.warn(\"Maximum Likelihood optimization failed to \"\n",
      "/opt/miniconda3/envs/work/lib/python3.10/site-packages/statsmodels/regression/mixed_linear_model.py:2206: ConvergenceWarning: MixedLM optimization failed, trying a different optimizer may help.\n",
      "  warnings.warn(msg, ConvergenceWarning)\n",
      "/opt/miniconda3/envs/work/lib/python3.10/site-packages/statsmodels/regression/mixed_linear_model.py:2218: ConvergenceWarning: Gradient optimization failed, |grad| = 110.711190\n",
      "  warnings.warn(msg, ConvergenceWarning)\n",
      "/opt/miniconda3/envs/work/lib/python3.10/site-packages/statsmodels/regression/mixed_linear_model.py:2237: ConvergenceWarning: The MLE may be on the boundary of the parameter space.\n",
      "  warnings.warn(msg, ConvergenceWarning)\n",
      "/opt/miniconda3/envs/work/lib/python3.10/site-packages/statsmodels/regression/mixed_linear_model.py:2261: ConvergenceWarning: The Hessian matrix at the estimated parameter values is not positive definite.\n",
      "  warnings.warn(msg, ConvergenceWarning)\n"
     ]
    },
    {
     "data": {
      "text/html": [
       "<table class=\"simpletable\">\n",
       "<tr>\n",
       "       <td>Model:</td>       <td>MixedLM</td> <td>Dependent Variable:</td> <td>positive_emotion</td>\n",
       "</tr>\n",
       "<tr>\n",
       "  <td>No. Observations:</td>  <td>1585</td>         <td>Method:</td>             <td>REML</td>      \n",
       "</tr>\n",
       "<tr>\n",
       "     <td>No. Groups:</td>       <td>3</td>          <td>Scale:</td>             <td>0.0508</td>     \n",
       "</tr>\n",
       "<tr>\n",
       "  <td>Min. group size:</td>    <td>378</td>     <td>Log-Likelihood:</td>       <td>-25.7399</td>    \n",
       "</tr>\n",
       "<tr>\n",
       "  <td>Max. group size:</td>    <td>621</td>       <td>Converged:</td>             <td>No</td>       \n",
       "</tr>\n",
       "<tr>\n",
       "  <td>Mean group size:</td>   <td>528.3</td>           <td></td>                   <td></td>        \n",
       "</tr>\n",
       "</table>\n",
       "<table class=\"simpletable\">\n",
       "<tr>\n",
       "           <td></td>            <th>Coef.</th> <th>Std.Err.</th>    <th>z</th>   <th>P>|z|</th> <th>[0.025</th> <th>0.975]</th>\n",
       "</tr>\n",
       "<tr>\n",
       "  <th>Intercept</th>            <td>0.847</td>   <td>0.120</td>   <td>7.049</td> <td>0.000</td>  <td>0.612</td>  <td>1.083</td>\n",
       "</tr>\n",
       "<tr>\n",
       "  <th>spouse_support</th>       <td>0.033</td>   <td>0.007</td>   <td>5.082</td> <td>0.000</td>  <td>0.020</td>  <td>0.046</td>\n",
       "</tr>\n",
       "<tr>\n",
       "  <th>spouse_strain</th>       <td>-0.010</td>   <td>0.007</td>  <td>-1.457</td> <td>0.145</td> <td>-0.024</td>  <td>0.003</td>\n",
       "</tr>\n",
       "<tr>\n",
       "  <th>child_support</th>        <td>0.015</td>   <td>0.005</td>   <td>2.981</td> <td>0.003</td>  <td>0.005</td>  <td>0.026</td>\n",
       "</tr>\n",
       "<tr>\n",
       "  <th>child_strain</th>        <td>-0.015</td>   <td>0.005</td>  <td>-2.966</td> <td>0.003</td> <td>-0.025</td> <td>-0.005</td>\n",
       "</tr>\n",
       "<tr>\n",
       "  <th>friend_support</th>       <td>0.022</td>   <td>0.007</td>   <td>3.060</td> <td>0.002</td>  <td>0.008</td>  <td>0.036</td>\n",
       "</tr>\n",
       "<tr>\n",
       "  <th>friend_strain</th>       <td>-0.009</td>   <td>0.007</td>  <td>-1.256</td> <td>0.209</td> <td>-0.023</td>  <td>0.005</td>\n",
       "</tr>\n",
       "<tr>\n",
       "  <th>age Var</th>              <td>0.007</td>     <td></td>        <td></td>      <td></td>       <td></td>       <td></td>   \n",
       "</tr>\n",
       "<tr>\n",
       "  <th>confidants Var</th>       <td>0.003</td>     <td></td>        <td></td>      <td></td>       <td></td>       <td></td>   \n",
       "</tr>\n",
       "<tr>\n",
       "  <th>education_group Var</th>  <td>0.013</td>     <td></td>        <td></td>      <td></td>       <td></td>       <td></td>   \n",
       "</tr>\n",
       "<tr>\n",
       "  <th>income Var</th>           <td>0.001</td>   <td>0.011</td>     <td></td>      <td></td>       <td></td>       <td></td>   \n",
       "</tr>\n",
       "<tr>\n",
       "  <th>num_child Var</th>        <td>0.001</td>     <td></td>        <td></td>      <td></td>       <td></td>       <td></td>   \n",
       "</tr>\n",
       "<tr>\n",
       "  <th>retired Var</th>          <td>0.038</td>     <td></td>        <td></td>      <td></td>       <td></td>       <td></td>   \n",
       "</tr>\n",
       "<tr>\n",
       "  <th>sex Var</th>              <td>0.038</td>     <td></td>        <td></td>      <td></td>       <td></td>       <td></td>   \n",
       "</tr>\n",
       "</table>"
      ],
      "text/plain": [
       "<class 'statsmodels.iolib.summary2.Summary'>\n",
       "\"\"\"\n",
       "            Mixed Linear Model Regression Results\n",
       "==============================================================\n",
       "Model:            MixedLM Dependent Variable: positive_emotion\n",
       "No. Observations: 1585    Method:             REML            \n",
       "No. Groups:       3       Scale:              0.0508          \n",
       "Min. group size:  378     Log-Likelihood:     -25.7399        \n",
       "Max. group size:  621     Converged:          No              \n",
       "Mean group size:  528.3                                       \n",
       "--------------------------------------------------------------\n",
       "                    Coef.  Std.Err.   z    P>|z| [0.025 0.975]\n",
       "--------------------------------------------------------------\n",
       "Intercept            0.847    0.120  7.049 0.000  0.612  1.083\n",
       "spouse_support       0.033    0.007  5.082 0.000  0.020  0.046\n",
       "spouse_strain       -0.010    0.007 -1.457 0.145 -0.024  0.003\n",
       "child_support        0.015    0.005  2.981 0.003  0.005  0.026\n",
       "child_strain        -0.015    0.005 -2.966 0.003 -0.025 -0.005\n",
       "friend_support       0.022    0.007  3.060 0.002  0.008  0.036\n",
       "friend_strain       -0.009    0.007 -1.256 0.209 -0.023  0.005\n",
       "age Var              0.007                                    \n",
       "confidants Var       0.003                                    \n",
       "education_group Var  0.013                                    \n",
       "income Var           0.001    0.011                           \n",
       "num_child Var        0.001                                    \n",
       "retired Var          0.038                                    \n",
       "sex Var              0.038                                    \n",
       "==============================================================\n",
       "\n",
       "\"\"\""
      ]
     },
     "execution_count": 18,
     "metadata": {},
     "output_type": "execute_result"
    }
   ],
   "source": [
    "from statsmodels.regression.mixed_linear_model import MixedLM\n",
    "\n",
    "# For now, this is what we can do.\n",
    "# In fact, this is what they do!\n",
    "# data = data.dropna()\n",
    "\n",
    "# Describe variance components\n",
    "vc = {'confidants': '0 + C(confidants)', 'age': '0 + C(age)', 'education_group': '0 + C(education_group)', \n",
    "      'income': '0 + C(income)', 'sex': '0 + C(sex)', 'retired': '0 + C(retired)', 'num_child': '0 + C(num_child)'} \n",
    "\n",
    "model1 = MixedLM.from_formula(\n",
    "    'positive_emotion ~ spouse_support + spouse_strain + child_support + child_strain + friend_support + friend_strain',\n",
    "    vc_formula = vc, data=data, groups=data['age_group'])\n",
    "\n",
    "result1 = model1.fit()\n",
    "result1.summary()\n"
   ]
  },
  {
   "cell_type": "code",
   "execution_count": 20,
   "id": "7598628c",
   "metadata": {},
   "outputs": [
    {
     "name": "stderr",
     "output_type": "stream",
     "text": [
      "/opt/miniconda3/envs/work/lib/python3.10/site-packages/statsmodels/base/model.py:604: ConvergenceWarning: Maximum Likelihood optimization failed to converge. Check mle_retvals\n",
      "  warnings.warn(\"Maximum Likelihood optimization failed to \"\n",
      "/opt/miniconda3/envs/work/lib/python3.10/site-packages/statsmodels/regression/mixed_linear_model.py:2200: ConvergenceWarning: Retrying MixedLM optimization with lbfgs\n",
      "  warnings.warn(\n",
      "/opt/miniconda3/envs/work/lib/python3.10/site-packages/statsmodels/base/model.py:604: ConvergenceWarning: Maximum Likelihood optimization failed to converge. Check mle_retvals\n",
      "  warnings.warn(\"Maximum Likelihood optimization failed to \"\n",
      "/opt/miniconda3/envs/work/lib/python3.10/site-packages/statsmodels/regression/mixed_linear_model.py:2200: ConvergenceWarning: Retrying MixedLM optimization with cg\n",
      "  warnings.warn(\n",
      "/opt/miniconda3/envs/work/lib/python3.10/site-packages/statsmodels/base/model.py:604: ConvergenceWarning: Maximum Likelihood optimization failed to converge. Check mle_retvals\n",
      "  warnings.warn(\"Maximum Likelihood optimization failed to \"\n",
      "/opt/miniconda3/envs/work/lib/python3.10/site-packages/statsmodels/regression/mixed_linear_model.py:2206: ConvergenceWarning: MixedLM optimization failed, trying a different optimizer may help.\n",
      "  warnings.warn(msg, ConvergenceWarning)\n",
      "/opt/miniconda3/envs/work/lib/python3.10/site-packages/statsmodels/regression/mixed_linear_model.py:2218: ConvergenceWarning: Gradient optimization failed, |grad| = 56.540138\n",
      "  warnings.warn(msg, ConvergenceWarning)\n",
      "/opt/miniconda3/envs/work/lib/python3.10/site-packages/statsmodels/regression/mixed_linear_model.py:2237: ConvergenceWarning: The MLE may be on the boundary of the parameter space.\n",
      "  warnings.warn(msg, ConvergenceWarning)\n",
      "/opt/miniconda3/envs/work/lib/python3.10/site-packages/statsmodels/regression/mixed_linear_model.py:2261: ConvergenceWarning: The Hessian matrix at the estimated parameter values is not positive definite.\n",
      "  warnings.warn(msg, ConvergenceWarning)\n"
     ]
    },
    {
     "data": {
      "text/html": [
       "<table class=\"simpletable\">\n",
       "<tr>\n",
       "       <td>Model:</td>       <td>MixedLM</td> <td>Dependent Variable:</td> <td>negative_emotion</td>\n",
       "</tr>\n",
       "<tr>\n",
       "  <td>No. Observations:</td>  <td>1585</td>         <td>Method:</td>             <td>REML</td>      \n",
       "</tr>\n",
       "<tr>\n",
       "     <td>No. Groups:</td>       <td>3</td>          <td>Scale:</td>             <td>0.0377</td>     \n",
       "</tr>\n",
       "<tr>\n",
       "  <td>Min. group size:</td>    <td>378</td>     <td>Log-Likelihood:</td>       <td>165.3430</td>    \n",
       "</tr>\n",
       "<tr>\n",
       "  <td>Max. group size:</td>    <td>621</td>       <td>Converged:</td>             <td>No</td>       \n",
       "</tr>\n",
       "<tr>\n",
       "  <td>Mean group size:</td>   <td>528.3</td>           <td></td>                   <td></td>        \n",
       "</tr>\n",
       "</table>\n",
       "<table class=\"simpletable\">\n",
       "<tr>\n",
       "           <td></td>            <th>Coef.</th> <th>Std.Err.</th>    <th>z</th>   <th>P>|z|</th> <th>[0.025</th> <th>0.975]</th>\n",
       "</tr>\n",
       "<tr>\n",
       "  <th>Intercept</th>            <td>0.177</td>   <td>0.105</td>   <td>1.689</td> <td>0.091</td> <td>-0.028</td>  <td>0.383</td>\n",
       "</tr>\n",
       "<tr>\n",
       "  <th>spouse_support</th>      <td>-0.025</td>   <td>0.006</td>  <td>-4.508</td> <td>0.000</td> <td>-0.036</td> <td>-0.014</td>\n",
       "</tr>\n",
       "<tr>\n",
       "  <th>spouse_strain</th>        <td>0.017</td>   <td>0.006</td>   <td>2.837</td> <td>0.005</td>  <td>0.005</td>  <td>0.028</td>\n",
       "</tr>\n",
       "<tr>\n",
       "  <th>child_support</th>       <td>-0.010</td>   <td>0.004</td>  <td>-2.202</td> <td>0.028</td> <td>-0.018</td> <td>-0.001</td>\n",
       "</tr>\n",
       "<tr>\n",
       "  <th>child_strain</th>         <td>0.009</td>   <td>0.004</td>   <td>2.158</td> <td>0.031</td>  <td>0.001</td>  <td>0.018</td>\n",
       "</tr>\n",
       "<tr>\n",
       "  <th>friend_support</th>      <td>-0.011</td>   <td>0.006</td>  <td>-1.873</td> <td>0.061</td> <td>-0.023</td>  <td>0.001</td>\n",
       "</tr>\n",
       "<tr>\n",
       "  <th>friend_strain</th>        <td>0.021</td>   <td>0.006</td>   <td>3.465</td> <td>0.001</td>  <td>0.009</td>  <td>0.033</td>\n",
       "</tr>\n",
       "<tr>\n",
       "  <th>age Var</th>              <td>0.076</td>     <td></td>        <td></td>      <td></td>       <td></td>       <td></td>   \n",
       "</tr>\n",
       "<tr>\n",
       "  <th>confidants Var</th>       <td>0.001</td>     <td></td>        <td></td>      <td></td>       <td></td>       <td></td>   \n",
       "</tr>\n",
       "<tr>\n",
       "  <th>education_group Var</th>  <td>0.007</td>     <td></td>        <td></td>      <td></td>       <td></td>       <td></td>   \n",
       "</tr>\n",
       "<tr>\n",
       "  <th>income Var</th>           <td>0.000</td>   <td>0.001</td>     <td></td>      <td></td>       <td></td>       <td></td>   \n",
       "</tr>\n",
       "<tr>\n",
       "  <th>num_child Var</th>        <td>0.000</td>     <td></td>        <td></td>      <td></td>       <td></td>       <td></td>   \n",
       "</tr>\n",
       "<tr>\n",
       "  <th>retired Var</th>          <td>0.027</td>     <td></td>        <td></td>      <td></td>       <td></td>       <td></td>   \n",
       "</tr>\n",
       "<tr>\n",
       "  <th>sex Var</th>              <td>0.027</td>     <td></td>        <td></td>      <td></td>       <td></td>       <td></td>   \n",
       "</tr>\n",
       "</table>"
      ],
      "text/plain": [
       "<class 'statsmodels.iolib.summary2.Summary'>\n",
       "\"\"\"\n",
       "            Mixed Linear Model Regression Results\n",
       "==============================================================\n",
       "Model:            MixedLM Dependent Variable: negative_emotion\n",
       "No. Observations: 1585    Method:             REML            \n",
       "No. Groups:       3       Scale:              0.0377          \n",
       "Min. group size:  378     Log-Likelihood:     165.3430        \n",
       "Max. group size:  621     Converged:          No              \n",
       "Mean group size:  528.3                                       \n",
       "--------------------------------------------------------------\n",
       "                    Coef.  Std.Err.   z    P>|z| [0.025 0.975]\n",
       "--------------------------------------------------------------\n",
       "Intercept            0.177    0.105  1.689 0.091 -0.028  0.383\n",
       "spouse_support      -0.025    0.006 -4.508 0.000 -0.036 -0.014\n",
       "spouse_strain        0.017    0.006  2.837 0.005  0.005  0.028\n",
       "child_support       -0.010    0.004 -2.202 0.028 -0.018 -0.001\n",
       "child_strain         0.009    0.004  2.158 0.031  0.001  0.018\n",
       "friend_support      -0.011    0.006 -1.873 0.061 -0.023  0.001\n",
       "friend_strain        0.021    0.006  3.465 0.001  0.009  0.033\n",
       "age Var              0.076                                    \n",
       "confidants Var       0.001                                    \n",
       "education_group Var  0.007                                    \n",
       "income Var           0.000    0.001                           \n",
       "num_child Var        0.000                                    \n",
       "retired Var          0.027                                    \n",
       "sex Var              0.027                                    \n",
       "==============================================================\n",
       "\n",
       "\"\"\""
      ]
     },
     "execution_count": 20,
     "metadata": {},
     "output_type": "execute_result"
    }
   ],
   "source": [
    "from statsmodels.regression.mixed_linear_model import MixedLM\n",
    "\n",
    "# For now, this is what we can do.\n",
    "# In fact, this is what they do!\n",
    "# data = data.dropna()\n",
    "\n",
    "# Describe variance components\n",
    "vc = {'confidants': '0 + C(confidants)', 'age': '0 + C(age)', 'education_group': '0 + C(education_group)', \n",
    "      'income': '0 + C(income)', 'sex': '0 + C(sex)', 'retired': '0 + C(retired)', 'num_child': '0 + C(num_child)'} \n",
    "\n",
    "model2 = MixedLM.from_formula(\n",
    "    'negative_emotion ~ spouse_support + spouse_strain + child_support + child_strain + friend_support + friend_strain',\n",
    "    vc_formula = vc, data=data, groups=data['age_group'])\n",
    "\n",
    "result2 = model2.fit()\n",
    "result2.summary()\n"
   ]
  },
  {
   "cell_type": "code",
   "execution_count": null,
   "id": "2a49583e",
   "metadata": {},
   "outputs": [],
   "source": []
  },
  {
   "cell_type": "code",
   "execution_count": null,
   "id": "2dbc2f00",
   "metadata": {},
   "outputs": [],
   "source": []
  },
  {
   "cell_type": "code",
   "execution_count": null,
   "id": "ca20fefb",
   "metadata": {},
   "outputs": [],
   "source": []
  }
 ],
 "metadata": {
  "kernelspec": {
   "display_name": "Python 3 (ipykernel)",
   "language": "python",
   "name": "python3"
  },
  "language_info": {
   "codemirror_mode": {
    "name": "ipython",
    "version": 3
   },
   "file_extension": ".py",
   "mimetype": "text/x-python",
   "name": "python",
   "nbconvert_exporter": "python",
   "pygments_lexer": "ipython3",
   "version": "3.10.6"
  },
  "vscode": {
   "interpreter": {
    "hash": "75ae39fb185b2e97d9f6fb1f28c7cc09709216ce708b2cace28bac267a90fa53"
   }
  }
 },
 "nbformat": 4,
 "nbformat_minor": 5
}
