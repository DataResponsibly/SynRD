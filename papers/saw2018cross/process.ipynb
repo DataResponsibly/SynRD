{
 "cells": [
  {
   "cell_type": "code",
   "execution_count": 1,
   "metadata": {},
   "outputs": [],
   "source": [
    "import pandas as pd\n",
    "import numpy as np"
   ]
  },
  {
   "cell_type": "code",
   "execution_count": 2,
   "metadata": {},
   "outputs": [],
   "source": [
    "school_survey = pd.read_csv('data/36423-0001-Data.tsv',sep='\\t')\n",
    "student_survey = pd.read_csv('data/36423-0002-Data.tsv',sep='\\t')"
   ]
  },
  {
   "cell_type": "markdown",
   "metadata": {},
   "source": [
    "X2UNIV2A: X2 Base year status and how sample member entered F1 sample\n",
    "\n",
    "Indicates the base year status (respondent, non-respondent, questionnaire ineligible) for base year sample members.\n",
    "\n",
    "Base year respondent = 1"
   ]
  },
  {
   "cell_type": "code",
   "execution_count": 3,
   "metadata": {},
   "outputs": [
    {
     "data": {
      "text/plain": [
       "1    21444\n",
       "2     2059\n",
       "Name: X2UNIV2A, dtype: int64"
      ]
     },
     "execution_count": 3,
     "metadata": {},
     "output_type": "execute_result"
    }
   ],
   "source": [
    "check1 = student_survey['X2UNIV2A'].value_counts()\n",
    "check1"
   ]
  },
  {
   "cell_type": "code",
   "execution_count": 4,
   "metadata": {},
   "outputs": [],
   "source": [
    "filter1 = student_survey[student_survey['X2UNIV2A'] == 1]"
   ]
  },
  {
   "cell_type": "markdown",
   "metadata": {},
   "source": [
    "Yay! From paper, we have first repeated result:\n",
    "\n",
    "\"HSLS:09 began with a nationally rep- resentative sample of ninth graders in fall 2009 (21,444 students from 944 schools) and followed them through postsecondary edu- cation.\""
   ]
  },
  {
   "cell_type": "markdown",
   "metadata": {},
   "source": [
    "Now we need to check for *first time* 9th graders, as per Appendix A\n",
    "\n",
    "This is the relevant variable: S1GRD0809, \"S1 B01 Grade 9th grader was in last year (2008-09)\"\n",
    "\n",
    "1 7th Grade 64 0.3 %\n",
    "\n",
    "2 8th Grade 20178 85.9 %\n",
    "\n",
    "3 9th Grade 1124 4.8 %\n",
    "\n",
    "4 In an ungraded program 61 0.3 %"
   ]
  },
  {
   "cell_type": "code",
   "execution_count": 5,
   "metadata": {},
   "outputs": [
    {
     "data": {
      "text/plain": [
       "20242"
      ]
     },
     "execution_count": 5,
     "metadata": {},
     "output_type": "execute_result"
    }
   ],
   "source": [
    "filter1 = filter1[(filter1['S1GRD0809'] != 3) & (filter1['S1GRD0809'] != 4) & (filter1['S1GRD0809'] > 0)]\n",
    "len(filter1)"
   ]
  },
  {
   "cell_type": "markdown",
   "metadata": {},
   "source": [
    "## YES\n",
    "This took a lot of trial and error to nail down, but finally the figure is correct!!\n",
    "\n",
    "**From paper:**\n",
    "\n",
    "\"Our analytic sample is restricted to first-time 9th-graders, whose information on their career aspirations is available in at least one of the two survey rounds (n = 20,242).\""
   ]
  },
  {
   "cell_type": "markdown",
   "metadata": {},
   "source": [
    "## NOTE ON STEM ASPIRATIONS\n",
    "Stem aspirations is \"dichotomous\" variable as the authors note. My best guess is that they mean that either *X1STU30OCC_STEM1* or *X2STU30OCC_STEM1* is 1 for an individual. I add this variable here."
   ]
  },
  {
   "cell_type": "code",
   "execution_count": 18,
   "metadata": {},
   "outputs": [
    {
     "data": {
      "text/plain": [
       "0    17451\n",
       "1     2791\n",
       "Name: stem_career_aspirations, dtype: int64"
      ]
     },
     "execution_count": 18,
     "metadata": {},
     "output_type": "execute_result"
    }
   ],
   "source": [
    "filter1['stem_career_aspirations'] = ((filter1['X1STU30OCC_STEM1'] == 1) | (filter1['X2STU30OCC_STEM1'] == 1)).astype(np.int8)\n",
    "filter1['stem_career_aspirations'].value_counts()"
   ]
  },
  {
   "cell_type": "markdown",
   "metadata": {},
   "source": [
    "#### Constructing demographic columns\n",
    "They also do some reconstructing of demographic columns."
   ]
  },
  {
   "cell_type": "markdown",
   "metadata": {},
   "source": [
    "Sex"
   ]
  },
  {
   "cell_type": "code",
   "execution_count": 19,
   "metadata": {},
   "outputs": [],
   "source": [
    "filter1['sex'] = filter1['X1SEX']"
   ]
  },
  {
   "cell_type": "markdown",
   "metadata": {},
   "source": [
    "Race:\n",
    "\n",
    "1\tAmer. Indian/Alaska Native, non-Hispanic\t165\t0.70\n",
    "\n",
    "2\tAsian, non-Hispanic\t1,952\t8.31\n",
    "\n",
    "3\tBlack/African-American, non-Hispanic\t2,450\t10.42\n",
    "\n",
    "4\tHispanic, no race specified\t422\t1.80\n",
    "\n",
    "5\tHispanic, race specified\t3,375\t14.36\n",
    "\n",
    "6\tMore than one race, non-Hispanic\t1,941\t8.26\n",
    "\n",
    "7\tNative Hawaiian/Pacific Islander, non-Hispanic\t110\t0.47\n",
    "\n",
    "8\tWhite, non-Hispanic\t12,082\t51.41\n",
    "\n",
    "-9\tMissing\t1,006\t4.28"
   ]
  },
  {
   "cell_type": "code",
   "execution_count": 21,
   "metadata": {},
   "outputs": [
    {
     "data": {
      "text/plain": [
       "1    11332\n",
       "3     3282\n",
       "2     1985\n",
       "5     1802\n",
       "4     1591\n",
       "6      250\n",
       "Name: race, dtype: int64"
      ]
     },
     "execution_count": 21,
     "metadata": {},
     "output_type": "execute_result"
    }
   ],
   "source": [
    "filter1['race'] = filter1['X1RACE']\n",
    "filter1.loc[filter1[\"race\"] == 8, \"race\"] = 11\n",
    "filter1.loc[filter1[\"race\"] == 3, \"race\"] = 12\n",
    "filter1.loc[filter1[\"race\"] == 4, \"race\"] = 13\n",
    "filter1.loc[filter1[\"race\"] == 5, \"race\"] = 13\n",
    "filter1.loc[filter1[\"race\"] == 2, \"race\"] = 14\n",
    "filter1.loc[filter1[\"race\"] == 6, \"race\"] = 15\n",
    "filter1.loc[filter1[\"race\"] == 7, \"race\"] = 16\n",
    "filter1.loc[filter1[\"race\"] == 1, \"race\"] = 16\n",
    "filter1['race'] = filter1['race'] - 10\n",
    "filter1['race'].value_counts()"
   ]
  },
  {
   "cell_type": "markdown",
   "metadata": {},
   "source": [
    "## Now going into STEM findings\n",
    "Relevant variable here is: X1STU30OCC_STEM1: X1 Student occupation at age 30: STEM code 1 (sub-domain) (I believe this is from 9th grade?)\n",
    "\n",
    "0\tNot a STEM occupation\t13,969\t59.43\n",
    "\n",
    "1\tLife and Physical Science, Engineering, Mathematics, and Information Technology Occupations\t1,726\t7.34\n",
    "\n",
    "4\tHealth Occupations\t4,351\t18.51\n",
    "\n",
    "5\tSplit across 2 sub-domains\t413\t1.76\n",
    "\n",
    "6\tUnspecified sub-domain\t301\t1.28\n",
    "\n",
    "9\tUncodeable\t258\t1.10\n",
    "\n",
    "-9\tMissing\t426\t1.81\n",
    "\n",
    "-8\tUnit non-response\t2,059\t8.76\n",
    "\n",
    "As there is also:\n",
    "\n",
    "X2STU30OCC_STEM1: X2 Student occupation at age 30: STEM code 1 (sub-domain)\n",
    "\n",
    "0\tNot a STEM occupation\t12,991\t55.27\n",
    "\n",
    "1\tLife and Physical Science, Engineering, Mathematics, and Information Technology Occupations\t1,878\t7.99\n",
    "\n",
    "4\tHealth Occupations\t4,619\t19.65\n",
    "\n",
    "5\tSplit across 2 sub-domains\t601\t2.56\n",
    "\n",
    "6\tUnspecified sub-domain\t55\t0.23\n",
    "\n",
    "9\tUncodeable\t96\t0.41\n",
    "\n",
    "-9\tMissing\t354\t1.51\n",
    "\n",
    "-8\tUnit non-response\t2,909\t12.38"
   ]
  },
  {
   "cell_type": "markdown",
   "metadata": {},
   "source": [
    "## Let's check Table B1\n",
    "This is the product of the linear model they ran. Simple n counts to start! "
   ]
  },
  {
   "cell_type": "code",
   "execution_count": 7,
   "metadata": {},
   "outputs": [
    {
     "data": {
      "text/plain": [
       "19633"
      ]
     },
     "execution_count": 7,
     "metadata": {},
     "output_type": "execute_result"
    }
   ],
   "source": [
    "stem_round_one = filter1[filter1['X1STU30OCC_STEM1'].isin([0,1,2,3,4,5,6])]\n",
    "len(stem_round_one)"
   ]
  },
  {
   "cell_type": "markdown",
   "metadata": {},
   "source": [
    "Correct! Table B1 reports \"n=19633\" for 9th grade first round"
   ]
  },
  {
   "cell_type": "code",
   "execution_count": 8,
   "metadata": {},
   "outputs": [
    {
     "data": {
      "text/plain": [
       "17421"
      ]
     },
     "execution_count": 8,
     "metadata": {},
     "output_type": "execute_result"
    }
   ],
   "source": [
    "stem_round_two = filter1[filter1['X2STU30OCC_STEM1'].isin([0,1,2,3,4,5,6])]\n",
    "len(stem_round_two)"
   ]
  },
  {
   "cell_type": "markdown",
   "metadata": {},
   "source": [
    "Also correct, number of eleventh graders\n",
    "\n",
    "There are two other sets of individuals reported on, \"Persisters\" and \"Emergers\". Persisters had stem interest in both ninth and eleventh grade, while emergers are the subset of students who reported no stem interest in ninth grade, but reported interest in eleventh grade."
   ]
  },
  {
   "cell_type": "markdown",
   "metadata": {},
   "source": [
    "In order to properly do this, we are going to actually create our sets of individuals for ninth grade, eleventh, persisters and emergers.\n",
    "\n",
    "**UGH** Please define your terms! Are persisters individuals who maintained the same categorization for STEM interest, or any interest?? \n",
    "\n",
    "Ok, it appears that the authors had access to the private version of the study, which has some uncoded individuals for privacy concerns (haha). So, the overall numbers will be a bit off, but not by much. Enough for me to proceed, I believe."
   ]
  },
  {
   "cell_type": "code",
   "execution_count": 9,
   "metadata": {},
   "outputs": [],
   "source": [
    "ninth_grade = stem_round_one\n",
    "eleventh_grade = stem_round_two"
   ]
  },
  {
   "cell_type": "code",
   "execution_count": 10,
   "metadata": {},
   "outputs": [
    {
     "name": "stdout",
     "output_type": "stream",
     "text": [
      "1667\n",
      "0.3311337732453509\n"
     ]
    },
    {
     "data": {
      "text/plain": [
       "1115"
      ]
     },
     "execution_count": 10,
     "metadata": {},
     "output_type": "execute_result"
    }
   ],
   "source": [
    "# Find persisters\n",
    "persisters_set = filter1[filter1['X1STU30OCC_STEM1'].isin([1,2,3])]\n",
    "persisters = persisters_set[persisters_set['X2STU30OCC_STEM1'].isin([1,2,3])]\n",
    "print(len(persisters_set))\n",
    "print(len(persisters)/len(persisters_set))\n",
    "\n",
    "non_persisters = persisters_set[~persisters_set['X2STU30OCC_STEM1'].isin([1,2,3])]\n",
    "len(non_persisters)\n"
   ]
  },
  {
   "cell_type": "markdown",
   "metadata": {},
   "source": [
    "Good, the 1667 number is lower than the reported total in the Table B1 (n=1988), but this is likely due to a coding issue. The actual percentage of persisters (33.1) is nearly identical to the paper finding of 34.3. "
   ]
  },
  {
   "cell_type": "code",
   "execution_count": 11,
   "metadata": {},
   "outputs": [
    {
     "name": "stdout",
     "output_type": "stream",
     "text": [
      "18575\n",
      "1124\n",
      "0.0605114401076716\n"
     ]
    }
   ],
   "source": [
    "# Find emergers\n",
    "emergers_set = filter1[~filter1['X1STU30OCC_STEM1'].isin([1,2,3])]\n",
    "emergers = emergers_set[emergers_set['X2STU30OCC_STEM1'].isin([1,2,3])]\n",
    "print(len(emergers_set))\n",
    "print(len(emergers))\n",
    "print(len(emergers)/len(emergers_set))"
   ]
  },
  {
   "cell_type": "markdown",
   "metadata": {},
   "source": [
    "Percentage of emergers at 6.1% is also about the same as (6.9% in the paper)!\n",
    "\n",
    "Absolute number of non-persistors versus emergers are also similar (1115 ≈ 1124), as is also stated in the paper."
   ]
  },
  {
   "cell_type": "code",
   "execution_count": 12,
   "metadata": {},
   "outputs": [],
   "source": [
    "sets = [ninth_grade, eleventh_grade, persisters_set, emergers_set]"
   ]
  },
  {
   "cell_type": "code",
   "execution_count": 13,
   "metadata": {},
   "outputs": [],
   "source": [
    "X_cols = ['X1SEX','X1RACE',]"
   ]
  },
  {
   "cell_type": "code",
   "execution_count": 14,
   "metadata": {},
   "outputs": [],
   "source": [
    "dependent_var = 'stem_career_aspirations'"
   ]
  },
  {
   "cell_type": "markdown",
   "metadata": {},
   "source": [
    "1\tAmer. Indian/Alaska Native, non-Hispanic\t165\t0.70\n",
    "2\tAsian, non-Hispanic\t1,952\t8.31\n",
    "3\tBlack/African-American, non-Hispanic\t2,450\t10.42\n",
    "4\tHispanic, no race specified\t422\t1.80\n",
    "5\tHispanic, race specified\t3,375\t14.36\n",
    "6\tMore than one race, non-Hispanic\t1,941\t8.26\n",
    "7\tNative Hawaiian/Pacific Islander, non-Hispanic\t110\t0.47\n",
    "8\tWhite, non-Hispanic\t12,082\t51.41\n",
    "-9\tMissing\t1,006\t4.28"
   ]
  },
  {
   "cell_type": "markdown",
   "metadata": {},
   "source": [
    "2 Asian\n",
    "3 Black\n",
    "4,5, Hispanic\n",
    "6 Multiracial\n",
    "8 White"
   ]
  },
  {
   "cell_type": "code",
   "execution_count": null,
   "metadata": {},
   "outputs": [],
   "source": [
    "2 Asian"
   ]
  },
  {
   "cell_type": "code",
   "execution_count": 17,
   "metadata": {},
   "outputs": [
    {
     "data": {
      "text/plain": [
       "8    11038\n",
       "5     2990\n",
       "3     1892\n",
       "6     1749\n",
       "2     1550\n",
       "4      174\n",
       "1      138\n",
       "7      102\n",
       "Name: X1RACE, dtype: int64"
      ]
     },
     "execution_count": 17,
     "metadata": {},
     "output_type": "execute_result"
    }
   ],
   "source": [
    "ninth_grade['X1RACE'].value_counts()"
   ]
  },
  {
   "cell_type": "markdown",
   "metadata": {},
   "source": [
    "### Checking some percentages\n",
    "Let's check that \"Among first-time 9th graders in fall 2009, only about 11.4% of students were interested in pursuing a STEM career upon entering high school (see Figure 1)\""
   ]
  },
  {
   "cell_type": "code",
   "execution_count": null,
   "metadata": {},
   "outputs": [],
   "source": []
  },
  {
   "cell_type": "markdown",
   "metadata": {},
   "source": [
    "### Fully replicating Table B1"
   ]
  },
  {
   "cell_type": "code",
   "execution_count": 314,
   "metadata": {},
   "outputs": [],
   "source": [
    "X_cols = ['X1SEX']"
   ]
  },
  {
   "cell_type": "code",
   "execution_count": 324,
   "metadata": {},
   "outputs": [
    {
     "data": {
      "text/html": [
       "<div>\n",
       "<style scoped>\n",
       "    .dataframe tbody tr th:only-of-type {\n",
       "        vertical-align: middle;\n",
       "    }\n",
       "\n",
       "    .dataframe tbody tr th {\n",
       "        vertical-align: top;\n",
       "    }\n",
       "\n",
       "    .dataframe thead th {\n",
       "        text-align: right;\n",
       "    }\n",
       "</style>\n",
       "<table border=\"1\" class=\"dataframe\">\n",
       "  <thead>\n",
       "    <tr style=\"text-align: right;\">\n",
       "      <th></th>\n",
       "      <th>X1SEX_1</th>\n",
       "      <th>X1SEX_2</th>\n",
       "    </tr>\n",
       "  </thead>\n",
       "  <tbody>\n",
       "    <tr>\n",
       "      <th>0</th>\n",
       "      <td>1</td>\n",
       "      <td>0</td>\n",
       "    </tr>\n",
       "    <tr>\n",
       "      <th>1</th>\n",
       "      <td>0</td>\n",
       "      <td>1</td>\n",
       "    </tr>\n",
       "    <tr>\n",
       "      <th>2</th>\n",
       "      <td>0</td>\n",
       "      <td>1</td>\n",
       "    </tr>\n",
       "    <tr>\n",
       "      <th>3</th>\n",
       "      <td>0</td>\n",
       "      <td>1</td>\n",
       "    </tr>\n",
       "    <tr>\n",
       "      <th>4</th>\n",
       "      <td>1</td>\n",
       "      <td>0</td>\n",
       "    </tr>\n",
       "    <tr>\n",
       "      <th>...</th>\n",
       "      <td>...</td>\n",
       "      <td>...</td>\n",
       "    </tr>\n",
       "    <tr>\n",
       "      <th>23497</th>\n",
       "      <td>1</td>\n",
       "      <td>0</td>\n",
       "    </tr>\n",
       "    <tr>\n",
       "      <th>23498</th>\n",
       "      <td>0</td>\n",
       "      <td>1</td>\n",
       "    </tr>\n",
       "    <tr>\n",
       "      <th>23499</th>\n",
       "      <td>0</td>\n",
       "      <td>1</td>\n",
       "    </tr>\n",
       "    <tr>\n",
       "      <th>23500</th>\n",
       "      <td>0</td>\n",
       "      <td>1</td>\n",
       "    </tr>\n",
       "    <tr>\n",
       "      <th>23501</th>\n",
       "      <td>1</td>\n",
       "      <td>0</td>\n",
       "    </tr>\n",
       "  </tbody>\n",
       "</table>\n",
       "<p>19633 rows × 2 columns</p>\n",
       "</div>"
      ],
      "text/plain": [
       "       X1SEX_1  X1SEX_2\n",
       "0            1        0\n",
       "1            0        1\n",
       "2            0        1\n",
       "3            0        1\n",
       "4            1        0\n",
       "...        ...      ...\n",
       "23497        1        0\n",
       "23498        0        1\n",
       "23499        0        1\n",
       "23500        0        1\n",
       "23501        1        0\n",
       "\n",
       "[19633 rows x 2 columns]"
      ]
     },
     "execution_count": 324,
     "metadata": {},
     "output_type": "execute_result"
    }
   ],
   "source": [
    "pd.get_dummies(ninth_grade['X1SEX'],prefix='X1SEX')"
   ]
  },
  {
   "cell_type": "code",
   "execution_count": 325,
   "metadata": {},
   "outputs": [
    {
     "name": "stdout",
     "output_type": "stream",
     "text": [
      "                               WLS Regression Results                              \n",
      "===================================================================================\n",
      "Dep. Variable:     stem_career_aspirations   R-squared:                       0.023\n",
      "Model:                                 WLS   Adj. R-squared:                  0.023\n",
      "Method:                      Least Squares   F-statistic:                     454.1\n",
      "Date:                     Thu, 14 Jul 2022   Prob (F-statistic):           1.24e-99\n",
      "Time:                             13:57:46   Log-Likelihood:                -11309.\n",
      "No. Observations:                    19633   AIC:                         2.262e+04\n",
      "Df Residuals:                        19631   BIC:                         2.264e+04\n",
      "Df Model:                                1                                         \n",
      "Covariance Type:                 nonrobust                                         \n",
      "==============================================================================\n",
      "                 coef    std err          t      P>|t|      [0.025      0.975]\n",
      "------------------------------------------------------------------------------\n",
      "X1SEX_1        0.1881      0.003     54.624      0.000       0.181       0.195\n",
      "X1SEX_2        0.0851      0.003     25.065      0.000       0.078       0.092\n",
      "==============================================================================\n",
      "Omnibus:                    12148.216   Durbin-Watson:                   1.987\n",
      "Prob(Omnibus):                  0.000   Jarque-Bera (JB):           133166.296\n",
      "Skew:                           2.870   Prob(JB):                         0.00\n",
      "Kurtosis:                      14.394   Cond. No.                         1.01\n",
      "==============================================================================\n",
      "\n",
      "Notes:\n",
      "[1] Standard Errors assume that the covariance matrix of the errors is correctly specified.\n",
      "X1SEX_1    0.188140\n",
      "X1SEX_2    0.085087\n",
      "dtype: float64\n",
      "                               WLS Regression Results                              \n",
      "===================================================================================\n",
      "Dep. Variable:     stem_career_aspirations   R-squared:                       0.026\n",
      "Model:                                 WLS   Adj. R-squared:                  0.026\n",
      "Method:                      Least Squares   F-statistic:                     463.6\n",
      "Date:                     Thu, 14 Jul 2022   Prob (F-statistic):          1.64e-101\n",
      "Time:                             13:57:46   Log-Likelihood:                -10505.\n",
      "No. Observations:                    17421   AIC:                         2.101e+04\n",
      "Df Residuals:                        17419   BIC:                         2.103e+04\n",
      "Df Model:                                1                                         \n",
      "Covariance Type:                 nonrobust                                         \n",
      "==============================================================================\n",
      "                 coef    std err          t      P>|t|      [0.025      0.975]\n",
      "------------------------------------------------------------------------------\n",
      "X1SEX_1        0.2032      0.004     53.997      0.000       0.196       0.211\n",
      "X1SEX_2        0.0897      0.004     24.292      0.000       0.082       0.097\n",
      "==============================================================================\n",
      "Omnibus:                    10212.968   Durbin-Watson:                   1.988\n",
      "Prob(Omnibus):                  0.000   Jarque-Bera (JB):            99238.869\n",
      "Skew:                           2.714   Prob(JB):                         0.00\n",
      "Kurtosis:                      13.356   Cond. No.                         1.02\n",
      "==============================================================================\n",
      "\n",
      "Notes:\n",
      "[1] Standard Errors assume that the covariance matrix of the errors is correctly specified.\n",
      "X1SEX_1    0.203235\n",
      "X1SEX_2    0.089701\n",
      "dtype: float64\n",
      "                               WLS Regression Results                              \n",
      "===================================================================================\n",
      "Dep. Variable:     stem_career_aspirations   R-squared:                        -inf\n",
      "Model:                                 WLS   Adj. R-squared:                   -inf\n",
      "Method:                      Least Squares   F-statistic:                    -1665.\n",
      "Date:                     Thu, 14 Jul 2022   Prob (F-statistic):               1.00\n",
      "Time:                             13:57:47   Log-Likelihood:                 56478.\n",
      "No. Observations:                     1667   AIC:                        -1.130e+05\n",
      "Df Residuals:                         1665   BIC:                        -1.129e+05\n",
      "Df Model:                                1                                         \n",
      "Covariance Type:                 nonrobust                                         \n",
      "==============================================================================\n",
      "                 coef    std err          t      P>|t|      [0.025      0.975]\n",
      "------------------------------------------------------------------------------\n",
      "X1SEX_1        1.0000   1.12e-17   8.93e+16      0.000       1.000       1.000\n",
      "X1SEX_2        1.0000   1.55e-17   6.44e+16      0.000       1.000       1.000\n",
      "==============================================================================\n",
      "Omnibus:                        4.968   Durbin-Watson:                   1.307\n",
      "Prob(Omnibus):                  0.083   Jarque-Bera (JB):                4.469\n",
      "Skew:                          -0.070   Prob(JB):                        0.107\n",
      "Kurtosis:                       2.788   Cond. No.                         1.39\n",
      "==============================================================================\n",
      "\n",
      "Notes:\n",
      "[1] Standard Errors assume that the covariance matrix of the errors is correctly specified.\n",
      "X1SEX_1    1.0\n",
      "X1SEX_2    1.0\n",
      "dtype: float64\n",
      "                               WLS Regression Results                              \n",
      "===================================================================================\n",
      "Dep. Variable:     stem_career_aspirations   R-squared:                       0.015\n",
      "Model:                                 WLS   Adj. R-squared:                  0.014\n",
      "Method:                      Least Squares   F-statistic:                     274.1\n",
      "Date:                     Thu, 14 Jul 2022   Prob (F-statistic):           3.91e-61\n",
      "Time:                             13:57:47   Log-Likelihood:                -3438.0\n",
      "No. Observations:                    18575   AIC:                             6880.\n",
      "Df Residuals:                        18573   BIC:                             6896.\n",
      "Df Model:                                1                                         \n",
      "Covariance Type:                 nonrobust                                         \n",
      "==============================================================================\n",
      "                 coef    std err          t      P>|t|      [0.025      0.975]\n",
      "------------------------------------------------------------------------------\n",
      "X1SEX_1        0.0852      0.002     35.247      0.000       0.080       0.090\n",
      "X1SEX_2        0.0295      0.002     12.620      0.000       0.025       0.034\n",
      "==============================================================================\n",
      "Omnibus:                    19262.081   Durbin-Watson:                   1.966\n",
      "Prob(Omnibus):                  0.000   Jarque-Bera (JB):          1250706.783\n",
      "Skew:                           5.244   Prob(JB):                         0.00\n",
      "Kurtosis:                      41.807   Cond. No.                         1.03\n",
      "==============================================================================\n",
      "\n",
      "Notes:\n",
      "[1] Standard Errors assume that the covariance matrix of the errors is correctly specified.\n",
      "X1SEX_1    0.085215\n",
      "X1SEX_2    0.029519\n",
      "dtype: float64\n"
     ]
    },
    {
     "name": "stderr",
     "output_type": "stream",
     "text": [
      "/Users/lucasrosenblatt/opt/miniconda3/envs/heuristic_fairness/lib/python3.8/site-packages/statsmodels/regression/linear_model.py:1736: RuntimeWarning: divide by zero encountered in double_scalars\n",
      "  return 1 - self.ssr/self.centered_tss\n"
     ]
    }
   ],
   "source": [
    "import statsmodels.api as sm\n",
    "\n",
    "for set in sets:\n",
    "    for x in X_cols:\n",
    "        x_vars = pd.get_dummies(set[x],prefix=x)\n",
    "        model = sm.WLS(set[dependent_var], x_vars, weights=set['W1STUDENT'])\n",
    "        result = model.fit()\n",
    "        print(result.summary())\n",
    "        print(result.params)"
   ]
  },
  {
   "cell_type": "markdown",
   "metadata": {},
   "source": [
    "You will need it for your career"
   ]
  },
  {
   "cell_type": "markdown",
   "metadata": {},
   "source": []
  }
 ],
 "metadata": {
  "kernelspec": {
   "display_name": "Python 3.8.12 ('heuristic_fairness')",
   "language": "python",
   "name": "python3"
  },
  "language_info": {
   "codemirror_mode": {
    "name": "ipython",
    "version": 3
   },
   "file_extension": ".py",
   "mimetype": "text/x-python",
   "name": "python",
   "nbconvert_exporter": "python",
   "pygments_lexer": "ipython3",
   "version": "3.8.12"
  },
  "orig_nbformat": 4,
  "vscode": {
   "interpreter": {
    "hash": "6597d1ed23b894caf154b6750f098a8514a19e03807460ffd2d8425103778dc0"
   }
  }
 },
 "nbformat": 4,
 "nbformat_minor": 2
}
