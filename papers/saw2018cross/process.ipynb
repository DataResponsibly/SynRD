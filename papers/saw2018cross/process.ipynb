{
 "cells": [
  {
   "cell_type": "code",
   "execution_count": 1,
   "metadata": {},
   "outputs": [],
   "source": [
    "import pandas as pd\n",
    "import numpy as np"
   ]
  },
  {
   "cell_type": "code",
   "execution_count": 70,
   "metadata": {},
   "outputs": [],
   "source": [
    "school_survey = pd.read_csv('data/36423-0001-Data.tsv',sep='\\t')\n",
    "student_survey = pd.read_csv('data/36423-0002-Data.tsv',sep='\\t')"
   ]
  },
  {
   "cell_type": "markdown",
   "metadata": {},
   "source": [
    "X2UNIV2A: X2 Base year status and how sample member entered F1 sample\n",
    "\n",
    "Indicates the base year status (respondent, non-respondent, questionnaire ineligible) for base year sample members.\n",
    "\n",
    "Base year respondent = 1"
   ]
  },
  {
   "cell_type": "code",
   "execution_count": 148,
   "metadata": {},
   "outputs": [
    {
     "data": {
      "text/plain": [
       "1    21444\n",
       "2     2059\n",
       "Name: X2UNIV2A, dtype: int64"
      ]
     },
     "execution_count": 148,
     "metadata": {},
     "output_type": "execute_result"
    }
   ],
   "source": [
    "check1 = student_survey['X2UNIV2A'].value_counts()\n",
    "check1"
   ]
  },
  {
   "cell_type": "code",
   "execution_count": 152,
   "metadata": {},
   "outputs": [],
   "source": [
    "filter1 = student_survey[student_survey['X2UNIV2A'] == 1]"
   ]
  },
  {
   "cell_type": "markdown",
   "metadata": {},
   "source": [
    "Yay! From paper, we have first repeated result:\n",
    "\n",
    "\"HSLS:09 began with a nationally rep- resentative sample of ninth graders in fall 2009 (21,444 students from 944 schools) and followed them through postsecondary edu- cation.\""
   ]
  },
  {
   "cell_type": "markdown",
   "metadata": {},
   "source": [
    "Now we need to check for *first time* 9th graders, as per Appendix A\n",
    "\n",
    "This is the relevant variable: S1GRD0809, \"S1 B01 Grade 9th grader was in last year (2008-09)\"\n",
    "\n",
    "1 7th Grade 64 0.3 %\n",
    "\n",
    "2 8th Grade 20178 85.9 %\n",
    "\n",
    "3 9th Grade 1124 4.8 %\n",
    "\n",
    "4 In an ungraded program 61 0.3 %"
   ]
  },
  {
   "cell_type": "code",
   "execution_count": 153,
   "metadata": {},
   "outputs": [
    {
     "data": {
      "text/plain": [
       "20242"
      ]
     },
     "execution_count": 153,
     "metadata": {},
     "output_type": "execute_result"
    }
   ],
   "source": [
    "filter1 = filter1[(filter1['S1GRD0809'] != 3) & (filter1['S1GRD0809'] != 4) & (filter1['S1GRD0809'] > 0)]\n",
    "len(filter1)"
   ]
  },
  {
   "cell_type": "markdown",
   "metadata": {},
   "source": [
    "## YES\n",
    "This took a lot of trial and error to nail down, but finally the figure is correct!!\n",
    "\n",
    "**From paper:**\n",
    "\n",
    "\"Our analytic sample is restricted to first-time 9th-graders, whose information on their career aspirations is available in at least one of the two survey rounds (n = 20,242).\""
   ]
  },
  {
   "cell_type": "markdown",
   "metadata": {},
   "source": [
    "## Now going into STEM findings\n",
    "Relevant variable here is: X1STU30OCC_STEM1: X1 Student occupation at age 30: STEM code 1 (sub-domain) (I believe this is from 9th grade?)\n",
    "\n",
    "0\tNot a STEM occupation\t13,969\t59.43\n",
    "\n",
    "1\tLife and Physical Science, Engineering, Mathematics, and Information Technology Occupations\t1,726\t7.34\n",
    "\n",
    "4\tHealth Occupations\t4,351\t18.51\n",
    "\n",
    "5\tSplit across 2 sub-domains\t413\t1.76\n",
    "\n",
    "6\tUnspecified sub-domain\t301\t1.28\n",
    "\n",
    "9\tUncodeable\t258\t1.10\n",
    "\n",
    "-9\tMissing\t426\t1.81\n",
    "\n",
    "-8\tUnit non-response\t2,059\t8.76\n",
    "\n",
    "As there is also:\n",
    "\n",
    "X2STU30OCC_STEM1: X2 Student occupation at age 30: STEM code 1 (sub-domain)\n",
    "\n",
    "0\tNot a STEM occupation\t12,991\t55.27\n",
    "\n",
    "1\tLife and Physical Science, Engineering, Mathematics, and Information Technology Occupations\t1,878\t7.99\n",
    "\n",
    "4\tHealth Occupations\t4,619\t19.65\n",
    "\n",
    "5\tSplit across 2 sub-domains\t601\t2.56\n",
    "\n",
    "6\tUnspecified sub-domain\t55\t0.23\n",
    "\n",
    "9\tUncodeable\t96\t0.41\n",
    "\n",
    "-9\tMissing\t354\t1.51\n",
    "\n",
    "-8\tUnit non-response\t2,909\t12.38"
   ]
  },
  {
   "cell_type": "markdown",
   "metadata": {},
   "source": [
    "## Let's check Table B1\n",
    "This is the product of the linear model they ran. Simple n counts to start! "
   ]
  },
  {
   "cell_type": "code",
   "execution_count": 199,
   "metadata": {},
   "outputs": [
    {
     "data": {
      "text/plain": [
       "19633"
      ]
     },
     "execution_count": 199,
     "metadata": {},
     "output_type": "execute_result"
    }
   ],
   "source": [
    "stem = filter1['X1STU30OCC_STEM1'].value_counts().reset_index()\n",
    "s = sum(stem[stem['index'].isin([0,1,2,3,4,5,6])]['X1STU30OCC_STEM1'])\n",
    "s"
   ]
  },
  {
   "cell_type": "markdown",
   "metadata": {},
   "source": [
    "Correct! Table B1 reports \"n=19633\" for 9th grade first round"
   ]
  },
  {
   "cell_type": "code",
   "execution_count": 200,
   "metadata": {},
   "outputs": [
    {
     "data": {
      "text/plain": [
       "17421"
      ]
     },
     "execution_count": 200,
     "metadata": {},
     "output_type": "execute_result"
    }
   ],
   "source": [
    "stem = filter1['X2STU30OCC_STEM1'].value_counts().reset_index()\n",
    "s = sum(stem[stem['index'].isin([0,1,2,3,4,5,6])]['X2STU30OCC_STEM1'])\n",
    "s"
   ]
  },
  {
   "cell_type": "markdown",
   "metadata": {},
   "source": [
    "### Checking some percentages\n",
    "Let's check that \"Among first-time 9th graders in fall 2009, only about 11.4% of students were interested in pursuing a STEM career upon entering high school (see Figure 1)\""
   ]
  },
  {
   "cell_type": "markdown",
   "metadata": {},
   "source": [
    "Shoot. We need to consider the weights!! W1STUDENT and W2W1STU"
   ]
  },
  {
   "cell_type": "code",
   "execution_count": 195,
   "metadata": {},
   "outputs": [
    {
     "data": {
      "text/plain": [
       "0        363.091114\n",
       "1        193.466338\n",
       "2        141.015287\n",
       "3          0.000000\n",
       "4        135.640155\n",
       "            ...    \n",
       "23498    146.107952\n",
       "23499     13.462032\n",
       "23500     84.709511\n",
       "23501    197.490445\n",
       "23502    143.927612\n",
       "Name: W2W1STU, Length: 20242, dtype: float64"
      ]
     },
     "execution_count": 195,
     "metadata": {},
     "output_type": "execute_result"
    }
   ],
   "source": [
    "filter1['W2W1STU']"
   ]
  },
  {
   "cell_type": "code",
   "execution_count": 192,
   "metadata": {},
   "outputs": [
    {
     "data": {
      "text/plain": [
       "0.1038666800926392"
      ]
     },
     "execution_count": 192,
     "metadata": {},
     "output_type": "execute_result"
    }
   ],
   "source": [
    "stem = filter1['X1STU30OCC_STEM1'].value_counts().reset_index()\n",
    "s = sum(stem[stem['index'].isin([1,5])]['X1STU30OCC_STEM1'])\n",
    "total = sum(stem[stem['index'].isin([0,1,2,3,4,5,6,9])]['X1STU30OCC_STEM1'])\n",
    "s/total"
   ]
  },
  {
   "cell_type": "markdown",
   "metadata": {},
   "source": [
    "You will need it for your career"
   ]
  },
  {
   "cell_type": "markdown",
   "metadata": {},
   "source": []
  }
 ],
 "metadata": {
  "kernelspec": {
   "display_name": "Python 3.8.12 ('heuristic_fairness')",
   "language": "python",
   "name": "python3"
  },
  "language_info": {
   "codemirror_mode": {
    "name": "ipython",
    "version": 3
   },
   "file_extension": ".py",
   "mimetype": "text/x-python",
   "name": "python",
   "nbconvert_exporter": "python",
   "pygments_lexer": "ipython3",
   "version": "3.8.12"
  },
  "orig_nbformat": 4,
  "vscode": {
   "interpreter": {
    "hash": "6597d1ed23b894caf154b6750f098a8514a19e03807460ffd2d8425103778dc0"
   }
  }
 },
 "nbformat": 4,
 "nbformat_minor": 2
}
