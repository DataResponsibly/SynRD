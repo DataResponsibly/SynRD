{
 "cells": [
  {
   "cell_type": "markdown",
   "id": "04dc1784-f501-47e2-b795-e2934d6745e9",
   "metadata": {
    "tags": []
   },
   "source": [
    "# Imports"
   ]
  },
  {
   "cell_type": "code",
   "execution_count": 1,
   "id": "58d70fe2-4e03-48bf-a756-4307896905bd",
   "metadata": {},
   "outputs": [],
   "source": [
    "import glob\n",
    "import os\n",
    "from itertools import product\n",
    "\n",
    "# import modin.pandas as pd\n",
    "import pandas as pd\n",
    "import plotly.express as px\n",
    "\n",
    "# from modin.config import ProgressBar\n",
    "from tqdm.auto import tqdm\n",
    "from tqdm.contrib.concurrent import process_map\n",
    "\n",
    "# ProgressBar.enable()"
   ]
  },
  {
   "cell_type": "markdown",
   "id": "64f9ce71-0be9-4311-a776-5babd16ae08e",
   "metadata": {
    "tags": []
   },
   "source": [
    "# Determine the correct combination of datasets"
   ]
  },
  {
   "cell_type": "markdown",
   "id": "1fb5115b-2369-4f44-861a-eeb9bfc4d46e",
   "metadata": {},
   "source": [
    "Put the data in folder `data`. Extract every file in the folder with the same name. If needed, adapt the path."
   ]
  },
  {
   "cell_type": "code",
   "execution_count": 2,
   "id": "c282ef21-60d5-4465-bd87-b33c482db8e0",
   "metadata": {},
   "outputs": [],
   "source": [
    "tsv_paths = sorted(\n",
    "    glob.glob(\"../marijuana19fairman/data/NSDUH_Versions/*/*/*.tsv\")\n",
    "    + glob.glob(\"../marijuana19fairman/data/NSDUH_Versions/*/*/*/*.tsv\")\n",
    ")\n",
    "tsv_paths_full = [path for path in tsv_paths if \"Tab\" in path and \"padded\" not in path]\n",
    "tsv_paths = [\n",
    "    path\n",
    "    for path in tsv_paths\n",
    "    if \"Tab\" not in path\n",
    "    and \"padded\" not in path\n",
    "    and any(f\"{year}.tsv\" in path for year in range(2007, 2015))\n",
    "]\n",
    "\n",
    "# tsv_paths"
   ]
  },
  {
   "cell_type": "markdown",
   "id": "2cd50b53-3423-4010-bf9a-a88f608665da",
   "metadata": {},
   "source": [
    "The analytic sample included 303,311 participants who responded to all necessary survey \n",
    "items (or 98.5% of the 307,935, starting sample). The absolute percentage differences of \n",
    "missing data between men (2%), women (1%), rural (1.4%) and urban (1.5%) participants."
   ]
  },
  {
   "cell_type": "code",
   "execution_count": 3,
   "id": "27b19f71-ffa7-4c3d-92a4-d4a67e91d611",
   "metadata": {},
   "outputs": [],
   "source": [
    "work_cols = [\"WRKIDST2\", \"WRKIDSY2\"]\n",
    "filter_cols = [\"AGE2\", \"JBSTATR2\"]\n",
    "survey_cols = [\"ANALREC\"]\n",
    "cols = work_cols + survey_cols + filter_cols"
   ]
  },
  {
   "cell_type": "code",
   "execution_count": 15,
   "id": "2f3f4f38-d84f-49ad-8c97-fcaa29d6eb56",
   "metadata": {},
   "outputs": [],
   "source": [
    "version_mapping = {\n",
    "    \"2002-2014\": \"1\",\n",
    "    \"2002-2015\": \"2\",\n",
    "    \"2002-2017\": \"3\",\n",
    "    \"2002-2018\": \"4\",\n",
    "    \"2002-2019\": \"5\",\n",
    "}"
   ]
  },
  {
   "cell_type": "markdown",
   "id": "9ccd7fe1-a767-408d-822d-de173fb316e7",
   "metadata": {},
   "source": [
    "Method: We used yearly cross-sectional data (n = 303,311) from the U.S. National Survey on \n",
    "Drug Use and Health (NSDUH) from 2007 through 2014 to compare cigarette smoking trends in \n",
    "men and women across rural and urban areas. Current smoking status was modelled using logistic "
   ]
  },
  {
   "cell_type": "markdown",
   "id": "eda92b2b-7b1c-42a3-8da4-b6b77183fff4",
   "metadata": {},
   "source": [
    "Data came from the National Survey on Drug Use and Health (NSDUH)—a U.S. nationally \n",
    "representative cross-sectional survey that has been conducted annually since 1990. To ensure \n",
    "comparability with Doogan et al. (2017), we restricted our analyses to years 2007 through \n",
    "2014, and to adults ( ≥ 18 years). We used participant weights included with the survey data \n",
    "to obtain results representative of the US population by correcting for selection probabilities, "
   ]
  },
  {
   "cell_type": "markdown",
   "id": "bad8a40e-bc5f-4e88-a5f4-85d9c52f92af",
   "metadata": {},
   "source": [
    "```\n",
    "AGE2     2   RECODE - FINAL EDITED AGE \n",
    "              1 = Respondent is 12 years old........................    2874   5.17 \n",
    "              2 = Respondent is 13 years old........................    3186   5.73 \n",
    "              3 = Respondent is 14 years old........................    3139   5.65 \n",
    "              4 = Respondent is 15 years old........................    3116   5.60 \n",
    "              5 = Respondent is 16 years old........................    3010   5.41 \n",
    "              6 = Respondent is 17 years old........................    2969   5.34 \n",
    "              7 = Respondent is 18 years old........................    2686   4.83 \n",
    "              8 = Respondent is 19 years old........................    2370   4.26 \n",
    "              9 = Respondent is 20 years old........................    2255   4.06 \n",
    "             10 = Respondent is 21 years old........................    2277   4.10 \n",
    "             11 = Respondent is 22 or 23 years old..................    4545   8.17 \n",
    "             12 = Respondent is 24 or 25 years old..................    4342   7.81 \n",
    "             13 = Respondent is between 26 and 29 years old.........    2609   4.69 \n",
    "             14 = Respondent is between 30 and 34 years old.........    3101   5.58 \n",
    "             15 = Respondent is between 35 and 49 years old.........    8052  14.48 \n",
    "             16 = Respondent is between 50 and 64 years old.........    3072   5.52 \n",
    "             17 = Respondent is 65 years old or older...............    1999   3.60 \n",
    "\n",
    "```"
   ]
  },
  {
   "cell_type": "code",
   "execution_count": 6,
   "id": "67b6321f-0206-4f3e-8674-cbf0e878c410",
   "metadata": {
    "tags": []
   },
   "outputs": [
    {
     "data": {
      "application/vnd.jupyter.widget-view+json": {
       "model_id": "27f120e13bfd4e11a701de69eedae817",
       "version_major": 2,
       "version_minor": 0
      },
      "text/plain": [
       "  0%|          | 0/40 [00:00<?, ?it/s]"
      ]
     },
     "metadata": {},
     "output_type": "display_data"
    },
    {
     "name": "stderr",
     "output_type": "stream",
     "text": [
      "/tmp/ipykernel_5387/4186377237.py:8: ParserWarning: Length of header or names does not match length of data. This leads to a loss of data with index_col=False.\n",
      "  df = pd.read_csv(tsv_path, sep=\"\\t\", dtype=dtype, index_col=False)\n",
      "/tmp/ipykernel_5387/4186377237.py:8: ParserWarning: Length of header or names does not match length of data. This leads to a loss of data with index_col=False.\n",
      "  df = pd.read_csv(tsv_path, sep=\"\\t\", dtype=dtype, index_col=False)\n",
      "/tmp/ipykernel_5387/4186377237.py:8: ParserWarning: Length of header or names does not match length of data. This leads to a loss of data with index_col=False.\n",
      "  df = pd.read_csv(tsv_path, sep=\"\\t\", dtype=dtype, index_col=False)\n",
      "/tmp/ipykernel_5387/4186377237.py:8: ParserWarning: Length of header or names does not match length of data. This leads to a loss of data with index_col=False.\n",
      "  df = pd.read_csv(tsv_path, sep=\"\\t\", dtype=dtype, index_col=False)\n",
      "/tmp/ipykernel_5387/4186377237.py:8: ParserWarning: Length of header or names does not match length of data. This leads to a loss of data with index_col=False.\n",
      "  df = pd.read_csv(tsv_path, sep=\"\\t\", dtype=dtype, index_col=False)\n",
      "/tmp/ipykernel_5387/4186377237.py:8: ParserWarning: Length of header or names does not match length of data. This leads to a loss of data with index_col=False.\n",
      "  df = pd.read_csv(tsv_path, sep=\"\\t\", dtype=dtype, index_col=False)\n",
      "/tmp/ipykernel_5387/4186377237.py:8: ParserWarning: Length of header or names does not match length of data. This leads to a loss of data with index_col=False.\n",
      "  df = pd.read_csv(tsv_path, sep=\"\\t\", dtype=dtype, index_col=False)\n",
      "/tmp/ipykernel_5387/4186377237.py:8: ParserWarning: Length of header or names does not match length of data. This leads to a loss of data with index_col=False.\n",
      "  df = pd.read_csv(tsv_path, sep=\"\\t\", dtype=dtype, index_col=False)\n",
      "/tmp/ipykernel_5387/4186377237.py:8: ParserWarning: Length of header or names does not match length of data. This leads to a loss of data with index_col=False.\n",
      "  df = pd.read_csv(tsv_path, sep=\"\\t\", dtype=dtype, index_col=False)\n",
      "/tmp/ipykernel_5387/4186377237.py:8: ParserWarning: Length of header or names does not match length of data. This leads to a loss of data with index_col=False.\n",
      "  df = pd.read_csv(tsv_path, sep=\"\\t\", dtype=dtype, index_col=False)\n",
      "/tmp/ipykernel_5387/4186377237.py:8: ParserWarning: Length of header or names does not match length of data. This leads to a loss of data with index_col=False.\n",
      "  df = pd.read_csv(tsv_path, sep=\"\\t\", dtype=dtype, index_col=False)\n",
      "/tmp/ipykernel_5387/4186377237.py:8: ParserWarning: Length of header or names does not match length of data. This leads to a loss of data with index_col=False.\n",
      "  df = pd.read_csv(tsv_path, sep=\"\\t\", dtype=dtype, index_col=False)\n",
      "/tmp/ipykernel_5387/4186377237.py:8: ParserWarning: Length of header or names does not match length of data. This leads to a loss of data with index_col=False.\n",
      "  df = pd.read_csv(tsv_path, sep=\"\\t\", dtype=dtype, index_col=False)\n",
      "/tmp/ipykernel_5387/4186377237.py:8: ParserWarning: Length of header or names does not match length of data. This leads to a loss of data with index_col=False.\n",
      "  df = pd.read_csv(tsv_path, sep=\"\\t\", dtype=dtype, index_col=False)\n",
      "/tmp/ipykernel_5387/4186377237.py:8: ParserWarning: Length of header or names does not match length of data. This leads to a loss of data with index_col=False.\n",
      "  df = pd.read_csv(tsv_path, sep=\"\\t\", dtype=dtype, index_col=False)\n",
      "/tmp/ipykernel_5387/4186377237.py:8: ParserWarning: Length of header or names does not match length of data. This leads to a loss of data with index_col=False.\n",
      "  df = pd.read_csv(tsv_path, sep=\"\\t\", dtype=dtype, index_col=False)\n",
      "/tmp/ipykernel_5387/4186377237.py:8: ParserWarning: Length of header or names does not match length of data. This leads to a loss of data with index_col=False.\n",
      "  df = pd.read_csv(tsv_path, sep=\"\\t\", dtype=dtype, index_col=False)\n",
      "/tmp/ipykernel_5387/4186377237.py:8: ParserWarning: Length of header or names does not match length of data. This leads to a loss of data with index_col=False.\n",
      "  df = pd.read_csv(tsv_path, sep=\"\\t\", dtype=dtype, index_col=False)\n",
      "/tmp/ipykernel_5387/4186377237.py:8: ParserWarning: Length of header or names does not match length of data. This leads to a loss of data with index_col=False.\n",
      "  df = pd.read_csv(tsv_path, sep=\"\\t\", dtype=dtype, index_col=False)\n",
      "/tmp/ipykernel_5387/4186377237.py:8: ParserWarning: Length of header or names does not match length of data. This leads to a loss of data with index_col=False.\n",
      "  df = pd.read_csv(tsv_path, sep=\"\\t\", dtype=dtype, index_col=False)\n",
      "/tmp/ipykernel_5387/4186377237.py:8: ParserWarning: Length of header or names does not match length of data. This leads to a loss of data with index_col=False.\n",
      "  df = pd.read_csv(tsv_path, sep=\"\\t\", dtype=dtype, index_col=False)\n",
      "/tmp/ipykernel_5387/4186377237.py:8: ParserWarning: Length of header or names does not match length of data. This leads to a loss of data with index_col=False.\n",
      "  df = pd.read_csv(tsv_path, sep=\"\\t\", dtype=dtype, index_col=False)\n",
      "/tmp/ipykernel_5387/4186377237.py:8: ParserWarning: Length of header or names does not match length of data. This leads to a loss of data with index_col=False.\n",
      "  df = pd.read_csv(tsv_path, sep=\"\\t\", dtype=dtype, index_col=False)\n",
      "/tmp/ipykernel_5387/4186377237.py:8: ParserWarning: Length of header or names does not match length of data. This leads to a loss of data with index_col=False.\n",
      "  df = pd.read_csv(tsv_path, sep=\"\\t\", dtype=dtype, index_col=False)\n"
     ]
    }
   ],
   "source": [
    "numbers = {year: {} for year in range(2007, 2015)}\n",
    "\n",
    "for tsv_path in tqdm(tsv_paths):\n",
    "    parent_dir = os.path.dirname(tsv_path)\n",
    "    with open(os.path.join(parent_dir, \"schema.txt\"), \"r\") as f:\n",
    "        dtype = eval(f.read())\n",
    "        dtype = {k: v if v != int else float for k, v in dtype.items()}\n",
    "    df = pd.read_csv(tsv_path, sep=\"\\t\", dtype=dtype, index_col=False)\n",
    "\n",
    "    year = int(tsv_path.split(\"/\")[-1].removesuffix(\".tsv\"))\n",
    "    version = None\n",
    "    for pat, v in version_mapping.items():\n",
    "        if pat in tsv_path:\n",
    "            version = v\n",
    "            break\n",
    "    assert version is not None\n",
    "\n",
    "    if pd.api.types.is_object_dtype(df[\"AGE2\"].dtype):\n",
    "        df[\"AGE2\"] = pd.to_numeric(df[\"AGE2\"].str.split().str[0], errors=\"coerce\")\n",
    "        df = df[df[\"AGE2\"].notna()]\n",
    "    numbers[year][version] = df[df[\"AGE2\"] >= 7].shape[0]"
   ]
  },
  {
   "cell_type": "code",
   "execution_count": 33,
   "id": "8a02a3f8-023a-4ba1-bc59-6ae87c470936",
   "metadata": {},
   "outputs": [
    {
     "name": "stdout",
     "output_type": "stream",
     "text": [
      "[3625, 1375, 1386, 1549, 1358, 1363]\n",
      "[3518, 1375, 1386, 1549, 1358, 1363]\n",
      "[3661, 4705, 4705, 4705, 4705, 4705]\n",
      "[3662, 4735, 4735, 4735, 4735, 4735]\n",
      "[3660, 4741, 4741, 4741, 4741, 4741]\n"
     ]
    }
   ],
   "source": [
    "import csv\n",
    "\n",
    "for tsv_path in tsv_paths_full:\n",
    "    with open(tsv_path, \"r\") as f:\n",
    "        reader = csv.reader(f, delimiter=\"\\t\")\n",
    "        data = []\n",
    "        for i, row in enumerate(reader):\n",
    "            data.append(row)\n",
    "            if i >= 5:\n",
    "                break\n",
    "    with open(tsv_path, \"r\") as f:\n",
    "        data2 = []\n",
    "        for i, row in enumerate(f):\n",
    "            data2.append(row[:-1].split(\"\\t\"))\n",
    "            if i >= 5:\n",
    "                break\n",
    "\n",
    "    for r1, r2 in zip(data, data2):\n",
    "        for v1, v2 in zip(r1, r2):\n",
    "            if v1 != v2:\n",
    "                print(f\"({v1}), ({v2})\")\n",
    "            assert v1 == v2\n",
    "    assert data == data2\n",
    "    print([len(row) for row in data])"
   ]
  },
  {
   "cell_type": "code",
   "execution_count": null,
   "id": "5048f61e-6762-468c-977c-3ccea13819e7",
   "metadata": {
    "tags": []
   },
   "outputs": [],
   "source": [
    "tsv_path = tsv_paths[-1]\n",
    "\n",
    "import pandas as pd\n",
    "\n",
    "parent_dir = os.path.dirname(tsv_path)\n",
    "with open(os.path.join(parent_dir, \"schema.txt\"), \"r\") as f:\n",
    "    dtype = eval(f.read())\n",
    "    dtype = {k: v if v != int else float for k, v in dtype.items()}\n",
    "df = pd.read_csv(\n",
    "    tsv_path, sep=\"\\t\", dtype=dtype, nrows=1, engine=\"python\", index_col=False\n",
    ")"
   ]
  },
  {
   "cell_type": "code",
   "execution_count": 40,
   "id": "ab40b967-c1bf-4e4e-9ede-fecabe1612ec",
   "metadata": {},
   "outputs": [
    {
     "ename": "KeyError",
     "evalue": "'PDEN10'",
     "output_type": "error",
     "traceback": [
      "\u001b[0;31m---------------------------------------------------------------------------\u001b[0m",
      "\u001b[0;31mKeyError\u001b[0m                                  Traceback (most recent call last)",
      "File \u001b[0;32m~/.virtualenvs/masters/lib/python3.10/site-packages/pandas/core/indexes/base.py:3621\u001b[0m, in \u001b[0;36mIndex.get_loc\u001b[0;34m(self, key, method, tolerance)\u001b[0m\n\u001b[1;32m   3620\u001b[0m \u001b[38;5;28;01mtry\u001b[39;00m:\n\u001b[0;32m-> 3621\u001b[0m     \u001b[38;5;28;01mreturn\u001b[39;00m \u001b[38;5;28;43mself\u001b[39;49m\u001b[38;5;241;43m.\u001b[39;49m\u001b[43m_engine\u001b[49m\u001b[38;5;241;43m.\u001b[39;49m\u001b[43mget_loc\u001b[49m\u001b[43m(\u001b[49m\u001b[43mcasted_key\u001b[49m\u001b[43m)\u001b[49m\n\u001b[1;32m   3622\u001b[0m \u001b[38;5;28;01mexcept\u001b[39;00m \u001b[38;5;167;01mKeyError\u001b[39;00m \u001b[38;5;28;01mas\u001b[39;00m err:\n",
      "File \u001b[0;32m~/.virtualenvs/masters/lib/python3.10/site-packages/pandas/_libs/index.pyx:136\u001b[0m, in \u001b[0;36mpandas._libs.index.IndexEngine.get_loc\u001b[0;34m()\u001b[0m\n",
      "File \u001b[0;32m~/.virtualenvs/masters/lib/python3.10/site-packages/pandas/_libs/index.pyx:163\u001b[0m, in \u001b[0;36mpandas._libs.index.IndexEngine.get_loc\u001b[0;34m()\u001b[0m\n",
      "File \u001b[0;32mpandas/_libs/hashtable_class_helper.pxi:5198\u001b[0m, in \u001b[0;36mpandas._libs.hashtable.PyObjectHashTable.get_item\u001b[0;34m()\u001b[0m\n",
      "File \u001b[0;32mpandas/_libs/hashtable_class_helper.pxi:5206\u001b[0m, in \u001b[0;36mpandas._libs.hashtable.PyObjectHashTable.get_item\u001b[0;34m()\u001b[0m\n",
      "\u001b[0;31mKeyError\u001b[0m: 'PDEN10'",
      "\nThe above exception was the direct cause of the following exception:\n",
      "\u001b[0;31mKeyError\u001b[0m                                  Traceback (most recent call last)",
      "Input \u001b[0;32mIn [40]\u001b[0m, in \u001b[0;36m<cell line: 1>\u001b[0;34m()\u001b[0m\n\u001b[0;32m----> 1\u001b[0m df[\u001b[38;5;124m'\u001b[39m\u001b[38;5;124mPDEN10\u001b[39m\u001b[38;5;124m'\u001b[39m]\u001b[38;5;241m.\u001b[39mvalue_counts()\n",
      "File \u001b[0;32m~/.virtualenvs/masters/lib/python3.10/site-packages/pandas/core/frame.py:3505\u001b[0m, in \u001b[0;36mDataFrame.__getitem__\u001b[0;34m(self, key)\u001b[0m\n\u001b[1;32m   3503\u001b[0m \u001b[38;5;28;01mif\u001b[39;00m \u001b[38;5;28mself\u001b[39m\u001b[38;5;241m.\u001b[39mcolumns\u001b[38;5;241m.\u001b[39mnlevels \u001b[38;5;241m>\u001b[39m \u001b[38;5;241m1\u001b[39m:\n\u001b[1;32m   3504\u001b[0m     \u001b[38;5;28;01mreturn\u001b[39;00m \u001b[38;5;28mself\u001b[39m\u001b[38;5;241m.\u001b[39m_getitem_multilevel(key)\n\u001b[0;32m-> 3505\u001b[0m indexer \u001b[38;5;241m=\u001b[39m \u001b[38;5;28;43mself\u001b[39;49m\u001b[38;5;241;43m.\u001b[39;49m\u001b[43mcolumns\u001b[49m\u001b[38;5;241;43m.\u001b[39;49m\u001b[43mget_loc\u001b[49m\u001b[43m(\u001b[49m\u001b[43mkey\u001b[49m\u001b[43m)\u001b[49m\n\u001b[1;32m   3506\u001b[0m \u001b[38;5;28;01mif\u001b[39;00m is_integer(indexer):\n\u001b[1;32m   3507\u001b[0m     indexer \u001b[38;5;241m=\u001b[39m [indexer]\n",
      "File \u001b[0;32m~/.virtualenvs/masters/lib/python3.10/site-packages/pandas/core/indexes/base.py:3623\u001b[0m, in \u001b[0;36mIndex.get_loc\u001b[0;34m(self, key, method, tolerance)\u001b[0m\n\u001b[1;32m   3621\u001b[0m     \u001b[38;5;28;01mreturn\u001b[39;00m \u001b[38;5;28mself\u001b[39m\u001b[38;5;241m.\u001b[39m_engine\u001b[38;5;241m.\u001b[39mget_loc(casted_key)\n\u001b[1;32m   3622\u001b[0m \u001b[38;5;28;01mexcept\u001b[39;00m \u001b[38;5;167;01mKeyError\u001b[39;00m \u001b[38;5;28;01mas\u001b[39;00m err:\n\u001b[0;32m-> 3623\u001b[0m     \u001b[38;5;28;01mraise\u001b[39;00m \u001b[38;5;167;01mKeyError\u001b[39;00m(key) \u001b[38;5;28;01mfrom\u001b[39;00m \u001b[38;5;21;01merr\u001b[39;00m\n\u001b[1;32m   3624\u001b[0m \u001b[38;5;28;01mexcept\u001b[39;00m \u001b[38;5;167;01mTypeError\u001b[39;00m:\n\u001b[1;32m   3625\u001b[0m     \u001b[38;5;66;03m# If we have a listlike key, _check_indexing_error will raise\u001b[39;00m\n\u001b[1;32m   3626\u001b[0m     \u001b[38;5;66;03m#  InvalidIndexError. Otherwise we fall through and re-raise\u001b[39;00m\n\u001b[1;32m   3627\u001b[0m     \u001b[38;5;66;03m#  the TypeError.\u001b[39;00m\n\u001b[1;32m   3628\u001b[0m     \u001b[38;5;28mself\u001b[39m\u001b[38;5;241m.\u001b[39m_check_indexing_error(key)\n",
      "\u001b[0;31mKeyError\u001b[0m: 'PDEN10'"
     ]
    }
   ],
   "source": [
    "df['PDEN10'].value_counts()"
   ]
  },
  {
   "cell_type": "code",
   "execution_count": 14,
   "id": "41616079-40be-4f35-ac49-2575621d8569",
   "metadata": {},
   "outputs": [
    {
     "data": {
      "text/plain": [
       "{2007: {'1': 37400, '2': 37400, '3': 37427, '4': 37427, '5': 37427},\n",
       " 2008: {'1': 37459, '2': 37459, '3': 37504, '4': 37504, '5': 37504},\n",
       " 2009: {'1': 37698, '2': 37698, '3': 37707, '4': 37707, '5': 37707},\n",
       " 2010: {'1': 38904, '2': 38904, '3': 38919, '4': 38919, '5': 38919},\n",
       " 2011: {'1': 39118, '2': 39118, '3': 39133, '4': 39133, '5': 39133},\n",
       " 2012: {'1': 37855, '2': 37855, '3': 37869, '4': 37869, '5': 37869},\n",
       " 2013: {'1': 37407, '2': 37407, '3': 37424, '4': 37424, '5': 37424},\n",
       " 2014: {'1': 41639, '2': 41639, '3': 41671, '4': 41671, '5': 41671}}"
      ]
     },
     "execution_count": 14,
     "metadata": {},
     "output_type": "execute_result"
    }
   ],
   "source": [
    "numbers"
   ]
  },
  {
   "cell_type": "code",
   "execution_count": 36,
   "id": "1ac8d650-b97a-4f6f-af68-05c6b7d08f45",
   "metadata": {},
   "outputs": [
    {
     "data": {
      "application/vnd.jupyter.widget-view+json": {
       "model_id": "92a5c4af703649bca3d18fb64c45ce52",
       "version_major": 2,
       "version_minor": 0
      },
      "text/plain": [
       "  0%|          | 0/256 [00:00<?, ?it/s]"
      ]
     },
     "metadata": {},
     "output_type": "display_data"
    },
    {
     "name": "stdout",
     "output_type": "stream",
     "text": [
      "2 (37427, 37504, 37707, 38919, 39133, 37855, 37424, 41671)\n",
      "2 (37427, 37504, 37707, 38919, 39118, 37869, 37424, 41671)\n",
      "2 (37427, 37504, 37707, 38919, 39133, 37869, 37407, 41671)\n",
      "2 (37427, 37504, 37707, 38904, 39133, 37869, 37424, 41671)\n",
      "2 (37427, 37504, 37707, 38919, 39133, 37869, 37424, 41671)\n",
      "2 (37427, 37504, 37698, 38919, 39133, 37869, 37424, 41671)\n"
     ]
    }
   ],
   "source": [
    "numbers_ = [[v for v in vals.values()] for vals in numbers.values()]\n",
    "\n",
    "from itertools import product\n",
    "\n",
    "for combination in tqdm(set(product(*numbers_))):\n",
    "    if abs(sum(combination) - 303_311) < 300:\n",
    "        print(\"1\", combination)\n",
    "    if abs(sum(combination) - 307_935) < 300:\n",
    "        print(\"2\", combination)"
   ]
  },
  {
   "cell_type": "markdown",
   "id": "3b608a03-5ae4-4888-ab22-e9f7043b9a50",
   "metadata": {},
   "source": [
    "# For now work with the V1 data"
   ]
  },
  {
   "cell_type": "markdown",
   "id": "ac44a7b6-8955-495e-8d63-3c729b6c3d3e",
   "metadata": {},
   "source": [
    "## Check the descriptive statistics"
   ]
  },
  {
   "cell_type": "code",
   "execution_count": null,
   "id": "e64917cb-0506-4257-aed9-be4d805c8b61",
   "metadata": {},
   "outputs": [],
   "source": []
  }
 ],
 "metadata": {
  "kernelspec": {
   "display_name": "Python 3 (ipykernel)",
   "language": "python",
   "name": "python3"
  },
  "language_info": {
   "codemirror_mode": {
    "name": "ipython",
    "version": 3
   },
   "file_extension": ".py",
   "mimetype": "text/x-python",
   "name": "python",
   "nbconvert_exporter": "python",
   "pygments_lexer": "ipython3",
   "version": "3.10.5"
  }
 },
 "nbformat": 4,
 "nbformat_minor": 5
}
