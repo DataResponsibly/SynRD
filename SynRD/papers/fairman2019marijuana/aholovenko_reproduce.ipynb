{
 "cells": [
  {
   "cell_type": "code",
   "execution_count": 77,
   "id": "9b186cea",
   "metadata": {},
   "outputs": [],
   "source": [
    "import numpy as np\n",
    "import pandas as pd\n",
    "import matplotlib\n",
    "import matplotlib.pyplot as plt\n",
    "import re\n",
    "import glob\n",
    "import json\n",
    "import os\n",
    "import statsmodels.api as st\n",
    "from statsmodels.discrete.discrete_model import MNLogit\n",
    "import warnings\n",
    "%matplotlib inline\n",
    "warnings.filterwarnings('ignore')\n",
    "pd.set_option('display.max_rows', None)\n",
    "pd.set_option('display.max_columns', None)"
   ]
  },
  {
   "cell_type": "markdown",
   "id": "7b56c088",
   "metadata": {},
   "source": [
    "Use ./aholovenko_data_preprocessing.ipynb to generate processed data."
   ]
  },
  {
   "cell_type": "markdown",
   "id": "5bb18551",
   "metadata": {},
   "source": [
    "# Importing data"
   ]
  },
  {
   "cell_type": "code",
   "execution_count": 78,
   "id": "fa0b8860",
   "metadata": {},
   "outputs": [
    {
     "data": {
      "text/plain": [
       "(293581, 6)"
      ]
     },
     "execution_count": 78,
     "metadata": {},
     "output_type": "execute_result"
    }
   ],
   "source": [
    "df = pd.read_pickle('../fairman2019marijuana_dataframe.pickle')\n",
    "df.shape"
   ]
  },
  {
   "cell_type": "code",
   "execution_count": 79,
   "id": "03f5205e",
   "metadata": {},
   "outputs": [
    {
     "data": {
      "text/html": [
       "<div>\n",
       "<style scoped>\n",
       "    .dataframe tbody tr th:only-of-type {\n",
       "        vertical-align: middle;\n",
       "    }\n",
       "\n",
       "    .dataframe tbody tr th {\n",
       "        vertical-align: top;\n",
       "    }\n",
       "\n",
       "    .dataframe thead th {\n",
       "        text-align: right;\n",
       "    }\n",
       "</style>\n",
       "<table border=\"1\" class=\"dataframe\">\n",
       "  <thead>\n",
       "    <tr style=\"text-align: right;\">\n",
       "      <th></th>\n",
       "      <th>YEAR</th>\n",
       "      <th>CLASS</th>\n",
       "      <th>SEX</th>\n",
       "      <th>RACE</th>\n",
       "      <th>AGE</th>\n",
       "      <th>MINAGE</th>\n",
       "    </tr>\n",
       "  </thead>\n",
       "  <tbody>\n",
       "    <tr>\n",
       "      <th>0</th>\n",
       "      <td>6</td>\n",
       "      <td>0</td>\n",
       "      <td>0</td>\n",
       "      <td>1</td>\n",
       "      <td>8</td>\n",
       "      <td>16</td>\n",
       "    </tr>\n",
       "    <tr>\n",
       "      <th>1</th>\n",
       "      <td>6</td>\n",
       "      <td>2</td>\n",
       "      <td>1</td>\n",
       "      <td>6</td>\n",
       "      <td>3</td>\n",
       "      <td>14</td>\n",
       "    </tr>\n",
       "    <tr>\n",
       "      <th>2</th>\n",
       "      <td>6</td>\n",
       "      <td>1</td>\n",
       "      <td>1</td>\n",
       "      <td>0</td>\n",
       "      <td>6</td>\n",
       "      <td>13</td>\n",
       "    </tr>\n",
       "    <tr>\n",
       "      <th>3</th>\n",
       "      <td>6</td>\n",
       "      <td>5</td>\n",
       "      <td>0</td>\n",
       "      <td>6</td>\n",
       "      <td>1</td>\n",
       "      <td>0</td>\n",
       "    </tr>\n",
       "    <tr>\n",
       "      <th>4</th>\n",
       "      <td>6</td>\n",
       "      <td>3</td>\n",
       "      <td>0</td>\n",
       "      <td>6</td>\n",
       "      <td>8</td>\n",
       "      <td>15</td>\n",
       "    </tr>\n",
       "  </tbody>\n",
       "</table>\n",
       "</div>"
      ],
      "text/plain": [
       "   YEAR  CLASS  SEX  RACE  AGE  MINAGE\n",
       "0     6      0    0     1    8      16\n",
       "1     6      2    1     6    3      14\n",
       "2     6      1    1     0    6      13\n",
       "3     6      5    0     6    1       0\n",
       "4     6      3    0     6    8      15"
      ]
     },
     "execution_count": 79,
     "metadata": {},
     "output_type": "execute_result"
    }
   ],
   "source": [
    "df.head()"
   ]
  },
  {
   "cell_type": "markdown",
   "id": "6382cad3",
   "metadata": {},
   "source": [
    "# Reproduce Figure 1"
   ]
  },
  {
   "cell_type": "markdown",
   "id": "3776fd43",
   "metadata": {},
   "source": [
    "Figure 1: Percent of youth aged 12–21-years whose first drug use was marijuana, cigarettes, alcohol, other tobacco, other drugs, or no drug use by demographic characteristics and survey year. \n",
    "\n",
    "Abbreviations: American Indian/Alaska Native (AI/AN); Native Hawaiian and other Pacific Islander (NHOPI)."
   ]
  },
  {
   "cell_type": "code",
   "execution_count": 125,
   "id": "73a2ebcb",
   "metadata": {},
   "outputs": [
    {
     "data": {
      "image/png": "[encoded data removed]",
      "text/plain": [
       "<Figure size 1440x576 with 4 Axes>"
      ]
     },
     "metadata": {
      "needs_background": "light"
     },
     "output_type": "display_data"
    }
   ],
   "source": [
    "def plot_figure(df_):\n",
    "    import matplotlib\n",
    "    matplotlib.rc('legend', fontsize=36)\n",
    "    matplotlib.rc('axes', labelsize=30)\n",
    "    matplotlib.rc('xtick', labelsize=30)\n",
    "    matplotlib.rc('ytick', labelsize=30)\n",
    "    df = df_.copy()\n",
    "    INPUT_FILES = [\n",
    "        'fairman2019marijuana/data/32722-0001-Data.tsv', 'fairman2019marijuana/data/23782-0001-Data.tsv', 'fairman2019marijuana/data/04596-0001-Data.tsv',\n",
    "        'fairman2019marijuana/data/26701-0001-Data.tsv', 'fairman2019marijuana/data/29621-0001-Data.tsv', 'fairman2019marijuana/data/36361-0001-Data.tsv',\n",
    "        'fairman2019marijuana/data/35509-0001-Data.tsv', 'fairman2019marijuana/data/04373-0001-Data.tsv', 'fairman2019marijuana/data/21240-0001-Data.tsv',\n",
    "        'fairman2019marijuana/data/34481-0001-Data.tsv', 'fairman2019marijuana/data/34933-0001-Data.tsv'\n",
    "    ]\n",
    "    FILE_YEAR_MAP = {f: i for i, f in enumerate(sorted([os.path.basename(f) for f in INPUT_FILES]))}\n",
    "    AGE_MAP = {i: i + 12 for i in range(0, 10)}\n",
    "    AGE_GROUP_MAP = {\n",
    "        0: '12-13', 1: '12-13', 2: '14-15', 3: '14-15', 4: '16-17', 5: '16-17', 6: '18-19', 7: '18-19',\n",
    "        8: '20-21', 9: '20-21'\n",
    "    }\n",
    "    YEAR_MAP = {2004 + i: i for i in range(len(FILE_YEAR_MAP))}\n",
    "    SEX_MAP = {'Male': 0, 'Female': 1}\n",
    "    RACE_MAP = {'White': 0, 'Black': 1, 'AI/AN': 2, 'NHOPI': 3, 'Asian': 4, 'Multi-\\nracial': 5, 'Hispanic': 6}\n",
    "    CLASSES_PRETTY = {\n",
    "        'CIGARETTES': 0, 'ALCOHOL': 1, 'MARIJUANA': 2, 'OTHER TABACCO': 3, 'OTHER DRUGS': 4, 'NO USAGE': 5\n",
    "    }\n",
    "    df['AGE_GROUP'] = df['AGE'].map(AGE_GROUP_MAP)\n",
    "    df['SEX'] = df['SEX'].map(dict(zip(SEX_MAP.values(), SEX_MAP.keys())))\n",
    "    df['RACE'] = df['RACE'].map(dict(zip(RACE_MAP.values(), RACE_MAP.keys())))\n",
    "    df['YEAR'] = df['YEAR'].map(dict(zip(YEAR_MAP.values(), YEAR_MAP.keys())))\n",
    "    df['CLASS'] = df['CLASS'].map(dict(zip(CLASSES_PRETTY.values(), CLASSES_PRETTY.keys())))\n",
    "    cols = ['MARIJUANA', 'CIGARETTES', 'ALCOHOL', 'OTHER TABACCO', 'OTHER DRUGS', 'NO USAGE']\n",
    "    prop_sex = pd.crosstab(index=df['SEX'], columns=df['CLASS'], normalize=\"index\") * 100\n",
    "    prop_race = pd.crosstab(index=df['RACE'], columns=df['CLASS'], normalize=\"index\") * 100\n",
    "    prop_age = pd.crosstab(index=df['AGE_GROUP'], columns=df['CLASS'], normalize=\"index\") * 100\n",
    "    prop_year = pd.crosstab(index=df['YEAR'], columns=df['CLASS'], normalize=\"index\") * 100\n",
    "    figure, axis = plt.subplots(1, 4, gridspec_kw={'width_ratios': [1, 2, 3, 4]})\n",
    "    figure.set_size_inches(20, 8, forward=True)\n",
    "    figure.tight_layout()\n",
    "    prop_sex[cols].plot(kind='bar', stacked=True, colormap='tab20', ax=axis[0], legend=None, xlabel='Sex')\n",
    "    prop_age[cols].plot(kind='bar', stacked=True, colormap='tab20', ax=axis[1], legend=None, xlabel='Age Group')\n",
    "    prop_race[cols].plot(kind='bar', stacked=True, colormap='tab20', ax=axis[2], legend=None,\n",
    "                         xlabel='Race/Ethnicity')\n",
    "    prop_year[cols].plot(kind='bar', stacked=True, colormap='tab20', ax=axis[3], legend=None,\n",
    "                             xlabel='Survey Year')\n",
    "    axis[0].yaxis.set_major_formatter('{x:1.0f}%')\n",
    "    axis[1].set_yticks([])\n",
    "    axis[2].set_yticks([])\n",
    "    axis[3].set_yticks([])\n",
    "    axis[0].xaxis.set_label_coords(.5, -.34)\n",
    "    axis[1].xaxis.set_label_coords(.5, -.34)\n",
    "    axis[2].xaxis.set_label_coords(.5, -.34)\n",
    "    axis[3].xaxis.set_label_coords(.5, -.34)\n",
    "    plt.subplots_adjust(wspace=0.05)\n",
    "    plt.legend(loc='upper center', bbox_to_anchor=(-0.30, 1.32), ncol=3)\n",
    "    plt.savefig('fairman2019marijuana_figure_1.png',\n",
    "                facecolor='white', transparent=False, bbox_inches='tight', pad_inches=.5)\n",
    "    plt.show()\n",
    "\n",
    "    \n",
    "plot_figure(df)"
   ]
  },
  {
   "cell_type": "markdown",
   "id": "5bea7bba",
   "metadata": {},
   "source": [
    "# Reproduce Table 1"
   ]
  },
  {
   "cell_type": "markdown",
   "id": "59eab0f9",
   "metadata": {},
   "source": [
    "Table 1: Demographic and survey characteristics associated with using marijuana as the first drug used relative to no drug use, using cigarettes first, or using alcohol first (n=275,559), adjusted relative risk ratios (aRRR)."
   ]
  },
  {
   "cell_type": "code",
   "execution_count": 46,
   "id": "0c0de055",
   "metadata": {},
   "outputs": [],
   "source": [
    "class_mapping = {\n",
    "    'MARIJUANA': 0,\n",
    "    'ALCOHOL': 1,\n",
    "    'CIGARETTES': 2,\n",
    "    'NO_DRUG_USE': 3,\n",
    "    'OTHER_TABACCO': 4,\n",
    "    'OTHER_DRUGS': 5\n",
    "}"
   ]
  },
  {
   "cell_type": "code",
   "execution_count": 47,
   "id": "b4258f73",
   "metadata": {},
   "outputs": [
    {
     "data": {
      "text/plain": [
       "YEAR           int32\n",
       "CLASS        float64\n",
       "SEX           object\n",
       "RACE          object\n",
       "AGE            int32\n",
       "MINAGE         int32\n",
       "AGE_GROUP     object\n",
       "dtype: object"
      ]
     },
     "execution_count": 47,
     "metadata": {},
     "output_type": "execute_result"
    }
   ],
   "source": [
    "data = df.copy()\n",
    "data['CLASS'] = data.CLASS.map(class_mapping)\n",
    "data['AGE'] = data.AGE.astype(np.int32)\n",
    "data['YEAR'] = data.YEAR.astype(np.int32)\n",
    "data.dtypes"
   ]
  },
  {
   "cell_type": "code",
   "execution_count": 48,
   "id": "b60885dd",
   "metadata": {},
   "outputs": [
    {
     "data": {
      "text/plain": [
       "(293581, 7)"
      ]
     },
     "execution_count": 48,
     "metadata": {},
     "output_type": "execute_result"
    }
   ],
   "source": [
    "data.shape"
   ]
  },
  {
   "cell_type": "code",
   "execution_count": 49,
   "id": "795130f8",
   "metadata": {},
   "outputs": [
    {
     "data": {
      "text/html": [
       "<div>\n",
       "<style scoped>\n",
       "    .dataframe tbody tr th:only-of-type {\n",
       "        vertical-align: middle;\n",
       "    }\n",
       "\n",
       "    .dataframe tbody tr th {\n",
       "        vertical-align: top;\n",
       "    }\n",
       "\n",
       "    .dataframe thead th {\n",
       "        text-align: right;\n",
       "    }\n",
       "</style>\n",
       "<table border=\"1\" class=\"dataframe\">\n",
       "  <thead>\n",
       "    <tr style=\"text-align: right;\">\n",
       "      <th></th>\n",
       "      <th>YEAR</th>\n",
       "      <th>CLASS</th>\n",
       "      <th>SEX</th>\n",
       "      <th>RACE</th>\n",
       "      <th>AGE</th>\n",
       "      <th>MINAGE</th>\n",
       "      <th>AGE_GROUP</th>\n",
       "    </tr>\n",
       "  </thead>\n",
       "  <tbody>\n",
       "    <tr>\n",
       "      <th>0</th>\n",
       "      <td>2010</td>\n",
       "      <td>2.0</td>\n",
       "      <td>Male</td>\n",
       "      <td>Black</td>\n",
       "      <td>8</td>\n",
       "      <td>16</td>\n",
       "      <td>20-21</td>\n",
       "    </tr>\n",
       "    <tr>\n",
       "      <th>1</th>\n",
       "      <td>2010</td>\n",
       "      <td>0.0</td>\n",
       "      <td>Female</td>\n",
       "      <td>Hispanic</td>\n",
       "      <td>3</td>\n",
       "      <td>14</td>\n",
       "      <td>14-15</td>\n",
       "    </tr>\n",
       "    <tr>\n",
       "      <th>2</th>\n",
       "      <td>2010</td>\n",
       "      <td>1.0</td>\n",
       "      <td>Female</td>\n",
       "      <td>White</td>\n",
       "      <td>6</td>\n",
       "      <td>13</td>\n",
       "      <td>18-19</td>\n",
       "    </tr>\n",
       "    <tr>\n",
       "      <th>3</th>\n",
       "      <td>2010</td>\n",
       "      <td>NaN</td>\n",
       "      <td>Male</td>\n",
       "      <td>Hispanic</td>\n",
       "      <td>1</td>\n",
       "      <td>0</td>\n",
       "      <td>12-13</td>\n",
       "    </tr>\n",
       "    <tr>\n",
       "      <th>4</th>\n",
       "      <td>2010</td>\n",
       "      <td>4.0</td>\n",
       "      <td>Male</td>\n",
       "      <td>Hispanic</td>\n",
       "      <td>8</td>\n",
       "      <td>15</td>\n",
       "      <td>20-21</td>\n",
       "    </tr>\n",
       "  </tbody>\n",
       "</table>\n",
       "</div>"
      ],
      "text/plain": [
       "   YEAR  CLASS     SEX      RACE  AGE  MINAGE AGE_GROUP\n",
       "0  2010    2.0    Male     Black    8      16     20-21\n",
       "1  2010    0.0  Female  Hispanic    3      14     14-15\n",
       "2  2010    1.0  Female     White    6      13     18-19\n",
       "3  2010    NaN    Male  Hispanic    1       0     12-13\n",
       "4  2010    4.0    Male  Hispanic    8      15     20-21"
      ]
     },
     "execution_count": 49,
     "metadata": {},
     "output_type": "execute_result"
    }
   ],
   "source": [
    "data.head()"
   ]
  },
  {
   "cell_type": "code",
   "execution_count": 50,
   "id": "55d9b98e",
   "metadata": {},
   "outputs": [
    {
     "ename": "NameError",
     "evalue": "name 'sm' is not defined",
     "output_type": "error",
     "traceback": [
      "\u001b[0;31m---------------------------------------------------------------------------\u001b[0m",
      "\u001b[0;31mNameError\u001b[0m                                 Traceback (most recent call last)",
      "Input \u001b[0;32mIn [50]\u001b[0m, in \u001b[0;36m<cell line: 1>\u001b[0;34m()\u001b[0m\n\u001b[0;32m----> 1\u001b[0m model \u001b[38;5;241m=\u001b[39m \u001b[43msm\u001b[49m\u001b[38;5;241m.\u001b[39mMNLogit\u001b[38;5;241m.\u001b[39mfrom_formula(\n\u001b[1;32m      2\u001b[0m     \u001b[38;5;124m'\u001b[39m\u001b[38;5;124mCLASS ~ C(SEX, Treatment(reference=\u001b[39m\u001b[38;5;124m\"\u001b[39m\u001b[38;5;124mMale\u001b[39m\u001b[38;5;124m\"\u001b[39m\u001b[38;5;124m)) + AGE + C(RACE, Treatment(reference=\u001b[39m\u001b[38;5;124m\"\u001b[39m\u001b[38;5;124mWhite\u001b[39m\u001b[38;5;124m\"\u001b[39m\u001b[38;5;124m)) + YEAR\u001b[39m\u001b[38;5;124m'\u001b[39m,\n\u001b[1;32m      3\u001b[0m     data\u001b[38;5;241m=\u001b[39mdata)\n",
      "\u001b[0;31mNameError\u001b[0m: name 'sm' is not defined"
     ]
    }
   ],
   "source": [
    "model = sm.MNLogit.from_formula(\n",
    "    'CLASS ~ C(SEX, Treatment(reference=\"Male\")) + AGE + C(RACE, Treatment(reference=\"White\")) + YEAR',\n",
    "    data=data)"
   ]
  },
  {
   "cell_type": "code",
   "execution_count": null,
   "id": "a3465094",
   "metadata": {},
   "outputs": [],
   "source": [
    "log_reg = model.fit(method='newton', maxiter=100, full_output=True)"
   ]
  },
  {
   "cell_type": "code",
   "execution_count": null,
   "id": "261ced2f",
   "metadata": {},
   "outputs": [],
   "source": [
    "print(log_reg.summary2())"
   ]
  },
  {
   "cell_type": "code",
   "execution_count": null,
   "id": "4d7403e4",
   "metadata": {},
   "outputs": [],
   "source": [
    "dfs = []\n",
    "lower_CI = log_reg.conf_int()['lower']\n",
    "upper_CI = log_reg.conf_int()['upper']\n",
    "for indx in [0, 1, 2]:\n",
    "    dfs.append(\n",
    "        pd.DataFrame(\n",
    "            {\n",
    "                \"aOR\": np.exp(log_reg.params[indx]),\n",
    "                \"Lower CI\": np.exp(lower_CI.iloc[lower_CI.index.get_level_values('CLASS') == str(indx + 1)].values),\n",
    "                \"Higher CI\": np.exp(upper_CI.iloc[upper_CI.index.get_level_values('CLASS') == str(indx + 1)].values),\n",
    "                \"pvalue\": log_reg.pvalues[indx],\n",
    "            }\n",
    "        )\n",
    "    )\n",
    "\n",
    "aOR = pd.concat(dfs, axis=1)\n",
    "aOR = aOR.drop('Intercept')\n",
    "aOR.index = [x[-1].replace(')', '').replace('T.', '').replace('\"', '').replace('[', ' vs. ').replace(']', '') for x in aOR.index.str.split('reference=')]\n",
    "aOR = round(aOR, 3)\n",
    "aOR"
   ]
  },
  {
   "cell_type": "code",
   "execution_count": null,
   "id": "b0574f6b",
   "metadata": {},
   "outputs": [],
   "source": []
  },
  {
   "cell_type": "markdown",
   "id": "a3048354",
   "metadata": {},
   "source": [
    "# Plot Table 2"
   ]
  },
  {
   "cell_type": "markdown",
   "id": "41a93192",
   "metadata": {},
   "source": [
    "Table columns\n",
    "- Heavy Marijuana Use Among Users (n=71,699)\n",
    "- Cannabis Use Disorder Among Users (n=71,699)\n",
    "- Alcohol Use Disorder Among Drinkers (n=136,399)\n",
    "- Nicotine Dependence Among Smokers (n=89,202)\n",
    "- Other Drug Use *c,d* (n=142,630)\n",
    "    * *c* Other drugs included non-medical use of cocaine, hallucinogens, heroin, inhalants, analgesics, sedatives, stimulants, and tranquillizers.\n",
    "    * *d* Those having used only one drug or all five types of drugs dropped from analyses (n=67,148) after controlling for number of drugs used due to no variance in the outcome.\n",
    "\n",
    "Methodology\n",
    "- **Heavy marijuana use** was defined as reporting marijuana use on either ≥20 or more days in the past month, or ≥300 days in the past year. **MRJMDAYS**, **MRJYDAYS**\n",
    "- Participants were classified as having a **cannabis use disorder (CUD)** or **alcohol use disorder (AUD)** if, within the last 12 months, they had met one or more features of abuse or 3 or more features of dependence based on criteria in the Diagnostic and Statistical Manual of Mental Disorders, 4th Edition (American Psychiatric Association, 1994).  -> **DEPNDALC**, **DEPNDMRJ**\n",
    "- Those whose total score on the Nicotine Dependence Syndrome Scale was ≥2.75 were classified as **having nicotine dependence (ND)** (Shiffman, Waters, & Hickcox, 2004). -> **NDSSDNSP**\n",
    "- Any lifetime use of other drugs was based on responses to items about having ever used inhalants, cocaine, heroin, and non-medical prescription drugs"
   ]
  },
  {
   "cell_type": "code",
   "execution_count": null,
   "id": "2df91fe9",
   "metadata": {},
   "outputs": [],
   "source": [
    "df.head()"
   ]
  },
  {
   "cell_type": "code",
   "execution_count": null,
   "id": "c9ee4a62",
   "metadata": {},
   "outputs": [],
   "source": [
    "df[(df.CLASS!='NO_DRUG_USE')].shape"
   ]
  },
  {
   "cell_type": "code",
   "execution_count": null,
   "id": "9ba8f401",
   "metadata": {},
   "outputs": [],
   "source": [
    "df.shape"
   ]
  },
  {
   "cell_type": "markdown",
   "id": "71aeb2ad",
   "metadata": {},
   "source": [
    "__________"
   ]
  }
 ],
 "metadata": {
  "kernelspec": {
   "display_name": "synrd_venv",
   "language": "python",
   "name": "synrd_venv"
  },
  "language_info": {
   "codemirror_mode": {
    "name": "ipython",
    "version": 3
   },
   "file_extension": ".py",
   "mimetype": "text/x-python",
   "name": "python",
   "nbconvert_exporter": "python",
   "pygments_lexer": "ipython3",
   "version": "3.10.0"
  },
  "vscode": {
   "interpreter": {
    "hash": "6597d1ed23b894caf154b6750f098a8514a19e03807460ffd2d8425103778dc0"
   }
  }
 },
 "nbformat": 4,
 "nbformat_minor": 5
}
