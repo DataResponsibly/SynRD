{
 "cells": [
  {
   "cell_type": "markdown",
   "id": "f2d2d891-14e7-4186-adf3-c5154d315b76",
   "metadata": {
    "tags": []
   },
   "source": [
    "# Imports"
   ]
  },
  {
   "cell_type": "code",
   "execution_count": 1,
   "id": "1dda87e5-9274-4350-aa1c-af49329d00f3",
   "metadata": {},
   "outputs": [],
   "source": [
    "import glob\n",
    "import os\n",
    "from collections import defaultdict\n",
    "from functools import partial\n",
    "\n",
    "# import modin.pandas as pd\n",
    "import pandas as pd\n",
    "import plotly.express as px\n",
    "from IPython.display import Image\n",
    "from tqdm.auto import tqdm\n",
    "from tqdm.contrib.concurrent import process_map"
   ]
  },
  {
   "cell_type": "markdown",
   "id": "784120bd-6f5e-4e4a-b658-5b1109ade5dd",
   "metadata": {
    "tags": []
   },
   "source": [
    "# Load the data"
   ]
  },
  {
   "cell_type": "markdown",
   "id": "b2c6d017-6883-4f01-87fc-300271af8cd1",
   "metadata": {},
   "source": [
    "Put the data in folder `data`. Extract every file in the folder with the same name. If needed, adapt the path."
   ]
  },
  {
   "cell_type": "code",
   "execution_count": 2,
   "id": "a1a1cac6-b96b-4b03-89ff-eed4c5358996",
   "metadata": {},
   "outputs": [],
   "source": [
    "tsv_paths = glob.glob(\"../zhu21factors/data/*/*/*/*.tsv\")\n",
    "assert len(tsv_paths) == 11"
   ]
  },
  {
   "cell_type": "code",
   "execution_count": 3,
   "id": "4c8507d2-9dd3-4a7e-980f-1a9a1de7a0c2",
   "metadata": {},
   "outputs": [],
   "source": [
    "work_cols = [\"WRKIDST2\", \"WRKIDSY2\"]\n",
    "filter_cols = [\"AGE2\", \"JBSTATR2\"]\n",
    "survey_cols = [\"ANALREC\"]\n",
    "cols = work_cols + survey_cols + filter_cols"
   ]
  },
  {
   "cell_type": "code",
   "execution_count": 4,
   "id": "f658681b-efc7-4acf-9ee5-875d3301ce15",
   "metadata": {},
   "outputs": [
    {
     "data": {
      "application/vnd.jupyter.widget-view+json": {
       "model_id": "3b8a82b05c084b3cbccbe67f8d742026",
       "version_major": 2,
       "version_minor": 0
      },
      "text/plain": [
       "  0%|          | 0/11 [00:00<?, ?it/s]"
      ]
     },
     "metadata": {},
     "output_type": "display_data"
    }
   ],
   "source": [
    "dfs = process_map(\n",
    "    partial(pd.read_csv, sep=\"\\t\", skipinitialspace=True, usecols=cols), tsv_paths\n",
    ")"
   ]
  },
  {
   "cell_type": "code",
   "execution_count": 12,
   "id": "54b3ce34-f923-4b82-b7ec-2af1f91a1095",
   "metadata": {},
   "outputs": [],
   "source": [
    "df = pd.concat(dfs)"
   ]
  },
  {
   "cell_type": "code",
   "execution_count": 13,
   "id": "fcc2f026-fc24-44d0-a8d4-409cce82e3e3",
   "metadata": {},
   "outputs": [
    {
     "data": {
      "text/html": [
       "<div>\n",
       "<style scoped>\n",
       "    .dataframe tbody tr th:only-of-type {\n",
       "        vertical-align: middle;\n",
       "    }\n",
       "\n",
       "    .dataframe tbody tr th {\n",
       "        vertical-align: top;\n",
       "    }\n",
       "\n",
       "    .dataframe thead th {\n",
       "        text-align: right;\n",
       "    }\n",
       "</style>\n",
       "<table border=\"1\" class=\"dataframe\">\n",
       "  <thead>\n",
       "    <tr style=\"text-align: right;\">\n",
       "      <th></th>\n",
       "      <th>ANALREC</th>\n",
       "      <th>AGE2</th>\n",
       "      <th>JBSTATR2</th>\n",
       "      <th>WRKIDST2</th>\n",
       "      <th>WRKIDSY2</th>\n",
       "    </tr>\n",
       "  </thead>\n",
       "  <tbody>\n",
       "    <tr>\n",
       "      <th>0</th>\n",
       "      <td>91</td>\n",
       "      <td>2</td>\n",
       "      <td>11</td>\n",
       "      <td>9999</td>\n",
       "      <td>9999</td>\n",
       "    </tr>\n",
       "    <tr>\n",
       "      <th>1</th>\n",
       "      <td>91</td>\n",
       "      <td>8</td>\n",
       "      <td>1</td>\n",
       "      <td>3</td>\n",
       "      <td>9999</td>\n",
       "    </tr>\n",
       "    <tr>\n",
       "      <th>2</th>\n",
       "      <td>91</td>\n",
       "      <td>5</td>\n",
       "      <td>7</td>\n",
       "      <td>9999</td>\n",
       "      <td>9999</td>\n",
       "    </tr>\n",
       "    <tr>\n",
       "      <th>3</th>\n",
       "      <td>91</td>\n",
       "      <td>15</td>\n",
       "      <td>9</td>\n",
       "      <td>9999</td>\n",
       "      <td>3</td>\n",
       "    </tr>\n",
       "    <tr>\n",
       "      <th>4</th>\n",
       "      <td>91</td>\n",
       "      <td>7</td>\n",
       "      <td>7</td>\n",
       "      <td>9999</td>\n",
       "      <td>3</td>\n",
       "    </tr>\n",
       "    <tr>\n",
       "      <th>...</th>\n",
       "      <td>...</td>\n",
       "      <td>...</td>\n",
       "      <td>...</td>\n",
       "      <td>...</td>\n",
       "      <td>...</td>\n",
       "    </tr>\n",
       "    <tr>\n",
       "      <th>55266</th>\n",
       "      <td>91</td>\n",
       "      <td>11</td>\n",
       "      <td>1</td>\n",
       "      <td>2</td>\n",
       "      <td>9999</td>\n",
       "    </tr>\n",
       "    <tr>\n",
       "      <th>55267</th>\n",
       "      <td>2</td>\n",
       "      <td>15</td>\n",
       "      <td>5</td>\n",
       "      <td>9999</td>\n",
       "      <td>9999</td>\n",
       "    </tr>\n",
       "    <tr>\n",
       "      <th>55268</th>\n",
       "      <td>91</td>\n",
       "      <td>15</td>\n",
       "      <td>1</td>\n",
       "      <td>9</td>\n",
       "      <td>9999</td>\n",
       "    </tr>\n",
       "    <tr>\n",
       "      <th>55269</th>\n",
       "      <td>91</td>\n",
       "      <td>10</td>\n",
       "      <td>2</td>\n",
       "      <td>4</td>\n",
       "      <td>9999</td>\n",
       "    </tr>\n",
       "    <tr>\n",
       "      <th>55270</th>\n",
       "      <td>91</td>\n",
       "      <td>17</td>\n",
       "      <td>1</td>\n",
       "      <td>10</td>\n",
       "      <td>9999</td>\n",
       "    </tr>\n",
       "  </tbody>\n",
       "</table>\n",
       "<p>613974 rows × 5 columns</p>\n",
       "</div>"
      ],
      "text/plain": [
       "       ANALREC  AGE2  JBSTATR2  WRKIDST2  WRKIDSY2\n",
       "0           91     2        11      9999      9999\n",
       "1           91     8         1         3      9999\n",
       "2           91     5         7      9999      9999\n",
       "3           91    15         9      9999         3\n",
       "4           91     7         7      9999         3\n",
       "...        ...   ...       ...       ...       ...\n",
       "55266       91    11         1         2      9999\n",
       "55267        2    15         5      9999      9999\n",
       "55268       91    15         1         9      9999\n",
       "55269       91    10         2         4      9999\n",
       "55270       91    17         1        10      9999\n",
       "\n",
       "[613974 rows x 5 columns]"
      ]
     },
     "execution_count": 13,
     "metadata": {},
     "output_type": "execute_result"
    }
   ],
   "source": [
    "df"
   ]
  },
  {
   "cell_type": "markdown",
   "id": "48bbcb81-ea90-41eb-abdb-8d2d722f24ff",
   "metadata": {
    "tags": []
   },
   "source": [
    "# Preprocess the data"
   ]
  },
  {
   "cell_type": "markdown",
   "id": "21e99ec1-f318-489c-8d44-6ff4919b550a",
   "metadata": {
    "tags": []
   },
   "source": [
    "## Filter the data"
   ]
  },
  {
   "cell_type": "markdown",
   "id": "7ac34e06-e737-487b-b05e-8b7544ede541",
   "metadata": {},
   "source": [
    "**Methods—** Nationally-representative, cross-sectional survey data from the US National Survey \n",
    "on Drug Use and Health supplied self-reported age-of-first marijuana, cigarettes, alcohol, other \n",
    "tobacco, and other illegal drug use among 12–21-year-old samples from 2004 to 2014 \n",
    "(n=275,559). We first examined the degree to which initiating marijuana use first was associated \n",
    "with sex, age, race/ethnicity, and survey year. Then, we examined whether using marijuana first \n",
    "predicted heavy marijuana use, cannabis use disorder (CUD), alcohol use disorder (AUD), \n",
    "nicotine dependence (ND), or lifetime use of other illegal drugs.\n",
    "Results—Among all survey youth (substance users and non-users) the proportion using "
   ]
  },
  {
   "cell_type": "markdown",
   "id": "d0ad9585-89bd-45a6-9f48-f07fa947e66d",
   "metadata": {},
   "source": [
    "```\n",
    "AGE2     2   RECODE - FINAL EDITED AGE \n",
    "              1 = Respondent is 12 years old........................    2874   5.17 \n",
    "              2 = Respondent is 13 years old........................    3186   5.73 \n",
    "              3 = Respondent is 14 years old........................    3139   5.65 \n",
    "              4 = Respondent is 15 years old........................    3116   5.60 \n",
    "              5 = Respondent is 16 years old........................    3010   5.41 \n",
    "              6 = Respondent is 17 years old........................    2969   5.34 \n",
    "              7 = Respondent is 18 years old........................    2686   4.83 \n",
    "              8 = Respondent is 19 years old........................    2370   4.26 \n",
    "              9 = Respondent is 20 years old........................    2255   4.06 \n",
    "             10 = Respondent is 21 years old........................    2277   4.10 \n",
    "             11 = Respondent is 22 or 23 years old..................    4545   8.17 \n",
    "             12 = Respondent is 24 or 25 years old..................    4342   7.81 \n",
    "             13 = Respondent is between 26 and 29 years old.........    2609   4.69 \n",
    "             14 = Respondent is between 30 and 34 years old.........    3101   5.58 \n",
    "             15 = Respondent is between 35 and 49 years old.........    8052  14.48 \n",
    "             16 = Respondent is between 50 and 64 years old.........    3072   5.52 \n",
    "             17 = Respondent is 65 years old or older...............    1999   3.60 \n",
    "\n",
    "\n",
    "JBSTATR2 3   WORK SITUATION IN PAST WEEK - RECODE \n",
    "              1 = Worked at full-time job, past week................   19191  34.51 \n",
    "              2 = Worked at part time job, past week................    8311  14.95 \n",
    "              3 = Has job or volunteer worker, did not work past wk.    2385   4.29 \n",
    "              4 = Unemployed/on layoff, looking for work............    2867   5.16 \n",
    "              5 = Disabled..........................................    1193   2.15 \n",
    "              6 = Keeping house full-time...........................    2396   4.31 \n",
    "              7 = In school/training................................    5881  10.58 \n",
    "              8 = Retired...........................................    1787   3.21 \n",
    "              9 = Does not have a job, some other reason............    2371   4.26 \n",
    "             10 = MISSING...........................................      21   0.04 \n",
    "             11 = LEGITIMATE SKIP...................................    9199  16.54\n",
    "```"
   ]
  },
  {
   "cell_type": "code",
   "execution_count": 17,
   "id": "749020c5-b3dc-4434-9bf6-6ccd7b734e50",
   "metadata": {},
   "outputs": [
    {
     "name": "stdout",
     "output_type": "stream",
     "text": [
      "df.shape[0]=613974\n",
      "df[df['AGE2'] <= 10].shape=(296467, 5)\n",
      "df[df['AGE2'] < 10].shape=(271748, 5)\n"
     ]
    }
   ],
   "source": [
    "print(f\"{df.shape[0]=}\")\n",
    "print(f\"{df[df['AGE2'] <= 10].shape=}\")\n",
    "print(f\"{df[df['AGE2'] < 10].shape=}\")"
   ]
  },
  {
   "cell_type": "code",
   "execution_count": null,
   "id": "1a413e05-48a1-43b1-83b4-cc9ca530ac1a",
   "metadata": {},
   "outputs": [],
   "source": []
  }
 ],
 "metadata": {
  "kernelspec": {
   "display_name": "Python 3 (ipykernel)",
   "language": "python",
   "name": "python3"
  },
  "language_info": {
   "codemirror_mode": {
    "name": "ipython",
    "version": 3
   },
   "file_extension": ".py",
   "mimetype": "text/x-python",
   "name": "python",
   "nbconvert_exporter": "python",
   "pygments_lexer": "ipython3",
   "version": "3.10.5"
  }
 },
 "nbformat": 4,
 "nbformat_minor": 5
}
