{
 "cells": [
  {
   "cell_type": "code",
   "execution_count": 2,
   "id": "753266be",
   "metadata": {},
   "outputs": [
    {
     "ename": "SyntaxError",
     "evalue": "invalid syntax (2484746875.py, line 2)",
     "output_type": "error",
     "traceback": [
      "\u001b[0;36m  Input \u001b[0;32mIn [2]\u001b[0;36m\u001b[0m\n\u001b[0;31m    from SynRD.benchmark\u001b[0m\n\u001b[0m                        ^\u001b[0m\n\u001b[0;31mSyntaxError\u001b[0m\u001b[0;31m:\u001b[0m invalid syntax\n"
     ]
    }
   ],
   "source": [
    "from SynRD.papers import Pierce2019Who\n",
    "from SynRD.benchmark\n",
    "benchmark = Benchmark()\n",
    "papers = benchmark.initialize_papers([Pierce2019Who])\n",
    "for paper in papers:\n",
    "    paper.set_synthetic_dataframe(paper.real_dataframe)\n",
    "    benchmark.eval(paper)"
   ]
  },
  {
   "cell_type": "code",
   "execution_count": 3,
   "id": "b5bd709f",
   "metadata": {},
   "outputs": [
    {
     "ename": "ModuleNotFoundError",
     "evalue": "No module named 'SynRD'",
     "output_type": "error",
     "traceback": [
      "\u001b[0;31m---------------------------------------------------------------------------\u001b[0m",
      "\u001b[0;31mModuleNotFoundError\u001b[0m                       Traceback (most recent call last)",
      "Input \u001b[0;32mIn [3]\u001b[0m, in \u001b[0;36m<cell line: 1>\u001b[0;34m()\u001b[0m\n\u001b[0;32m----> 1\u001b[0m \u001b[38;5;28;01mfrom\u001b[39;00m \u001b[38;5;21;01mSynRD\u001b[39;00m\u001b[38;5;21;01m.\u001b[39;00m\u001b[38;5;21;01mpapers\u001b[39;00m \u001b[38;5;28;01mimport\u001b[39;00m Pierce2019Who\n",
      "\u001b[0;31mModuleNotFoundError\u001b[0m: No module named 'SynRD'"
     ]
    }
   ],
   "source": [
    "from SynRD.papers import Pierce2019Who"
   ]
  },
  {
   "cell_type": "code",
   "execution_count": null,
   "id": "4bbfe58d",
   "metadata": {},
   "outputs": [],
   "source": []
  }
 ],
 "metadata": {
  "kernelspec": {
   "display_name": "Python 3 (ipykernel)",
   "language": "python",
   "name": "python3"
  },
  "language_info": {
   "codemirror_mode": {
    "name": "ipython",
    "version": 3
   },
   "file_extension": ".py",
   "mimetype": "text/x-python",
   "name": "python",
   "nbconvert_exporter": "python",
   "pygments_lexer": "ipython3",
   "version": "3.10.6"
  }
 },
 "nbformat": 4,
 "nbformat_minor": 5
}
