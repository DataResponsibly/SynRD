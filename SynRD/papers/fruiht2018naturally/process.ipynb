{
 "cells": [
  {
   "cell_type": "code",
   "execution_count": 46,
   "id": "976c3016",
   "metadata": {},
   "outputs": [],
   "source": [
    "import pandas as pd\n",
    "import numpy as np"
   ]
  },
  {
   "cell_type": "code",
   "execution_count": 2,
   "id": "6b6436e2",
   "metadata": {},
   "outputs": [],
   "source": [
    "# Import all of the reduced files as dataframes\n",
    "wave1 = pd.read_csv(\"wave1.csv\")\n",
    "wave3 = pd.read_csv(\"wave3.csv\")\n",
    "wave4 = pd.read_csv(\"wave4.csv\")"
   ]
  },
  {
   "cell_type": "code",
   "execution_count": 3,
   "id": "e1714898",
   "metadata": {},
   "outputs": [
    {
     "data": {
      "text/plain": [
       "AID        int64\n",
       "BIO_SEX    int64\n",
       "IMONTH     int64\n",
       "IDAY       int64\n",
       "IYEAR      int64\n",
       "H1GI1M     int64\n",
       "H1GI1Y     int64\n",
       "H1GI4      int64\n",
       "H1GI6A     int64\n",
       "H1GI6B     int64\n",
       "H1GI6C     int64\n",
       "H1GI6D     int64\n",
       "H1GI6E     int64\n",
       "H1GI8      int64\n",
       "H1GI9      int64\n",
       "H1NM4      int64\n",
       "H1NF4      int64\n",
       "H1RM1      int64\n",
       "H1RF1      int64\n",
       "dtype: object"
      ]
     },
     "execution_count": 3,
     "metadata": {},
     "output_type": "execute_result"
    }
   ],
   "source": [
    "wave1.dtypes"
   ]
  },
  {
   "cell_type": "code",
   "execution_count": 4,
   "id": "0c06be98",
   "metadata": {},
   "outputs": [
    {
     "data": {
      "text/plain": [
       "AID      int64\n",
       "H3MN1    int64\n",
       "dtype: object"
      ]
     },
     "execution_count": 4,
     "metadata": {},
     "output_type": "execute_result"
    }
   ],
   "source": [
    "wave3.dtypes"
   ]
  },
  {
   "cell_type": "code",
   "execution_count": 5,
   "id": "cf26f4ad",
   "metadata": {},
   "outputs": [
    {
     "data": {
      "text/plain": [
       "AID      int64\n",
       "H4ED2    int64\n",
       "dtype: object"
      ]
     },
     "execution_count": 5,
     "metadata": {},
     "output_type": "execute_result"
    }
   ],
   "source": [
    "wave4.dtypes"
   ]
  },
  {
   "cell_type": "markdown",
   "id": "2189e7dc",
   "metadata": {},
   "source": [
    "**<font color='orange'>Off by one errors: </font> Many of the reported\n",
    "statistics hold true with an off-by-one error.** After searching my own data, I am willing to accept this error with the belief that the original authors may have accidentally included the header in their counts or some other simple bug."
   ]
  },
  {
   "cell_type": "markdown",
   "id": "fe1d7a97",
   "metadata": {},
   "source": [
    "**<font color='orange'>Misleading intermediate statistic in publication: </font> The percentage reduction (13.8%) does not match what was stated in the paper (14.4%).** Strange since Wave I to Wave III percentage matches perfectly.\n",
    "\n",
    "I believe this is a misleading sentence where the authors actually included the 28 participants with missing responses in the data. The paper states there are 4181 final participants, which before the 28 with missing responses would make 4209 entries, only one away from the number we've received."
   ]
  },
  {
   "cell_type": "code",
   "execution_count": 6,
   "id": "b3777228",
   "metadata": {},
   "outputs": [],
   "source": [
    "# Calculate ages (must be calculated after removing missing values)\n",
    "def age(row):\n",
    "    if row[\"H1GI1Y\"] == 96 or row[\"H1GI1M\"] == 96:\n",
    "        # Participant did not share their birthdate, treat age as missing\n",
    "        return 98\n",
    "    else:\n",
    "        age_in_years = row[\"IYEAR\"] - row[\"H1GI1Y\"]\n",
    "        if row[\"IMONTH\"] < row[\"H1GI1M\"]:\n",
    "            # Haven't reached birth month of year in interview\n",
    "            age_in_years -= 1\n",
    "    return int(age_in_years)\n",
    "\n",
    "wave1[\"AGE_YEARS\"] = wave1.apply(age, axis=1)"
   ]
  },
  {
   "cell_type": "code",
   "execution_count": 7,
   "id": "41b02256",
   "metadata": {},
   "outputs": [
    {
     "data": {
      "text/plain": [
       "16    1190\n",
       "17    1140\n",
       "15    1105\n",
       "14     998\n",
       "18     917\n",
       "13     823\n",
       "12     168\n",
       "19     124\n",
       "20      23\n",
       "21       9\n",
       "11       4\n",
       "98       3\n",
       "Name: AGE_YEARS, dtype: int64"
      ]
     },
     "execution_count": 7,
     "metadata": {},
     "output_type": "execute_result"
    }
   ],
   "source": [
    "wave1[\"AGE_YEARS\"].value_counts()"
   ]
  },
  {
   "cell_type": "code",
   "execution_count": 8,
   "id": "4e7f8e1b",
   "metadata": {},
   "outputs": [],
   "source": [
    "# Combine parental educational attainment before discovering missing\n",
    "# (As there are plenty of rows missing at least one of these)\n",
    "def parent_no_college(row):\n",
    "    values = [row[\"H1NM4\"], row[\"H1NF4\"], row[\"H1RM1\"], row[\"H1RF1\"]]\n",
    "    # At least one parent graduated college\n",
    "    if 8 in values or 9 in values: return 0\n",
    "    # All parents have error code, condense to one error code\n",
    "    if min(values) >= 97: return 98\n",
    "    # If not, code as no parental college education\n",
    "    return 1\n",
    "\n",
    "wave1[\"PARENT_NO_EDU\"] = wave1.apply(parent_no_college, axis=1)"
   ]
  },
  {
   "cell_type": "code",
   "execution_count": 9,
   "id": "ee29858f",
   "metadata": {
    "scrolled": true
   },
   "outputs": [
    {
     "data": {
      "text/plain": [
       "1     3901\n",
       "0     2548\n",
       "98      55\n",
       "Name: PARENT_NO_EDU, dtype: int64"
      ]
     },
     "execution_count": 9,
     "metadata": {},
     "output_type": "execute_result"
    }
   ],
   "source": [
    "wave1[\"PARENT_NO_EDU\"].value_counts()"
   ]
  },
  {
   "cell_type": "code",
   "execution_count": 10,
   "id": "22acd36e",
   "metadata": {},
   "outputs": [],
   "source": [
    "wave4[\"EDU_ATTAINED\"] = wave4[\"H4ED2\"]"
   ]
  },
  {
   "cell_type": "code",
   "execution_count": 11,
   "id": "d45d0ca4",
   "metadata": {},
   "outputs": [],
   "source": [
    "def participant_graduated(row):\n",
    "    if row[\"H4ED2\"] <= 4:\n",
    "        return 0\n",
    "    elif row[\"H4ED2\"] >= 5 and row[\"H4ED2\"] <= 13:\n",
    "        return 1\n",
    "    else:\n",
    "        # Return missing value\n",
    "        return 98\n",
    "\n",
    "wave4[\"EDU_ATTAINED_BINARY\"] = wave4.apply(participant_graduated, axis=1)"
   ]
  },
  {
   "cell_type": "code",
   "execution_count": 12,
   "id": "d9ccdc00",
   "metadata": {},
   "outputs": [
    {
     "data": {
      "text/plain": [
       "1     3697\n",
       "0     1416\n",
       "98       1\n",
       "Name: EDU_ATTAINED_BINARY, dtype: int64"
      ]
     },
     "execution_count": 12,
     "metadata": {},
     "output_type": "execute_result"
    }
   ],
   "source": [
    "wave4[\"EDU_ATTAINED_BINARY\"].value_counts()"
   ]
  },
  {
   "cell_type": "code",
   "execution_count": 13,
   "id": "072dc12a",
   "metadata": {},
   "outputs": [],
   "source": [
    "# Code racial category before discovering missing\n",
    "# (As there are plenty of rows missing at least one of these)\n",
    "def racial_category(row):\n",
    "    if row[\"H1GI4\"] == 1: \n",
    "        race = 0  # Latino\n",
    "    elif row[\"H1GI8\"] in [1, 2, 3, 4, 5]:\n",
    "        race = row[\"H1GI8\"]\n",
    "    elif row[\"H1GI8\"] == 7:\n",
    "        if row[\"H1GI6A\"] == 1: race = 1    # White\n",
    "        elif row[\"H1GI6B\"] == 1: race = 2  # Black\n",
    "        elif row[\"H1GI6C\"] == 1: race = 3  # Native American\n",
    "        elif row[\"H1GI6D\"] == 1: race = 4  # Asian / PI\n",
    "        elif row[\"H1GI6E\"] == 1: race = 5  # Other\n",
    "        else: race = 98\n",
    "    else:\n",
    "        race = 98  # Mark all missing as \"don't know\" for convienience\n",
    "    \n",
    "    return race\n",
    "\n",
    "wave1[\"RACE\"] = wave1.apply(racial_category, axis=1)"
   ]
  },
  {
   "cell_type": "code",
   "execution_count": 14,
   "id": "d3d65103",
   "metadata": {},
   "outputs": [
    {
     "data": {
      "text/plain": [
       "1     3853\n",
       "2     1550\n",
       "0      743\n",
       "4      228\n",
       "3       58\n",
       "5       56\n",
       "98      16\n",
       "Name: RACE, dtype: int64"
      ]
     },
     "execution_count": 14,
     "metadata": {},
     "output_type": "execute_result"
    }
   ],
   "source": [
    "wave1[\"RACE\"].value_counts()"
   ]
  },
  {
   "cell_type": "code",
   "execution_count": 15,
   "id": "116b579b",
   "metadata": {},
   "outputs": [],
   "source": [
    "# Separate race into variables for covariates (Hispanic, Black, Other race)\n",
    "# Where 0 = not of that race, 1 = of that race\n",
    "wave1[\"RACE_HISPANIC\"] = wave1[\"RACE\"] == 0\n",
    "wave1[\"RACE_HISPANIC\"] = wave1[\"RACE_HISPANIC\"].astype(int)\n",
    "\n",
    "wave1[\"RACE_WHITE\"] = wave1[\"RACE\"] == 1\n",
    "wave1[\"RACE_WHITE\"] = wave1[\"RACE_WHITE\"].astype(int)\n",
    "\n",
    "wave1[\"RACE_BLACK\"] = wave1[\"RACE\"] == 2\n",
    "wave1[\"RACE_BLACK\"] = wave1[\"RACE_BLACK\"].astype(int)\n",
    "\n",
    "wave1[\"RACE_OTHER\"] = ((wave1[\"RACE\"] == 3) |\n",
    "                       (wave1[\"RACE\"] == 4) |\n",
    "                       (wave1[\"RACE\"] == 5))\n",
    "wave1[\"RACE_OTHER\"] = wave1[\"RACE_OTHER\"].astype(int)"
   ]
  },
  {
   "cell_type": "code",
   "execution_count": 16,
   "id": "965ff66b",
   "metadata": {},
   "outputs": [],
   "source": [
    "# Remap biological sex to zero-indexed values (male = 0, female = 1)\n",
    "wave1[\"BIO_SEX\"].replace(1, 0, inplace=True)\n",
    "wave1[\"BIO_SEX\"].replace(2, 1, inplace=True)"
   ]
  },
  {
   "cell_type": "code",
   "execution_count": 17,
   "id": "24504c49",
   "metadata": {},
   "outputs": [],
   "source": [
    "# Rename mentorship column to more readable name\n",
    "wave3[\"MENTOR\"] = wave3[\"H3MN1\"]"
   ]
  },
  {
   "cell_type": "code",
   "execution_count": 18,
   "id": "60750e3d",
   "metadata": {},
   "outputs": [
    {
     "name": "stdout",
     "output_type": "stream",
     "text": [
      "Before (wave 1), number of rows: 6504\n",
      "After (merged wave 1 & 3), number of rows: 4882\n",
      "Percentage reduction: 0.2493849938499385\n"
     ]
    }
   ],
   "source": [
    "# Merge waves 1 and 3 based on AID and compare percentage\n",
    "# From paper: \"Of respondents at Wave I, 24.9% did not participate in the Wave III home interview\"\n",
    "print(\"Before (wave 1), number of rows:\", wave1.shape[0])\n",
    "merged_wave_13 = wave1.merge(wave3, how=\"inner\", on=\"AID\", validate=\"one_to_one\")\n",
    "print(\"After (merged wave 1 & 3), number of rows:\", merged_wave_13.shape[0])\n",
    "print(\"Percentage reduction:\", (wave1.shape[0]-merged_wave_13.shape[0]) / wave1.shape[0])"
   ]
  },
  {
   "cell_type": "code",
   "execution_count": 19,
   "id": "0405ce47",
   "metadata": {
    "scrolled": true
   },
   "outputs": [
    {
     "name": "stdout",
     "output_type": "stream",
     "text": [
      "Before (merged wave 1 & 3), number of rows: 4882\n",
      "After (merged wave 1, 3 & 4), number of rows: 4208\n",
      "Percentage reduction: 0.13805817287996722\n",
      "Percentage reduction (including reported 28 missing values): 0.14379352724293323\n"
     ]
    }
   ],
   "source": [
    "# Merge combined 1 & 3 waves with wave 4 based on AID and compare percentage\n",
    "# From paper: \"14.4% of respondents who participated in both Wave I and III \n",
    "# did not participate in Wave IV\"\n",
    "print(\"Before (merged wave 1 & 3), number of rows:\", merged_wave_13.shape[0])\n",
    "merged_wave_all = merged_wave_13.merge(wave4, how=\"inner\", on=\"AID\", validate=\"one_to_one\")\n",
    "print(\"After (merged wave 1, 3 & 4), number of rows:\", merged_wave_all.shape[0])\n",
    "print(\"Percentage reduction:\", (merged_wave_13.shape[0]-merged_wave_all.shape[0]) / \n",
    "                                merged_wave_13.shape[0])\n",
    "print(\"Percentage reduction (including reported 28 missing values):\", \n",
    "      (merged_wave_13.shape[0]-merged_wave_all.shape[0]+28) / \n",
    "       merged_wave_13.shape[0])"
   ]
  },
  {
   "cell_type": "markdown",
   "id": "5d7e307d",
   "metadata": {},
   "source": [
    "**<font color='orange'>Potential issue: </font> The missing data count (29) requires a non-documented interpretation of \"missing data or non-response\" where racial \"don't know\" responses are ignored but others included.** Perhaps some interpretations of race would allow for this."
   ]
  },
  {
   "cell_type": "code",
   "execution_count": 21,
   "id": "ee37237d",
   "metadata": {},
   "outputs": [
    {
     "name": "stdout",
     "output_type": "stream",
     "text": [
      "Number of dropped participants due to missing / non-response: 35\n",
      "Number of participants after cleaning: 4173\n"
     ]
    }
   ],
   "source": [
    "# Drop missing values (based on codes for each field) and compare count\n",
    "# In paper: \"Just 28 participants (< .01%) who responded at all 3 waves\n",
    "# of data collection were excluded as a result of missing data or non-response.\"\n",
    "# Seems to not include \"Don't know\"-type responses for race (commented out)\n",
    "drop_codes = {\n",
    "    \"BIO_SEX\": [6],\n",
    "    \"MENTOR\": [8],\n",
    "    \"PARENT_NO_EDU\": [98],\n",
    "    \"RACE\": [98],\n",
    "    \"EDU_ATTAINED\": [98],\n",
    "    \"EDU_ATTAINED_BINARY\": [98],\n",
    "    \"AGE_YEARS\": [98]\n",
    "}\n",
    "\n",
    "def in_drop_codes(row):\n",
    "    for col, val in row.items():\n",
    "        if col in drop_codes and val in drop_codes[col]:\n",
    "            return True\n",
    "    return False\n",
    "\n",
    "merged_wave_all_dropped = merged_wave_all.loc[\n",
    "        merged_wave_all.apply(in_drop_codes, axis=1), :]\n",
    "print(\"Number of dropped participants due to missing / non-response:\",\n",
    "      merged_wave_all_dropped.shape[0])\n",
    "merged_wave_all_clean = merged_wave_all.loc[\n",
    "        ~merged_wave_all.apply(in_drop_codes, axis=1), :]\n",
    "print(\"Number of participants after cleaning:\",\n",
    "      merged_wave_all_clean.shape[0])"
   ]
  },
  {
   "cell_type": "markdown",
   "id": "7d29e0fd",
   "metadata": {},
   "source": [
    "**<font color='red'>Replication issue: </font> None of the demographic information matches exactly.** It is unclear exactly how these categories were defined."
   ]
  },
  {
   "cell_type": "code",
   "execution_count": 22,
   "id": "fc20d2d6",
   "metadata": {},
   "outputs": [
    {
     "name": "stdout",
     "output_type": "stream",
     "text": [
      "Percentage categorized as Female (from original): 0.515990159901599\n",
      "Percentage categorized as RACE_WHITE (from original): 0.5924046740467405\n",
      "Percentage categorized as RACE_BLACK (from original): 0.23831488314883148\n",
      "Percentage categorized as RACE_HISPANIC (from original): 0.11423739237392373\n",
      "Percentage categorized as RACE_OTHER (from original): 0.052583025830258305\n",
      "\n",
      "Percentage categorized as Female (from merged): 0.5541825095057035\n",
      "Percentage categorized as RACE_WHITE (from merged): 0.6209600760456274\n",
      "Percentage categorized as RACE_BLACK (from merged): 0.22908745247148288\n",
      "Percentage categorized as RACE_HISPANIC (from merged): 0.09862167300380228\n",
      "Percentage categorized as RACE_OTHER (from merged): 0.048716730038022814\n",
      "\n",
      "Percentage categorized as Female (from merged & cleaned): 0.5549964054636952\n",
      "Percentage categorized as RACE_WHITE (from merged & cleaned): 0.6232925952552121\n",
      "Percentage categorized as RACE_BLACK (from merged & cleaned): 0.22861250898634075\n",
      "Percentage categorized as RACE_HISPANIC (from merged & cleaned): 0.09920920201294033\n",
      "Percentage categorized as RACE_OTHER (from merged & cleaned): 0.04888569374550683\n",
      "\n"
     ]
    }
   ],
   "source": [
    "# Compare remaining intermediate statistics\n",
    "# In paper: \"The sample was 51.2% female, with racial diversity largely \n",
    "# reflective of the United States at the time of Wave I data collection \n",
    "# (60.7% White/Caucasian, 20.6% African American [oversampled], 8.4% Latino, \n",
    "# 10.3% other).\"\n",
    "\n",
    "datasets_to_check = {\"original\": wave1, \n",
    "                     \"merged\": merged_wave_all, \n",
    "                     \"merged & cleaned\": merged_wave_all_clean}\n",
    "for info, dataset in datasets_to_check.items():\n",
    "    print(f\"Percentage categorized as Female (from {info}):\", (dataset[\"BIO_SEX\"]==0).sum() / dataset.shape[0])\n",
    "    races_to_check = [\"RACE_WHITE\", \"RACE_BLACK\", \"RACE_HISPANIC\", \"RACE_OTHER\"]\n",
    "    for race_col_name in races_to_check:\n",
    "        print(f\"Percentage categorized as {race_col_name} (from {info}):\", (\n",
    "            dataset[race_col_name]==1).sum() / dataset.shape[0])\n",
    "    print(\"\")"
   ]
  },
  {
   "cell_type": "code",
   "execution_count": 23,
   "id": "e4716f4c",
   "metadata": {},
   "outputs": [],
   "source": [
    "# Drop unneeded rows for clean version\n",
    "merged_wave_all_clean = merged_wave_all_clean[[\"BIO_SEX\", \"AGE_YEARS\", \"MENTOR\", \"PARENT_NO_EDU\", \n",
    "                                               \"RACE\", \"RACE_HISPANIC\", \"RACE_WHITE\", \"RACE_BLACK\", \n",
    "                                               \"RACE_OTHER\", \"EDU_ATTAINED\", \"EDU_ATTAINED_BINARY\"]]"
   ]
  },
  {
   "cell_type": "code",
   "execution_count": 24,
   "id": "128287ac",
   "metadata": {},
   "outputs": [
    {
     "name": "stdout",
     "output_type": "stream",
     "text": [
      "BIO_SEX : [0, 1]\n",
      "AGE_YEARS : [18, 14, 16, 15, 12, 13, 17, 19, 20, 21, 11]\n",
      "MENTOR : [1, 0]\n",
      "PARENT_NO_EDU : [1, 0]\n",
      "RACE : [2, 1, 0, 4, 5, 3]\n",
      "RACE_HISPANIC : [0, 1]\n",
      "RACE_WHITE : [0, 1]\n",
      "RACE_BLACK : [1, 0]\n",
      "RACE_OTHER : [0, 1]\n",
      "EDU_ATTAINED : [3, 2, 6, 1, 12, 7, 9, 4, 5, 13, 11, 10, 8]\n",
      "EDU_ATTAINED_BINARY : [0, 1]\n"
     ]
    }
   ],
   "source": [
    "# Check all unique values for each column to sanity check\n",
    "for col in merged_wave_all_clean:\n",
    "    print(col, \":\", list(merged_wave_all_clean[col].unique()))"
   ]
  },
  {
   "cell_type": "code",
   "execution_count": 25,
   "id": "f4f5b0ce",
   "metadata": {},
   "outputs": [],
   "source": [
    "merged_wave_all_clean.to_csv(\"replicated.csv\", index=False)"
   ]
  },
  {
   "cell_type": "markdown",
   "id": "743baef3",
   "metadata": {},
   "source": [
    "# Running R code with `rpy2`"
   ]
  },
  {
   "cell_type": "code",
   "execution_count": 28,
   "id": "a60e5ca8",
   "metadata": {},
   "outputs": [],
   "source": [
    "import rpy2\n",
    "import rpy2.robjects as ro\n",
    "from rpy2.robjects import pandas2ri\n",
    "from rpy2.robjects.packages import importr\n",
    "from rpy2.robjects.conversion import localconverter"
   ]
  },
  {
   "cell_type": "code",
   "execution_count": 29,
   "id": "f2014dd8",
   "metadata": {},
   "outputs": [
    {
     "name": "stdout",
     "output_type": "stream",
     "text": [
      "\n",
      "********************** PROCESS for R Version 4.1 ********************** \n",
      " \n",
      "           Written by Andrew F. Hayes, Ph.D.  www.afhayes.com              \n",
      "   Documentation available in Hayes (2022). www.guilford.com/p/hayes3   \n",
      " \n",
      "*********************************************************************** \n",
      " \n",
      "PROCESS is now ready for use.\n",
      "Copyright 2022 by Andrew F. Hayes ALL RIGHTS RESERVED\n",
      "Workshop schedule at http://haskayne.ucalgary.ca/CCRAM\n",
      " \n"
     ]
    },
    {
     "data": {
      "text/html": [
       "\n",
       "        <span>ListVector with 2 elements.</span>\n",
       "        <table>\n",
       "        <tbody>\n",
       "        \n",
       "          <tr>\n",
       "            <th>\n",
       "            value\n",
       "            </th>\n",
       "            <td>\n",
       "            <rpy2.rinterface_lib.sexp.NULLType object at 0x7f5935d9bbc0> [RTYPES.NILSXP]\n",
       "            </td>\n",
       "          </tr>\n",
       "        \n",
       "          <tr>\n",
       "            <th>\n",
       "            visible\n",
       "            </th>\n",
       "            <td>\n",
       "            <rpy2.rinterface.BoolSexpVector object at 0x7f5935ee6240> [RTYPES.LGLSXP]\n",
       "            </td>\n",
       "          </tr>\n",
       "        \n",
       "        </tbody>\n",
       "        </table>\n",
       "        "
      ],
      "text/plain": [
       "<rpy2.robjects.vectors.ListVector object at 0x7f5924c279c0> [RTYPES.VECSXP]\n",
       "R classes: ('list',)\n",
       "[NULLType, BoolSexpVector]\n",
       "  value: <class 'rpy2.rinterface_lib.sexp.NULLType'>\n",
       "  <rpy2.rinterface_lib.sexp.NULLType object at 0x7f5935d9bbc0> [RTYPES.NILSXP]\n",
       "  visible: <class 'rpy2.rinterface.BoolSexpVector'>\n",
       "  <rpy2.rinterface.BoolSexpVector object at 0x7f5924c57680> [RTYPES.LGLSXP]"
      ]
     },
     "execution_count": 29,
     "metadata": {},
     "output_type": "execute_result"
    }
   ],
   "source": [
    "ro.r.source('processv41/PROCESS v4.1 for R/process.R')"
   ]
  },
  {
   "cell_type": "code",
   "execution_count": 30,
   "id": "22e7e0fe",
   "metadata": {},
   "outputs": [
    {
     "data": {
      "text/html": [
       "\n",
       "        <span>R/rpy2 DataFrame (4173 x 11)</span>\n",
       "        <table>\n",
       "          <thead>\n",
       "            <tr>\n",
       "              \n",
       "              <th>BIO_SEX</th>\n",
       "              \n",
       "              <th>AGE_YEARS</th>\n",
       "              \n",
       "              <th>MENTOR</th>\n",
       "              \n",
       "              <th>...</th>\n",
       "              \n",
       "              <th>RACE_OTHER</th>\n",
       "              \n",
       "              <th>EDU_ATTAINED</th>\n",
       "              \n",
       "              <th>EDU_ATTAINED_BINARY</th>\n",
       "              \n",
       "            </tr>\n",
       "          </thead>\n",
       "          <tbody>\n",
       "          \n",
       "          <tr>\n",
       "            \n",
       "            <td>\n",
       "              0\n",
       "            </td>\n",
       "            \n",
       "            <td>\n",
       "              18\n",
       "            </td>\n",
       "            \n",
       "            <td>\n",
       "              1\n",
       "            </td>\n",
       "            \n",
       "            <td>\n",
       "              ...\n",
       "            </td>\n",
       "            \n",
       "            <td>\n",
       "              0\n",
       "            </td>\n",
       "            \n",
       "            <td>\n",
       "              3\n",
       "            </td>\n",
       "            \n",
       "            <td>\n",
       "              0\n",
       "            </td>\n",
       "            \n",
       "          </tr>\n",
       "          \n",
       "          <tr>\n",
       "            \n",
       "            <td>\n",
       "              1\n",
       "            </td>\n",
       "            \n",
       "            <td>\n",
       "              18\n",
       "            </td>\n",
       "            \n",
       "            <td>\n",
       "              0\n",
       "            </td>\n",
       "            \n",
       "            <td>\n",
       "              \n",
       "            </td>\n",
       "            \n",
       "            <td>\n",
       "              0\n",
       "            </td>\n",
       "            \n",
       "            <td>\n",
       "              2\n",
       "            </td>\n",
       "            \n",
       "            <td>\n",
       "              0\n",
       "            </td>\n",
       "            \n",
       "          </tr>\n",
       "          \n",
       "          <tr>\n",
       "            \n",
       "            <td>\n",
       "              1\n",
       "            </td>\n",
       "            \n",
       "            <td>\n",
       "              14\n",
       "            </td>\n",
       "            \n",
       "            <td>\n",
       "              0\n",
       "            </td>\n",
       "            \n",
       "            <td>\n",
       "              \n",
       "            </td>\n",
       "            \n",
       "            <td>\n",
       "              0\n",
       "            </td>\n",
       "            \n",
       "            <td>\n",
       "              2\n",
       "            </td>\n",
       "            \n",
       "            <td>\n",
       "              0\n",
       "            </td>\n",
       "            \n",
       "          </tr>\n",
       "          \n",
       "          <tr>\n",
       "            \n",
       "            <td>\n",
       "              1\n",
       "            </td>\n",
       "            \n",
       "            <td>\n",
       "              14\n",
       "            </td>\n",
       "            \n",
       "            <td>\n",
       "              0\n",
       "            </td>\n",
       "            \n",
       "            <td>\n",
       "              \n",
       "            </td>\n",
       "            \n",
       "            <td>\n",
       "              0\n",
       "            </td>\n",
       "            \n",
       "            <td>\n",
       "              6\n",
       "            </td>\n",
       "            \n",
       "            <td>\n",
       "              1\n",
       "            </td>\n",
       "            \n",
       "          </tr>\n",
       "          \n",
       "          <tr>\n",
       "            \n",
       "            <td>\n",
       "              ...\n",
       "            </td>\n",
       "            \n",
       "            <td>\n",
       "              ...\n",
       "            </td>\n",
       "            \n",
       "            <td>\n",
       "              ...\n",
       "            </td>\n",
       "            \n",
       "            <td>\n",
       "              \n",
       "            </td>\n",
       "            \n",
       "            <td>\n",
       "              ...\n",
       "            </td>\n",
       "            \n",
       "            <td>\n",
       "              ...\n",
       "            </td>\n",
       "            \n",
       "            <td>\n",
       "              ...\n",
       "            </td>\n",
       "            \n",
       "          </tr>\n",
       "          \n",
       "          <tr>\n",
       "            \n",
       "            <td>\n",
       "              0\n",
       "            </td>\n",
       "            \n",
       "            <td>\n",
       "              13\n",
       "            </td>\n",
       "            \n",
       "            <td>\n",
       "              1\n",
       "            </td>\n",
       "            \n",
       "            <td>\n",
       "              \n",
       "            </td>\n",
       "            \n",
       "            <td>\n",
       "              0\n",
       "            </td>\n",
       "            \n",
       "            <td>\n",
       "              6\n",
       "            </td>\n",
       "            \n",
       "            <td>\n",
       "              1\n",
       "            </td>\n",
       "            \n",
       "          </tr>\n",
       "          \n",
       "          <tr>\n",
       "            \n",
       "            <td>\n",
       "              0\n",
       "            </td>\n",
       "            \n",
       "            <td>\n",
       "              13\n",
       "            </td>\n",
       "            \n",
       "            <td>\n",
       "              1\n",
       "            </td>\n",
       "            \n",
       "            <td>\n",
       "              \n",
       "            </td>\n",
       "            \n",
       "            <td>\n",
       "              0\n",
       "            </td>\n",
       "            \n",
       "            <td>\n",
       "              7\n",
       "            </td>\n",
       "            \n",
       "            <td>\n",
       "              1\n",
       "            </td>\n",
       "            \n",
       "          </tr>\n",
       "          \n",
       "          <tr>\n",
       "            \n",
       "            <td>\n",
       "              1\n",
       "            </td>\n",
       "            \n",
       "            <td>\n",
       "              13\n",
       "            </td>\n",
       "            \n",
       "            <td>\n",
       "              1\n",
       "            </td>\n",
       "            \n",
       "            <td>\n",
       "              \n",
       "            </td>\n",
       "            \n",
       "            <td>\n",
       "              0\n",
       "            </td>\n",
       "            \n",
       "            <td>\n",
       "              7\n",
       "            </td>\n",
       "            \n",
       "            <td>\n",
       "              1\n",
       "            </td>\n",
       "            \n",
       "          </tr>\n",
       "          \n",
       "          <tr>\n",
       "            \n",
       "            <td>\n",
       "              0\n",
       "            </td>\n",
       "            \n",
       "            <td>\n",
       "              14\n",
       "            </td>\n",
       "            \n",
       "            <td>\n",
       "              1\n",
       "            </td>\n",
       "            \n",
       "            <td>\n",
       "              \n",
       "            </td>\n",
       "            \n",
       "            <td>\n",
       "              0\n",
       "            </td>\n",
       "            \n",
       "            <td>\n",
       "              6\n",
       "            </td>\n",
       "            \n",
       "            <td>\n",
       "              1\n",
       "            </td>\n",
       "            \n",
       "          </tr>\n",
       "          \n",
       "          </tbody>\n",
       "        </table>\n",
       "    "
      ],
      "text/plain": [
       "<rpy2.robjects.vectors.DataFrame object at 0x7f5924c771c0> [RTYPES.VECSXP]\n",
       "R classes: ('data.frame',)\n",
       "[IntSexpVe..., IntSexpVe..., IntSexpVe..., IntSexpVe..., ..., IntSexpVe..., IntSexpVe..., IntSexpVe..., IntSexpVe...]\n",
       "  BIO_SEX: <class 'rpy2.robjects.vectors.IntVector'>\n",
       "  <rpy2.robjects.vectors.IntVector object at 0x7f5935ecb580> [RTYPES.INTSXP]\n",
       "R classes: ('integer',)\n",
       "[0, 1, 1, 1, ..., 0, 0, 1, 0]\n",
       "  AGE_YEARS: <class 'rpy2.robjects.vectors.IntVector'>\n",
       "  <rpy2.robjects.vectors.IntVector object at 0x7f5924c27040> [RTYPES.INTSXP]\n",
       "R classes: ('integer',)\n",
       "[18, 18, 14, 14, ..., 13, 13, 13, 14]\n",
       "  MENTOR: <class 'rpy2.robjects.vectors.IntVector'>\n",
       "  <rpy2.robjects.vectors.IntVector object at 0x7f5924c76540> [RTYPES.INTSXP]\n",
       "R classes: ('integer',)\n",
       "[1, 0, 0, 0, ..., 1, 1, 1, 1]\n",
       "  PARENT_NO_EDU: <class 'rpy2.robjects.vectors.IntVector'>\n",
       "  <rpy2.robjects.vectors.IntVector object at 0x7f5924c76980> [RTYPES.INTSXP]\n",
       "R classes: ('integer',)\n",
       "[1, 1, 1, 0, ..., 1, 0, 0, 1]\n",
       "...\n",
       "  RACE_HISPANIC: <class 'rpy2.robjects.vectors.IntVector'>\n",
       "  <rpy2.robjects.vectors.IntVector object at 0x7f5924c77c80> [RTYPES.INTSXP]\n",
       "R classes: ('integer',)\n",
       "[1, 1, 0, 0, ..., 0, 1, 1, 0]\n",
       "  RACE_WHITE: <class 'rpy2.robjects.vectors.IntVector'>\n",
       "  <rpy2.robjects.vectors.IntVector object at 0x7f5924c77c40> [RTYPES.INTSXP]\n",
       "R classes: ('integer',)\n",
       "[0, 0, 0, 0, ..., 0, 0, 0, 0]\n",
       "  RACE_BLACK: <class 'rpy2.robjects.vectors.IntVector'>\n",
       "  <rpy2.robjects.vectors.IntVector object at 0x7f5935d245c0> [RTYPES.INTSXP]\n",
       "R classes: ('integer',)\n",
       "[3, 2, 2, 6, ..., 6, 7, 7, 6]\n",
       "  RACE_OTHER: <class 'rpy2.robjects.vectors.IntVector'>\n",
       "  <rpy2.robjects.vectors.IntVector object at 0x7f5924ca8100> [RTYPES.INTSXP]\n",
       "R classes: ('integer',)\n",
       "[0, 0, 0, 1, ..., 1, 1, 1, 1]"
      ]
     },
     "execution_count": 30,
     "metadata": {},
     "output_type": "execute_result"
    }
   ],
   "source": [
    "with localconverter(ro.default_converter + pandas2ri.converter):\n",
    "    r_df = ro.conversion.py2rpy(merged_wave_all_clean)\n",
    "    \n",
    "r_df"
   ]
  },
  {
   "cell_type": "code",
   "execution_count": 31,
   "id": "a7b37a0b",
   "metadata": {},
   "outputs": [
    {
     "name": "stdout",
     "output_type": "stream",
     "text": [
      "    BIO_SEX        AGE_YEARS         MENTOR       PARENT_NO_EDU  \n",
      " Min.   :0.000   Min.   :11.00   Min.   :0.0000   Min.   :0.000  \n",
      " 1st Qu.:0.000   1st Qu.:14.00   1st Qu.:1.0000   1st Qu.:0.000  \n",
      " Median :0.000   Median :15.00   Median :1.0000   Median :1.000  \n",
      " Mean   :0.445   Mean   :15.46   Mean   :0.7783   Mean   :0.589  \n",
      " 3rd Qu.:1.000   3rd Qu.:17.00   3rd Qu.:1.0000   3rd Qu.:1.000  \n",
      " Max.   :1.000   Max.   :21.00   Max.   :1.0000   Max.   :1.000  \n",
      "      RACE       RACE_HISPANIC       RACE_WHITE       RACE_BLACK    \n",
      " Min.   :0.000   Min.   :0.00000   Min.   :0.0000   Min.   :0.0000  \n",
      " 1st Qu.:1.000   1st Qu.:0.00000   1st Qu.:0.0000   1st Qu.:0.0000  \n",
      " Median :1.000   Median :0.00000   Median :1.0000   Median :0.0000  \n",
      " Mean   :1.277   Mean   :0.09921   Mean   :0.6233   Mean   :0.2286  \n",
      " 3rd Qu.:2.000   3rd Qu.:0.00000   3rd Qu.:1.0000   3rd Qu.:0.0000  \n",
      " Max.   :5.000   Max.   :1.00000   Max.   :1.0000   Max.   :1.0000  \n",
      "   RACE_OTHER       EDU_ATTAINED    EDU_ATTAINED_BINARY\n",
      " Min.   :0.00000   Min.   : 1.000   Min.   :0.00       \n",
      " 1st Qu.:0.00000   1st Qu.: 4.000   1st Qu.:0.00       \n",
      " Median :0.00000   Median : 6.000   Median :1.00       \n",
      " Mean   :0.04889   Mean   : 5.798   Mean   :0.74       \n",
      " 3rd Qu.:0.00000   3rd Qu.: 7.000   3rd Qu.:1.00       \n",
      " Max.   :1.00000   Max.   :13.000   Max.   :1.00       \n",
      "\n"
     ]
    }
   ],
   "source": [
    "print(ro.r['summary'](r_df))"
   ]
  },
  {
   "cell_type": "code",
   "execution_count": 32,
   "id": "215027a1",
   "metadata": {},
   "outputs": [
    {
     "data": {
      "text/plain": [
       "<rpy2.robjects.functions.SignatureTranslatedFunction object at 0x7f5935e7fcc0> [RTYPES.CLOSXP]\n",
       "R classes: ('function',)"
      ]
     },
     "execution_count": 32,
     "metadata": {},
     "output_type": "execute_result"
    }
   ],
   "source": [
    "ro.r[\"process\"]"
   ]
  },
  {
   "cell_type": "code",
   "execution_count": 33,
   "id": "60a59d96",
   "metadata": {},
   "outputs": [],
   "source": [
    "r_covariate_names = ro.vectors.StrVector([\"AGE_YEARS\", \"BIO_SEX\", \"RACE_HISPANIC\", \"RACE_BLACK\", \"RACE_OTHER\"])"
   ]
  },
  {
   "cell_type": "code",
   "execution_count": null,
   "id": "d6cd031a",
   "metadata": {},
   "outputs": [],
   "source": [
    "buf = []\n",
    "def f(x):\n",
    "    # function that append its argument to the list 'buf'\n",
    "    buf.append(x)\n",
    "\n",
    "consolewrite_print_backup = rpy2.rinterface_lib.callbacks.consolewrite_print\n",
    "rpy2.rinterface_lib.callbacks.consolewrite_print = f"
   ]
  },
  {
   "cell_type": "code",
   "execution_count": 34,
   "id": "68d86180",
   "metadata": {},
   "outputs": [
    {
     "name": "stdout",
     "output_type": "stream",
     "text": [
      "\n",
      "********************** PROCESS for R Version 4.1 ********************** \n",
      " \n",
      "           Written by Andrew F. Hayes, Ph.D.  www.afhayes.com              \n",
      "   Documentation available in Hayes (2022). www.guilford.com/p/hayes3   \n",
      " \n",
      "*********************************************************************** \n",
      "                     \n",
      "Model : 1            \n",
      "    Y : EDU_ATTAINED \n",
      "    X : MENTOR       \n",
      "    W : PARENT_NO_EDU\n",
      "\n",
      "Covariates: \n",
      "       AGE_YEARS BIO_SEX RACE_HISPANIC RACE_BLACK RACE_OTHER\n",
      "\n",
      "Sample size: 4173\n",
      "\n",
      "\n",
      "*********************************************************************** \n",
      "Outcome Variable: EDU_ATTAINED\n",
      "\n",
      "Model Summary: \n",
      "          R      R-sq       MSE         F       df1       df2         p\n",
      "     0.3991    0.1593    4.1281   98.6113    8.0000 4164.0000    0.0000\n",
      "\n",
      "Model: \n",
      "                  coeff        se         t         p      LLCI      ULCI\n",
      "constant         6.4267    0.3000   21.4211    0.0000    5.8385    7.0149\n",
      "MENTOR           0.2679    0.1311    2.0434    0.0411    0.0109    0.5250\n",
      "PARENT_NO_EDU   -1.8993    0.1447  -13.1237    0.0000   -2.1830   -1.6156\n",
      "Int_1            0.4467    0.1610    2.7740    0.0056    0.1310    0.7624\n",
      "AGE_YEARS        0.0276    0.0178    1.5481    0.1217   -0.0073    0.0625\n",
      "BIO_SEX         -0.5941    0.0636   -9.3437    0.0000   -0.7187   -0.4694\n",
      "RACE_HISPANIC   -0.2035    0.1086   -1.8738    0.0610   -0.4165    0.0094\n",
      "RACE_BLACK      -0.2616    0.0770   -3.3978    0.0007   -0.4126   -0.1107\n",
      "RACE_OTHER       0.0880    0.1481    0.5944    0.5523   -0.2024    0.3785\n",
      "\n",
      "Product terms key:\n",
      "Int_1  :  MENTOR  x  PARENT_NO_EDU      \n",
      "\n",
      "Test(s) of highest order unconditional interaction(s):\n",
      "      R2-chng         F       df1       df2         p\n",
      "X*W    0.0016    7.6949    1.0000 4164.0000    0.0056\n",
      "----------\n",
      "Focal predictor: MENTOR (X)\n",
      "      Moderator: PARENT_NO_EDU (W)\n",
      "\n",
      "Conditional effects of the focal predictor at values of the moderator(s):\n",
      "  PARENT_NO_EDU    effect        se         t         p      LLCI      ULCI\n",
      "         0.0000    0.2679    0.1311    2.0434    0.0411    0.0109    0.5250\n",
      "         1.0000    0.7147    0.0939    7.6091    0.0000    0.5305    0.8988\n",
      "\n",
      "******************** ANALYSIS NOTES AND ERRORS ************************ \n",
      "\n",
      "Level of confidence for all confidence intervals in output: 95\n"
     ]
    }
   ],
   "source": [
    "r_response = ro.r['process'](data=r_df, y=\"EDU_ATTAINED\", x=\"MENTOR\", w=\"PARENT_NO_EDU\", model=1, cov=r_covariate_names, save=2)"
   ]
  },
  {
   "cell_type": "code",
   "execution_count": 35,
   "id": "5085c18d",
   "metadata": {},
   "outputs": [
    {
     "data": {
      "text/html": [
       "\n",
       "        <span>FloatMatrix with 91 elements.</span>\n",
       "        <table>\n",
       "        <tbody>\n",
       "          <tr>\n",
       "          \n",
       "            <td>\n",
       "            0.399097\n",
       "            </td>\n",
       "          \n",
       "            <td>\n",
       "            6.426675\n",
       "            </td>\n",
       "          \n",
       "            <td>\n",
       "            0.267945\n",
       "            </td>\n",
       "          \n",
       "            <td>\n",
       "            ...\n",
       "            </td>\n",
       "          \n",
       "            <td>\n",
       "                 nan\n",
       "            </td>\n",
       "          \n",
       "            <td>\n",
       "            0.525025\n",
       "            </td>\n",
       "          \n",
       "            <td>\n",
       "            0.898803\n",
       "            </td>\n",
       "          \n",
       "          </tr>\n",
       "        </tbody>\n",
       "        </table>\n",
       "        "
      ],
      "text/plain": [
       "<rpy2.robjects.vectors.FloatMatrix object at 0x7f5924ca6900> [RTYPES.REALSXP]\n",
       "R classes: ('matrix',)\n",
       "[0.399097, 6.426675, 0.267945, -1.899313, ...,      nan,      nan, 0.525025, 0.898803]"
      ]
     },
     "execution_count": 35,
     "metadata": {},
     "output_type": "execute_result"
    }
   ],
   "source": [
    "r_response"
   ]
  },
  {
   "cell_type": "code",
   "execution_count": 36,
   "id": "d56e1b84",
   "metadata": {},
   "outputs": [],
   "source": [
    "with localconverter(ro.default_converter + pandas2ri.converter):\n",
    "    py_response = ro.conversion.rpy2py(r_response)"
   ]
  },
  {
   "cell_type": "code",
   "execution_count": 41,
   "id": "0d6e30fc",
   "metadata": {},
   "outputs": [
    {
     "data": {
      "text/plain": [
       "array([[ 3.99097479e-01,  1.59278798e-01,  4.12807316e+00,\n",
       "         9.86113044e+01,  8.00000000e+00,  4.16400000e+03,\n",
       "         0.00000000e+00],\n",
       "       [ 6.42667460e+00,  3.00016583e-01,  2.14210646e+01,\n",
       "         1.17380671e-96,  5.83848193e+00,  7.01486728e+00,\n",
       "                    nan],\n",
       "       [ 2.67944671e-01,  1.31127498e-01,  2.04339040e+00,\n",
       "         4.10766193e-02,  1.08647688e-02,  5.25024574e-01,\n",
       "                    nan],\n",
       "       [-1.89931283e+00,  1.44723853e-01, -1.31237028e+01,\n",
       "         1.39103268e-38, -2.18304884e+00, -1.61557681e+00,\n",
       "                    nan],\n",
       "       [ 4.46721159e-01,  1.61040483e-01,  2.77396809e+00,\n",
       "         5.56238643e-03,  1.30995838e-01,  7.62446480e-01,\n",
       "                    nan],\n",
       "       [ 2.75551289e-02,  1.77994211e-02,  1.54809130e+00,\n",
       "         1.21676310e-01, -7.34123901e-03,  6.24514968e-02,\n",
       "                    nan],\n",
       "       [-5.94075639e-01,  6.35801226e-02, -9.34373220e+00,\n",
       "         1.47556983e-20, -7.18726623e-01, -4.69424655e-01,\n",
       "                    nan],\n",
       "       [-2.03541723e-01,  1.08623619e-01, -1.87382565e+00,\n",
       "         6.10244385e-02, -4.16502007e-01,  9.41856139e-03,\n",
       "                    nan],\n",
       "       [-2.61634852e-01,  7.70023594e-02, -3.39775111e+00,\n",
       "         6.85795448e-04, -4.12600586e-01, -1.10669118e-01,\n",
       "                    nan],\n",
       "       [ 8.80472190e-02,  1.48139227e-01,  5.94354518e-01,\n",
       "         5.52307312e-01, -2.02384754e-01,  3.78479192e-01,\n",
       "                    nan],\n",
       "       [ 1.55361784e-03,  7.69489894e+00,  1.00000000e+00,\n",
       "         4.16400000e+03,  5.56238643e-03,             nan,\n",
       "                    nan],\n",
       "       [ 0.00000000e+00,  2.67944671e-01,  1.31127498e-01,\n",
       "         2.04339040e+00,  4.10766193e-02,  1.08647688e-02,\n",
       "         5.25024574e-01],\n",
       "       [ 1.00000000e+00,  7.14665831e-01,  9.39219912e-02,\n",
       "         7.60914267e+00,  3.39129895e-14,  5.30528585e-01,\n",
       "         8.98803076e-01]])"
      ]
     },
     "execution_count": 41,
     "metadata": {},
     "output_type": "execute_result"
    }
   ],
   "source": [
    "py_response"
   ]
  },
  {
   "cell_type": "code",
   "execution_count": 54,
   "id": "45c477c6",
   "metadata": {},
   "outputs": [],
   "source": [
    "# Unfortunately, the output is returned in a label-less matrix that is dependent on how the output\n",
    "# is printed from R. This appears to be stable when process method signature is exactly the same, but\n",
    "# this is a risky assumption. At least assert that response shape matches size of below.\n",
    "\n",
    "model_summary_subset_columns = [\"R\", \"Rsq\", \"MSE\", \"F\", \"df1\", \"df2\", \"p\"]\n",
    "model_subset_columns = [\"coeff\", \"se\", \"t\", \"p\", \"LLCI\", \"ULCI\"]\n",
    "uncond_effects_subset_columns = [\"R2-chng\", \"F\", \"df1\", \"df2\", \"p\"]\n",
    "cond_effects_subset_columns = [\"value\", \"effect\", \"se\", \"t\", \"p\", \"LLCI\", \"ULCI\"]\n",
    "\n",
    "response_rows = [(\"model_summary\", model_summary_subset_columns),\n",
    "                 (\"constant\", model_subset_columns),\n",
    "                 (\"MENTOR\", model_subset_columns),\n",
    "                 (\"PARENT_NO_EDU\", model_subset_columns),\n",
    "                 (\"Int_1\", model_subset_columns),\n",
    "                 (\"AGE_YEARS\", model_subset_columns),\n",
    "                 (\"BIO_SEX\", model_subset_columns),\n",
    "                 (\"RACE_HISPANIC\", model_subset_columns),\n",
    "                 (\"RACE_BLACK\", model_subset_columns),\n",
    "                 (\"RACE_OTHER\", model_subset_columns),\n",
    "                 (\"uncond_effects\", uncond_effects_subset_columns),\n",
    "                 (\"PARENT_NO_EDU==0\", cond_effects_subset_columns),\n",
    "                 (\"PARENT_NO_EDU==1\", cond_effects_subset_columns)]\n",
    "response_column_subsets = [model_summary_subset_columns, model_subset_columns,\n",
    "                           uncond_effects_subset_columns, cond_effects_subset_columns]\n",
    "\n",
    "assert py_response.shape[0] == len(response_rows)\n",
    "assert py_response.shape[1] == max([len(cols) for cols in response_column_subsets])\n",
    "\n",
    "for row in range(py_response.shape[0]):\n",
    "    for col in range(py_response.shape[1]):\n",
    "        if col >= len(response_rows[row][1]):\n",
    "            assert np.isnan(py_response[row, col])"
   ]
  },
  {
   "cell_type": "code",
   "execution_count": 60,
   "id": "4983b3f0",
   "metadata": {},
   "outputs": [],
   "source": [
    "def get_response(index, statistic):\n",
    "    \"\"\"Retrieves correct value from response matrix.\"\"\"\n",
    "    for i, (rr_index, rr_colname) in enumerate(response_rows):\n",
    "        if rr_index == index: break\n",
    "    for j, rc_stat in enumerate(rr_colname):\n",
    "        if rc_stat == statistic: break\n",
    "    return py_response[i, j]"
   ]
  },
  {
   "cell_type": "code",
   "execution_count": 62,
   "id": "2c0e5383",
   "metadata": {},
   "outputs": [
    {
     "data": {
      "text/plain": [
       "0.005562386434248429"
      ]
     },
     "execution_count": 62,
     "metadata": {},
     "output_type": "execute_result"
    }
   ],
   "source": [
    "# Example response\n",
    "get_response(\"Int_1\", \"p\")"
   ]
  },
  {
   "cell_type": "code",
   "execution_count": 38,
   "id": "af6b1cf9",
   "metadata": {},
   "outputs": [
    {
     "data": {
      "text/plain": [
       "'End of notebook. ♥'"
      ]
     },
     "execution_count": 38,
     "metadata": {},
     "output_type": "execute_result"
    }
   ],
   "source": [
    "\"End of notebook. ♥\""
   ]
  },
  {
   "cell_type": "code",
   "execution_count": null,
   "id": "089c90ae",
   "metadata": {},
   "outputs": [],
   "source": []
  }
 ],
 "metadata": {
  "kernelspec": {
   "display_name": "Python 3 (ipykernel)",
   "language": "python",
   "name": "python3"
  },
  "language_info": {
   "codemirror_mode": {
    "name": "ipython",
    "version": 3
   },
   "file_extension": ".py",
   "mimetype": "text/x-python",
   "name": "python",
   "nbconvert_exporter": "python",
   "pygments_lexer": "ipython3",
   "version": "3.10.4"
  }
 },
 "nbformat": 4,
 "nbformat_minor": 5
}
