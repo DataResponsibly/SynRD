{
 "cells": [
  {
   "cell_type": "code",
   "execution_count": 3,
   "id": "b5bd709f",
   "metadata": {},
   "outputs": [],
   "source": [
    "from SynRD.papers import Pierce2019Who\n",
    "from SynRD.benchmark import Benchmark\n",
    "benchmark = Benchmark()\n",
    "papers = benchmark.initialize_papers([Pierce2019Who])"
   ]
  },
  {
   "cell_type": "code",
   "execution_count": 4,
   "id": "40b2c46b",
   "metadata": {
    "scrolled": false
   },
   "outputs": [
    {
     "name": "stdout",
     "output_type": "stream",
     "text": [
      "{\n",
      "    \"authors\": [\n",
      "        \"Kayla D. R. Pierce\",\n",
      "        \"Christopher S. Quiroz\"\n",
      "    ],\n",
      "    \"base_dataframe_pickle\": \"pierce2019who_dataframe.pickle\",\n",
      "    \"current_citations\": 23,\n",
      "    \"id\": \"pierce2019whoy\",\n",
      "    \"journal\": \"Journal of Social and Personal Relationships\",\n",
      "    \"length_pages\": 21,\n",
      "    \"year\": 2019\n",
      "}\n",
      "                                                     Mixed Linear Model Regression Results\n",
      "================================================================================================================================================\n",
      "Model:                                        MixedLM                            Dependent Variable:                            positive_emotion\n",
      "No. Observations:                             1585                               Method:                                        REML            \n",
      "No. Groups:                                   3                                  Scale:                                         0.0536          \n",
      "Min. group size:                              378                                Log-Likelihood:                                -35.3799        \n",
      "Max. group size:                              621                                Converged:                                     Yes             \n",
      "Mean group size:                              528.3                                                                                             \n",
      "------------------------------------------------------------------------------------------------------------------------------------------------\n",
      "                                                                                                   Coef.    Std.Err.    z    P>|z| [0.025 0.975]\n",
      "------------------------------------------------------------------------------------------------------------------------------------------------\n",
      "Intercept                                                                                           0.789       0.235  3.350 0.001  0.327  1.250\n",
      "C(confidants)[T.2.0]                                                                               -0.000       0.016 -0.003 0.997 -0.031  0.031\n",
      "C(confidants)[T.3.0]                                                                                0.000       0.017  0.017 0.986 -0.033  0.034\n",
      "C(confidants)[T.4.0]                                                                               -0.003       0.023 -0.114 0.909 -0.048  0.042\n",
      "C(confidants)[T.5.0]                                                                               -0.004       0.027 -0.148 0.882 -0.056  0.048\n",
      "C(confidants)[T.6.0]                                                                                0.022       0.033  0.671 0.502 -0.043  0.087\n",
      "C(confidants)[T.7.0]                                                                               -0.008       0.028 -0.278 0.781 -0.063  0.048\n",
      "C(sex)[T.female]                                                                                    0.033       0.013  2.538 0.011  0.007  0.058\n",
      "C(income)[T.2]                                                                                      0.093       0.034  2.788 0.005  0.028  0.159\n",
      "C(income)[T.3]                                                                                      0.052       0.033  1.558 0.119 -0.013  0.118\n",
      "C(income)[T.4]                                                                                      0.117       0.034  3.427 0.001  0.050  0.184\n",
      "C(income)[T.5]                                                                                      0.074       0.035  2.135 0.033  0.006  0.141\n",
      "C(income)[T.6]                                                                                      0.111       0.036  3.121 0.002  0.041  0.181\n",
      "C(income)[T.7]                                                                                      0.103       0.034  3.061 0.002  0.037  0.169\n",
      "C(income)[T.8]                                                                                      0.095       0.034  2.782 0.005  0.028  0.161\n",
      "C(income)[T.9]                                                                                      0.114       0.040  2.832 0.005  0.035  0.192\n",
      "C(income)[T.10]                                                                                     0.103       0.043  2.390 0.017  0.018  0.187\n",
      "C(education_category, Treatment(reference=\"less than high school diploma\"))[T.4-year degree]       -0.019       0.026 -0.726 0.468 -0.071  0.033\n",
      "C(education_category, Treatment(reference=\"less than high school diploma\"))[T.graduate degree]      0.004       0.027  0.155 0.877 -0.049  0.057\n",
      "C(education_category, Treatment(reference=\"less than high school diploma\"))[T.high school diploma] -0.010       0.016 -0.653 0.514 -0.042  0.021\n",
      "C(education_category, Treatment(reference=\"less than high school diploma\"))[T.some college]         0.004       0.021  0.177 0.860 -0.038  0.045\n",
      "C(age_category)[T.1]                                                                               -0.016       0.328 -0.050 0.960 -0.660  0.627\n",
      "C(age_category)[T.2]                                                                               -0.052       0.328 -0.157 0.875 -0.695  0.592\n",
      "C(retired)[T.5]                                                                                    -0.027       0.017 -1.621 0.105 -0.060  0.006\n",
      "C(num_child)[T.2]                                                                                   0.001       0.018  0.036 0.972 -0.036  0.037\n",
      "C(num_child)[T.3]                                                                                   0.018       0.019  0.913 0.361 -0.020  0.055\n",
      "C(num_child)[T.4]                                                                                  -0.014       0.023 -0.618 0.537 -0.059  0.031\n",
      "C(num_child)[T.5]                                                                                  -0.009       0.028 -0.316 0.752 -0.063  0.046\n",
      "C(num_child)[T.6]                                                                                  -0.023       0.033 -0.711 0.477 -0.088  0.041\n",
      "C(num_child)[T.7]                                                                                   0.057       0.037  1.537 0.124 -0.016  0.130\n",
      "C(num_child)[T.8]                                                                                  -0.067       0.045 -1.492 0.136 -0.155  0.021\n",
      "C(num_child)[T.9]                                                                                   0.106       0.084  1.253 0.210 -0.060  0.271\n",
      "C(num_child)[T.10]                                                                                  0.013       0.118  0.106 0.915 -0.218  0.244\n",
      "C(num_child)[T.11]                                                                                  0.153       0.136  1.124 0.261 -0.114  0.419\n",
      "spouse_support                                                                                      0.032       0.007  4.940 0.000  0.019  0.045\n",
      "spouse_strain                                                                                      -0.013       0.007 -1.829 0.067 -0.026  0.001\n",
      "child_support                                                                                       0.016       0.005  3.179 0.001  0.006  0.027\n",
      "child_strain                                                                                       -0.016       0.005 -3.173 0.002 -0.026 -0.006\n",
      "friend_support                                                                                      0.020       0.007  2.759 0.006  0.006  0.034\n",
      "friend_strain                                                                                      -0.012       0.007 -1.732 0.083 -0.026  0.002\n",
      "Group Var                                                                                           0.054 8972765.892                           \n",
      "================================================================================================================================================\n",
      "\n",
      "                                                     Mixed Linear Model Regression Results\n",
      "================================================================================================================================================\n",
      "Model:                                        MixedLM                            Dependent Variable:                            negative_emotion\n",
      "No. Observations:                             1585                               Method:                                        REML            \n",
      "No. Groups:                                   3                                  Scale:                                         0.0400          \n",
      "Min. group size:                              378                                Log-Likelihood:                                192.1064        \n",
      "Max. group size:                              621                                Converged:                                     Yes             \n",
      "Mean group size:                              528.3                                                                                             \n",
      "------------------------------------------------------------------------------------------------------------------------------------------------\n",
      "                                                                                                   Coef.    Std.Err.    z    P>|z| [0.025 0.975]\n",
      "------------------------------------------------------------------------------------------------------------------------------------------------\n",
      "Intercept                                                                                           0.252       0.203  1.240 0.215 -0.146  0.650\n",
      "C(confidants)[T.2.0]                                                                               -0.001       0.014 -0.099 0.921 -0.028  0.025\n",
      "C(confidants)[T.3.0]                                                                               -0.006       0.015 -0.400 0.689 -0.035  0.023\n",
      "C(confidants)[T.4.0]                                                                                0.003       0.020  0.140 0.889 -0.036  0.042\n",
      "C(confidants)[T.5.0]                                                                               -0.006       0.023 -0.241 0.810 -0.051  0.040\n",
      "C(confidants)[T.6.0]                                                                                0.005       0.029  0.159 0.874 -0.051  0.061\n",
      "C(confidants)[T.7.0]                                                                                0.001       0.024  0.031 0.975 -0.047  0.049\n",
      "C(sex)[T.female]                                                                                   -0.062       0.011 -5.569 0.000 -0.084 -0.040\n",
      "C(income)[T.2]                                                                                     -0.041       0.029 -1.417 0.156 -0.098  0.016\n",
      "C(income)[T.3]                                                                                     -0.032       0.029 -1.118 0.263 -0.089  0.024\n",
      "C(income)[T.4]                                                                                     -0.058       0.030 -1.957 0.050 -0.116  0.000\n",
      "C(income)[T.5]                                                                                     -0.057       0.030 -1.908 0.056 -0.115  0.002\n",
      "C(income)[T.6]                                                                                     -0.077       0.031 -2.503 0.012 -0.138 -0.017\n",
      "C(income)[T.7]                                                                                     -0.074       0.029 -2.539 0.011 -0.131 -0.017\n",
      "C(income)[T.8]                                                                                     -0.072       0.029 -2.444 0.015 -0.129 -0.014\n",
      "C(income)[T.9]                                                                                     -0.090       0.035 -2.592 0.010 -0.158 -0.022\n",
      "C(income)[T.10]                                                                                    -0.107       0.037 -2.886 0.004 -0.180 -0.034\n",
      "C(education_category, Treatment(reference=\"less than high school diploma\"))[T.4-year degree]       -0.002       0.023 -0.094 0.925 -0.047  0.043\n",
      "C(education_category, Treatment(reference=\"less than high school diploma\"))[T.graduate degree]     -0.040       0.023 -1.695 0.090 -0.085  0.006\n",
      "C(education_category, Treatment(reference=\"less than high school diploma\"))[T.high school diploma] -0.028       0.014 -2.012 0.044 -0.055 -0.001\n",
      "C(education_category, Treatment(reference=\"less than high school diploma\"))[T.some college]        -0.028       0.018 -1.526 0.127 -0.064  0.008\n",
      "C(age_category)[T.1]                                                                               -0.006       0.283 -0.020 0.984 -0.561  0.549\n",
      "C(age_category)[T.2]                                                                               -0.006       0.283 -0.021 0.983 -0.562  0.550\n",
      "C(retired)[T.5]                                                                                     0.006       0.014  0.445 0.656 -0.022  0.035\n",
      "C(num_child)[T.2]                                                                                   0.015       0.016  0.948 0.343 -0.016  0.046\n",
      "C(num_child)[T.3]                                                                                   0.019       0.017  1.119 0.263 -0.014  0.051\n",
      "C(num_child)[T.4]                                                                                   0.022       0.020  1.110 0.267 -0.017  0.061\n",
      "C(num_child)[T.5]                                                                                   0.003       0.024  0.113 0.910 -0.044  0.050\n",
      "C(num_child)[T.6]                                                                                   0.054       0.028  1.903 0.057 -0.002  0.109\n",
      "C(num_child)[T.7]                                                                                   0.002       0.032  0.060 0.952 -0.061  0.065\n",
      "C(num_child)[T.8]                                                                                   0.073       0.039  1.879 0.060 -0.003  0.148\n",
      "C(num_child)[T.9]                                                                                   0.008       0.073  0.110 0.913 -0.135  0.151\n",
      "C(num_child)[T.10]                                                                                 -0.105       0.102 -1.027 0.304 -0.304  0.095\n",
      "C(num_child)[T.11]                                                                                 -0.162       0.117 -1.378 0.168 -0.392  0.068\n",
      "spouse_support                                                                                     -0.024       0.006 -4.294 0.000 -0.035 -0.013\n",
      "spouse_strain                                                                                       0.018       0.006  2.994 0.003  0.006  0.030\n",
      "child_support                                                                                      -0.014       0.004 -3.023 0.003 -0.022 -0.005\n",
      "child_strain                                                                                        0.013       0.004  2.980 0.003  0.005  0.022\n",
      "friend_support                                                                                     -0.009       0.006 -1.381 0.167 -0.021  0.004\n",
      "friend_strain                                                                                       0.023       0.006  3.808 0.000  0.011  0.035\n",
      "Group Var                                                                                           0.040 7744273.099                           \n",
      "================================================================================================================================================\n",
      "\n"
     ]
    },
    {
     "name": "stdout",
     "output_type": "stream",
     "text": [
      "3287_2 passed\n",
      "{'finding_3284_1': True, 'finding_3286_1': False, 'finding_3286_2': True, 'finding_3286_3': False, 'finding_3286_4': True, 'finding_3286_5': True, 'finding_3286_6': None, 'finding_3286_7': False, 'finding_3286_8': True, 'finding_3286_9': False, 'finding_3286_10': True, 'finding_3286_11': True, 'finding_3287_1': False, 'finding_3287_2': True, 'finding_3287_3': None, 'finding_3287_4': None, 'finding_3287_5': None, 'finding_3287_6': None, 'finding_3287_7': False, 'finding_3287_8': None, 'finding_3287_9': True, 'finding_3287_10': None}\n"
     ]
    },
    {
     "ename": "TypeError",
     "evalue": "'bool' object is not subscriptable",
     "output_type": "error",
     "traceback": [
      "\u001b[0;31m---------------------------------------------------------------------------\u001b[0m",
      "\u001b[0;31mTypeError\u001b[0m                                 Traceback (most recent call last)",
      "\u001b[0;32m<ipython-input-4-017d0248e98f>\u001b[0m in \u001b[0;36m<module>\u001b[0;34m\u001b[0m\n\u001b[1;32m      2\u001b[0m     \u001b[0mprint\u001b[0m\u001b[0;34m(\u001b[0m\u001b[0mpaper\u001b[0m\u001b[0;34m)\u001b[0m\u001b[0;34m\u001b[0m\u001b[0;34m\u001b[0m\u001b[0m\n\u001b[1;32m      3\u001b[0m     \u001b[0mpaper\u001b[0m\u001b[0;34m.\u001b[0m\u001b[0mset_synthetic_dataframe\u001b[0m\u001b[0;34m(\u001b[0m\u001b[0mpaper\u001b[0m\u001b[0;34m.\u001b[0m\u001b[0mreal_dataframe\u001b[0m\u001b[0;34m)\u001b[0m\u001b[0;34m\u001b[0m\u001b[0;34m\u001b[0m\u001b[0m\n\u001b[0;32m----> 4\u001b[0;31m     \u001b[0mbenchmark\u001b[0m\u001b[0;34m.\u001b[0m\u001b[0meval\u001b[0m\u001b[0;34m(\u001b[0m\u001b[0mpaper\u001b[0m\u001b[0;34m)\u001b[0m\u001b[0;34m\u001b[0m\u001b[0;34m\u001b[0m\u001b[0m\n\u001b[0m\u001b[1;32m      5\u001b[0m     \u001b[0;32mpass\u001b[0m\u001b[0;34m\u001b[0m\u001b[0;34m\u001b[0m\u001b[0m\n",
      "\u001b[0;32m~/miniconda3/envs/synrd/lib/python3.7/site-packages/SynRD/benchmark/benchmark.py\u001b[0m in \u001b[0;36meval\u001b[0;34m(self, paper, tests)\u001b[0m\n\u001b[1;32m     24\u001b[0m \u001b[0;34m\u001b[0m\u001b[0m\n\u001b[1;32m     25\u001b[0m         \u001b[0;32mfor\u001b[0m \u001b[0mtest\u001b[0m \u001b[0;32min\u001b[0m \u001b[0mtests_to_run\u001b[0m\u001b[0;34m:\u001b[0m\u001b[0;34m\u001b[0m\u001b[0;34m\u001b[0m\u001b[0m\n\u001b[0;32m---> 26\u001b[0;31m             \u001b[0mname\u001b[0m\u001b[0;34m,\u001b[0m \u001b[0mresult\u001b[0m \u001b[0;34m=\u001b[0m \u001b[0mtest\u001b[0m\u001b[0;34m(\u001b[0m\u001b[0mpaper\u001b[0m\u001b[0;34m)\u001b[0m\u001b[0;34m\u001b[0m\u001b[0;34m\u001b[0m\u001b[0m\n\u001b[0m\u001b[1;32m     27\u001b[0m             \u001b[0mresults\u001b[0m\u001b[0;34m[\u001b[0m\u001b[0mname\u001b[0m\u001b[0;34m]\u001b[0m \u001b[0;34m=\u001b[0m \u001b[0mresult\u001b[0m\u001b[0;34m\u001b[0m\u001b[0;34m\u001b[0m\u001b[0m\n\u001b[1;32m     28\u001b[0m \u001b[0;34m\u001b[0m\u001b[0m\n",
      "\u001b[0;32m~/miniconda3/envs/synrd/lib/python3.7/site-packages/SynRD/benchmark/benchmark.py\u001b[0m in \u001b[0;36mreal_vs_private_soft_findings\u001b[0;34m(self, paper)\u001b[0m\n\u001b[1;32m     44\u001b[0m         \u001b[0mreal_findings\u001b[0m \u001b[0;34m=\u001b[0m \u001b[0mpaper\u001b[0m\u001b[0;34m.\u001b[0m\u001b[0mrun_all_non_visual_findings\u001b[0m\u001b[0;34m(\u001b[0m\u001b[0;34m)\u001b[0m\u001b[0;34m\u001b[0m\u001b[0;34m\u001b[0m\u001b[0m\n\u001b[1;32m     45\u001b[0m         \u001b[0mprint\u001b[0m\u001b[0;34m(\u001b[0m\u001b[0mreal_findings\u001b[0m\u001b[0;34m)\u001b[0m\u001b[0;34m\u001b[0m\u001b[0;34m\u001b[0m\u001b[0m\n\u001b[0;32m---> 46\u001b[0;31m         \u001b[0mreal_soft_findings\u001b[0m \u001b[0;34m=\u001b[0m \u001b[0;34m[\u001b[0m\u001b[0mresult\u001b[0m\u001b[0;34m[\u001b[0m\u001b[0;36m1\u001b[0m\u001b[0;34m]\u001b[0m \u001b[0;32mfor\u001b[0m \u001b[0m_\u001b[0m\u001b[0;34m,\u001b[0m \u001b[0mresult\u001b[0m \u001b[0;32min\u001b[0m \u001b[0mreal_findings\u001b[0m\u001b[0;34m.\u001b[0m\u001b[0mitems\u001b[0m\u001b[0;34m(\u001b[0m\u001b[0;34m)\u001b[0m\u001b[0;34m]\u001b[0m\u001b[0;34m\u001b[0m\u001b[0;34m\u001b[0m\u001b[0m\n\u001b[0m\u001b[1;32m     47\u001b[0m \u001b[0;34m\u001b[0m\u001b[0m\n\u001b[1;32m     48\u001b[0m         \u001b[0mpaper\u001b[0m\u001b[0;34m.\u001b[0m\u001b[0mdataframe\u001b[0m \u001b[0;34m=\u001b[0m \u001b[0mpaper\u001b[0m\u001b[0;34m.\u001b[0m\u001b[0msynthetic_dataframe\u001b[0m\u001b[0;34m\u001b[0m\u001b[0;34m\u001b[0m\u001b[0m\n",
      "\u001b[0;32m~/miniconda3/envs/synrd/lib/python3.7/site-packages/SynRD/benchmark/benchmark.py\u001b[0m in \u001b[0;36m<listcomp>\u001b[0;34m(.0)\u001b[0m\n\u001b[1;32m     44\u001b[0m         \u001b[0mreal_findings\u001b[0m \u001b[0;34m=\u001b[0m \u001b[0mpaper\u001b[0m\u001b[0;34m.\u001b[0m\u001b[0mrun_all_non_visual_findings\u001b[0m\u001b[0;34m(\u001b[0m\u001b[0;34m)\u001b[0m\u001b[0;34m\u001b[0m\u001b[0;34m\u001b[0m\u001b[0m\n\u001b[1;32m     45\u001b[0m         \u001b[0mprint\u001b[0m\u001b[0;34m(\u001b[0m\u001b[0mreal_findings\u001b[0m\u001b[0;34m)\u001b[0m\u001b[0;34m\u001b[0m\u001b[0;34m\u001b[0m\u001b[0m\n\u001b[0;32m---> 46\u001b[0;31m         \u001b[0mreal_soft_findings\u001b[0m \u001b[0;34m=\u001b[0m \u001b[0;34m[\u001b[0m\u001b[0mresult\u001b[0m\u001b[0;34m[\u001b[0m\u001b[0;36m1\u001b[0m\u001b[0;34m]\u001b[0m \u001b[0;32mfor\u001b[0m \u001b[0m_\u001b[0m\u001b[0;34m,\u001b[0m \u001b[0mresult\u001b[0m \u001b[0;32min\u001b[0m \u001b[0mreal_findings\u001b[0m\u001b[0;34m.\u001b[0m\u001b[0mitems\u001b[0m\u001b[0;34m(\u001b[0m\u001b[0;34m)\u001b[0m\u001b[0;34m]\u001b[0m\u001b[0;34m\u001b[0m\u001b[0;34m\u001b[0m\u001b[0m\n\u001b[0m\u001b[1;32m     47\u001b[0m \u001b[0;34m\u001b[0m\u001b[0m\n\u001b[1;32m     48\u001b[0m         \u001b[0mpaper\u001b[0m\u001b[0;34m.\u001b[0m\u001b[0mdataframe\u001b[0m \u001b[0;34m=\u001b[0m \u001b[0mpaper\u001b[0m\u001b[0;34m.\u001b[0m\u001b[0msynthetic_dataframe\u001b[0m\u001b[0;34m\u001b[0m\u001b[0;34m\u001b[0m\u001b[0m\n",
      "\u001b[0;31mTypeError\u001b[0m: 'bool' object is not subscriptable"
     ]
    }
   ],
   "source": [
    "for paper in papers:\n",
    "    print(paper)\n",
    "    paper.set_synthetic_dataframe(paper.real_dataframe)\n",
    "    benchmark.eval(paper)\n",
    "    pass"
   ]
  },
  {
   "cell_type": "code",
   "execution_count": 3,
   "id": "a3e5652a",
   "metadata": {},
   "outputs": [
    {
     "name": "stdout",
     "output_type": "stream",
     "text": [
      "3287_2 passed\n"
     ]
    },
    {
     "ename": "TypeError",
     "evalue": "'bool' object is not subscriptable",
     "output_type": "error",
     "traceback": [
      "\u001b[0;31m---------------------------------------------------------------------------\u001b[0m",
      "\u001b[0;31mTypeError\u001b[0m                                 Traceback (most recent call last)",
      "\u001b[0;32m<ipython-input-3-9a10fe06ce0b>\u001b[0m in \u001b[0;36m<module>\u001b[0;34m\u001b[0m\n\u001b[0;32m----> 1\u001b[0;31m \u001b[0mbenchmark\u001b[0m\u001b[0;34m.\u001b[0m\u001b[0meval\u001b[0m\u001b[0;34m(\u001b[0m\u001b[0mpaper\u001b[0m\u001b[0;34m)\u001b[0m\u001b[0;34m\u001b[0m\u001b[0;34m\u001b[0m\u001b[0m\n\u001b[0m",
      "\u001b[0;32m~/miniconda3/envs/synrd/lib/python3.7/site-packages/SynRD/benchmark/benchmark.py\u001b[0m in \u001b[0;36meval\u001b[0;34m(self, paper, tests)\u001b[0m\n\u001b[1;32m     24\u001b[0m \u001b[0;34m\u001b[0m\u001b[0m\n\u001b[1;32m     25\u001b[0m         \u001b[0;32mfor\u001b[0m \u001b[0mtest\u001b[0m \u001b[0;32min\u001b[0m \u001b[0mtests_to_run\u001b[0m\u001b[0;34m:\u001b[0m\u001b[0;34m\u001b[0m\u001b[0;34m\u001b[0m\u001b[0m\n\u001b[0;32m---> 26\u001b[0;31m             \u001b[0mname\u001b[0m\u001b[0;34m,\u001b[0m \u001b[0mresult\u001b[0m \u001b[0;34m=\u001b[0m \u001b[0mtest\u001b[0m\u001b[0;34m(\u001b[0m\u001b[0mpaper\u001b[0m\u001b[0;34m)\u001b[0m\u001b[0;34m\u001b[0m\u001b[0;34m\u001b[0m\u001b[0m\n\u001b[0m\u001b[1;32m     27\u001b[0m             \u001b[0mresults\u001b[0m\u001b[0;34m[\u001b[0m\u001b[0mname\u001b[0m\u001b[0;34m]\u001b[0m \u001b[0;34m=\u001b[0m \u001b[0mresult\u001b[0m\u001b[0;34m\u001b[0m\u001b[0;34m\u001b[0m\u001b[0m\n\u001b[1;32m     28\u001b[0m \u001b[0;34m\u001b[0m\u001b[0m\n",
      "\u001b[0;32m~/miniconda3/envs/synrd/lib/python3.7/site-packages/SynRD/benchmark/benchmark.py\u001b[0m in \u001b[0;36mreal_vs_private_soft_findings\u001b[0;34m(self, paper)\u001b[0m\n\u001b[1;32m     43\u001b[0m         \u001b[0mpaper\u001b[0m\u001b[0;34m.\u001b[0m\u001b[0mdataframe\u001b[0m \u001b[0;34m=\u001b[0m \u001b[0mpaper\u001b[0m\u001b[0;34m.\u001b[0m\u001b[0mreal_dataframe\u001b[0m\u001b[0;34m\u001b[0m\u001b[0;34m\u001b[0m\u001b[0m\n\u001b[1;32m     44\u001b[0m         \u001b[0mreal_findings\u001b[0m \u001b[0;34m=\u001b[0m \u001b[0mpaper\u001b[0m\u001b[0;34m.\u001b[0m\u001b[0mrun_all_non_visual_findings\u001b[0m\u001b[0;34m(\u001b[0m\u001b[0;34m)\u001b[0m\u001b[0;34m\u001b[0m\u001b[0;34m\u001b[0m\u001b[0m\n\u001b[0;32m---> 45\u001b[0;31m         \u001b[0mreal_soft_findings\u001b[0m \u001b[0;34m=\u001b[0m \u001b[0;34m[\u001b[0m\u001b[0mresult\u001b[0m\u001b[0;34m[\u001b[0m\u001b[0;36m1\u001b[0m\u001b[0;34m]\u001b[0m \u001b[0;32mfor\u001b[0m \u001b[0m_\u001b[0m\u001b[0;34m,\u001b[0m \u001b[0mresult\u001b[0m \u001b[0;32min\u001b[0m \u001b[0mreal_findings\u001b[0m\u001b[0;34m.\u001b[0m\u001b[0mitems\u001b[0m\u001b[0;34m(\u001b[0m\u001b[0;34m)\u001b[0m\u001b[0;34m]\u001b[0m\u001b[0;34m\u001b[0m\u001b[0;34m\u001b[0m\u001b[0m\n\u001b[0m\u001b[1;32m     46\u001b[0m \u001b[0;34m\u001b[0m\u001b[0m\n\u001b[1;32m     47\u001b[0m         \u001b[0mpaper\u001b[0m\u001b[0;34m.\u001b[0m\u001b[0mdataframe\u001b[0m \u001b[0;34m=\u001b[0m \u001b[0mpaper\u001b[0m\u001b[0;34m.\u001b[0m\u001b[0msynthetic_dataframe\u001b[0m\u001b[0;34m\u001b[0m\u001b[0;34m\u001b[0m\u001b[0m\n",
      "\u001b[0;32m~/miniconda3/envs/synrd/lib/python3.7/site-packages/SynRD/benchmark/benchmark.py\u001b[0m in \u001b[0;36m<listcomp>\u001b[0;34m(.0)\u001b[0m\n\u001b[1;32m     43\u001b[0m         \u001b[0mpaper\u001b[0m\u001b[0;34m.\u001b[0m\u001b[0mdataframe\u001b[0m \u001b[0;34m=\u001b[0m \u001b[0mpaper\u001b[0m\u001b[0;34m.\u001b[0m\u001b[0mreal_dataframe\u001b[0m\u001b[0;34m\u001b[0m\u001b[0;34m\u001b[0m\u001b[0m\n\u001b[1;32m     44\u001b[0m         \u001b[0mreal_findings\u001b[0m \u001b[0;34m=\u001b[0m \u001b[0mpaper\u001b[0m\u001b[0;34m.\u001b[0m\u001b[0mrun_all_non_visual_findings\u001b[0m\u001b[0;34m(\u001b[0m\u001b[0;34m)\u001b[0m\u001b[0;34m\u001b[0m\u001b[0;34m\u001b[0m\u001b[0m\n\u001b[0;32m---> 45\u001b[0;31m         \u001b[0mreal_soft_findings\u001b[0m \u001b[0;34m=\u001b[0m \u001b[0;34m[\u001b[0m\u001b[0mresult\u001b[0m\u001b[0;34m[\u001b[0m\u001b[0;36m1\u001b[0m\u001b[0;34m]\u001b[0m \u001b[0;32mfor\u001b[0m \u001b[0m_\u001b[0m\u001b[0;34m,\u001b[0m \u001b[0mresult\u001b[0m \u001b[0;32min\u001b[0m \u001b[0mreal_findings\u001b[0m\u001b[0;34m.\u001b[0m\u001b[0mitems\u001b[0m\u001b[0;34m(\u001b[0m\u001b[0;34m)\u001b[0m\u001b[0;34m]\u001b[0m\u001b[0;34m\u001b[0m\u001b[0;34m\u001b[0m\u001b[0m\n\u001b[0m\u001b[1;32m     46\u001b[0m \u001b[0;34m\u001b[0m\u001b[0m\n\u001b[1;32m     47\u001b[0m         \u001b[0mpaper\u001b[0m\u001b[0;34m.\u001b[0m\u001b[0mdataframe\u001b[0m \u001b[0;34m=\u001b[0m \u001b[0mpaper\u001b[0m\u001b[0;34m.\u001b[0m\u001b[0msynthetic_dataframe\u001b[0m\u001b[0;34m\u001b[0m\u001b[0;34m\u001b[0m\u001b[0m\n",
      "\u001b[0;31mTypeError\u001b[0m: 'bool' object is not subscriptable"
     ]
    }
   ],
   "source": [
    "benchmark.eval(paper)"
   ]
  },
  {
   "cell_type": "code",
   "execution_count": null,
   "id": "4bbfe58d",
   "metadata": {},
   "outputs": [],
   "source": []
  }
 ],
 "metadata": {
  "kernelspec": {
   "display_name": "Python 3",
   "language": "python",
   "name": "python3"
  },
  "language_info": {
   "codemirror_mode": {
    "name": "ipython",
    "version": 3
   },
   "file_extension": ".py",
   "mimetype": "text/x-python",
   "name": "python",
   "nbconvert_exporter": "python",
   "pygments_lexer": "ipython3",
   "version": "3.7.16"
  }
 },
 "nbformat": 4,
 "nbformat_minor": 5
}
