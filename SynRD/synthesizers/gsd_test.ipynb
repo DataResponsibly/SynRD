{
 "cells": [
  {
   "cell_type": "code",
   "execution_count": 1,
   "metadata": {},
   "outputs": [
    {
     "name": "stderr",
     "output_type": "stream",
     "text": [
      "An NVIDIA GPU may be present on this machine, but a CUDA-enabled jaxlib is not installed. Falling back to cpu.\n",
      "/home/sasha-tsepilova/miniconda3/envs/synrd1/lib/python3.9/site-packages/tqdm/auto.py:21: TqdmWarning: IProgress not found. Please update jupyter and ipywidgets. See https://ipywidgets.readthedocs.io/en/stable/user_install.html\n",
      "  from .autonotebook import tqdm as notebook_tqdm\n"
     ]
    },
    {
     "ename": "ImportError",
     "evalue": "cannot import name 'PNGKey' from 'jax.random' (/home/sasha-tsepilova/miniconda3/envs/synrd1/lib/python3.9/site-packages/jax/random.py)",
     "output_type": "error",
     "traceback": [
      "\u001b[0;31m---------------------------------------------------------------------------\u001b[0m",
      "\u001b[0;31mImportError\u001b[0m                               Traceback (most recent call last)",
      "\u001b[1;32m/home/sasha-tsepilova/SynRD/SynRD/synthesizers/gsd_test.ipynb Cell 1\u001b[0m line \u001b[0;36m5\n\u001b[1;32m      <a href='vscode-notebook-cell://wsl%2Bubuntu-22.04/home/sasha-tsepilova/SynRD/SynRD/synthesizers/gsd_test.ipynb#W3sdnNjb2RlLXJlbW90ZQ%3D%3D?line=2'>3</a>\u001b[0m \u001b[39mfrom\u001b[39;00m \u001b[39mgsd_synth\u001b[39;00m \u001b[39mimport\u001b[39;00m GsdSynthesizer\n\u001b[1;32m      <a href='vscode-notebook-cell://wsl%2Bubuntu-22.04/home/sasha-tsepilova/SynRD/SynRD/synthesizers/gsd_test.ipynb#W3sdnNjb2RlLXJlbW90ZQ%3D%3D?line=3'>4</a>\u001b[0m \u001b[39mfrom\u001b[39;00m \u001b[39mSynRD\u001b[39;00m\u001b[39m.\u001b[39;00m\u001b[39mutils\u001b[39;00m \u001b[39mimport\u001b[39;00m save_synthesizer, load_synthesizer, do_binning, unbin_df\n\u001b[0;32m----> <a href='vscode-notebook-cell://wsl%2Bubuntu-22.04/home/sasha-tsepilova/SynRD/SynRD/synthesizers/gsd_test.ipynb#W3sdnNjb2RlLXJlbW90ZQ%3D%3D?line=4'>5</a>\u001b[0m \u001b[39mfrom\u001b[39;00m \u001b[39mjax\u001b[39;00m\u001b[39m.\u001b[39;00m\u001b[39mrandom\u001b[39;00m \u001b[39mimport\u001b[39;00m PNGKey\n",
      "\u001b[0;31mImportError\u001b[0m: cannot import name 'PNGKey' from 'jax.random' (/home/sasha-tsepilova/miniconda3/envs/synrd1/lib/python3.9/site-packages/jax/random.py)"
     ]
    }
   ],
   "source": [
    "\n",
    "from SynRD.papers import Iverson22Football, Pierce2019Who\n",
    "from SynRD.benchmark import Benchmark\n",
    "from gsd_synth import GsdSynthesizer\n",
    "from SynRD.utils import save_synthesizer, load_synthesizer, do_binning, unbin_df\n",
    "from jax.random import PRNGKey"
   ]
  },
  {
   "cell_type": "code",
   "execution_count": null,
   "metadata": {},
   "outputs": [],
   "source": [
    "benchmark = Benchmark()\n",
    "papers = [Iverson22Football]\n",
    "papers = benchmark.initialize_papers(papers)\n",
    "transforms = {}\n",
    "for paper in papers:\n",
    "    df, transform = do_binning(paper.real_dataframe)\n",
    "    transforms[paper.__class__.__name__.lower()] = transform\n",
    "df"
   ]
  },
  {
   "cell_type": "code",
   "execution_count": null,
   "metadata": {},
   "outputs": [],
   "source": [
    "delta = 1.0 / len(df) ** 2\n",
    "gsd = GsdSynthesizer(print_progress=True,\n",
    "            stop_early=True,\n",
    "            delta = delta,\n",
    "            num_generations=2000,\n",
    "            population_size_muta=50,\n",
    "            population_size_cross=50,\n",
    "            data_size=2000)\n",
    "\n",
    "seed = 0\n",
    "key = PRNGKey(seed)\n",
    "sync_data = gsd.fit(key,  df)\n",
    "\n",
    "synth_df = gsd.sample(2000)\n",
    "df.describe()\n",
    "synth_df.describe()\n",
    "paper.set_synthetic_dataframe(synth_df)\n",
    "benchmark.eval_soft_findings_each_finding(paper, 5)"
   ]
  }
 ],
 "metadata": {
  "kernelspec": {
   "display_name": "synrd1",
   "language": "python",
   "name": "python3"
  },
  "language_info": {
   "codemirror_mode": {
    "name": "ipython",
    "version": 3
   },
   "file_extension": ".py",
   "mimetype": "text/x-python",
   "name": "python",
   "nbconvert_exporter": "python",
   "pygments_lexer": "ipython3",
   "version": "3.9.18"
  }
 },
 "nbformat": 4,
 "nbformat_minor": 2
}
