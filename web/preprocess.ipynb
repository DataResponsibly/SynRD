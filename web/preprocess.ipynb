{
 "cells": [
  {
   "cell_type": "code",
   "execution_count": 2,
   "metadata": {},
   "outputs": [],
   "source": [
    "import pandas as pd\n",
    "import json\n",
    "\n",
    "df = pd.read_csv('data.csv')\n",
    "\n",
    "# grouping data based on 'synthesizer' and 'epsilon'\n",
    "grouped = df.groupby(['synthesizer', 'epsilon'])\n",
    "\n",
    "data = []\n",
    "columns = []\n",
    "index = []\n",
    "\n",
    "for (synthesizer, epsilon), group in grouped:\n",
    "    # sort based on 'paper' and 'finding_number'\n",
    "    group = group.sort_values(['paper', 'finding_number'])\n",
    "    \n",
    "    if not columns:\n",
    "        columns = list(group['paper'] + '-' + group['finding_number'].astype(str))\n",
    "    \n",
    "    index.append(f\"{synthesizer} - {epsilon}\")\n",
    "    data.append(group['parity'].tolist())\n",
    "\n",
    "result = {\n",
    "    'data': data,\n",
    "    'columns': columns,\n",
    "    'index': index\n",
    "}\n",
    "\n",
    "with open('formatted_data.json', 'w') as f:\n",
    "    json.dump(result, f)"
   ]
  },
  {
   "cell_type": "code",
   "execution_count": null,
   "metadata": {},
   "outputs": [],
   "source": []
  }
 ],
 "metadata": {
  "kernelspec": {
   "display_name": "Python 3",
   "language": "python",
   "name": "python3"
  },
  "language_info": {
   "codemirror_mode": {
    "name": "ipython",
    "version": 3
   },
   "file_extension": ".py",
   "mimetype": "text/x-python",
   "name": "python",
   "nbconvert_exporter": "python",
   "pygments_lexer": "ipython3",
   "version": "3.8.12"
  },
  "orig_nbformat": 4,
  "vscode": {
   "interpreter": {
    "hash": "6597d1ed23b894caf154b6750f098a8514a19e03807460ffd2d8425103778dc0"
   }
  }
 },
 "nbformat": 4,
 "nbformat_minor": 2
}
