{
 "cells": [
  {
   "cell_type": "code",
   "execution_count": 1,
   "metadata": {},
   "outputs": [
    {
     "name": "stderr",
     "output_type": "stream",
     "text": [
      "/Users/lucasrosenblatt/opt/miniconda3/envs/synrd/lib/python3.7/site-packages/tqdm/auto.py:22: TqdmWarning: IProgress not found. Please update jupyter and ipywidgets. See https://ipywidgets.readthedocs.io/en/stable/user_install.html\n",
      "  from .autonotebook import tqdm as notebook_tqdm\n",
      "/Users/lucasrosenblatt/opt/miniconda3/envs/synrd/lib/python3.7/site-packages/mbi/__init__.py:15: UserWarning: MixtureInference disabled, please install jax and jaxlib\n",
      "  warnings.warn('MixtureInference disabled, please install jax and jaxlib')\n"
     ]
    }
   ],
   "source": [
    "from SynRD.papers import Saw2018Cross, Fairman2019Marijuana, Fruiht2018Naturally, Iverson22Football, Jeong2021Math, Lee2021Ability\n",
    "from SynRD.benchmark import Benchmark\n",
    "from SynRD.synthesizers import MSTSynthesizer, PATECTGAN, PrivBayes, PacSynth\n",
    "from SynRD.publication import Publication\n"
   ]
  },
  {
   "cell_type": "code",
   "execution_count": 2,
   "metadata": {},
   "outputs": [
    {
     "data": {
      "text/html": [
       "<div>\n",
       "<style scoped>\n",
       "    .dataframe tbody tr th:only-of-type {\n",
       "        vertical-align: middle;\n",
       "    }\n",
       "\n",
       "    .dataframe tbody tr th {\n",
       "        vertical-align: top;\n",
       "    }\n",
       "\n",
       "    .dataframe thead th {\n",
       "        text-align: right;\n",
       "    }\n",
       "</style>\n",
       "<table border=\"1\" class=\"dataframe\">\n",
       "  <thead>\n",
       "    <tr style=\"text-align: right;\">\n",
       "      <th></th>\n",
       "      <th>sepal length (cm)</th>\n",
       "      <th>sepal width (cm)</th>\n",
       "      <th>petal length (cm)</th>\n",
       "      <th>petal width (cm)</th>\n",
       "    </tr>\n",
       "  </thead>\n",
       "  <tbody>\n",
       "    <tr>\n",
       "      <th>0</th>\n",
       "      <td></td>\n",
       "      <td></td>\n",
       "      <td></td>\n",
       "      <td></td>\n",
       "    </tr>\n",
       "    <tr>\n",
       "      <th>1</th>\n",
       "      <td></td>\n",
       "      <td></td>\n",
       "      <td></td>\n",
       "      <td></td>\n",
       "    </tr>\n",
       "    <tr>\n",
       "      <th>2</th>\n",
       "      <td></td>\n",
       "      <td></td>\n",
       "      <td></td>\n",
       "      <td></td>\n",
       "    </tr>\n",
       "    <tr>\n",
       "      <th>3</th>\n",
       "      <td></td>\n",
       "      <td></td>\n",
       "      <td></td>\n",
       "      <td></td>\n",
       "    </tr>\n",
       "    <tr>\n",
       "      <th>4</th>\n",
       "      <td></td>\n",
       "      <td></td>\n",
       "      <td></td>\n",
       "      <td></td>\n",
       "    </tr>\n",
       "    <tr>\n",
       "      <th>...</th>\n",
       "      <td>...</td>\n",
       "      <td>...</td>\n",
       "      <td>...</td>\n",
       "      <td>...</td>\n",
       "    </tr>\n",
       "    <tr>\n",
       "      <th>995</th>\n",
       "      <td></td>\n",
       "      <td></td>\n",
       "      <td></td>\n",
       "      <td></td>\n",
       "    </tr>\n",
       "    <tr>\n",
       "      <th>996</th>\n",
       "      <td></td>\n",
       "      <td></td>\n",
       "      <td></td>\n",
       "      <td></td>\n",
       "    </tr>\n",
       "    <tr>\n",
       "      <th>997</th>\n",
       "      <td></td>\n",
       "      <td></td>\n",
       "      <td></td>\n",
       "      <td></td>\n",
       "    </tr>\n",
       "    <tr>\n",
       "      <th>998</th>\n",
       "      <td></td>\n",
       "      <td></td>\n",
       "      <td></td>\n",
       "      <td></td>\n",
       "    </tr>\n",
       "    <tr>\n",
       "      <th>999</th>\n",
       "      <td></td>\n",
       "      <td></td>\n",
       "      <td></td>\n",
       "      <td></td>\n",
       "    </tr>\n",
       "  </tbody>\n",
       "</table>\n",
       "<p>1000 rows × 4 columns</p>\n",
       "</div>"
      ],
      "text/plain": [
       "    sepal length (cm) sepal width (cm) petal length (cm) petal width (cm)\n",
       "0                                                                        \n",
       "1                                                                        \n",
       "2                                                                        \n",
       "3                                                                        \n",
       "4                                                                        \n",
       "..                ...              ...               ...              ...\n",
       "995                                                                      \n",
       "996                                                                      \n",
       "997                                                                      \n",
       "998                                                                      \n",
       "999                                                                      \n",
       "\n",
       "[1000 rows x 4 columns]"
      ]
     },
     "execution_count": 2,
     "metadata": {},
     "output_type": "execute_result"
    }
   ],
   "source": [
    "import pandas as pd\n",
    "import numpy as np\n",
    "from sklearn import datasets\n",
    "iris = datasets.load_iris(as_frame=True)['data']\n",
    "iris = iris.astype(int)\n",
    "\n",
    "synths = [MSTSynthesizer, PATECTGAN, PrivBayes, PacSynth]\n",
    "synth = MSTSynthesizer(epsilon=1.0, slide_range=False)\n",
    "synth.fit(iris)\n",
    "df = synth.sample(1000)\n",
    "\n",
    "# df = df.replace(r'^\\s*$', np.nan, regex=True)\n",
    "# df = df.fillna(method='ffill')\n",
    "# df = df.fillna(method='bfill')\n",
    "# df = df.fillna(0)\n",
    "# df.iloc[0]['sepal length (cm)']\n",
    "df"
   ]
  },
  {
   "cell_type": "code",
   "execution_count": 3,
   "metadata": {},
   "outputs": [
    {
     "name": "stdout",
     "output_type": "stream",
     "text": [
      "Running paper:  fruiht2018naturally\n",
      "\n",
      "********************** PROCESS for R Version 4.1 ********************** \n",
      " \n",
      "           Written by Andrew F. Hayes, Ph.D.  www.afhayes.com              \n",
      "   Documentation available in Hayes (2022). www.guilford.com/p/hayes3   \n",
      " \n",
      "*********************************************************************** \n",
      " \n",
      "PROCESS is now ready for use.\n",
      "Copyright 2022 by Andrew F. Hayes ALL RIGHTS RESERVED\n",
      "Workshop schedule at http://haskayne.ucalgary.ca/CCRAM\n",
      " \n",
      "\n",
      "********************** PROCESS for R Version 4.1 ********************** \n",
      " \n",
      "           Written by Andrew F. Hayes, Ph.D.  www.afhayes.com              \n",
      "   Documentation available in Hayes (2022). www.guilford.com/p/hayes3   \n",
      " \n",
      "*********************************************************************** \n",
      "                     \n",
      "Model : 1            \n",
      "    Y : EDU_ATTAINED \n",
      "    X : MENTOR       \n",
      "    W : PARENT_NO_EDU\n",
      "\n",
      "Covariates: \n",
      "       AGE_YEARS BIO_SEX RACE_HISPANIC RACE_BLACK RACE_OTHER\n",
      "\n",
      "Sample size: 4173\n",
      "\n",
      "\n",
      "*********************************************************************** \n",
      "Outcome Variable: EDU_ATTAINED\n",
      "\n",
      "Model Summary: \n",
      "          R      R-sq       MSE         F       df1       df2         p\n",
      "     0.3991    0.1593    4.1281   98.6113    8.0000 4164.0000    0.0000\n",
      "\n",
      "Model: \n",
      "                  coeff        se         t         p      LLCI      ULCI\n",
      "constant         5.8326    0.3028   19.2644    0.0000    5.2390    6.4262\n",
      "MENTOR           0.2679    0.1311    2.0434    0.0411    0.0109    0.5250\n",
      "PARENT_NO_EDU   -1.8993    0.1447  -13.1237    0.0000   -2.1830   -1.6156\n",
      "Int_1            0.4467    0.1610    2.7740    0.0056    0.1310    0.7624\n",
      "AGE_YEARS        0.0276    0.0178    1.5481    0.1217   -0.0073    0.0625\n",
      "BIO_SEX          0.5941    0.0636    9.3437    0.0000    0.4694    0.7187\n",
      "RACE_HISPANIC   -0.2035    0.1086   -1.8738    0.0610   -0.4165    0.0094\n",
      "RACE_BLACK      -0.2616    0.0770   -3.3978    0.0007   -0.4126   -0.1107\n",
      "RACE_OTHER       0.0880    0.1481    0.5944    0.5523   -0.2024    0.3785\n",
      "\n",
      "Product terms key:\n",
      "Int_1  :  MENTOR  x  PARENT_NO_EDU      \n",
      "\n",
      "Test(s) of highest order unconditional interaction(s):\n",
      "      R2-chng         F       df1       df2         p\n",
      "X*W    0.0016    7.6949    1.0000 4164.0000    0.0056\n",
      "----------\n",
      "Focal predictor: MENTOR (X)\n",
      "      Moderator: PARENT_NO_EDU (W)\n",
      "\n",
      "Conditional effects of the focal predictor at values of the moderator(s):\n",
      "  PARENT_NO_EDU    effect        se         t         p      LLCI      ULCI\n",
      "         0.0000    0.2679    0.1311    2.0434    0.0411    0.0109    0.5250\n",
      "         1.0000    0.7147    0.0939    7.6091    0.0000    0.5305    0.8988\n",
      "\n",
      "******************** ANALYSIS NOTES AND ERRORS ************************ \n",
      "\n",
      "Level of confidence for all confidence intervals in output: 95\n",
      "Running paper:  saw2018cross\n",
      "Running paper:  fairman2019marijuana\n",
      "Running paper:  iverson22football\n",
      "Running paper:  jeong2021math\n",
      "Running paper:  lee2021ability\n"
     ]
    }
   ],
   "source": [
    "import warnings\n",
    "warnings.simplefilter(\"ignore\")\n",
    "benchmark = Benchmark()\n",
    "synth = MSTSynthesizer(epsilon=1.0, slide_range=False)\n",
    "papers = benchmark.initialize_papers([Fruiht2018Naturally, Saw2018Cross, Fairman2019Marijuana, Iverson22Football, Jeong2021Math, Lee2021Ability])\n",
    "for paper in papers:\n",
    "    print('Running paper: ', paper.DEFAULT_PAPER_ATTRIBUTES['id'])\n",
    "    # synth.fit(paper.real_dataframe)\n",
    "    # dataset = synth.sample(len(paper.real_dataframe))\n",
    "    # paper.set_synthetic_dataframe(dataset)\n",
    "    paper.set_synthetic_dataframe(paper.real_dataframe)\n",
    "    benchmark.eval(paper)"
   ]
  },
  {
   "cell_type": "code",
   "execution_count": 7,
   "metadata": {},
   "outputs": [
    {
     "data": {
      "text/plain": [
       "{}"
      ]
     },
     "execution_count": 7,
     "metadata": {},
     "output_type": "execute_result"
    }
   ],
   "source": [
    "benchmark.results"
   ]
  },
  {
   "cell_type": "code",
   "execution_count": 5,
   "metadata": {},
   "outputs": [],
   "source": [
    "from SynRD.papers import Saw2018Cross, Fairman2019Marijuana, Fruiht2018Naturally, Iverson22Football, Jeong2021Math, Lee2021Ability\n",
    "from SynRD.datasets.dataset_loader import DataRetriever"
   ]
  },
  {
   "cell_type": "code",
   "execution_count": 6,
   "metadata": {},
   "outputs": [],
   "source": [
    "# dr = DataRetriever(['saw2018cross',\n",
    "#                     'fairman2019marijuana',\n",
    "#                     'fruiht2018naturally',\n",
    "#                     'iverson22football',\n",
    "#                     'jeong2021math',\n",
    "#                     'lee2021ability'])\n",
    "dr = DataRetriever([Saw2018Cross, Fairman2019Marijuana, Fruiht2018Naturally, Iverson22Football, Jeong2021Math, Lee2021Ability])"
   ]
  },
  {
   "cell_type": "code",
   "execution_count": 7,
   "metadata": {},
   "outputs": [
    {
     "name": "stderr",
     "output_type": "stream",
     "text": [
      "100%|██████████| 3.70M/3.70M [00:00<00:00, 10.7MiB/s]\n",
      "100%|██████████| 96.3k/96.3k [00:00<00:00, 3.95MiB/s]\n",
      "100%|██████████| 155k/155k [00:00<00:00, 3.64MiB/s]\n",
      "100%|██████████| 2.19M/2.19M [00:00<00:00, 15.5MiB/s]\n",
      "100%|██████████| 677k/677k [00:00<00:00, 5.22MiB/s]\n"
     ]
    }
   ],
   "source": [
    "df_map = dr.retrieve_necessary_data()"
   ]
  },
  {
   "cell_type": "code",
   "execution_count": null,
   "metadata": {},
   "outputs": [],
   "source": []
  }
 ],
 "metadata": {
  "kernelspec": {
   "display_name": "synrd",
   "language": "python",
   "name": "python3"
  },
  "language_info": {
   "codemirror_mode": {
    "name": "ipython",
    "version": 3
   },
   "file_extension": ".py",
   "mimetype": "text/x-python",
   "name": "python",
   "nbconvert_exporter": "python",
   "pygments_lexer": "ipython3",
   "version": "3.7.12"
  },
  "orig_nbformat": 4,
  "vscode": {
   "interpreter": {
    "hash": "f46ed56ea36e21b73dee67d378d2fbcf3cb06eef8370e7f45e3711fdc2359e2b"
   }
  }
 },
 "nbformat": 4,
 "nbformat_minor": 2
}
